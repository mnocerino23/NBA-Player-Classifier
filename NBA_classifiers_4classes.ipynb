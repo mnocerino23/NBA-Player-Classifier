{
  "nbformat": 4,
  "nbformat_minor": 0,
  "metadata": {
    "colab": {
      "name": "NBA_classifiers_4classes.ipynb",
      "provenance": [],
      "authorship_tag": "ABX9TyNney6QZER1Jc4w+RAc/ZjY",
      "include_colab_link": true
    },
    "kernelspec": {
      "name": "python3",
      "display_name": "Python 3"
    },
    "language_info": {
      "name": "python"
    }
  },
  "cells": [
    {
      "cell_type": "markdown",
      "metadata": {
        "id": "view-in-github",
        "colab_type": "text"
      },
      "source": [
        "<a href=\"https://colab.research.google.com/github/mnocerino23/NBA-Player-Classifier/blob/main/NBA_classifiers_4classes.ipynb\" target=\"_parent\"><img src=\"https://colab.research.google.com/assets/colab-badge.svg\" alt=\"Open In Colab\"/></a>"
      ]
    },
    {
      "cell_type": "code",
      "execution_count": 425,
      "metadata": {
        "colab": {
          "base_uri": "https://localhost:8080/"
        },
        "id": "UQTJFDfYGIOo",
        "outputId": "d24906d8-2385-4e57-80ae-dd81941bc84e"
      },
      "outputs": [
        {
          "output_type": "stream",
          "name": "stdout",
          "text": [
            "Drive already mounted at /content/drive; to attempt to forcibly remount, call drive.mount(\"/content/drive\", force_remount=True).\n"
          ]
        }
      ],
      "source": [
        "import pandas as pd\n",
        "from google.colab import drive\n",
        "drive.mount('/content/drive')"
      ]
    },
    {
      "cell_type": "code",
      "source": [
        "nba_train = pd.read_csv('/content/drive/MyDrive/Data_Science_Projects/NBA/nba_train.csv')\n",
        "nba_test = pd.read_csv('/content/drive/MyDrive/Data_Science_Projects/NBA/nba_test.csv')"
      ],
      "metadata": {
        "id": "0niM9ni-GjB8"
      },
      "execution_count": 426,
      "outputs": []
    },
    {
      "cell_type": "code",
      "source": [
        "nba_train.shape"
      ],
      "metadata": {
        "colab": {
          "base_uri": "https://localhost:8080/"
        },
        "id": "3Htr8jieHHMn",
        "outputId": "200bcdc0-c459-45ae-c948-dd14f3909d5a"
      },
      "execution_count": 427,
      "outputs": [
        {
          "output_type": "execute_result",
          "data": {
            "text/plain": [
              "(314, 52)"
            ]
          },
          "metadata": {},
          "execution_count": 427
        }
      ]
    },
    {
      "cell_type": "code",
      "source": [
        "nba_test.shape"
      ],
      "metadata": {
        "colab": {
          "base_uri": "https://localhost:8080/"
        },
        "id": "KdPTs3JYHJGq",
        "outputId": "596aa665-f4e1-4ed5-ef66-412c9584d1f6"
      },
      "execution_count": 428,
      "outputs": [
        {
          "output_type": "execute_result",
          "data": {
            "text/plain": [
              "(79, 52)"
            ]
          },
          "metadata": {},
          "execution_count": 428
        }
      ]
    },
    {
      "cell_type": "markdown",
      "source": [
        "# Grouping Players into classes based on their salary\n",
        "\n",
        "\n",
        "1.   Low Level Player (Earn below 6 million)\n",
        "2.   Average Player (Earn 6-12 million)\n",
        "3.   Quality Player (Earn 12-20 million)\n",
        "4.   Max Player (Earn 20+ million)\n",
        "\n",
        "\n"
      ],
      "metadata": {
        "id": "wBF-56we96dx"
      }
    },
    {
      "cell_type": "code",
      "source": [
        "nba_train['class'] = ''\n",
        "for index, row in nba_train.iterrows():\n",
        "  if nba_train.at[index,'Salary'] <= 6:\n",
        "    nba_train.at[index,'class'] = 'Low Level Player'\n",
        "  elif nba_train.at[index,'Salary'] > 6 and nba_train.at[index,'Salary'] <= 12:\n",
        "    nba_train.at[index,'class'] = 'Average Player'\n",
        "  elif nba_train.at[index, 'Salary'] > 12 and nba_train.at[index,'Salary'] <= 20:\n",
        "    nba_train.at[index,'class'] = 'Quality Player'\n",
        "  elif nba_train.at[index,'Salary']> 20:\n",
        "    nba_train.at[index,'class'] = 'Max Player'"
      ],
      "metadata": {
        "id": "ik5yABXDHOT0"
      },
      "execution_count": 429,
      "outputs": []
    },
    {
      "cell_type": "code",
      "source": [
        "print(nba_train['class'].value_counts())"
      ],
      "metadata": {
        "colab": {
          "base_uri": "https://localhost:8080/"
        },
        "id": "f2Yi6ZUcPHdT",
        "outputId": "6db7caea-41d0-4ded-eff5-85eff2218909"
      },
      "execution_count": 430,
      "outputs": [
        {
          "output_type": "stream",
          "name": "stdout",
          "text": [
            "Low Level Player    170\n",
            "Average Player       55\n",
            "Quality Player       45\n",
            "Max Player           44\n",
            "Name: class, dtype: int64\n"
          ]
        }
      ]
    },
    {
      "cell_type": "code",
      "source": [
        "nba_test['class'] = ''\n",
        "for index, row in nba_test.iterrows():\n",
        "  if nba_test.at[index,'Salary'] <= 6:\n",
        "    nba_test.at[index,'class'] = 'Low Level Player'\n",
        "  elif nba_test.at[index,'Salary'] > 6 and nba_test.at[index,'Salary'] <= 12:\n",
        "    nba_test.at[index,'class'] = 'Average Player'\n",
        "  elif nba_test.at[index, 'Salary'] > 12 and nba_test.at[index,'Salary'] <= 20:\n",
        "    nba_test.at[index,'class'] = 'Quality Player'\n",
        "  elif nba_test.at[index,'Salary'] > 20:\n",
        "    nba_test.at[index,'class'] = 'Max Player'"
      ],
      "metadata": {
        "id": "NBFm1IBfMsSm"
      },
      "execution_count": 431,
      "outputs": []
    },
    {
      "cell_type": "code",
      "source": [
        "print(nba_test['class'].value_counts())"
      ],
      "metadata": {
        "colab": {
          "base_uri": "https://localhost:8080/"
        },
        "id": "sEIozj_0PH37",
        "outputId": "321b5f27-70d0-44ba-d756-01a2aa7ebaca"
      },
      "execution_count": 432,
      "outputs": [
        {
          "output_type": "stream",
          "name": "stdout",
          "text": [
            "Low Level        38\n",
            "Max Level        16\n",
            "Average Level    15\n",
            "Mid Level        10\n",
            "Name: class, dtype: int64\n"
          ]
        }
      ]
    },
    {
      "cell_type": "code",
      "source": [
        "nba_train = nba_train.drop(['Salary'], axis = 1)\n",
        "nba_test = nba_test.drop(['Salary'], axis = 1)"
      ],
      "metadata": {
        "id": "CVDA2r4IIpFn"
      },
      "execution_count": 433,
      "outputs": []
    },
    {
      "cell_type": "code",
      "source": [
        "nba_train_features = nba_train.drop(['class'], axis = 1)\n",
        "nba_train_target = nba_train['class']\n",
        "\n",
        "nba_test_features = nba_test.drop(['class'], axis = 1)\n",
        "nba_test_target = nba_test['class']"
      ],
      "metadata": {
        "id": "CvMrBIZvLX3b"
      },
      "execution_count": 434,
      "outputs": []
    },
    {
      "cell_type": "code",
      "source": [
        "print('Train:')\n",
        "print('train_features dimensions: ', nba_train_features.shape)\n",
        "print('train_target dimensions: ', nba_train_target.shape, '\\n')\n",
        "\n",
        "\n",
        "print('Test:')\n",
        "print('test_features dimensions: ', nba_test_features.shape)\n",
        "print('test_target dimensions: ', nba_test_target.shape)"
      ],
      "metadata": {
        "colab": {
          "base_uri": "https://localhost:8080/"
        },
        "id": "8zUD_NjhM8j1",
        "outputId": "803504f3-9352-4cda-a69e-2f090e03c629"
      },
      "execution_count": 435,
      "outputs": [
        {
          "output_type": "stream",
          "name": "stdout",
          "text": [
            "Train:\n",
            "train_features dimensions:  (314, 51)\n",
            "train_target dimensions:  (314,) \n",
            "\n",
            "Test:\n",
            "test_features dimensions:  (79, 51)\n",
            "test_target dimensions:  (79,)\n"
          ]
        }
      ]
    },
    {
      "cell_type": "code",
      "source": [
        "print(nba_train_features.columns)"
      ],
      "metadata": {
        "colab": {
          "base_uri": "https://localhost:8080/"
        },
        "id": "tUIFbIEhzXTq",
        "outputId": "5444f955-8ba4-4226-fcf9-93575a618048"
      },
      "execution_count": 436,
      "outputs": [
        {
          "output_type": "stream",
          "name": "stdout",
          "text": [
            "Index(['Age', 'G', 'GS', 'MP', 'FG', 'FGA', 'FG%', '3P', '3PA', '3P%', '2P',\n",
            "       '2PA', '2P%', 'eFG%', 'FT', 'FTA', 'FT%', 'ORB', 'DRB', 'TRB', 'AST',\n",
            "       'STL', 'BLK', 'TOV', 'PF', 'PTS', 'PER', 'TS%', '3PAr', 'FTr', 'ORB%',\n",
            "       'DRB%', 'TRB%', 'AST%', 'STL%', 'BLK%', 'TOV%', 'USG%', 'OWS', 'DWS',\n",
            "       'WS', 'WS/48', 'OBPM', 'DBPM', 'BPM', 'VORP', 'pos_C', 'pos_PF',\n",
            "       'pos_PG', 'pos_SF', 'pos_SG'],\n",
            "      dtype='object')\n"
          ]
        }
      ]
    },
    {
      "cell_type": "markdown",
      "source": [
        "# K-Nearest-Neighbours Classifier"
      ],
      "metadata": {
        "id": "Gh405Lgp0ejN"
      }
    },
    {
      "cell_type": "code",
      "source": [
        "from sklearn.neighbors import KNeighborsClassifier\n",
        "from sklearn.model_selection import cross_val_score\n",
        "\n",
        "knn = KNeighborsClassifier(n_neighbors=9, metric = 'manhattan')\n",
        "cv = cross_val_score(knn, nba_train_features, nba_train_target, cv = 6)\n",
        "print(cv)\n",
        "print(cv.mean())"
      ],
      "metadata": {
        "colab": {
          "base_uri": "https://localhost:8080/"
        },
        "id": "KeRsDc8UyM81",
        "outputId": "30187733-8a36-41c3-8b47-163b6885c5f1"
      },
      "execution_count": 437,
      "outputs": [
        {
          "output_type": "stream",
          "name": "stdout",
          "text": [
            "[0.77358491 0.67924528 0.67307692 0.69230769 0.65384615 0.65384615]\n",
            "0.6876511852926948\n"
          ]
        }
      ]
    },
    {
      "cell_type": "markdown",
      "source": [
        "# Support Vector Machine Classifier"
      ],
      "metadata": {
        "id": "gNF5M4EM0azQ"
      }
    },
    {
      "cell_type": "code",
      "source": [
        "from sklearn import svm\n",
        "from sklearn.svm import SVC"
      ],
      "metadata": {
        "id": "Z24rQiNBzTmo"
      },
      "execution_count": 438,
      "outputs": []
    },
    {
      "cell_type": "markdown",
      "source": [
        "# Naive Bayes Classifier"
      ],
      "metadata": {
        "id": "CWqCzJNU0ij9"
      }
    },
    {
      "cell_type": "code",
      "source": [
        "from sklearn.naive_bayes import GaussianNB"
      ],
      "metadata": {
        "id": "7Vvqim6b03K9"
      },
      "execution_count": 439,
      "outputs": []
    },
    {
      "cell_type": "code",
      "source": [
        "gnb = GaussianNB()\n",
        "cv = cross_val_score(gnb, nba_train_features, nba_train_target, cv = 5)\n",
        "print(cv)\n",
        "print(cv.mean())"
      ],
      "metadata": {
        "colab": {
          "base_uri": "https://localhost:8080/"
        },
        "id": "vk99o6Kz05RI",
        "outputId": "ce938c51-3d0f-4452-fa9e-3d47aeefdca1"
      },
      "execution_count": 440,
      "outputs": [
        {
          "output_type": "stream",
          "name": "stdout",
          "text": [
            "[0.68253968 0.71428571 0.57142857 0.57142857 0.59677419]\n",
            "0.6272913466461854\n"
          ]
        }
      ]
    },
    {
      "cell_type": "markdown",
      "source": [
        "# Decision Tree Classifier\n"
      ],
      "metadata": {
        "id": "UBRbznDb0_V5"
      }
    },
    {
      "cell_type": "code",
      "source": [
        "from sklearn import tree\n",
        "from sklearn.tree import DecisionTreeClassifier"
      ],
      "metadata": {
        "id": "mrF82LM51Cnt"
      },
      "execution_count": 441,
      "outputs": []
    },
    {
      "cell_type": "code",
      "source": [
        "dt = DecisionTreeClassifier()\n",
        "cv = cross_val_score(dt, nba_train_features, nba_train_target, cv =5)\n",
        "print(cv)\n",
        "print(cv.mean())"
      ],
      "metadata": {
        "colab": {
          "base_uri": "https://localhost:8080/"
        },
        "id": "v9u8gwy41Elc",
        "outputId": "d78385d9-0020-49c6-eeca-93069e92e787"
      },
      "execution_count": 442,
      "outputs": [
        {
          "output_type": "stream",
          "name": "stdout",
          "text": [
            "[0.61904762 0.65079365 0.6031746  0.58730159 0.61290323]\n",
            "0.6146441372247824\n"
          ]
        }
      ]
    },
    {
      "cell_type": "markdown",
      "source": [
        "# Random Forest Classifier"
      ],
      "metadata": {
        "id": "wxjJTfoP1M0k"
      }
    },
    {
      "cell_type": "code",
      "source": [
        "from sklearn.ensemble import RandomForestClassifier"
      ],
      "metadata": {
        "id": "7Ywj-hIW1Pnl"
      },
      "execution_count": 443,
      "outputs": []
    },
    {
      "cell_type": "code",
      "source": [
        "rf = RandomForestClassifier()\n",
        "cv = cross_val_score(rf, nba_train_features, nba_train_target, cv = 5)\n",
        "print(cv)\n",
        "print(cv.mean())"
      ],
      "metadata": {
        "colab": {
          "base_uri": "https://localhost:8080/"
        },
        "id": "PaqyWkc91RUs",
        "outputId": "8098fd2e-1cbb-415f-dad2-04488256b69d"
      },
      "execution_count": 444,
      "outputs": [
        {
          "output_type": "stream",
          "name": "stdout",
          "text": [
            "[0.73015873 0.65079365 0.65079365 0.65079365 0.66129032]\n",
            "0.6687660010240655\n"
          ]
        }
      ]
    },
    {
      "cell_type": "markdown",
      "source": [
        "# Gradient Boost Classifier"
      ],
      "metadata": {
        "id": "Js0WFjJt1mek"
      }
    },
    {
      "cell_type": "code",
      "source": [
        "from sklearn.ensemble import GradientBoostingClassifier\n",
        "gb = GradientBoostingClassifier()\n",
        "cv = cross_val_score(gb, nba_train_features, nba_train_target, cv = 5)\n",
        "print(cv)\n",
        "print(cv.mean())"
      ],
      "metadata": {
        "colab": {
          "base_uri": "https://localhost:8080/"
        },
        "id": "ARJH6AoF1mCB",
        "outputId": "a5e973ab-f5e1-4ece-f495-d9cd0dfcef55"
      },
      "execution_count": 445,
      "outputs": [
        {
          "output_type": "stream",
          "name": "stdout",
          "text": [
            "[0.6984127  0.73015873 0.6984127  0.66666667 0.67741935]\n",
            "0.6942140296979005\n"
          ]
        }
      ]
    },
    {
      "cell_type": "markdown",
      "source": [
        "# Neural Network Classifiers"
      ],
      "metadata": {
        "id": "XF6kccQE1_C2"
      }
    },
    {
      "cell_type": "code",
      "source": [
        "#encode the target variable\n",
        "train_target = pd.get_dummies(nba_train['class'])\n",
        "test_target = pd.get_dummies(nba_test['class'])"
      ],
      "metadata": {
        "id": "lKdj_C6F5XBw"
      },
      "execution_count": 446,
      "outputs": []
    },
    {
      "cell_type": "code",
      "source": [
        "print(train_target.shape)\n",
        "print(test_target.shape)"
      ],
      "metadata": {
        "colab": {
          "base_uri": "https://localhost:8080/"
        },
        "id": "sCRJy7Qb5gxn",
        "outputId": "4b9925ce-732e-46af-f415-f5ca6ebbc2af"
      },
      "execution_count": 447,
      "outputs": [
        {
          "output_type": "stream",
          "name": "stdout",
          "text": [
            "(314, 4)\n",
            "(79, 4)\n"
          ]
        }
      ]
    },
    {
      "cell_type": "code",
      "source": [
        "import tensorflow as tf\n",
        "from tensorflow import keras\n",
        "from sklearn.model_selection import train_test_split\n",
        "\n",
        "from tensorflow.keras.models import Sequential\n",
        "from tensorflow.keras.layers import Activation, Dense, BatchNormalization, Dropout\n",
        "from tensorflow.keras import optimizers\n",
        "import matplotlib.pyplot as plt\n",
        "import numpy as np \n",
        "import pandas as pd\n",
        "import seaborn as sns"
      ],
      "metadata": {
        "id": "J8S9U_yyLJyi"
      },
      "execution_count": 448,
      "outputs": []
    },
    {
      "cell_type": "code",
      "source": [
        "tf.random.set_seed(5)\n",
        "\n",
        "network = tf.keras.models.Sequential()\n",
        "network.add(tf.keras.Input(shape=(51,)))\n",
        "network.add(tf.keras.layers.Dense(30, activation='relu'))\n",
        "network.add(tf.keras.layers.Dense(20, activation='relu'))\n",
        "network.add(tf.keras.layers.Dense(4, activation='softmax'))\n",
        "\n",
        "network.compile(\n",
        "   loss=tf.keras.losses.CategoricalCrossentropy(),\n",
        "   optimizer=tf.keras.optimizers.Adam(),\n",
        "   metrics=\"accuracy\")\n",
        "\n",
        "history = network.fit(nba_train_features, train_target, epochs= 80,validation_data=(nba_test_features, test_target))"
      ],
      "metadata": {
        "colab": {
          "base_uri": "https://localhost:8080/"
        },
        "id": "h1ZaePzALJEa",
        "outputId": "169a333f-edb0-490b-e063-c7b99912c396"
      },
      "execution_count": 449,
      "outputs": [
        {
          "output_type": "stream",
          "name": "stdout",
          "text": [
            "Epoch 1/80\n",
            "10/10 [==============================] - 0s 17ms/step - loss: 4.0426 - accuracy: 0.2420 - val_loss: 2.6531 - val_accuracy: 0.2532\n",
            "Epoch 2/80\n",
            "10/10 [==============================] - 0s 3ms/step - loss: 2.0250 - accuracy: 0.3790 - val_loss: 1.7926 - val_accuracy: 0.4304\n",
            "Epoch 3/80\n",
            "10/10 [==============================] - 0s 3ms/step - loss: 1.4200 - accuracy: 0.5255 - val_loss: 1.2392 - val_accuracy: 0.6076\n",
            "Epoch 4/80\n",
            "10/10 [==============================] - 0s 3ms/step - loss: 1.1845 - accuracy: 0.5732 - val_loss: 1.1204 - val_accuracy: 0.6203\n",
            "Epoch 5/80\n",
            "10/10 [==============================] - 0s 3ms/step - loss: 1.1019 - accuracy: 0.6433 - val_loss: 1.0453 - val_accuracy: 0.6329\n",
            "Epoch 6/80\n",
            "10/10 [==============================] - 0s 3ms/step - loss: 1.0413 - accuracy: 0.6529 - val_loss: 0.9686 - val_accuracy: 0.6456\n",
            "Epoch 7/80\n",
            "10/10 [==============================] - 0s 3ms/step - loss: 0.9753 - accuracy: 0.6529 - val_loss: 0.9300 - val_accuracy: 0.6329\n",
            "Epoch 8/80\n",
            "10/10 [==============================] - 0s 3ms/step - loss: 0.9392 - accuracy: 0.6561 - val_loss: 0.8908 - val_accuracy: 0.6203\n",
            "Epoch 9/80\n",
            "10/10 [==============================] - 0s 4ms/step - loss: 0.9071 - accuracy: 0.6497 - val_loss: 0.8716 - val_accuracy: 0.6203\n",
            "Epoch 10/80\n",
            "10/10 [==============================] - 0s 3ms/step - loss: 0.8798 - accuracy: 0.6529 - val_loss: 0.8620 - val_accuracy: 0.6582\n",
            "Epoch 11/80\n",
            "10/10 [==============================] - 0s 3ms/step - loss: 0.8652 - accuracy: 0.6656 - val_loss: 0.8518 - val_accuracy: 0.6962\n",
            "Epoch 12/80\n",
            "10/10 [==============================] - 0s 3ms/step - loss: 0.8465 - accuracy: 0.6688 - val_loss: 0.8387 - val_accuracy: 0.6582\n",
            "Epoch 13/80\n",
            "10/10 [==============================] - 0s 3ms/step - loss: 0.8218 - accuracy: 0.6783 - val_loss: 0.8362 - val_accuracy: 0.6962\n",
            "Epoch 14/80\n",
            "10/10 [==============================] - 0s 3ms/step - loss: 0.8082 - accuracy: 0.6752 - val_loss: 0.8187 - val_accuracy: 0.6709\n",
            "Epoch 15/80\n",
            "10/10 [==============================] - 0s 3ms/step - loss: 0.7975 - accuracy: 0.6847 - val_loss: 0.8034 - val_accuracy: 0.6709\n",
            "Epoch 16/80\n",
            "10/10 [==============================] - 0s 3ms/step - loss: 0.7789 - accuracy: 0.6720 - val_loss: 0.8001 - val_accuracy: 0.7089\n",
            "Epoch 17/80\n",
            "10/10 [==============================] - 0s 3ms/step - loss: 0.7751 - accuracy: 0.6783 - val_loss: 0.7969 - val_accuracy: 0.6709\n",
            "Epoch 18/80\n",
            "10/10 [==============================] - 0s 4ms/step - loss: 0.7601 - accuracy: 0.6911 - val_loss: 0.7865 - val_accuracy: 0.7215\n",
            "Epoch 19/80\n",
            "10/10 [==============================] - 0s 3ms/step - loss: 0.7538 - accuracy: 0.6911 - val_loss: 0.7733 - val_accuracy: 0.7089\n",
            "Epoch 20/80\n",
            "10/10 [==============================] - 0s 3ms/step - loss: 0.7484 - accuracy: 0.6688 - val_loss: 0.7710 - val_accuracy: 0.6582\n",
            "Epoch 21/80\n",
            "10/10 [==============================] - 0s 3ms/step - loss: 0.7349 - accuracy: 0.6943 - val_loss: 0.7772 - val_accuracy: 0.6962\n",
            "Epoch 22/80\n",
            "10/10 [==============================] - 0s 3ms/step - loss: 0.7296 - accuracy: 0.6783 - val_loss: 0.7656 - val_accuracy: 0.7089\n",
            "Epoch 23/80\n",
            "10/10 [==============================] - 0s 3ms/step - loss: 0.7192 - accuracy: 0.6911 - val_loss: 0.7597 - val_accuracy: 0.7089\n",
            "Epoch 24/80\n",
            "10/10 [==============================] - 0s 4ms/step - loss: 0.7203 - accuracy: 0.7070 - val_loss: 0.7644 - val_accuracy: 0.7089\n",
            "Epoch 25/80\n",
            "10/10 [==============================] - 0s 9ms/step - loss: 0.7129 - accuracy: 0.6943 - val_loss: 0.7556 - val_accuracy: 0.6962\n",
            "Epoch 26/80\n",
            "10/10 [==============================] - 0s 6ms/step - loss: 0.7118 - accuracy: 0.7038 - val_loss: 0.7530 - val_accuracy: 0.7089\n",
            "Epoch 27/80\n",
            "10/10 [==============================] - 0s 6ms/step - loss: 0.7103 - accuracy: 0.7166 - val_loss: 0.7542 - val_accuracy: 0.7215\n",
            "Epoch 28/80\n",
            "10/10 [==============================] - 0s 8ms/step - loss: 0.7292 - accuracy: 0.6943 - val_loss: 0.7873 - val_accuracy: 0.6709\n",
            "Epoch 29/80\n",
            "10/10 [==============================] - 0s 5ms/step - loss: 0.7368 - accuracy: 0.7070 - val_loss: 0.7773 - val_accuracy: 0.7089\n",
            "Epoch 30/80\n",
            "10/10 [==============================] - 0s 4ms/step - loss: 0.7132 - accuracy: 0.7006 - val_loss: 0.7440 - val_accuracy: 0.6835\n",
            "Epoch 31/80\n",
            "10/10 [==============================] - 0s 4ms/step - loss: 0.6788 - accuracy: 0.7134 - val_loss: 0.7524 - val_accuracy: 0.6962\n",
            "Epoch 32/80\n",
            "10/10 [==============================] - 0s 5ms/step - loss: 0.6796 - accuracy: 0.7166 - val_loss: 0.7378 - val_accuracy: 0.7215\n",
            "Epoch 33/80\n",
            "10/10 [==============================] - 0s 5ms/step - loss: 0.6701 - accuracy: 0.6975 - val_loss: 0.7426 - val_accuracy: 0.7089\n",
            "Epoch 34/80\n",
            "10/10 [==============================] - 0s 5ms/step - loss: 0.6574 - accuracy: 0.7420 - val_loss: 0.7315 - val_accuracy: 0.7089\n",
            "Epoch 35/80\n",
            "10/10 [==============================] - 0s 5ms/step - loss: 0.6555 - accuracy: 0.7261 - val_loss: 0.7341 - val_accuracy: 0.7342\n",
            "Epoch 36/80\n",
            "10/10 [==============================] - 0s 6ms/step - loss: 0.6464 - accuracy: 0.7070 - val_loss: 0.7362 - val_accuracy: 0.7089\n",
            "Epoch 37/80\n",
            "10/10 [==============================] - 0s 3ms/step - loss: 0.6574 - accuracy: 0.7261 - val_loss: 0.7317 - val_accuracy: 0.7342\n",
            "Epoch 38/80\n",
            "10/10 [==============================] - 0s 3ms/step - loss: 0.6442 - accuracy: 0.7420 - val_loss: 0.7232 - val_accuracy: 0.7215\n",
            "Epoch 39/80\n",
            "10/10 [==============================] - 0s 3ms/step - loss: 0.6417 - accuracy: 0.7261 - val_loss: 0.7232 - val_accuracy: 0.6962\n",
            "Epoch 40/80\n",
            "10/10 [==============================] - 0s 3ms/step - loss: 0.6251 - accuracy: 0.7357 - val_loss: 0.7198 - val_accuracy: 0.7342\n",
            "Epoch 41/80\n",
            "10/10 [==============================] - 0s 4ms/step - loss: 0.6252 - accuracy: 0.7293 - val_loss: 0.7191 - val_accuracy: 0.6962\n",
            "Epoch 42/80\n",
            "10/10 [==============================] - 0s 3ms/step - loss: 0.6187 - accuracy: 0.7452 - val_loss: 0.7117 - val_accuracy: 0.7215\n",
            "Epoch 43/80\n",
            "10/10 [==============================] - 0s 3ms/step - loss: 0.6168 - accuracy: 0.7357 - val_loss: 0.7131 - val_accuracy: 0.7342\n",
            "Epoch 44/80\n",
            "10/10 [==============================] - 0s 3ms/step - loss: 0.6125 - accuracy: 0.7452 - val_loss: 0.7135 - val_accuracy: 0.7342\n",
            "Epoch 45/80\n",
            "10/10 [==============================] - 0s 3ms/step - loss: 0.6026 - accuracy: 0.7325 - val_loss: 0.7110 - val_accuracy: 0.7215\n",
            "Epoch 46/80\n",
            "10/10 [==============================] - 0s 3ms/step - loss: 0.6072 - accuracy: 0.7357 - val_loss: 0.7101 - val_accuracy: 0.7468\n",
            "Epoch 47/80\n",
            "10/10 [==============================] - 0s 3ms/step - loss: 0.5970 - accuracy: 0.7611 - val_loss: 0.7070 - val_accuracy: 0.7342\n",
            "Epoch 48/80\n",
            "10/10 [==============================] - 0s 3ms/step - loss: 0.6108 - accuracy: 0.7420 - val_loss: 0.7171 - val_accuracy: 0.6962\n",
            "Epoch 49/80\n",
            "10/10 [==============================] - 0s 3ms/step - loss: 0.6020 - accuracy: 0.7611 - val_loss: 0.7122 - val_accuracy: 0.7089\n",
            "Epoch 50/80\n",
            "10/10 [==============================] - 0s 3ms/step - loss: 0.5920 - accuracy: 0.7484 - val_loss: 0.7143 - val_accuracy: 0.7342\n",
            "Epoch 51/80\n",
            "10/10 [==============================] - 0s 3ms/step - loss: 0.5903 - accuracy: 0.7516 - val_loss: 0.7007 - val_accuracy: 0.7595\n",
            "Epoch 52/80\n",
            "10/10 [==============================] - 0s 3ms/step - loss: 0.5798 - accuracy: 0.7516 - val_loss: 0.7001 - val_accuracy: 0.7468\n",
            "Epoch 53/80\n",
            "10/10 [==============================] - 0s 5ms/step - loss: 0.5901 - accuracy: 0.7484 - val_loss: 0.7100 - val_accuracy: 0.7089\n",
            "Epoch 54/80\n",
            "10/10 [==============================] - 0s 3ms/step - loss: 0.5726 - accuracy: 0.7834 - val_loss: 0.7016 - val_accuracy: 0.7595\n",
            "Epoch 55/80\n",
            "10/10 [==============================] - 0s 3ms/step - loss: 0.5811 - accuracy: 0.7611 - val_loss: 0.7240 - val_accuracy: 0.6962\n",
            "Epoch 56/80\n",
            "10/10 [==============================] - 0s 3ms/step - loss: 0.5815 - accuracy: 0.7580 - val_loss: 0.6998 - val_accuracy: 0.7595\n",
            "Epoch 57/80\n",
            "10/10 [==============================] - 0s 3ms/step - loss: 0.5799 - accuracy: 0.7643 - val_loss: 0.6918 - val_accuracy: 0.7595\n",
            "Epoch 58/80\n",
            "10/10 [==============================] - 0s 3ms/step - loss: 0.5660 - accuracy: 0.7675 - val_loss: 0.7075 - val_accuracy: 0.7089\n",
            "Epoch 59/80\n",
            "10/10 [==============================] - 0s 4ms/step - loss: 0.5643 - accuracy: 0.7675 - val_loss: 0.6955 - val_accuracy: 0.7595\n",
            "Epoch 60/80\n",
            "10/10 [==============================] - 0s 3ms/step - loss: 0.5614 - accuracy: 0.7771 - val_loss: 0.6941 - val_accuracy: 0.7722\n",
            "Epoch 61/80\n",
            "10/10 [==============================] - 0s 3ms/step - loss: 0.5868 - accuracy: 0.7611 - val_loss: 0.6987 - val_accuracy: 0.7342\n",
            "Epoch 62/80\n",
            "10/10 [==============================] - 0s 3ms/step - loss: 0.5785 - accuracy: 0.7643 - val_loss: 0.7435 - val_accuracy: 0.6709\n",
            "Epoch 63/80\n",
            "10/10 [==============================] - 0s 3ms/step - loss: 0.5664 - accuracy: 0.7771 - val_loss: 0.7302 - val_accuracy: 0.6962\n",
            "Epoch 64/80\n",
            "10/10 [==============================] - 0s 3ms/step - loss: 0.5664 - accuracy: 0.7739 - val_loss: 0.6957 - val_accuracy: 0.7215\n",
            "Epoch 65/80\n",
            "10/10 [==============================] - 0s 3ms/step - loss: 0.5518 - accuracy: 0.7834 - val_loss: 0.6911 - val_accuracy: 0.7468\n",
            "Epoch 66/80\n",
            "10/10 [==============================] - 0s 3ms/step - loss: 0.5436 - accuracy: 0.7866 - val_loss: 0.6982 - val_accuracy: 0.7468\n",
            "Epoch 67/80\n",
            "10/10 [==============================] - 0s 3ms/step - loss: 0.5405 - accuracy: 0.7866 - val_loss: 0.6819 - val_accuracy: 0.7722\n",
            "Epoch 68/80\n",
            "10/10 [==============================] - 0s 3ms/step - loss: 0.5341 - accuracy: 0.7866 - val_loss: 0.6828 - val_accuracy: 0.7595\n",
            "Epoch 69/80\n",
            "10/10 [==============================] - 0s 4ms/step - loss: 0.5367 - accuracy: 0.7898 - val_loss: 0.7024 - val_accuracy: 0.7089\n",
            "Epoch 70/80\n",
            "10/10 [==============================] - 0s 3ms/step - loss: 0.5330 - accuracy: 0.7930 - val_loss: 0.6855 - val_accuracy: 0.7722\n",
            "Epoch 71/80\n",
            "10/10 [==============================] - 0s 3ms/step - loss: 0.5211 - accuracy: 0.7962 - val_loss: 0.6757 - val_accuracy: 0.7595\n",
            "Epoch 72/80\n",
            "10/10 [==============================] - 0s 3ms/step - loss: 0.5129 - accuracy: 0.7898 - val_loss: 0.6816 - val_accuracy: 0.7468\n",
            "Epoch 73/80\n",
            "10/10 [==============================] - 0s 3ms/step - loss: 0.5144 - accuracy: 0.7930 - val_loss: 0.6833 - val_accuracy: 0.7848\n",
            "Epoch 74/80\n",
            "10/10 [==============================] - 0s 3ms/step - loss: 0.5184 - accuracy: 0.7866 - val_loss: 0.6874 - val_accuracy: 0.7722\n",
            "Epoch 75/80\n",
            "10/10 [==============================] - 0s 3ms/step - loss: 0.5146 - accuracy: 0.7834 - val_loss: 0.6912 - val_accuracy: 0.7215\n",
            "Epoch 76/80\n",
            "10/10 [==============================] - 0s 3ms/step - loss: 0.5185 - accuracy: 0.7866 - val_loss: 0.7221 - val_accuracy: 0.6962\n",
            "Epoch 77/80\n",
            "10/10 [==============================] - 0s 3ms/step - loss: 0.5236 - accuracy: 0.7930 - val_loss: 0.6857 - val_accuracy: 0.7722\n",
            "Epoch 78/80\n",
            "10/10 [==============================] - 0s 3ms/step - loss: 0.5114 - accuracy: 0.7962 - val_loss: 0.6852 - val_accuracy: 0.7595\n",
            "Epoch 79/80\n",
            "10/10 [==============================] - 0s 3ms/step - loss: 0.5079 - accuracy: 0.8025 - val_loss: 0.6807 - val_accuracy: 0.7722\n",
            "Epoch 80/80\n",
            "10/10 [==============================] - 0s 4ms/step - loss: 0.5002 - accuracy: 0.8025 - val_loss: 0.6863 - val_accuracy: 0.7848\n"
          ]
        }
      ]
    },
    {
      "cell_type": "code",
      "source": [
        "from matplotlib import pyplot as plt\n",
        "plt.plot(history.history['accuracy'])\n",
        "plt.plot(history.history['val_accuracy'])\n",
        "plt.title('model accuracy')\n",
        "plt.ylabel('accuracy')\n",
        "plt.xlabel('epoch')\n",
        "plt.legend(['Train', 'Cross-Validation'], loc='upper left')\n",
        "plt.show()"
      ],
      "metadata": {
        "colab": {
          "base_uri": "https://localhost:8080/",
          "height": 295
        },
        "id": "QqiWjzZ-LNBn",
        "outputId": "4c19c577-4287-41d5-a05e-9177020e2f10"
      },
      "execution_count": 450,
      "outputs": [
        {
          "output_type": "display_data",
          "data": {
            "text/plain": [
              "<Figure size 432x288 with 1 Axes>"
            ],
            "image/png": "[encoded data removed]"
          },
          "metadata": {
            "needs_background": "light"
          }
        }
      ]
    }
  ]
}