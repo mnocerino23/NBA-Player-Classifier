{
  "nbformat": 4,
  "nbformat_minor": 0,
  "metadata": {
    "colab": {
      "provenance": [],
      "authorship_tag": "ABX9TyO6q1N144r0cylNqZJz4tUr",
      "include_colab_link": true
    },
    "kernelspec": {
      "name": "python3",
      "display_name": "Python 3"
    },
    "language_info": {
      "name": "python"
    }
  },
  "cells": [
    {
      "cell_type": "markdown",
      "metadata": {
        "id": "view-in-github",
        "colab_type": "text"
      },
      "source": [
        "<a href=\"https://colab.research.google.com/github/mnocerino23/NBA-Player-Classifier/blob/main/dt.ipynb\" target=\"_parent\"><img src=\"https://colab.research.google.com/assets/colab-badge.svg\" alt=\"Open In Colab\"/></a>"
      ]
    },
    {
      "cell_type": "markdown",
      "source": [
        "#In this notebook we experiment with Decision Trees to build a binary classifier to decide who does and does not deserve a max contract. In this revised jupyter notebook, we try to remove outliers and see how this effects the decision tree model"
      ],
      "metadata": {
        "id": "S18Gy3_SAVoM"
      }
    },
    {
      "cell_type": "code",
      "execution_count": 836,
      "metadata": {
        "colab": {
          "base_uri": "https://localhost:8080/"
        },
        "id": "UQTJFDfYGIOo",
        "outputId": "1fed88e4-205b-4b47-d38a-b63588162518"
      },
      "outputs": [
        {
          "output_type": "stream",
          "name": "stdout",
          "text": [
            "Drive already mounted at /content/drive; to attempt to forcibly remount, call drive.mount(\"/content/drive\", force_remount=True).\n"
          ]
        }
      ],
      "source": [
        "import pandas as pd\n",
        "import sklearn\n",
        "from google.colab import drive\n",
        "drive.mount('/content/drive')"
      ]
    },
    {
      "cell_type": "code",
      "source": [
        "complete = pd.read_csv('/content/drive/MyDrive/Data_Science_Projects/NBA/complete22-23.csv')"
      ],
      "metadata": {
        "id": "0niM9ni-GjB8"
      },
      "execution_count": 837,
      "outputs": []
    },
    {
      "cell_type": "code",
      "source": [
        "complete.head(4)"
      ],
      "metadata": {
        "colab": {
          "base_uri": "https://localhost:8080/",
          "height": 337
        },
        "id": "nFY9snYBdrsZ",
        "outputId": "09aac091-3168-4ad8-8e1a-1ffd3efb9dff"
      },
      "execution_count": 838,
      "outputs": [
        {
          "output_type": "execute_result",
          "data": {
            "text/plain": [
              "             Player Pos  Age   Tm   G  GS    MP   FG   FGA    FG%  ...  \\\n",
              "0  Precious Achiuwa   C   23  TOR  55  12  20.7  3.6   7.3  0.485  ...   \n",
              "1      Steven Adams   C   29  MEM  42  42  27.0  3.7   6.3  0.597  ...   \n",
              "2       Bam Adebayo   C   25  MIA  75  75  34.6  8.0  14.9  0.540  ...   \n",
              "3      Ochai Agbaji  SG   22  UTA  59  22  20.5  2.8   6.5  0.427  ...   \n",
              "\n",
              "    AST_TOV  OWS_div_USG  TS_times_USG   bigmanD  foul_rate  three_rate  \\\n",
              "0  0.818182     0.041237       10.7476  0.251208   0.091787   21.505376   \n",
              "1  1.210526     0.089041        8.2344  0.314815   0.085185    0.000000   \n",
              "2  1.280000     0.142857       14.9184  0.251445   0.080925    1.324503   \n",
              "3  1.571429     0.056962        8.8638  0.092683   0.082927   37.500000   \n",
              "\n",
              "   PTs_per_36  PF_per_dplay    FG_TOV     two_way  \n",
              "0   16.000000      1.727273  3.727273   38.690909  \n",
              "1   11.466667      1.150000  1.947368   87.500000  \n",
              "2   21.225434      1.400000  3.200000  101.840000  \n",
              "3   13.873171      2.833333  6.000000    6.440678  \n",
              "\n",
              "[4 rows x 63 columns]"
            ],
            "text/html": [
              "\n",
              "  <div id=\"df-99a5c1db-97fd-4c8b-87ea-b71c2296079e\">\n",
              "    <div class=\"colab-df-container\">\n",
              "      <div>\n",
              "<style scoped>\n",
              "    .dataframe tbody tr th:only-of-type {\n",
              "        vertical-align: middle;\n",
              "    }\n",
              "\n",
              "    .dataframe tbody tr th {\n",
              "        vertical-align: top;\n",
              "    }\n",
              "\n",
              "    .dataframe thead th {\n",
              "        text-align: right;\n",
              "    }\n",
              "</style>\n",
              "<table border=\"1\" class=\"dataframe\">\n",
              "  <thead>\n",
              "    <tr style=\"text-align: right;\">\n",
              "      <th></th>\n",
              "      <th>Player</th>\n",
              "      <th>Pos</th>\n",
              "      <th>Age</th>\n",
              "      <th>Tm</th>\n",
              "      <th>G</th>\n",
              "      <th>GS</th>\n",
              "      <th>MP</th>\n",
              "      <th>FG</th>\n",
              "      <th>FGA</th>\n",
              "      <th>FG%</th>\n",
              "      <th>...</th>\n",
              "      <th>AST_TOV</th>\n",
              "      <th>OWS_div_USG</th>\n",
              "      <th>TS_times_USG</th>\n",
              "      <th>bigmanD</th>\n",
              "      <th>foul_rate</th>\n",
              "      <th>three_rate</th>\n",
              "      <th>PTs_per_36</th>\n",
              "      <th>PF_per_dplay</th>\n",
              "      <th>FG_TOV</th>\n",
              "      <th>two_way</th>\n",
              "    </tr>\n",
              "  </thead>\n",
              "  <tbody>\n",
              "    <tr>\n",
              "      <th>0</th>\n",
              "      <td>Precious Achiuwa</td>\n",
              "      <td>C</td>\n",
              "      <td>23</td>\n",
              "      <td>TOR</td>\n",
              "      <td>55</td>\n",
              "      <td>12</td>\n",
              "      <td>20.7</td>\n",
              "      <td>3.6</td>\n",
              "      <td>7.3</td>\n",
              "      <td>0.485</td>\n",
              "      <td>...</td>\n",
              "      <td>0.818182</td>\n",
              "      <td>0.041237</td>\n",
              "      <td>10.7476</td>\n",
              "      <td>0.251208</td>\n",
              "      <td>0.091787</td>\n",
              "      <td>21.505376</td>\n",
              "      <td>16.000000</td>\n",
              "      <td>1.727273</td>\n",
              "      <td>3.727273</td>\n",
              "      <td>38.690909</td>\n",
              "    </tr>\n",
              "    <tr>\n",
              "      <th>1</th>\n",
              "      <td>Steven Adams</td>\n",
              "      <td>C</td>\n",
              "      <td>29</td>\n",
              "      <td>MEM</td>\n",
              "      <td>42</td>\n",
              "      <td>42</td>\n",
              "      <td>27.0</td>\n",
              "      <td>3.7</td>\n",
              "      <td>6.3</td>\n",
              "      <td>0.597</td>\n",
              "      <td>...</td>\n",
              "      <td>1.210526</td>\n",
              "      <td>0.089041</td>\n",
              "      <td>8.2344</td>\n",
              "      <td>0.314815</td>\n",
              "      <td>0.085185</td>\n",
              "      <td>0.000000</td>\n",
              "      <td>11.466667</td>\n",
              "      <td>1.150000</td>\n",
              "      <td>1.947368</td>\n",
              "      <td>87.500000</td>\n",
              "    </tr>\n",
              "    <tr>\n",
              "      <th>2</th>\n",
              "      <td>Bam Adebayo</td>\n",
              "      <td>C</td>\n",
              "      <td>25</td>\n",
              "      <td>MIA</td>\n",
              "      <td>75</td>\n",
              "      <td>75</td>\n",
              "      <td>34.6</td>\n",
              "      <td>8.0</td>\n",
              "      <td>14.9</td>\n",
              "      <td>0.540</td>\n",
              "      <td>...</td>\n",
              "      <td>1.280000</td>\n",
              "      <td>0.142857</td>\n",
              "      <td>14.9184</td>\n",
              "      <td>0.251445</td>\n",
              "      <td>0.080925</td>\n",
              "      <td>1.324503</td>\n",
              "      <td>21.225434</td>\n",
              "      <td>1.400000</td>\n",
              "      <td>3.200000</td>\n",
              "      <td>101.840000</td>\n",
              "    </tr>\n",
              "    <tr>\n",
              "      <th>3</th>\n",
              "      <td>Ochai Agbaji</td>\n",
              "      <td>SG</td>\n",
              "      <td>22</td>\n",
              "      <td>UTA</td>\n",
              "      <td>59</td>\n",
              "      <td>22</td>\n",
              "      <td>20.5</td>\n",
              "      <td>2.8</td>\n",
              "      <td>6.5</td>\n",
              "      <td>0.427</td>\n",
              "      <td>...</td>\n",
              "      <td>1.571429</td>\n",
              "      <td>0.056962</td>\n",
              "      <td>8.8638</td>\n",
              "      <td>0.092683</td>\n",
              "      <td>0.082927</td>\n",
              "      <td>37.500000</td>\n",
              "      <td>13.873171</td>\n",
              "      <td>2.833333</td>\n",
              "      <td>6.000000</td>\n",
              "      <td>6.440678</td>\n",
              "    </tr>\n",
              "  </tbody>\n",
              "</table>\n",
              "<p>4 rows × 63 columns</p>\n",
              "</div>\n",
              "      <button class=\"colab-df-convert\" onclick=\"convertToInteractive('df-99a5c1db-97fd-4c8b-87ea-b71c2296079e')\"\n",
              "              title=\"Convert this dataframe to an interactive table.\"\n",
              "              style=\"display:none;\">\n",
              "        \n",
              "  <svg xmlns=\"http://www.w3.org/2000/svg\" height=\"24px\"viewBox=\"0 0 24 24\"\n",
              "       width=\"24px\">\n",
              "    <path d=\"M0 0h24v24H0V0z\" fill=\"none\"/>\n",
              "    <path d=\"M18.56 5.44l.94 2.06.94-2.06 2.06-.94-2.06-.94-.94-2.06-.94 2.06-2.06.94zm-11 1L8.5 8.5l.94-2.06 2.06-.94-2.06-.94L8.5 2.5l-.94 2.06-2.06.94zm10 10l.94 2.06.94-2.06 2.06-.94-2.06-.94-.94-2.06-.94 2.06-2.06.94z\"/><path d=\"M17.41 7.96l-1.37-1.37c-.4-.4-.92-.59-1.43-.59-.52 0-1.04.2-1.43.59L10.3 9.45l-7.72 7.72c-.78.78-.78 2.05 0 2.83L4 21.41c.39.39.9.59 1.41.59.51 0 1.02-.2 1.41-.59l7.78-7.78 2.81-2.81c.8-.78.8-2.07 0-2.86zM5.41 20L4 18.59l7.72-7.72 1.47 1.35L5.41 20z\"/>\n",
              "  </svg>\n",
              "      </button>\n",
              "      \n",
              "  <style>\n",
              "    .colab-df-container {\n",
              "      display:flex;\n",
              "      flex-wrap:wrap;\n",
              "      gap: 12px;\n",
              "    }\n",
              "\n",
              "    .colab-df-convert {\n",
              "      background-color: #E8F0FE;\n",
              "      border: none;\n",
              "      border-radius: 50%;\n",
              "      cursor: pointer;\n",
              "      display: none;\n",
              "      fill: #1967D2;\n",
              "      height: 32px;\n",
              "      padding: 0 0 0 0;\n",
              "      width: 32px;\n",
              "    }\n",
              "\n",
              "    .colab-df-convert:hover {\n",
              "      background-color: #E2EBFA;\n",
              "      box-shadow: 0px 1px 2px rgba(60, 64, 67, 0.3), 0px 1px 3px 1px rgba(60, 64, 67, 0.15);\n",
              "      fill: #174EA6;\n",
              "    }\n",
              "\n",
              "    [theme=dark] .colab-df-convert {\n",
              "      background-color: #3B4455;\n",
              "      fill: #D2E3FC;\n",
              "    }\n",
              "\n",
              "    [theme=dark] .colab-df-convert:hover {\n",
              "      background-color: #434B5C;\n",
              "      box-shadow: 0px 1px 3px 1px rgba(0, 0, 0, 0.15);\n",
              "      filter: drop-shadow(0px 1px 2px rgba(0, 0, 0, 0.3));\n",
              "      fill: #FFFFFF;\n",
              "    }\n",
              "  </style>\n",
              "\n",
              "      <script>\n",
              "        const buttonEl =\n",
              "          document.querySelector('#df-99a5c1db-97fd-4c8b-87ea-b71c2296079e button.colab-df-convert');\n",
              "        buttonEl.style.display =\n",
              "          google.colab.kernel.accessAllowed ? 'block' : 'none';\n",
              "\n",
              "        async function convertToInteractive(key) {\n",
              "          const element = document.querySelector('#df-99a5c1db-97fd-4c8b-87ea-b71c2296079e');\n",
              "          const dataTable =\n",
              "            await google.colab.kernel.invokeFunction('convertToInteractive',\n",
              "                                                     [key], {});\n",
              "          if (!dataTable) return;\n",
              "\n",
              "          const docLinkHtml = 'Like what you see? Visit the ' +\n",
              "            '<a target=\"_blank\" href=https://colab.research.google.com/notebooks/data_table.ipynb>data table notebook</a>'\n",
              "            + ' to learn more about interactive tables.';\n",
              "          element.innerHTML = '';\n",
              "          dataTable['output_type'] = 'display_data';\n",
              "          await google.colab.output.renderOutput(dataTable, element);\n",
              "          const docLink = document.createElement('div');\n",
              "          docLink.innerHTML = docLinkHtml;\n",
              "          element.appendChild(docLink);\n",
              "        }\n",
              "      </script>\n",
              "    </div>\n",
              "  </div>\n",
              "  "
            ]
          },
          "metadata": {},
          "execution_count": 838
        }
      ]
    },
    {
      "cell_type": "code",
      "source": [
        "#note that some players have multiple positions\n",
        "complete['Pos'].unique()"
      ],
      "metadata": {
        "colab": {
          "base_uri": "https://localhost:8080/"
        },
        "id": "5oqJoa0mczmy",
        "outputId": "e86d0385-dbfe-48ba-88f1-7441b4adb24e"
      },
      "execution_count": 839,
      "outputs": [
        {
          "output_type": "execute_result",
          "data": {
            "text/plain": [
              "array(['C', 'SG', 'PF', 'PG', 'SF', 'PF-SF', 'SF-SG', 'SG-PG'],\n",
              "      dtype=object)"
            ]
          },
          "metadata": {},
          "execution_count": 839
        }
      ]
    },
    {
      "cell_type": "code",
      "source": [
        "#we want to make sure each player has only one position to limit the amount of categories for Pos.\n",
        "#although we don't need to one hot encode for our tree based model, limiting all \n",
        "#entries to just one position is still important\n",
        "\n",
        "for index, rows in complete.iterrows():\n",
        "  #if the position has length greater than two (meaning it isn't C, PG, SG, SF, or PF), we shorten it to the first position\n",
        "  if len(complete.at[index, 'Pos']) > 2:\n",
        "    complete.at[index, 'Pos'] = complete.at[index, 'Pos'][:2]"
      ],
      "metadata": {
        "id": "Uskq4H8DYJKh"
      },
      "execution_count": 840,
      "outputs": []
    },
    {
      "cell_type": "markdown",
      "source": [
        "# Players with salaries over 25 million will be considered max level players while those under with be considered \"Not max\""
      ],
      "metadata": {
        "id": "jdU3uVLvgMCL"
      }
    },
    {
      "cell_type": "code",
      "source": [
        "#use a lambda function to assign classes\n",
        "complete['Class'] = complete['Salary'].apply(lambda x: 'Max' if x >= 30 else 'Not Max')"
      ],
      "metadata": {
        "id": "jA6bQD4Xey08"
      },
      "execution_count": 841,
      "outputs": []
    },
    {
      "cell_type": "code",
      "source": [
        "#the count of each class in the dataset before splitting\n",
        "complete['Class'].value_counts()"
      ],
      "metadata": {
        "colab": {
          "base_uri": "https://localhost:8080/"
        },
        "id": "Bo0qnBa2f5Sf",
        "outputId": "9d74389d-3bcb-4302-d550-8d1676f18d4c"
      },
      "execution_count": 842,
      "outputs": [
        {
          "output_type": "execute_result",
          "data": {
            "text/plain": [
              "Not Max    406\n",
              "Max         44\n",
              "Name: Class, dtype: int64"
            ]
          },
          "metadata": {},
          "execution_count": 842
        }
      ]
    },
    {
      "cell_type": "markdown",
      "source": [
        "Before splitting into train-test, we need to drop outliers that have been identified such as John Wall, Gordon Hayward, and Ben Simmons. These are players who have all severly fallen off after receiving max contracts and should not appear in the training set."
      ],
      "metadata": {
        "id": "x98iXcyWUtF8"
      }
    },
    {
      "cell_type": "code",
      "source": [
        "#need to remove john wall, Gordon Hayward, Ben Simmons from the training sert"
      ],
      "metadata": {
        "id": "Lck7JFTrWouq"
      },
      "execution_count": 843,
      "outputs": []
    },
    {
      "cell_type": "code",
      "source": [
        "need_to_remove = ['John Wall', 'Gordon Hayward', 'Ben Simmons']\n",
        "for player in need_to_remove:\n",
        "  complete = complete.drop(complete[complete['Player'] == player].index)"
      ],
      "metadata": {
        "id": "a0R1omXAVTiA"
      },
      "execution_count": 844,
      "outputs": []
    },
    {
      "cell_type": "code",
      "source": [
        "print(list(complete['Player']))"
      ],
      "metadata": {
        "colab": {
          "base_uri": "https://localhost:8080/"
        },
        "id": "2acfODX4Vwtm",
        "outputId": "c75eae39-dfaf-48c5-e73d-60a10e111f2f"
      },
      "execution_count": 845,
      "outputs": [
        {
          "output_type": "stream",
          "name": "stdout",
          "text": [
            "['Precious Achiuwa', 'Steven Adams', 'Bam Adebayo', 'Ochai Agbaji', 'Santi Aldama', 'Nickeil Alexander-Walker', 'Grayson Allen', 'Jarrett Allen', 'Jose Alvarado', 'Kyle Anderson', 'Giannis Antetokounmpo', 'Thanasis Antetokounmpo', 'Cole Anthony', 'OG Anunoby', 'Ryan Arcidiacono', 'Deni Avdija', 'Deandre Ayton', 'Udoka Azubuike', 'Marvin Bagley III', 'Patrick Baldwin Jr.', 'LaMelo Ball', 'Mo Bamba', 'Paolo Banchero', 'Desmond Bane', 'Dalano Banton', 'Dominick Barlow', 'Harrison Barnes', 'Scottie Barnes', 'RJ Barrett', 'Will Barton', 'Charles Bassey', 'Keita Bates-Diop', 'Nicolas Batum', 'Darius Bazley', 'Bradley Beal', 'Malik Beasley', 'MarJon Beauchamp', 'Dāvis Bertāns', 'Patrick Beverley', 'Saddiq Bey', 'Khem Birch', 'Goga Bitadze', 'Bismack Biyombo', 'Bogdan Bogdanović', 'Bojan Bogdanović', 'Bol Bol', 'Devin Booker', 'Brandon Boston Jr.', 'Chris Boucher', 'James Bouknight', 'Malaki Branham', 'Christian Braun', 'Mikal Bridges', 'Oshae Brissett', 'Malcolm Brogdon', 'Dillon Brooks', 'Bruce Brown', 'Greg Brown III', 'Jaylen Brown', 'Moses Brown', 'Troy Brown Jr.', 'Jalen Brunson', 'Thomas Bryant', 'Reggie Bullock', 'Alec Burks', 'Jimmy Butler', 'John Butler', 'Jamal Cain', 'Kentavious Caldwell-Pope', 'Vlatko Čančar', 'Clint Capela', 'Jevon Carter', 'Wendell Carter Jr.', 'Alex Caruso', 'Julian Champagnie', 'Kennedy Chandler', 'Max Christie', 'Josh Christopher', 'Brandon Clarke', 'Jordan Clarkson', 'Nic Claxton', 'Amir Coffey', 'John Collins', 'Zach Collins', 'Mike Conley', 'Pat Connaughton', 'Robert Covington', 'Torrey Craig', 'Jae Crowder', 'Seth Curry', 'Stephen Curry', 'Dyson Daniels', 'Anthony Davis', 'Johnny Davis', 'Terence Davis', 'Dewayne Dedmon', 'Matthew Dellavedova', 'DeMar DeRozan', 'Moussa Diabaté', 'Mamadi Diakite', 'Hamidou Diallo', 'Gorgui Dieng', 'Ousmane Dieng', 'Spencer Dinwiddie', 'Donte DiVincenzo', 'Luka Dončić', 'Luguentz Dort', 'Ayo Dosunmu', 'Jeff Dowtin', 'PJ Dozier', 'Goran Dragić', 'Andre Drummond', 'Chris Duarte', 'David Duke Jr.', 'Kris Dunn', 'Kevin Durant', 'Jalen Duren', 'Tari Eason', 'Anthony Edwards', 'Kessler Edwards', 'Keon Ellis', 'Joel Embiid', 'Drew Eubanks', 'Bruno Fernando', 'Dorian Finney-Smith', 'Malachi Flynn', 'Simone Fontecchio', 'Bryn Forbes', 'Trent Forrest', 'Evan Fournier', \"De'Aaron Fox\", 'Markelle Fultz', 'Wenyen Gabriel', 'Daniel Gafford', 'Darius Garland', 'Usman Garuba', 'Luka Garza', 'Rudy Gay', 'Paul George', 'Taj Gibson', 'Josh Giddey', 'Shai Gilgeous-Alexander', 'Anthony Gill', 'Rudy Gobert', 'Jordan Goodwin', 'Aaron Gordon', 'Eric Gordon', \"Devonte' Graham\", 'Jerami Grant', 'A.J. Green', 'Draymond Green', 'Jalen Green', 'JaMychal Green', 'Javonte Green', 'Jeff Green', 'Josh Green', 'AJ Griffin', 'Blake Griffin', 'Quentin Grimes', 'Rui Hachimura', 'Tyrese Haliburton', 'R.J. Hampton', 'Tim Hardaway Jr.', 'James Harden', 'Jaden Hardy', 'Montrezl Harrell', 'Gary Harris', 'Joe Harris', 'Kevon Harris', 'Tobias Harris', 'Josh Hart', 'Isaiah Hartenstein', 'Sam Hauser', 'Jaxson Hayes', 'Killian Hayes', 'Juancho Hernangómez', 'Willy Hernangómez', 'Tyler Herro', 'Buddy Hield', 'Haywood Highsmith', 'George Hill', 'Aaron Holiday', 'Jrue Holiday', 'Justin Holiday', 'Richaun Holmes', 'Al Horford', 'Talen Horton-Tucker', 'Danuel House Jr.', 'Caleb Houstan', 'Kevin Huerter', \"De'Andre Hunter\", 'Bones Hyland', 'Serge Ibaka', 'Joe Ingles', 'Brandon Ingram', 'Kyrie Irving', 'Jaden Ivey', 'Isaiah Jackson', 'Jaren Jackson Jr.', 'Justin Jackson', 'Reggie Jackson', 'LeBron James', 'Ty Jerome', 'Isaiah Joe', 'Cameron Johnson', 'Jalen Johnson', 'James Johnson', 'Keldon Johnson', 'Keon Johnson', 'Stanley Johnson', 'Nikola Jokić', 'Damian Jones', 'Derrick Jones Jr.', 'Herbert Jones', 'Kai Jones', 'Tre Jones', 'Tyus Jones', 'DeAndre Jordan', 'Cory Joseph', 'Johnny Juzang', 'Frank Kaminsky', 'Luke Kennard', 'Walker Kessler', 'Corey Kispert', 'Maxi Kleber', 'Nathan Knight', 'Kevin Knox', 'Christian Koloko', 'John Konchar', 'Furkan Korkmaz', 'Luke Kornet', 'Vit Krejci', 'Jonathan Kuminga', 'Kyle Kuzma', 'Anthony Lamb', 'Jock Landale', 'Romeo Langford', 'Jake LaRavia', 'Zach LaVine', 'Damion Lee', 'Saben Lee', 'Alex Len', 'Kawhi Leonard', 'Caris LeVert', 'Kira Lewis Jr.', 'Damian Lillard', 'Nassir Little', 'Isaiah Livers', 'Kenneth Lofton Jr.', 'Kevon Looney', 'Brook Lopez', 'Robin Lopez', 'Kevin Love', 'Kyle Lowry', 'Trey Lyles', 'Théo Maledon', 'Sandro Mamukelashvili', 'Terance Mann', 'Tre Mann', 'Boban Marjanović', 'Lauri Markkanen', 'Naji Marshall', 'Caleb Martin', 'Kenyon Martin Jr.', 'Tyrese Martin', 'Garrison Mathews', 'Bennedict Mathurin', 'Wesley Matthews', 'Tyrese Maxey', 'Miles McBride', 'CJ McCollum', 'T.J. McConnell', 'Jaden McDaniels', 'Jalen McDaniels', 'Doug McDermott', 'JaVale McGee', 'Bryce McGowens', 'Rodney McGruder', 'Jordan McLaughlin', \"De'Anthony Melton\", 'Chimezie Metu', 'Khris Middleton', 'Patty Mills', 'Shake Milton', 'Davion Mitchell', 'Donovan Mitchell', 'Evan Mobley', 'Malik Monk', 'Moses Moody', 'Wendell Moore Jr.', 'Ja Morant', 'Marcus Morris', 'Markieff Morris', 'Monte Morris', 'Trey Murphy III', 'Dejounte Murray', 'Jamal Murray', 'Keegan Murray', 'Mike Muscala', 'Svi Mykhailiuk', 'Larry Nance Jr.', 'Andrew Nembhard', 'Aaron Nesmith', 'Raul Neto', 'Georges Niang', 'Daishen Nix', 'Zeke Nnaji', 'Nerlens Noel', 'Jaylen Nowell', 'Frank Ntilikina', 'Kendrick Nunn', 'Jusuf Nurkić', 'Jordan Nwora', \"Royce O'Neale\", 'Chuma Okeke', 'Josh Okogie', 'Onyeka Okongwu', 'Isaac Okoro', 'KZ Okpala', 'Victor Oladipo', 'Kelly Olynyk', 'Eugene Omoruyi', 'Cedi Osman', 'Kelly Oubre Jr.', 'Chris Paul', 'Cameron Payne', 'Gary Payton II', 'Theo Pinson', 'Mason Plumlee', 'Jakob Poeltl', 'Aleksej Pokusevski', 'Jordan Poole', 'Kevin Porter Jr.', 'Michael Porter Jr.', 'Bobby Portis', 'Kristaps Porziņģis', 'Dwight Powell', 'Norman Powell', 'Taurean Prince', 'Payton Pritchard', 'Immanuel Quickley', 'Julius Randle', 'Austin Reaves', 'Cam Reddish', 'Davon Reed', 'Paul Reed', 'Naz Reid', 'Nick Richards', 'Josh Richardson', 'Austin Rivers', 'Duncan Robinson', 'Mitchell Robinson', 'Orlando Robinson', 'Jeremiah Robinson-Earl', 'Isaiah Roby', 'David Roddy', 'Derrick Rose', 'Terrence Ross', 'Terry Rozier', 'Ricky Rubio', \"D'Angelo Russell\", 'Matt Ryan', 'Domantas Sabonis', 'Dario Šarić', 'Admiral Schofield', 'Dennis Schröder', 'Alperen Şengün', 'Collin Sexton', 'Landry Shamet', \"Day'Ron Sharpe\", 'Shaedon Sharpe', 'Pascal Siakam', 'Anfernee Simons', 'Jericho Sims', 'Marcus Smart', 'Dennis Smith Jr.', 'Ish Smith', 'Jabari Smith Jr.', 'Jalen Smith', 'Jeremy Sochan', 'Jaden Springer', 'Lamar Stevens', 'Isaiah Stewart', 'Max Strus', 'Jalen Suggs', 'Edmond Sumner', \"Jae'Sean Tate\", 'Jayson Tatum', 'Terry Taylor', 'Garrett Temple', 'Dalen Terry', 'Cam Thomas', 'Klay Thompson', 'JT Thor', 'Matisse Thybulle', 'Xavier Tillman Sr.', 'Obi Toppin', 'Juan Toscano-Anderson', 'Karl-Anthony Towns', 'Gary Trent Jr.', 'P.J. Tucker', 'Myles Turner', 'Jonas Valančiūnas', 'Jarred Vanderbilt', 'Fred VanVleet', 'Devin Vassell', 'Gabe Vincent', 'Noah Vonleh', 'Nikola Vučević', 'Dean Wade', 'Franz Wagner', 'Moritz Wagner', 'Ish Wainright', 'Jabari Walker', 'Lonnie Walker IV', 'T.J. Warren', 'Duane Washington Jr.', 'P.J. Washington', 'TyTy Washington Jr.', 'Yuta Watanabe', 'Lindy Waters III', 'Trendon Watford', 'Peyton Watson', 'Blake Wesley', 'Russell Westbrook', 'Coby White', 'Derrick White', 'Jack White', 'Aaron Wiggins', 'Andrew Wiggins', 'Grant Williams', 'Jalen Williams', 'Jaylin Williams', 'Kenrich Williams', 'Mark Williams', 'Patrick Williams', 'Robert Williams', 'Ziaire Williams', 'Zion Williamson', 'Justise Winslow', 'James Wiseman', 'Christian Wood', 'Delon Wright', 'McKinley Wright IV', 'Thaddeus Young', 'Trae Young', 'Ivica Zubac']\n"
          ]
        }
      ]
    },
    {
      "cell_type": "code",
      "source": [
        "from sklearn.model_selection import train_test_split, cross_val_score"
      ],
      "metadata": {
        "id": "JPVKvV4fgh5e"
      },
      "execution_count": 846,
      "outputs": []
    },
    {
      "cell_type": "code",
      "source": [
        "#split into input features and target variable class\n",
        "X = complete.drop(columns = ['Salary', 'Class'], axis = 1)\n",
        "y = complete['Class']"
      ],
      "metadata": {
        "id": "jt_2Mwlsg9nf"
      },
      "execution_count": 847,
      "outputs": []
    },
    {
      "cell_type": "code",
      "source": [
        "X_train, X_test, y_train, y_test = train_test_split(X, y, random_state = 5, test_size=0.20, shuffle = True)"
      ],
      "metadata": {
        "id": "hCdTwQJwgteA"
      },
      "execution_count": 848,
      "outputs": []
    },
    {
      "cell_type": "code",
      "source": [
        "#X_train.loc[X_train['Class'] == 1]['Player']"
      ],
      "metadata": {
        "id": "YTSVvISUUxQ0"
      },
      "execution_count": 849,
      "outputs": []
    },
    {
      "cell_type": "code",
      "source": [
        "#drop the names column before proceeding\n",
        "names_train = list(X_train['Player'])\n",
        "X_train.drop(columns = ['Player', 'Pos', 'Tm'], axis = 1, inplace = True)\n",
        "names_test = list(X_test['Player'])\n",
        "X_test.drop(columns = ['Player', 'Pos', 'Tm'], axis = 1, inplace = True)"
      ],
      "metadata": {
        "id": "rKCEWHMuiCkP"
      },
      "execution_count": 850,
      "outputs": []
    },
    {
      "cell_type": "code",
      "source": [
        "print('Train:')\n",
        "print('train_features dimensions: ', X_train.shape)\n",
        "print('train_target dimensions: ', y_train.shape, '\\n')\n",
        "\n",
        "\n",
        "print('Test:')\n",
        "print('test_features dimensions: ', X_test.shape)\n",
        "print('test_target dimensions: ', y_test.shape)"
      ],
      "metadata": {
        "colab": {
          "base_uri": "https://localhost:8080/"
        },
        "id": "8zUD_NjhM8j1",
        "outputId": "6671725c-9d12-4c5f-c419-6a45c7157df0"
      },
      "execution_count": 851,
      "outputs": [
        {
          "output_type": "stream",
          "name": "stdout",
          "text": [
            "Train:\n",
            "train_features dimensions:  (357, 59)\n",
            "train_target dimensions:  (357,) \n",
            "\n",
            "Test:\n",
            "test_features dimensions:  (90, 59)\n",
            "test_target dimensions:  (90,)\n"
          ]
        }
      ]
    },
    {
      "cell_type": "code",
      "source": [
        "import sklearn\n",
        "from sklearn import tree"
      ],
      "metadata": {
        "id": "rCPPd9lKZQel"
      },
      "execution_count": 852,
      "outputs": []
    },
    {
      "cell_type": "code",
      "source": [
        "from sklearn.metrics import accuracy_score, confusion_matrix, precision_score \n",
        ",recall_score, f1_score, classification_report, ConfusionMatrixDisplay\n",
        "import matplotlib.pyplot as plt\n",
        "import seaborn"
      ],
      "metadata": {
        "id": "zZtx2omZFStq"
      },
      "execution_count": 853,
      "outputs": []
    },
    {
      "cell_type": "markdown",
      "source": [
        "Make a chart similar to that which we used in HW2 to find the best max_depth when critirion = entropy"
      ],
      "metadata": {
        "id": "nkNZ6SKvAEvQ"
      }
    },
    {
      "cell_type": "code",
      "source": [
        "max_depths = [1, 2, 3, 4, 5, 6, 7, 8]\n",
        "train_accuracies = []\n",
        "test_accuracies = []\n",
        "for i in max_depths:\n",
        "  dts = tree.DecisionTreeClassifier(random_state = 7, max_depth = i, criterion = 'entropy')\n",
        "  dts.fit(X_train, y_train)\n",
        "  class_predicted_train = dts.predict(X_train)\n",
        "  class_predicted_test = dts.predict(X_test)\n",
        "\n",
        "  train_accuracies.append(accuracy_score(class_predicted_train, y_train))\n",
        "  test_accuracies.append(accuracy_score(class_predicted_test, y_test))"
      ],
      "metadata": {
        "id": "dC5SJrZw999R"
      },
      "execution_count": 854,
      "outputs": []
    },
    {
      "cell_type": "code",
      "source": [
        "#create a graph of train/test accuracy vs. max depth as we did in class\n",
        "\n",
        "import seaborn as sns\n",
        "import matplotlib.pyplot as plt\n",
        "\n",
        "\n",
        "# plot each line\n",
        "plt.plot(max_depths, train_accuracies, label='Train Accuracy', color = 'green')\n",
        "plt.plot(max_depths, test_accuracies, label='Test Accuracy', color = 'blue')\n",
        "#add an x-axis label for max depth\n",
        "plt.xlabel(\"Max_depth\")\n",
        "\n",
        "#add legend\n",
        "plt.legend()\n",
        "plt.show()"
      ],
      "metadata": {
        "colab": {
          "base_uri": "https://localhost:8080/",
          "height": 450
        },
        "id": "ShueI83FAHxT",
        "outputId": "930f188f-9011-4d61-b3fb-967008f3cc0e"
      },
      "execution_count": 855,
      "outputs": [
        {
          "output_type": "display_data",
          "data": {
            "text/plain": [
              "<Figure size 640x480 with 1 Axes>"
            ],
            "image/png": "[encoded data removed]"
          },
          "metadata": {}
        }
      ]
    },
    {
      "cell_type": "code",
      "source": [
        "#use a max_depth of 3 for this decision tree to avoid overfitting the data\n",
        "dt = tree.DecisionTreeClassifier(random_state= 7, max_depth = 3, criterion = 'entropy')\n",
        "dt.fit(X_train, y_train)"
      ],
      "metadata": {
        "id": "KeRsDc8UyM81",
        "colab": {
          "base_uri": "https://localhost:8080/",
          "height": 74
        },
        "outputId": "ac2e7f65-0070-4e5b-a5ec-c098ef4d902c"
      },
      "execution_count": 856,
      "outputs": [
        {
          "output_type": "execute_result",
          "data": {
            "text/plain": [
              "DecisionTreeClassifier(criterion='entropy', max_depth=3, random_state=7)"
            ],
            "text/html": [
              "<style>#sk-container-id-25 {color: black;background-color: white;}#sk-container-id-25 pre{padding: 0;}#sk-container-id-25 div.sk-toggleable {background-color: white;}#sk-container-id-25 label.sk-toggleable__label {cursor: pointer;display: block;width: 100%;margin-bottom: 0;padding: 0.3em;box-sizing: border-box;text-align: center;}#sk-container-id-25 label.sk-toggleable__label-arrow:before {content: \"▸\";float: left;margin-right: 0.25em;color: #696969;}#sk-container-id-25 label.sk-toggleable__label-arrow:hover:before {color: black;}#sk-container-id-25 div.sk-estimator:hover label.sk-toggleable__label-arrow:before {color: black;}#sk-container-id-25 div.sk-toggleable__content {max-height: 0;max-width: 0;overflow: hidden;text-align: left;background-color: #f0f8ff;}#sk-container-id-25 div.sk-toggleable__content pre {margin: 0.2em;color: black;border-radius: 0.25em;background-color: #f0f8ff;}#sk-container-id-25 input.sk-toggleable__control:checked~div.sk-toggleable__content {max-height: 200px;max-width: 100%;overflow: auto;}#sk-container-id-25 input.sk-toggleable__control:checked~label.sk-toggleable__label-arrow:before {content: \"▾\";}#sk-container-id-25 div.sk-estimator input.sk-toggleable__control:checked~label.sk-toggleable__label {background-color: #d4ebff;}#sk-container-id-25 div.sk-label input.sk-toggleable__control:checked~label.sk-toggleable__label {background-color: #d4ebff;}#sk-container-id-25 input.sk-hidden--visually {border: 0;clip: rect(1px 1px 1px 1px);clip: rect(1px, 1px, 1px, 1px);height: 1px;margin: -1px;overflow: hidden;padding: 0;position: absolute;width: 1px;}#sk-container-id-25 div.sk-estimator {font-family: monospace;background-color: #f0f8ff;border: 1px dotted black;border-radius: 0.25em;box-sizing: border-box;margin-bottom: 0.5em;}#sk-container-id-25 div.sk-estimator:hover {background-color: #d4ebff;}#sk-container-id-25 div.sk-parallel-item::after {content: \"\";width: 100%;border-bottom: 1px solid gray;flex-grow: 1;}#sk-container-id-25 div.sk-label:hover label.sk-toggleable__label {background-color: #d4ebff;}#sk-container-id-25 div.sk-serial::before {content: \"\";position: absolute;border-left: 1px solid gray;box-sizing: border-box;top: 0;bottom: 0;left: 50%;z-index: 0;}#sk-container-id-25 div.sk-serial {display: flex;flex-direction: column;align-items: center;background-color: white;padding-right: 0.2em;padding-left: 0.2em;position: relative;}#sk-container-id-25 div.sk-item {position: relative;z-index: 1;}#sk-container-id-25 div.sk-parallel {display: flex;align-items: stretch;justify-content: center;background-color: white;position: relative;}#sk-container-id-25 div.sk-item::before, #sk-container-id-25 div.sk-parallel-item::before {content: \"\";position: absolute;border-left: 1px solid gray;box-sizing: border-box;top: 0;bottom: 0;left: 50%;z-index: -1;}#sk-container-id-25 div.sk-parallel-item {display: flex;flex-direction: column;z-index: 1;position: relative;background-color: white;}#sk-container-id-25 div.sk-parallel-item:first-child::after {align-self: flex-end;width: 50%;}#sk-container-id-25 div.sk-parallel-item:last-child::after {align-self: flex-start;width: 50%;}#sk-container-id-25 div.sk-parallel-item:only-child::after {width: 0;}#sk-container-id-25 div.sk-dashed-wrapped {border: 1px dashed gray;margin: 0 0.4em 0.5em 0.4em;box-sizing: border-box;padding-bottom: 0.4em;background-color: white;}#sk-container-id-25 div.sk-label label {font-family: monospace;font-weight: bold;display: inline-block;line-height: 1.2em;}#sk-container-id-25 div.sk-label-container {text-align: center;}#sk-container-id-25 div.sk-container {/* jupyter's `normalize.less` sets `[hidden] { display: none; }` but bootstrap.min.css set `[hidden] { display: none !important; }` so we also need the `!important` here to be able to override the default hidden behavior on the sphinx rendered scikit-learn.org. See: https://github.com/scikit-learn/scikit-learn/issues/21755 */display: inline-block !important;position: relative;}#sk-container-id-25 div.sk-text-repr-fallback {display: none;}</style><div id=\"sk-container-id-25\" class=\"sk-top-container\"><div class=\"sk-text-repr-fallback\"><pre>DecisionTreeClassifier(criterion=&#x27;entropy&#x27;, max_depth=3, random_state=7)</pre><b>In a Jupyter environment, please rerun this cell to show the HTML representation or trust the notebook. <br />On GitHub, the HTML representation is unable to render, please try loading this page with nbviewer.org.</b></div><div class=\"sk-container\" hidden><div class=\"sk-item\"><div class=\"sk-estimator sk-toggleable\"><input class=\"sk-toggleable__control sk-hidden--visually\" id=\"sk-estimator-id-25\" type=\"checkbox\" checked><label for=\"sk-estimator-id-25\" class=\"sk-toggleable__label sk-toggleable__label-arrow\">DecisionTreeClassifier</label><div class=\"sk-toggleable__content\"><pre>DecisionTreeClassifier(criterion=&#x27;entropy&#x27;, max_depth=3, random_state=7)</pre></div></div></div></div></div>"
            ]
          },
          "metadata": {},
          "execution_count": 856
        }
      ]
    },
    {
      "cell_type": "code",
      "source": [
        "class_predicted = dt.predict(X_test)"
      ],
      "metadata": {
        "id": "rWbfZswbZrJD"
      },
      "execution_count": 857,
      "outputs": []
    },
    {
      "cell_type": "markdown",
      "source": [
        "# Create a dataframe predictions"
      ],
      "metadata": {
        "id": "SyD7JeEhqtCL"
      }
    },
    {
      "cell_type": "code",
      "source": [
        "predictions = pd.DataFrame({'Name': names_test, 'Real label': y_test, 'Prediction': class_predicted})"
      ],
      "metadata": {
        "id": "E04ueFrWkEED"
      },
      "execution_count": 858,
      "outputs": []
    },
    {
      "cell_type": "code",
      "source": [
        "print(\"Correct Predictions: \")\n",
        "for index, rows in predictions.iterrows():\n",
        "  if predictions.at[index, 'Real label'] == predictions.at[index, 'Prediction']:\n",
        "    print(predictions.at[index, 'Name'], '-', predictions.at[index,'Real label'])"
      ],
      "metadata": {
        "colab": {
          "base_uri": "https://localhost:8080/"
        },
        "id": "fdKde9gspzFB",
        "outputId": "8a4b4b67-9d6a-4c91-e487-13f6048b3b1c"
      },
      "execution_count": 859,
      "outputs": [
        {
          "output_type": "stream",
          "name": "stdout",
          "text": [
            "Correct Predictions: \n",
            "Kenyon Martin Jr. - Not Max\n",
            "Monte Morris - Not Max\n",
            "Xavier Tillman Sr. - Not Max\n",
            "Javonte Green - Not Max\n",
            "Kennedy Chandler - Not Max\n",
            "Richaun Holmes - Not Max\n",
            "Jake LaRavia - Not Max\n",
            "Khem Birch - Not Max\n",
            "Bryn Forbes - Not Max\n",
            "Nassir Little - Not Max\n",
            "Derrick Jones Jr. - Not Max\n",
            "Kevon Harris - Not Max\n",
            "Jevon Carter - Not Max\n",
            "R.J. Hampton - Not Max\n",
            "Dalen Terry - Not Max\n",
            "Payton Pritchard - Not Max\n",
            "Landry Shamet - Not Max\n",
            "Thaddeus Young - Not Max\n",
            "Stanley Johnson - Not Max\n",
            "Gorgui Dieng - Not Max\n",
            "Walker Kessler - Not Max\n",
            "Kyrie Irving - Max\n",
            "Josh Giddey - Not Max\n",
            "Jonas Valančiūnas - Not Max\n",
            "Justise Winslow - Not Max\n",
            "Terry Rozier - Not Max\n",
            "Willy Hernangómez - Not Max\n",
            "John Butler - Not Max\n",
            "Paul George - Max\n",
            "Caleb Martin - Not Max\n",
            "Tari Eason - Not Max\n",
            "Josh Richardson - Not Max\n",
            "Mo Bamba - Not Max\n",
            "Mark Williams - Not Max\n",
            "Wenyen Gabriel - Not Max\n",
            "Bogdan Bogdanović - Not Max\n",
            "LeBron James - Max\n",
            "Jarred Vanderbilt - Not Max\n",
            "Jae'Sean Tate - Not Max\n",
            "Boban Marjanović - Not Max\n",
            "Mitchell Robinson - Not Max\n",
            "Mamadi Diakite - Not Max\n",
            "Malaki Branham - Not Max\n",
            "Georges Niang - Not Max\n",
            "T.J. Warren - Not Max\n",
            "Josh Hart - Not Max\n",
            "Rodney McGruder - Not Max\n",
            "Donovan Mitchell - Max\n",
            "Kendrick Nunn - Not Max\n",
            "Moussa Diabaté - Not Max\n",
            "Dwight Powell - Not Max\n",
            "Moses Moody - Not Max\n",
            "Marcus Morris - Not Max\n",
            "Daishen Nix - Not Max\n",
            "Robin Lopez - Not Max\n",
            "Jeff Dowtin - Not Max\n",
            "Brandon Boston Jr. - Not Max\n",
            "JaMychal Green - Not Max\n",
            "Kyle Anderson - Not Max\n",
            "Nick Richards - Not Max\n",
            "Miles McBride - Not Max\n",
            "Oshae Brissett - Not Max\n",
            "A.J. Green - Not Max\n",
            "Shaedon Sharpe - Not Max\n",
            "McKinley Wright IV - Not Max\n",
            "Kelly Olynyk - Not Max\n",
            "Draymond Green - Not Max\n",
            "James Bouknight - Not Max\n",
            "Stephen Curry - Max\n",
            "Christian Koloko - Not Max\n",
            "Davion Mitchell - Not Max\n",
            "Isaiah Livers - Not Max\n",
            "Karl-Anthony Towns - Max\n",
            "Johnny Juzang - Not Max\n",
            "Thomas Bryant - Not Max\n",
            "Lonnie Walker IV - Not Max\n",
            "Tim Hardaway Jr. - Not Max\n",
            "Cam Reddish - Not Max\n",
            "Ish Wainright - Not Max\n",
            "Orlando Robinson - Not Max\n",
            "Marvin Bagley III - Not Max\n",
            "Royce O'Neale - Not Max\n",
            "Isaiah Roby - Not Max\n"
          ]
        }
      ]
    },
    {
      "cell_type": "markdown",
      "source": [
        "# Dataframe showing the models missed predictions (where the model disagrees with true label)"
      ],
      "metadata": {
        "id": "pkrYzgbLqmEY"
      }
    },
    {
      "cell_type": "code",
      "source": [
        "predictions.loc[predictions['Real label'] != predictions['Prediction']].reset_index(drop = True)"
      ],
      "metadata": {
        "colab": {
          "base_uri": "https://localhost:8080/",
          "height": 269
        },
        "id": "UAUB8Za4ke9k",
        "outputId": "4a879309-d5d0-45ed-bc10-f366b9fae877"
      },
      "execution_count": 860,
      "outputs": [
        {
          "output_type": "execute_result",
          "data": {
            "text/plain": [
              "                Name Real label Prediction\n",
              "0       Bradley Beal        Max    Not Max\n",
              "1  Jaren Jackson Jr.    Not Max        Max\n",
              "2          Ja Morant    Not Max        Max\n",
              "3      Mikal Bridges    Not Max        Max\n",
              "4      Fred VanVleet    Not Max        Max\n",
              "5  Russell Westbrook        Max    Not Max\n",
              "6      Devin Vassell    Not Max        Max"
            ],
            "text/html": [
              "\n",
              "  <div id=\"df-0d2fbc3a-89e3-4054-b69d-5ee26f76a61f\">\n",
              "    <div class=\"colab-df-container\">\n",
              "      <div>\n",
              "<style scoped>\n",
              "    .dataframe tbody tr th:only-of-type {\n",
              "        vertical-align: middle;\n",
              "    }\n",
              "\n",
              "    .dataframe tbody tr th {\n",
              "        vertical-align: top;\n",
              "    }\n",
              "\n",
              "    .dataframe thead th {\n",
              "        text-align: right;\n",
              "    }\n",
              "</style>\n",
              "<table border=\"1\" class=\"dataframe\">\n",
              "  <thead>\n",
              "    <tr style=\"text-align: right;\">\n",
              "      <th></th>\n",
              "      <th>Name</th>\n",
              "      <th>Real label</th>\n",
              "      <th>Prediction</th>\n",
              "    </tr>\n",
              "  </thead>\n",
              "  <tbody>\n",
              "    <tr>\n",
              "      <th>0</th>\n",
              "      <td>Bradley Beal</td>\n",
              "      <td>Max</td>\n",
              "      <td>Not Max</td>\n",
              "    </tr>\n",
              "    <tr>\n",
              "      <th>1</th>\n",
              "      <td>Jaren Jackson Jr.</td>\n",
              "      <td>Not Max</td>\n",
              "      <td>Max</td>\n",
              "    </tr>\n",
              "    <tr>\n",
              "      <th>2</th>\n",
              "      <td>Ja Morant</td>\n",
              "      <td>Not Max</td>\n",
              "      <td>Max</td>\n",
              "    </tr>\n",
              "    <tr>\n",
              "      <th>3</th>\n",
              "      <td>Mikal Bridges</td>\n",
              "      <td>Not Max</td>\n",
              "      <td>Max</td>\n",
              "    </tr>\n",
              "    <tr>\n",
              "      <th>4</th>\n",
              "      <td>Fred VanVleet</td>\n",
              "      <td>Not Max</td>\n",
              "      <td>Max</td>\n",
              "    </tr>\n",
              "    <tr>\n",
              "      <th>5</th>\n",
              "      <td>Russell Westbrook</td>\n",
              "      <td>Max</td>\n",
              "      <td>Not Max</td>\n",
              "    </tr>\n",
              "    <tr>\n",
              "      <th>6</th>\n",
              "      <td>Devin Vassell</td>\n",
              "      <td>Not Max</td>\n",
              "      <td>Max</td>\n",
              "    </tr>\n",
              "  </tbody>\n",
              "</table>\n",
              "</div>\n",
              "      <button class=\"colab-df-convert\" onclick=\"convertToInteractive('df-0d2fbc3a-89e3-4054-b69d-5ee26f76a61f')\"\n",
              "              title=\"Convert this dataframe to an interactive table.\"\n",
              "              style=\"display:none;\">\n",
              "        \n",
              "  <svg xmlns=\"http://www.w3.org/2000/svg\" height=\"24px\"viewBox=\"0 0 24 24\"\n",
              "       width=\"24px\">\n",
              "    <path d=\"M0 0h24v24H0V0z\" fill=\"none\"/>\n",
              "    <path d=\"M18.56 5.44l.94 2.06.94-2.06 2.06-.94-2.06-.94-.94-2.06-.94 2.06-2.06.94zm-11 1L8.5 8.5l.94-2.06 2.06-.94-2.06-.94L8.5 2.5l-.94 2.06-2.06.94zm10 10l.94 2.06.94-2.06 2.06-.94-2.06-.94-.94-2.06-.94 2.06-2.06.94z\"/><path d=\"M17.41 7.96l-1.37-1.37c-.4-.4-.92-.59-1.43-.59-.52 0-1.04.2-1.43.59L10.3 9.45l-7.72 7.72c-.78.78-.78 2.05 0 2.83L4 21.41c.39.39.9.59 1.41.59.51 0 1.02-.2 1.41-.59l7.78-7.78 2.81-2.81c.8-.78.8-2.07 0-2.86zM5.41 20L4 18.59l7.72-7.72 1.47 1.35L5.41 20z\"/>\n",
              "  </svg>\n",
              "      </button>\n",
              "      \n",
              "  <style>\n",
              "    .colab-df-container {\n",
              "      display:flex;\n",
              "      flex-wrap:wrap;\n",
              "      gap: 12px;\n",
              "    }\n",
              "\n",
              "    .colab-df-convert {\n",
              "      background-color: #E8F0FE;\n",
              "      border: none;\n",
              "      border-radius: 50%;\n",
              "      cursor: pointer;\n",
              "      display: none;\n",
              "      fill: #1967D2;\n",
              "      height: 32px;\n",
              "      padding: 0 0 0 0;\n",
              "      width: 32px;\n",
              "    }\n",
              "\n",
              "    .colab-df-convert:hover {\n",
              "      background-color: #E2EBFA;\n",
              "      box-shadow: 0px 1px 2px rgba(60, 64, 67, 0.3), 0px 1px 3px 1px rgba(60, 64, 67, 0.15);\n",
              "      fill: #174EA6;\n",
              "    }\n",
              "\n",
              "    [theme=dark] .colab-df-convert {\n",
              "      background-color: #3B4455;\n",
              "      fill: #D2E3FC;\n",
              "    }\n",
              "\n",
              "    [theme=dark] .colab-df-convert:hover {\n",
              "      background-color: #434B5C;\n",
              "      box-shadow: 0px 1px 3px 1px rgba(0, 0, 0, 0.15);\n",
              "      filter: drop-shadow(0px 1px 2px rgba(0, 0, 0, 0.3));\n",
              "      fill: #FFFFFF;\n",
              "    }\n",
              "  </style>\n",
              "\n",
              "      <script>\n",
              "        const buttonEl =\n",
              "          document.querySelector('#df-0d2fbc3a-89e3-4054-b69d-5ee26f76a61f button.colab-df-convert');\n",
              "        buttonEl.style.display =\n",
              "          google.colab.kernel.accessAllowed ? 'block' : 'none';\n",
              "\n",
              "        async function convertToInteractive(key) {\n",
              "          const element = document.querySelector('#df-0d2fbc3a-89e3-4054-b69d-5ee26f76a61f');\n",
              "          const dataTable =\n",
              "            await google.colab.kernel.invokeFunction('convertToInteractive',\n",
              "                                                     [key], {});\n",
              "          if (!dataTable) return;\n",
              "\n",
              "          const docLinkHtml = 'Like what you see? Visit the ' +\n",
              "            '<a target=\"_blank\" href=https://colab.research.google.com/notebooks/data_table.ipynb>data table notebook</a>'\n",
              "            + ' to learn more about interactive tables.';\n",
              "          element.innerHTML = '';\n",
              "          dataTable['output_type'] = 'display_data';\n",
              "          await google.colab.output.renderOutput(dataTable, element);\n",
              "          const docLink = document.createElement('div');\n",
              "          docLink.innerHTML = docLinkHtml;\n",
              "          element.appendChild(docLink);\n",
              "        }\n",
              "      </script>\n",
              "    </div>\n",
              "  </div>\n",
              "  "
            ]
          },
          "metadata": {},
          "execution_count": 860
        }
      ]
    },
    {
      "cell_type": "code",
      "source": [
        "from sklearn.metrics import accuracy_score, f1_score, precision_score, recall_score"
      ],
      "metadata": {
        "id": "Pn8v8XB5jAwk"
      },
      "execution_count": 861,
      "outputs": []
    },
    {
      "cell_type": "code",
      "source": [
        "print(\"Accuracy: \", accuracy_score(class_predicted, y_test))\n",
        "#print(\"F1: \", f1_score(class_predicted, y_test))\n",
        "#print(\"Precision: \", precision_score(class_predicted, y_test))\n",
        "#print(\"Recall: \", recall_score(class_predicted, y_test))"
      ],
      "metadata": {
        "colab": {
          "base_uri": "https://localhost:8080/"
        },
        "id": "cXoBDDj-GVDY",
        "outputId": "bb7a9030-a06c-4d43-c496-fe54fe75610d"
      },
      "execution_count": 862,
      "outputs": [
        {
          "output_type": "stream",
          "name": "stdout",
          "text": [
            "Accuracy:  0.9222222222222223\n"
          ]
        }
      ]
    },
    {
      "cell_type": "markdown",
      "source": [
        "# Confusion matrix for the model's performance on the test data"
      ],
      "metadata": {
        "id": "i-9AC4Chq_BT"
      }
    },
    {
      "cell_type": "code",
      "source": [
        "disp = ConfusionMatrixDisplay.from_estimator(\n",
        "        dt,\n",
        "        X_test,\n",
        "        y_test,\n",
        "        cmap=plt.cm.Reds,\n",
        "    )\n",
        "\n",
        "print(disp.confusion_matrix)"
      ],
      "metadata": {
        "colab": {
          "base_uri": "https://localhost:8080/",
          "height": 484
        },
        "id": "D7tR6pnTE67I",
        "outputId": "3a3d8f4d-4ab5-459e-87db-7665e6a6610f"
      },
      "execution_count": 863,
      "outputs": [
        {
          "output_type": "stream",
          "name": "stdout",
          "text": [
            "[[ 6  2]\n",
            " [ 5 77]]\n"
          ]
        },
        {
          "output_type": "display_data",
          "data": {
            "text/plain": [
              "<Figure size 640x480 with 2 Axes>"
            ],
            "image/png": "[encoded data removed]"
          },
          "metadata": {}
        }
      ]
    },
    {
      "cell_type": "markdown",
      "source": [
        "# Investigate how the model learned on the training data we provided"
      ],
      "metadata": {
        "id": "Qv-KxhfHrLqu"
      }
    },
    {
      "cell_type": "code",
      "source": [
        "class_pred = dt.predict(X_train)"
      ],
      "metadata": {
        "id": "GqpiB_oHliIo"
      },
      "execution_count": 864,
      "outputs": []
    },
    {
      "cell_type": "code",
      "source": [
        "predictions2 = pd.DataFrame({'Name': names_train, 'Real label': y_train, 'Prediction': class_pred})"
      ],
      "metadata": {
        "id": "FckLfzYWloYk"
      },
      "execution_count": 865,
      "outputs": []
    },
    {
      "cell_type": "code",
      "source": [
        "predictions2.loc[predictions2['Real label'] != predictions2['Prediction']]"
      ],
      "metadata": {
        "colab": {
          "base_uri": "https://localhost:8080/",
          "height": 551
        },
        "id": "rAPjoROkmBv4",
        "outputId": "b8c153ef-d9ed-4979-a612-1185c8034236"
      },
      "execution_count": 866,
      "outputs": [
        {
          "output_type": "execute_result",
          "data": {
            "text/plain": [
              "                  Name Real label Prediction\n",
              "6        Grayson Allen    Not Max        Max\n",
              "296    Dejounte Murray    Not Max        Max\n",
              "61       Jalen Brunson    Not Max        Max\n",
              "441    Zion Williamson    Not Max        Max\n",
              "134     Darius Garland    Not Max        Max\n",
              "23        Desmond Bane    Not Max        Max\n",
              "97       DeMar DeRozan    Not Max        Max\n",
              "410     Nikola Vučević    Not Max        Max\n",
              "143        Rudy Gobert        Max    Not Max\n",
              "269       Tyrese Maxey    Not Max        Max\n",
              "261    Lauri Markkanen    Not Max        Max\n",
              "160  Tyrese Haliburton    Not Max        Max\n",
              "342      Julius Randle    Not Max        Max\n",
              "295    Trey Murphy III    Not Max        Max\n",
              "103  Spencer Dinwiddie    Not Max        Max\n",
              "363   Domantas Sabonis    Not Max        Max"
            ],
            "text/html": [
              "\n",
              "  <div id=\"df-836b91a0-38e8-4739-b741-00ae2098687e\">\n",
              "    <div class=\"colab-df-container\">\n",
              "      <div>\n",
              "<style scoped>\n",
              "    .dataframe tbody tr th:only-of-type {\n",
              "        vertical-align: middle;\n",
              "    }\n",
              "\n",
              "    .dataframe tbody tr th {\n",
              "        vertical-align: top;\n",
              "    }\n",
              "\n",
              "    .dataframe thead th {\n",
              "        text-align: right;\n",
              "    }\n",
              "</style>\n",
              "<table border=\"1\" class=\"dataframe\">\n",
              "  <thead>\n",
              "    <tr style=\"text-align: right;\">\n",
              "      <th></th>\n",
              "      <th>Name</th>\n",
              "      <th>Real label</th>\n",
              "      <th>Prediction</th>\n",
              "    </tr>\n",
              "  </thead>\n",
              "  <tbody>\n",
              "    <tr>\n",
              "      <th>6</th>\n",
              "      <td>Grayson Allen</td>\n",
              "      <td>Not Max</td>\n",
              "      <td>Max</td>\n",
              "    </tr>\n",
              "    <tr>\n",
              "      <th>296</th>\n",
              "      <td>Dejounte Murray</td>\n",
              "      <td>Not Max</td>\n",
              "      <td>Max</td>\n",
              "    </tr>\n",
              "    <tr>\n",
              "      <th>61</th>\n",
              "      <td>Jalen Brunson</td>\n",
              "      <td>Not Max</td>\n",
              "      <td>Max</td>\n",
              "    </tr>\n",
              "    <tr>\n",
              "      <th>441</th>\n",
              "      <td>Zion Williamson</td>\n",
              "      <td>Not Max</td>\n",
              "      <td>Max</td>\n",
              "    </tr>\n",
              "    <tr>\n",
              "      <th>134</th>\n",
              "      <td>Darius Garland</td>\n",
              "      <td>Not Max</td>\n",
              "      <td>Max</td>\n",
              "    </tr>\n",
              "    <tr>\n",
              "      <th>23</th>\n",
              "      <td>Desmond Bane</td>\n",
              "      <td>Not Max</td>\n",
              "      <td>Max</td>\n",
              "    </tr>\n",
              "    <tr>\n",
              "      <th>97</th>\n",
              "      <td>DeMar DeRozan</td>\n",
              "      <td>Not Max</td>\n",
              "      <td>Max</td>\n",
              "    </tr>\n",
              "    <tr>\n",
              "      <th>410</th>\n",
              "      <td>Nikola Vučević</td>\n",
              "      <td>Not Max</td>\n",
              "      <td>Max</td>\n",
              "    </tr>\n",
              "    <tr>\n",
              "      <th>143</th>\n",
              "      <td>Rudy Gobert</td>\n",
              "      <td>Max</td>\n",
              "      <td>Not Max</td>\n",
              "    </tr>\n",
              "    <tr>\n",
              "      <th>269</th>\n",
              "      <td>Tyrese Maxey</td>\n",
              "      <td>Not Max</td>\n",
              "      <td>Max</td>\n",
              "    </tr>\n",
              "    <tr>\n",
              "      <th>261</th>\n",
              "      <td>Lauri Markkanen</td>\n",
              "      <td>Not Max</td>\n",
              "      <td>Max</td>\n",
              "    </tr>\n",
              "    <tr>\n",
              "      <th>160</th>\n",
              "      <td>Tyrese Haliburton</td>\n",
              "      <td>Not Max</td>\n",
              "      <td>Max</td>\n",
              "    </tr>\n",
              "    <tr>\n",
              "      <th>342</th>\n",
              "      <td>Julius Randle</td>\n",
              "      <td>Not Max</td>\n",
              "      <td>Max</td>\n",
              "    </tr>\n",
              "    <tr>\n",
              "      <th>295</th>\n",
              "      <td>Trey Murphy III</td>\n",
              "      <td>Not Max</td>\n",
              "      <td>Max</td>\n",
              "    </tr>\n",
              "    <tr>\n",
              "      <th>103</th>\n",
              "      <td>Spencer Dinwiddie</td>\n",
              "      <td>Not Max</td>\n",
              "      <td>Max</td>\n",
              "    </tr>\n",
              "    <tr>\n",
              "      <th>363</th>\n",
              "      <td>Domantas Sabonis</td>\n",
              "      <td>Not Max</td>\n",
              "      <td>Max</td>\n",
              "    </tr>\n",
              "  </tbody>\n",
              "</table>\n",
              "</div>\n",
              "      <button class=\"colab-df-convert\" onclick=\"convertToInteractive('df-836b91a0-38e8-4739-b741-00ae2098687e')\"\n",
              "              title=\"Convert this dataframe to an interactive table.\"\n",
              "              style=\"display:none;\">\n",
              "        \n",
              "  <svg xmlns=\"http://www.w3.org/2000/svg\" height=\"24px\"viewBox=\"0 0 24 24\"\n",
              "       width=\"24px\">\n",
              "    <path d=\"M0 0h24v24H0V0z\" fill=\"none\"/>\n",
              "    <path d=\"M18.56 5.44l.94 2.06.94-2.06 2.06-.94-2.06-.94-.94-2.06-.94 2.06-2.06.94zm-11 1L8.5 8.5l.94-2.06 2.06-.94-2.06-.94L8.5 2.5l-.94 2.06-2.06.94zm10 10l.94 2.06.94-2.06 2.06-.94-2.06-.94-.94-2.06-.94 2.06-2.06.94z\"/><path d=\"M17.41 7.96l-1.37-1.37c-.4-.4-.92-.59-1.43-.59-.52 0-1.04.2-1.43.59L10.3 9.45l-7.72 7.72c-.78.78-.78 2.05 0 2.83L4 21.41c.39.39.9.59 1.41.59.51 0 1.02-.2 1.41-.59l7.78-7.78 2.81-2.81c.8-.78.8-2.07 0-2.86zM5.41 20L4 18.59l7.72-7.72 1.47 1.35L5.41 20z\"/>\n",
              "  </svg>\n",
              "      </button>\n",
              "      \n",
              "  <style>\n",
              "    .colab-df-container {\n",
              "      display:flex;\n",
              "      flex-wrap:wrap;\n",
              "      gap: 12px;\n",
              "    }\n",
              "\n",
              "    .colab-df-convert {\n",
              "      background-color: #E8F0FE;\n",
              "      border: none;\n",
              "      border-radius: 50%;\n",
              "      cursor: pointer;\n",
              "      display: none;\n",
              "      fill: #1967D2;\n",
              "      height: 32px;\n",
              "      padding: 0 0 0 0;\n",
              "      width: 32px;\n",
              "    }\n",
              "\n",
              "    .colab-df-convert:hover {\n",
              "      background-color: #E2EBFA;\n",
              "      box-shadow: 0px 1px 2px rgba(60, 64, 67, 0.3), 0px 1px 3px 1px rgba(60, 64, 67, 0.15);\n",
              "      fill: #174EA6;\n",
              "    }\n",
              "\n",
              "    [theme=dark] .colab-df-convert {\n",
              "      background-color: #3B4455;\n",
              "      fill: #D2E3FC;\n",
              "    }\n",
              "\n",
              "    [theme=dark] .colab-df-convert:hover {\n",
              "      background-color: #434B5C;\n",
              "      box-shadow: 0px 1px 3px 1px rgba(0, 0, 0, 0.15);\n",
              "      filter: drop-shadow(0px 1px 2px rgba(0, 0, 0, 0.3));\n",
              "      fill: #FFFFFF;\n",
              "    }\n",
              "  </style>\n",
              "\n",
              "      <script>\n",
              "        const buttonEl =\n",
              "          document.querySelector('#df-836b91a0-38e8-4739-b741-00ae2098687e button.colab-df-convert');\n",
              "        buttonEl.style.display =\n",
              "          google.colab.kernel.accessAllowed ? 'block' : 'none';\n",
              "\n",
              "        async function convertToInteractive(key) {\n",
              "          const element = document.querySelector('#df-836b91a0-38e8-4739-b741-00ae2098687e');\n",
              "          const dataTable =\n",
              "            await google.colab.kernel.invokeFunction('convertToInteractive',\n",
              "                                                     [key], {});\n",
              "          if (!dataTable) return;\n",
              "\n",
              "          const docLinkHtml = 'Like what you see? Visit the ' +\n",
              "            '<a target=\"_blank\" href=https://colab.research.google.com/notebooks/data_table.ipynb>data table notebook</a>'\n",
              "            + ' to learn more about interactive tables.';\n",
              "          element.innerHTML = '';\n",
              "          dataTable['output_type'] = 'display_data';\n",
              "          await google.colab.output.renderOutput(dataTable, element);\n",
              "          const docLink = document.createElement('div');\n",
              "          docLink.innerHTML = docLinkHtml;\n",
              "          element.appendChild(docLink);\n",
              "        }\n",
              "      </script>\n",
              "    </div>\n",
              "  </div>\n",
              "  "
            ]
          },
          "metadata": {},
          "execution_count": 866
        }
      ]
    },
    {
      "cell_type": "markdown",
      "source": [
        "# Print the 41 players deserving of the max as identified by the model"
      ],
      "metadata": {
        "id": "19lYrzIArXyW"
      }
    },
    {
      "cell_type": "code",
      "source": [
        "predictions2.loc[(predictions2['Real label'] == 'Max') & (predictions2['Prediction'] == 'Max')]"
      ],
      "metadata": {
        "colab": {
          "base_uri": "https://localhost:8080/",
          "height": 1000
        },
        "id": "iBFNrmnurcdb",
        "outputId": "80e2814f-ff7f-4487-a2c2-0c5e43606953"
      },
      "execution_count": 867,
      "outputs": [
        {
          "output_type": "execute_result",
          "data": {
            "text/plain": [
              "                        Name Real label Prediction\n",
              "141  Shai Gilgeous-Alexander        Max        Max\n",
              "336       Kristaps Porziņģis        Max        Max\n",
              "183             Jrue Holiday        Max        Max\n",
              "115             Kevin Durant        Max        Max\n",
              "334       Michael Porter Jr.        Max        Max\n",
              "372            Pascal Siakam        Max        Max\n",
              "10     Giannis Antetokounmpo        Max        Max\n",
              "243            Kawhi Leonard        Max        Max\n",
              "92             Anthony Davis        Max        Max\n",
              "46              Devin Booker        Max        Max\n",
              "432           Andrew Wiggins        Max        Max\n",
              "239              Zach LaVine        Max        Max\n",
              "163             James Harden        Max        Max\n",
              "2                Bam Adebayo        Max        Max\n",
              "297             Jamal Murray        Max        Max\n",
              "282          Khris Middleton        Max        Max\n",
              "448               Trae Young        Max        Max\n",
              "253               Kevin Love        Max        Max\n",
              "130             De'Aaron Fox        Max        Max\n",
              "389             Jayson Tatum        Max        Max\n",
              "121              Joel Embiid        Max        Max\n",
              "195           Brandon Ingram        Max        Max\n",
              "271              CJ McCollum        Max        Max\n",
              "169            Tobias Harris        Max        Max\n",
              "361         D'Angelo Russell        Max        Max\n",
              "394            Klay Thompson        Max        Max\n",
              "403             Myles Turner        Max        Max\n",
              "16             Deandre Ayton        Max        Max\n",
              "246           Damian Lillard        Max        Max\n",
              "105              Luka Dončić        Max        Max\n",
              "211             Nikola Jokić        Max        Max\n",
              "65              Jimmy Butler        Max        Max"
            ],
            "text/html": [
              "\n",
              "  <div id=\"df-c530dc6a-73bf-4642-b9da-3a800a6673b9\">\n",
              "    <div class=\"colab-df-container\">\n",
              "      <div>\n",
              "<style scoped>\n",
              "    .dataframe tbody tr th:only-of-type {\n",
              "        vertical-align: middle;\n",
              "    }\n",
              "\n",
              "    .dataframe tbody tr th {\n",
              "        vertical-align: top;\n",
              "    }\n",
              "\n",
              "    .dataframe thead th {\n",
              "        text-align: right;\n",
              "    }\n",
              "</style>\n",
              "<table border=\"1\" class=\"dataframe\">\n",
              "  <thead>\n",
              "    <tr style=\"text-align: right;\">\n",
              "      <th></th>\n",
              "      <th>Name</th>\n",
              "      <th>Real label</th>\n",
              "      <th>Prediction</th>\n",
              "    </tr>\n",
              "  </thead>\n",
              "  <tbody>\n",
              "    <tr>\n",
              "      <th>141</th>\n",
              "      <td>Shai Gilgeous-Alexander</td>\n",
              "      <td>Max</td>\n",
              "      <td>Max</td>\n",
              "    </tr>\n",
              "    <tr>\n",
              "      <th>336</th>\n",
              "      <td>Kristaps Porziņģis</td>\n",
              "      <td>Max</td>\n",
              "      <td>Max</td>\n",
              "    </tr>\n",
              "    <tr>\n",
              "      <th>183</th>\n",
              "      <td>Jrue Holiday</td>\n",
              "      <td>Max</td>\n",
              "      <td>Max</td>\n",
              "    </tr>\n",
              "    <tr>\n",
              "      <th>115</th>\n",
              "      <td>Kevin Durant</td>\n",
              "      <td>Max</td>\n",
              "      <td>Max</td>\n",
              "    </tr>\n",
              "    <tr>\n",
              "      <th>334</th>\n",
              "      <td>Michael Porter Jr.</td>\n",
              "      <td>Max</td>\n",
              "      <td>Max</td>\n",
              "    </tr>\n",
              "    <tr>\n",
              "      <th>372</th>\n",
              "      <td>Pascal Siakam</td>\n",
              "      <td>Max</td>\n",
              "      <td>Max</td>\n",
              "    </tr>\n",
              "    <tr>\n",
              "      <th>10</th>\n",
              "      <td>Giannis Antetokounmpo</td>\n",
              "      <td>Max</td>\n",
              "      <td>Max</td>\n",
              "    </tr>\n",
              "    <tr>\n",
              "      <th>243</th>\n",
              "      <td>Kawhi Leonard</td>\n",
              "      <td>Max</td>\n",
              "      <td>Max</td>\n",
              "    </tr>\n",
              "    <tr>\n",
              "      <th>92</th>\n",
              "      <td>Anthony Davis</td>\n",
              "      <td>Max</td>\n",
              "      <td>Max</td>\n",
              "    </tr>\n",
              "    <tr>\n",
              "      <th>46</th>\n",
              "      <td>Devin Booker</td>\n",
              "      <td>Max</td>\n",
              "      <td>Max</td>\n",
              "    </tr>\n",
              "    <tr>\n",
              "      <th>432</th>\n",
              "      <td>Andrew Wiggins</td>\n",
              "      <td>Max</td>\n",
              "      <td>Max</td>\n",
              "    </tr>\n",
              "    <tr>\n",
              "      <th>239</th>\n",
              "      <td>Zach LaVine</td>\n",
              "      <td>Max</td>\n",
              "      <td>Max</td>\n",
              "    </tr>\n",
              "    <tr>\n",
              "      <th>163</th>\n",
              "      <td>James Harden</td>\n",
              "      <td>Max</td>\n",
              "      <td>Max</td>\n",
              "    </tr>\n",
              "    <tr>\n",
              "      <th>2</th>\n",
              "      <td>Bam Adebayo</td>\n",
              "      <td>Max</td>\n",
              "      <td>Max</td>\n",
              "    </tr>\n",
              "    <tr>\n",
              "      <th>297</th>\n",
              "      <td>Jamal Murray</td>\n",
              "      <td>Max</td>\n",
              "      <td>Max</td>\n",
              "    </tr>\n",
              "    <tr>\n",
              "      <th>282</th>\n",
              "      <td>Khris Middleton</td>\n",
              "      <td>Max</td>\n",
              "      <td>Max</td>\n",
              "    </tr>\n",
              "    <tr>\n",
              "      <th>448</th>\n",
              "      <td>Trae Young</td>\n",
              "      <td>Max</td>\n",
              "      <td>Max</td>\n",
              "    </tr>\n",
              "    <tr>\n",
              "      <th>253</th>\n",
              "      <td>Kevin Love</td>\n",
              "      <td>Max</td>\n",
              "      <td>Max</td>\n",
              "    </tr>\n",
              "    <tr>\n",
              "      <th>130</th>\n",
              "      <td>De'Aaron Fox</td>\n",
              "      <td>Max</td>\n",
              "      <td>Max</td>\n",
              "    </tr>\n",
              "    <tr>\n",
              "      <th>389</th>\n",
              "      <td>Jayson Tatum</td>\n",
              "      <td>Max</td>\n",
              "      <td>Max</td>\n",
              "    </tr>\n",
              "    <tr>\n",
              "      <th>121</th>\n",
              "      <td>Joel Embiid</td>\n",
              "      <td>Max</td>\n",
              "      <td>Max</td>\n",
              "    </tr>\n",
              "    <tr>\n",
              "      <th>195</th>\n",
              "      <td>Brandon Ingram</td>\n",
              "      <td>Max</td>\n",
              "      <td>Max</td>\n",
              "    </tr>\n",
              "    <tr>\n",
              "      <th>271</th>\n",
              "      <td>CJ McCollum</td>\n",
              "      <td>Max</td>\n",
              "      <td>Max</td>\n",
              "    </tr>\n",
              "    <tr>\n",
              "      <th>169</th>\n",
              "      <td>Tobias Harris</td>\n",
              "      <td>Max</td>\n",
              "      <td>Max</td>\n",
              "    </tr>\n",
              "    <tr>\n",
              "      <th>361</th>\n",
              "      <td>D'Angelo Russell</td>\n",
              "      <td>Max</td>\n",
              "      <td>Max</td>\n",
              "    </tr>\n",
              "    <tr>\n",
              "      <th>394</th>\n",
              "      <td>Klay Thompson</td>\n",
              "      <td>Max</td>\n",
              "      <td>Max</td>\n",
              "    </tr>\n",
              "    <tr>\n",
              "      <th>403</th>\n",
              "      <td>Myles Turner</td>\n",
              "      <td>Max</td>\n",
              "      <td>Max</td>\n",
              "    </tr>\n",
              "    <tr>\n",
              "      <th>16</th>\n",
              "      <td>Deandre Ayton</td>\n",
              "      <td>Max</td>\n",
              "      <td>Max</td>\n",
              "    </tr>\n",
              "    <tr>\n",
              "      <th>246</th>\n",
              "      <td>Damian Lillard</td>\n",
              "      <td>Max</td>\n",
              "      <td>Max</td>\n",
              "    </tr>\n",
              "    <tr>\n",
              "      <th>105</th>\n",
              "      <td>Luka Dončić</td>\n",
              "      <td>Max</td>\n",
              "      <td>Max</td>\n",
              "    </tr>\n",
              "    <tr>\n",
              "      <th>211</th>\n",
              "      <td>Nikola Jokić</td>\n",
              "      <td>Max</td>\n",
              "      <td>Max</td>\n",
              "    </tr>\n",
              "    <tr>\n",
              "      <th>65</th>\n",
              "      <td>Jimmy Butler</td>\n",
              "      <td>Max</td>\n",
              "      <td>Max</td>\n",
              "    </tr>\n",
              "  </tbody>\n",
              "</table>\n",
              "</div>\n",
              "      <button class=\"colab-df-convert\" onclick=\"convertToInteractive('df-c530dc6a-73bf-4642-b9da-3a800a6673b9')\"\n",
              "              title=\"Convert this dataframe to an interactive table.\"\n",
              "              style=\"display:none;\">\n",
              "        \n",
              "  <svg xmlns=\"http://www.w3.org/2000/svg\" height=\"24px\"viewBox=\"0 0 24 24\"\n",
              "       width=\"24px\">\n",
              "    <path d=\"M0 0h24v24H0V0z\" fill=\"none\"/>\n",
              "    <path d=\"M18.56 5.44l.94 2.06.94-2.06 2.06-.94-2.06-.94-.94-2.06-.94 2.06-2.06.94zm-11 1L8.5 8.5l.94-2.06 2.06-.94-2.06-.94L8.5 2.5l-.94 2.06-2.06.94zm10 10l.94 2.06.94-2.06 2.06-.94-2.06-.94-.94-2.06-.94 2.06-2.06.94z\"/><path d=\"M17.41 7.96l-1.37-1.37c-.4-.4-.92-.59-1.43-.59-.52 0-1.04.2-1.43.59L10.3 9.45l-7.72 7.72c-.78.78-.78 2.05 0 2.83L4 21.41c.39.39.9.59 1.41.59.51 0 1.02-.2 1.41-.59l7.78-7.78 2.81-2.81c.8-.78.8-2.07 0-2.86zM5.41 20L4 18.59l7.72-7.72 1.47 1.35L5.41 20z\"/>\n",
              "  </svg>\n",
              "      </button>\n",
              "      \n",
              "  <style>\n",
              "    .colab-df-container {\n",
              "      display:flex;\n",
              "      flex-wrap:wrap;\n",
              "      gap: 12px;\n",
              "    }\n",
              "\n",
              "    .colab-df-convert {\n",
              "      background-color: #E8F0FE;\n",
              "      border: none;\n",
              "      border-radius: 50%;\n",
              "      cursor: pointer;\n",
              "      display: none;\n",
              "      fill: #1967D2;\n",
              "      height: 32px;\n",
              "      padding: 0 0 0 0;\n",
              "      width: 32px;\n",
              "    }\n",
              "\n",
              "    .colab-df-convert:hover {\n",
              "      background-color: #E2EBFA;\n",
              "      box-shadow: 0px 1px 2px rgba(60, 64, 67, 0.3), 0px 1px 3px 1px rgba(60, 64, 67, 0.15);\n",
              "      fill: #174EA6;\n",
              "    }\n",
              "\n",
              "    [theme=dark] .colab-df-convert {\n",
              "      background-color: #3B4455;\n",
              "      fill: #D2E3FC;\n",
              "    }\n",
              "\n",
              "    [theme=dark] .colab-df-convert:hover {\n",
              "      background-color: #434B5C;\n",
              "      box-shadow: 0px 1px 3px 1px rgba(0, 0, 0, 0.15);\n",
              "      filter: drop-shadow(0px 1px 2px rgba(0, 0, 0, 0.3));\n",
              "      fill: #FFFFFF;\n",
              "    }\n",
              "  </style>\n",
              "\n",
              "      <script>\n",
              "        const buttonEl =\n",
              "          document.querySelector('#df-c530dc6a-73bf-4642-b9da-3a800a6673b9 button.colab-df-convert');\n",
              "        buttonEl.style.display =\n",
              "          google.colab.kernel.accessAllowed ? 'block' : 'none';\n",
              "\n",
              "        async function convertToInteractive(key) {\n",
              "          const element = document.querySelector('#df-c530dc6a-73bf-4642-b9da-3a800a6673b9');\n",
              "          const dataTable =\n",
              "            await google.colab.kernel.invokeFunction('convertToInteractive',\n",
              "                                                     [key], {});\n",
              "          if (!dataTable) return;\n",
              "\n",
              "          const docLinkHtml = 'Like what you see? Visit the ' +\n",
              "            '<a target=\"_blank\" href=https://colab.research.google.com/notebooks/data_table.ipynb>data table notebook</a>'\n",
              "            + ' to learn more about interactive tables.';\n",
              "          element.innerHTML = '';\n",
              "          dataTable['output_type'] = 'display_data';\n",
              "          await google.colab.output.renderOutput(dataTable, element);\n",
              "          const docLink = document.createElement('div');\n",
              "          docLink.innerHTML = docLinkHtml;\n",
              "          element.appendChild(docLink);\n",
              "        }\n",
              "      </script>\n",
              "    </div>\n",
              "  </div>\n",
              "  "
            ]
          },
          "metadata": {},
          "execution_count": 867
        }
      ]
    },
    {
      "cell_type": "code",
      "source": [
        "disp = ConfusionMatrixDisplay.from_estimator(\n",
        "        dt,\n",
        "        X_train,\n",
        "        y_train,\n",
        "        cmap=plt.cm.Blues,\n",
        "    )\n",
        "\n",
        "print(disp.confusion_matrix)"
      ],
      "metadata": {
        "colab": {
          "base_uri": "https://localhost:8080/",
          "height": 484
        },
        "id": "m9pNfHO-ncPM",
        "outputId": "d559d32b-13aa-4a87-9c6d-820909f8204e"
      },
      "execution_count": 868,
      "outputs": [
        {
          "output_type": "stream",
          "name": "stdout",
          "text": [
            "[[ 32   1]\n",
            " [ 15 309]]\n"
          ]
        },
        {
          "output_type": "display_data",
          "data": {
            "text/plain": [
              "<Figure size 640x480 with 2 Axes>"
            ],
            "image/png": "[encoded data removed]"
          },
          "metadata": {}
        }
      ]
    },
    {
      "cell_type": "code",
      "source": [
        "from sklearn.tree import export_graphviz\n",
        "import graphviz\n",
        "\n",
        "\n",
        "graphic = export_graphviz(dt, out_file=None, \n",
        "                           feature_names=X_train.columns, class_names=True, \n",
        "                            filled = True, rounded=True, special_characters=True, )\n",
        "\n",
        "# Render the GraphViz object as an image\n",
        "graph = graphviz.Source(graphic)\n",
        "display(graph)"
      ],
      "metadata": {
        "id": "KdHkXlfgK0sW",
        "colab": {
          "base_uri": "https://localhost:8080/",
          "height": 573
        },
        "outputId": "eda89d92-311e-4086-8f04-b43ab05f6651"
      },
      "execution_count": 869,
      "outputs": [
        {
          "output_type": "display_data",
          "data": {
            "image/svg+xml": "<?xml version=\"1.0\" encoding=\"UTF-8\" standalone=\"no\"?>\n<!DOCTYPE svg PUBLIC \"-//W3C//DTD SVG 1.1//EN\"\n \"http://www.w3.org/Graphics/SVG/1.1/DTD/svg11.dtd\">\n<!-- Generated by graphviz version 2.43.0 (0)\n -->\n<!-- Title: Tree Pages: 1 -->\n<svg width=\"755pt\" height=\"414pt\"\n viewBox=\"0.00 0.00 755.00 414.00\" xmlns=\"http://www.w3.org/2000/svg\" xmlns:xlink=\"http://www.w3.org/1999/xlink\">\n<g id=\"graph0\" class=\"graph\" transform=\"scale(1 1) rotate(0) translate(4 410)\">\n<title>Tree</title>\n<polygon fill=\"white\" stroke=\"transparent\" points=\"-4,4 -4,-410 751,-410 751,4 -4,4\"/>\n<!-- 0 -->\n<g id=\"node1\" class=\"node\">\n<title>0</title>\n<path fill=\"#4da7e8\" stroke=\"black\" d=\"M303,-406C303,-406 210,-406 210,-406 204,-406 198,-400 198,-394 198,-394 198,-340 198,-340 198,-334 204,-328 210,-328 210,-328 303,-328 303,-328 309,-328 315,-334 315,-340 315,-340 315,-394 315,-394 315,-400 309,-406 303,-406\"/>\n<text text-anchor=\"start\" x=\"218.5\" y=\"-391.8\" font-family=\"Helvetica,sans-Serif\" font-size=\"14.00\">PTS ≤ 17.05</text>\n<text text-anchor=\"start\" x=\"209\" y=\"-377.8\" font-family=\"Helvetica,sans-Serif\" font-size=\"14.00\">entropy = 0.445</text>\n<text text-anchor=\"start\" x=\"211.5\" y=\"-363.8\" font-family=\"Helvetica,sans-Serif\" font-size=\"14.00\">samples = 357</text>\n<text text-anchor=\"start\" x=\"206\" y=\"-349.8\" font-family=\"Helvetica,sans-Serif\" font-size=\"14.00\">value = [33, 324]</text>\n<text text-anchor=\"start\" x=\"226\" y=\"-335.8\" font-family=\"Helvetica,sans-Serif\" font-size=\"14.00\">class = y</text>\n<text text-anchor=\"start\" x=\"280\" y=\"-335.8\" font-family=\"Helvetica,sans-Serif\" baseline-shift=\"sub\" font-size=\"14.00\">1</text>\n</g>\n<!-- 1 -->\n<g id=\"node2\" class=\"node\">\n<title>1</title>\n<path fill=\"#3c9ee5\" stroke=\"black\" d=\"M244,-292C244,-292 125,-292 125,-292 119,-292 113,-286 113,-280 113,-280 113,-226 113,-226 113,-220 119,-214 125,-214 125,-214 244,-214 244,-214 250,-214 256,-220 256,-226 256,-226 256,-280 256,-280 256,-286 250,-292 244,-292\"/>\n<text text-anchor=\"start\" x=\"121\" y=\"-277.8\" font-family=\"Helvetica,sans-Serif\" font-size=\"14.00\">DWS_per_G ≤ 3.028</text>\n<text text-anchor=\"start\" x=\"137\" y=\"-263.8\" font-family=\"Helvetica,sans-Serif\" font-size=\"14.00\">entropy = 0.103</text>\n<text text-anchor=\"start\" x=\"139.5\" y=\"-249.8\" font-family=\"Helvetica,sans-Serif\" font-size=\"14.00\">samples = 297</text>\n<text text-anchor=\"start\" x=\"137.5\" y=\"-235.8\" font-family=\"Helvetica,sans-Serif\" font-size=\"14.00\">value = [4, 293]</text>\n<text text-anchor=\"start\" x=\"154\" y=\"-221.8\" font-family=\"Helvetica,sans-Serif\" font-size=\"14.00\">class = y</text>\n<text text-anchor=\"start\" x=\"208\" y=\"-221.8\" font-family=\"Helvetica,sans-Serif\" baseline-shift=\"sub\" font-size=\"14.00\">1</text>\n</g>\n<!-- 0&#45;&gt;1 -->\n<g id=\"edge1\" class=\"edge\">\n<title>0&#45;&gt;1</title>\n<path fill=\"none\" stroke=\"black\" d=\"M231.92,-327.77C226.3,-319.03 220.27,-309.64 214.46,-300.6\"/>\n<polygon fill=\"black\" stroke=\"black\" points=\"217.32,-298.58 208.97,-292.06 211.43,-302.36 217.32,-298.58\"/>\n<text text-anchor=\"middle\" x=\"203.66\" y=\"-312.79\" font-family=\"Helvetica,sans-Serif\" font-size=\"14.00\">True</text>\n</g>\n<!-- 6 -->\n<g id=\"node7\" class=\"node\">\n<title>6</title>\n<path fill=\"#f2f9fd\" stroke=\"black\" d=\"M410,-292C410,-292 323,-292 323,-292 317,-292 311,-286 311,-280 311,-280 311,-226 311,-226 311,-220 317,-214 323,-214 323,-214 410,-214 410,-214 416,-214 422,-220 422,-226 422,-226 422,-280 422,-280 422,-286 416,-292 410,-292\"/>\n<text text-anchor=\"start\" x=\"321\" y=\"-277.8\" font-family=\"Helvetica,sans-Serif\" font-size=\"14.00\">WS/48 ≤ 0.104</text>\n<text text-anchor=\"start\" x=\"319\" y=\"-263.8\" font-family=\"Helvetica,sans-Serif\" font-size=\"14.00\">entropy = 0.999</text>\n<text text-anchor=\"start\" x=\"325.5\" y=\"-249.8\" font-family=\"Helvetica,sans-Serif\" font-size=\"14.00\">samples = 60</text>\n<text text-anchor=\"start\" x=\"319.5\" y=\"-235.8\" font-family=\"Helvetica,sans-Serif\" font-size=\"14.00\">value = [29, 31]</text>\n<text text-anchor=\"start\" x=\"336\" y=\"-221.8\" font-family=\"Helvetica,sans-Serif\" font-size=\"14.00\">class = y</text>\n<text text-anchor=\"start\" x=\"390\" y=\"-221.8\" font-family=\"Helvetica,sans-Serif\" baseline-shift=\"sub\" font-size=\"14.00\">1</text>\n</g>\n<!-- 0&#45;&gt;6 -->\n<g id=\"edge6\" class=\"edge\">\n<title>0&#45;&gt;6</title>\n<path fill=\"none\" stroke=\"black\" d=\"M294.05,-327.77C303.07,-318.58 312.8,-308.68 322.11,-299.2\"/>\n<polygon fill=\"black\" stroke=\"black\" points=\"324.61,-301.65 329.12,-292.06 319.62,-296.74 324.61,-301.65\"/>\n<text text-anchor=\"middle\" x=\"329.35\" y=\"-313.36\" font-family=\"Helvetica,sans-Serif\" font-size=\"14.00\">False</text>\n</g>\n<!-- 2 -->\n<g id=\"node3\" class=\"node\">\n<title>2</title>\n<path fill=\"#399de5\" stroke=\"black\" d=\"M98.5,-171C98.5,-171 12.5,-171 12.5,-171 6.5,-171 0.5,-165 0.5,-159 0.5,-159 0.5,-119 0.5,-119 0.5,-113 6.5,-107 12.5,-107 12.5,-107 98.5,-107 98.5,-107 104.5,-107 110.5,-113 110.5,-119 110.5,-119 110.5,-159 110.5,-159 110.5,-165 104.5,-171 98.5,-171\"/>\n<text text-anchor=\"start\" x=\"15.5\" y=\"-156.8\" font-family=\"Helvetica,sans-Serif\" font-size=\"14.00\">entropy = 0.0</text>\n<text text-anchor=\"start\" x=\"10.5\" y=\"-142.8\" font-family=\"Helvetica,sans-Serif\" font-size=\"14.00\">samples = 244</text>\n<text text-anchor=\"start\" x=\"8.5\" y=\"-128.8\" font-family=\"Helvetica,sans-Serif\" font-size=\"14.00\">value = [0, 244]</text>\n<text text-anchor=\"start\" x=\"25\" y=\"-114.8\" font-family=\"Helvetica,sans-Serif\" font-size=\"14.00\">class = y</text>\n<text text-anchor=\"start\" x=\"79\" y=\"-114.8\" font-family=\"Helvetica,sans-Serif\" baseline-shift=\"sub\" font-size=\"14.00\">1</text>\n</g>\n<!-- 1&#45;&gt;2 -->\n<g id=\"edge2\" class=\"edge\">\n<title>1&#45;&gt;2</title>\n<path fill=\"none\" stroke=\"black\" d=\"M140.47,-213.77C127.04,-202.12 112.3,-189.32 98.92,-177.7\"/>\n<polygon fill=\"black\" stroke=\"black\" points=\"101.06,-174.92 91.22,-171.01 96.47,-180.21 101.06,-174.92\"/>\n</g>\n<!-- 3 -->\n<g id=\"node4\" class=\"node\">\n<title>3</title>\n<path fill=\"#49a5e7\" stroke=\"black\" d=\"M228,-178C228,-178 141,-178 141,-178 135,-178 129,-172 129,-166 129,-166 129,-112 129,-112 129,-106 135,-100 141,-100 141,-100 228,-100 228,-100 234,-100 240,-106 240,-112 240,-112 240,-166 240,-166 240,-172 234,-178 228,-178\"/>\n<text text-anchor=\"start\" x=\"145\" y=\"-163.8\" font-family=\"Helvetica,sans-Serif\" font-size=\"14.00\">FT% ≤ 0.875</text>\n<text text-anchor=\"start\" x=\"137\" y=\"-149.8\" font-family=\"Helvetica,sans-Serif\" font-size=\"14.00\">entropy = 0.386</text>\n<text text-anchor=\"start\" x=\"143.5\" y=\"-135.8\" font-family=\"Helvetica,sans-Serif\" font-size=\"14.00\">samples = 53</text>\n<text text-anchor=\"start\" x=\"141.5\" y=\"-121.8\" font-family=\"Helvetica,sans-Serif\" font-size=\"14.00\">value = [4, 49]</text>\n<text text-anchor=\"start\" x=\"154\" y=\"-107.8\" font-family=\"Helvetica,sans-Serif\" font-size=\"14.00\">class = y</text>\n<text text-anchor=\"start\" x=\"208\" y=\"-107.8\" font-family=\"Helvetica,sans-Serif\" baseline-shift=\"sub\" font-size=\"14.00\">1</text>\n</g>\n<!-- 1&#45;&gt;3 -->\n<g id=\"edge3\" class=\"edge\">\n<title>1&#45;&gt;3</title>\n<path fill=\"none\" stroke=\"black\" d=\"M184.5,-213.77C184.5,-205.57 184.5,-196.8 184.5,-188.28\"/>\n<polygon fill=\"black\" stroke=\"black\" points=\"188,-188.06 184.5,-178.06 181,-188.06 188,-188.06\"/>\n</g>\n<!-- 4 -->\n<g id=\"node5\" class=\"node\">\n<title>4</title>\n<path fill=\"#3d9fe6\" stroke=\"black\" d=\"M99,-64C99,-64 12,-64 12,-64 6,-64 0,-58 0,-52 0,-52 0,-12 0,-12 0,-6 6,0 12,0 12,0 99,0 99,0 105,0 111,-6 111,-12 111,-12 111,-52 111,-52 111,-58 105,-64 99,-64\"/>\n<text text-anchor=\"start\" x=\"8\" y=\"-49.8\" font-family=\"Helvetica,sans-Serif\" font-size=\"14.00\">entropy = 0.146</text>\n<text text-anchor=\"start\" x=\"14.5\" y=\"-35.8\" font-family=\"Helvetica,sans-Serif\" font-size=\"14.00\">samples = 48</text>\n<text text-anchor=\"start\" x=\"12.5\" y=\"-21.8\" font-family=\"Helvetica,sans-Serif\" font-size=\"14.00\">value = [1, 47]</text>\n<text text-anchor=\"start\" x=\"25\" y=\"-7.8\" font-family=\"Helvetica,sans-Serif\" font-size=\"14.00\">class = y</text>\n<text text-anchor=\"start\" x=\"79\" y=\"-7.8\" font-family=\"Helvetica,sans-Serif\" baseline-shift=\"sub\" font-size=\"14.00\">1</text>\n</g>\n<!-- 3&#45;&gt;4 -->\n<g id=\"edge4\" class=\"edge\">\n<title>3&#45;&gt;4</title>\n<path fill=\"none\" stroke=\"black\" d=\"M137.56,-99.8C125.86,-90.27 113.31,-80.06 101.65,-70.56\"/>\n<polygon fill=\"black\" stroke=\"black\" points=\"103.69,-67.72 93.73,-64.12 99.28,-73.14 103.69,-67.72\"/>\n</g>\n<!-- 5 -->\n<g id=\"node6\" class=\"node\">\n<title>5</title>\n<path fill=\"#f6d5bd\" stroke=\"black\" d=\"M228,-64C228,-64 141,-64 141,-64 135,-64 129,-58 129,-52 129,-52 129,-12 129,-12 129,-6 135,0 141,0 141,0 228,0 228,0 234,0 240,-6 240,-12 240,-12 240,-52 240,-52 240,-58 234,-64 228,-64\"/>\n<text text-anchor=\"start\" x=\"137\" y=\"-49.8\" font-family=\"Helvetica,sans-Serif\" font-size=\"14.00\">entropy = 0.971</text>\n<text text-anchor=\"start\" x=\"147\" y=\"-35.8\" font-family=\"Helvetica,sans-Serif\" font-size=\"14.00\">samples = 5</text>\n<text text-anchor=\"start\" x=\"145\" y=\"-21.8\" font-family=\"Helvetica,sans-Serif\" font-size=\"14.00\">value = [3, 2]</text>\n<text text-anchor=\"start\" x=\"154\" y=\"-7.8\" font-family=\"Helvetica,sans-Serif\" font-size=\"14.00\">class = y</text>\n<text text-anchor=\"start\" x=\"208\" y=\"-7.8\" font-family=\"Helvetica,sans-Serif\" baseline-shift=\"sub\" font-size=\"14.00\">0</text>\n</g>\n<!-- 3&#45;&gt;5 -->\n<g id=\"edge5\" class=\"edge\">\n<title>3&#45;&gt;5</title>\n<path fill=\"none\" stroke=\"black\" d=\"M184.5,-99.8C184.5,-91.46 184.5,-82.6 184.5,-74.15\"/>\n<polygon fill=\"black\" stroke=\"black\" points=\"188,-74.12 184.5,-64.12 181,-74.12 188,-74.12\"/>\n</g>\n<!-- 7 -->\n<g id=\"node8\" class=\"node\">\n<title>7</title>\n<path fill=\"#58ace9\" stroke=\"black\" d=\"M410,-178C410,-178 323,-178 323,-178 317,-178 311,-172 311,-166 311,-166 311,-112 311,-112 311,-106 317,-100 323,-100 323,-100 410,-100 410,-100 416,-100 422,-106 422,-112 422,-112 422,-166 422,-166 422,-172 416,-178 410,-178\"/>\n<text text-anchor=\"start\" x=\"337.5\" y=\"-163.8\" font-family=\"Helvetica,sans-Serif\" font-size=\"14.00\">FT ≤ 2.45</text>\n<text text-anchor=\"start\" x=\"319\" y=\"-149.8\" font-family=\"Helvetica,sans-Serif\" font-size=\"14.00\">entropy = 0.575</text>\n<text text-anchor=\"start\" x=\"325.5\" y=\"-135.8\" font-family=\"Helvetica,sans-Serif\" font-size=\"14.00\">samples = 22</text>\n<text text-anchor=\"start\" x=\"323.5\" y=\"-121.8\" font-family=\"Helvetica,sans-Serif\" font-size=\"14.00\">value = [3, 19]</text>\n<text text-anchor=\"start\" x=\"336\" y=\"-107.8\" font-family=\"Helvetica,sans-Serif\" font-size=\"14.00\">class = y</text>\n<text text-anchor=\"start\" x=\"390\" y=\"-107.8\" font-family=\"Helvetica,sans-Serif\" baseline-shift=\"sub\" font-size=\"14.00\">1</text>\n</g>\n<!-- 6&#45;&gt;7 -->\n<g id=\"edge7\" class=\"edge\">\n<title>6&#45;&gt;7</title>\n<path fill=\"none\" stroke=\"black\" d=\"M366.5,-213.77C366.5,-205.57 366.5,-196.8 366.5,-188.28\"/>\n<polygon fill=\"black\" stroke=\"black\" points=\"370,-188.06 366.5,-178.06 363,-188.06 370,-188.06\"/>\n</g>\n<!-- 10 -->\n<g id=\"node11\" class=\"node\">\n<title>10</title>\n<path fill=\"#f1bb94\" stroke=\"black\" d=\"M634.5,-178C634.5,-178 490.5,-178 490.5,-178 484.5,-178 478.5,-172 478.5,-166 478.5,-166 478.5,-112 478.5,-112 478.5,-106 484.5,-100 490.5,-100 490.5,-100 634.5,-100 634.5,-100 640.5,-100 646.5,-106 646.5,-112 646.5,-112 646.5,-166 646.5,-166 646.5,-172 640.5,-178 634.5,-178\"/>\n<text text-anchor=\"start\" x=\"486.5\" y=\"-163.8\" font-family=\"Helvetica,sans-Serif\" font-size=\"14.00\">TS_times_USG ≤ 17.159</text>\n<text text-anchor=\"start\" x=\"522.5\" y=\"-149.8\" font-family=\"Helvetica,sans-Serif\" font-size=\"14.00\">entropy = 0.9</text>\n<text text-anchor=\"start\" x=\"521.5\" y=\"-135.8\" font-family=\"Helvetica,sans-Serif\" font-size=\"14.00\">samples = 38</text>\n<text text-anchor=\"start\" x=\"515.5\" y=\"-121.8\" font-family=\"Helvetica,sans-Serif\" font-size=\"14.00\">value = [26, 12]</text>\n<text text-anchor=\"start\" x=\"532\" y=\"-107.8\" font-family=\"Helvetica,sans-Serif\" font-size=\"14.00\">class = y</text>\n<text text-anchor=\"start\" x=\"586\" y=\"-107.8\" font-family=\"Helvetica,sans-Serif\" baseline-shift=\"sub\" font-size=\"14.00\">0</text>\n</g>\n<!-- 6&#45;&gt;10 -->\n<g id=\"edge10\" class=\"edge\">\n<title>6&#45;&gt;10</title>\n<path fill=\"none\" stroke=\"black\" d=\"M422.14,-220.2C442.33,-208.67 465.5,-195.43 487.11,-183.08\"/>\n<polygon fill=\"black\" stroke=\"black\" points=\"489,-186.03 495.94,-178.03 485.52,-179.96 489,-186.03\"/>\n</g>\n<!-- 8 -->\n<g id=\"node9\" class=\"node\">\n<title>8</title>\n<path fill=\"#eeab7b\" stroke=\"black\" d=\"M357,-64C357,-64 270,-64 270,-64 264,-64 258,-58 258,-52 258,-52 258,-12 258,-12 258,-6 264,0 270,0 270,0 357,0 357,0 363,0 369,-6 369,-12 369,-12 369,-52 369,-52 369,-58 363,-64 357,-64\"/>\n<text text-anchor=\"start\" x=\"266\" y=\"-49.8\" font-family=\"Helvetica,sans-Serif\" font-size=\"14.00\">entropy = 0.811</text>\n<text text-anchor=\"start\" x=\"276\" y=\"-35.8\" font-family=\"Helvetica,sans-Serif\" font-size=\"14.00\">samples = 4</text>\n<text text-anchor=\"start\" x=\"274\" y=\"-21.8\" font-family=\"Helvetica,sans-Serif\" font-size=\"14.00\">value = [3, 1]</text>\n<text text-anchor=\"start\" x=\"283\" y=\"-7.8\" font-family=\"Helvetica,sans-Serif\" font-size=\"14.00\">class = y</text>\n<text text-anchor=\"start\" x=\"337\" y=\"-7.8\" font-family=\"Helvetica,sans-Serif\" baseline-shift=\"sub\" font-size=\"14.00\">0</text>\n</g>\n<!-- 7&#45;&gt;8 -->\n<g id=\"edge8\" class=\"edge\">\n<title>7&#45;&gt;8</title>\n<path fill=\"none\" stroke=\"black\" d=\"M347.22,-99.8C342.87,-91.18 338.24,-82.02 333.85,-73.32\"/>\n<polygon fill=\"black\" stroke=\"black\" points=\"336.84,-71.47 329.21,-64.12 330.59,-74.62 336.84,-71.47\"/>\n</g>\n<!-- 9 -->\n<g id=\"node10\" class=\"node\">\n<title>9</title>\n<path fill=\"#399de5\" stroke=\"black\" d=\"M477.5,-64C477.5,-64 399.5,-64 399.5,-64 393.5,-64 387.5,-58 387.5,-52 387.5,-52 387.5,-12 387.5,-12 387.5,-6 393.5,0 399.5,0 399.5,0 477.5,0 477.5,0 483.5,0 489.5,-6 489.5,-12 489.5,-12 489.5,-52 489.5,-52 489.5,-58 483.5,-64 477.5,-64\"/>\n<text text-anchor=\"start\" x=\"398.5\" y=\"-49.8\" font-family=\"Helvetica,sans-Serif\" font-size=\"14.00\">entropy = 0.0</text>\n<text text-anchor=\"start\" x=\"397.5\" y=\"-35.8\" font-family=\"Helvetica,sans-Serif\" font-size=\"14.00\">samples = 18</text>\n<text text-anchor=\"start\" x=\"395.5\" y=\"-21.8\" font-family=\"Helvetica,sans-Serif\" font-size=\"14.00\">value = [0, 18]</text>\n<text text-anchor=\"start\" x=\"408\" y=\"-7.8\" font-family=\"Helvetica,sans-Serif\" font-size=\"14.00\">class = y</text>\n<text text-anchor=\"start\" x=\"462\" y=\"-7.8\" font-family=\"Helvetica,sans-Serif\" baseline-shift=\"sub\" font-size=\"14.00\">1</text>\n</g>\n<!-- 7&#45;&gt;9 -->\n<g id=\"edge9\" class=\"edge\">\n<title>7&#45;&gt;9</title>\n<path fill=\"none\" stroke=\"black\" d=\"M392.7,-99.8C398.79,-90.91 405.29,-81.43 411.42,-72.49\"/>\n<polygon fill=\"black\" stroke=\"black\" points=\"414.39,-74.34 417.16,-64.12 408.62,-70.39 414.39,-74.34\"/>\n</g>\n<!-- 11 -->\n<g id=\"node12\" class=\"node\">\n<title>11</title>\n<path fill=\"#ffffff\" stroke=\"black\" d=\"M605.5,-64C605.5,-64 519.5,-64 519.5,-64 513.5,-64 507.5,-58 507.5,-52 507.5,-52 507.5,-12 507.5,-12 507.5,-6 513.5,0 519.5,0 519.5,0 605.5,0 605.5,0 611.5,0 617.5,-6 617.5,-12 617.5,-12 617.5,-52 617.5,-52 617.5,-58 611.5,-64 605.5,-64\"/>\n<text text-anchor=\"start\" x=\"522.5\" y=\"-49.8\" font-family=\"Helvetica,sans-Serif\" font-size=\"14.00\">entropy = 1.0</text>\n<text text-anchor=\"start\" x=\"521.5\" y=\"-35.8\" font-family=\"Helvetica,sans-Serif\" font-size=\"14.00\">samples = 22</text>\n<text text-anchor=\"start\" x=\"515.5\" y=\"-21.8\" font-family=\"Helvetica,sans-Serif\" font-size=\"14.00\">value = [11, 11]</text>\n<text text-anchor=\"start\" x=\"532\" y=\"-7.8\" font-family=\"Helvetica,sans-Serif\" font-size=\"14.00\">class = y</text>\n<text text-anchor=\"start\" x=\"586\" y=\"-7.8\" font-family=\"Helvetica,sans-Serif\" baseline-shift=\"sub\" font-size=\"14.00\">0</text>\n</g>\n<!-- 10&#45;&gt;11 -->\n<g id=\"edge11\" class=\"edge\">\n<title>10&#45;&gt;11</title>\n<path fill=\"none\" stroke=\"black\" d=\"M562.5,-99.8C562.5,-91.46 562.5,-82.6 562.5,-74.15\"/>\n<polygon fill=\"black\" stroke=\"black\" points=\"566,-74.12 562.5,-64.12 559,-74.12 566,-74.12\"/>\n</g>\n<!-- 12 -->\n<g id=\"node13\" class=\"node\">\n<title>12</title>\n<path fill=\"#e78946\" stroke=\"black\" d=\"M735,-64C735,-64 648,-64 648,-64 642,-64 636,-58 636,-52 636,-52 636,-12 636,-12 636,-6 642,0 648,0 648,0 735,0 735,0 741,0 747,-6 747,-12 747,-12 747,-52 747,-52 747,-58 741,-64 735,-64\"/>\n<text text-anchor=\"start\" x=\"644\" y=\"-49.8\" font-family=\"Helvetica,sans-Serif\" font-size=\"14.00\">entropy = 0.337</text>\n<text text-anchor=\"start\" x=\"650.5\" y=\"-35.8\" font-family=\"Helvetica,sans-Serif\" font-size=\"14.00\">samples = 16</text>\n<text text-anchor=\"start\" x=\"648.5\" y=\"-21.8\" font-family=\"Helvetica,sans-Serif\" font-size=\"14.00\">value = [15, 1]</text>\n<text text-anchor=\"start\" x=\"661\" y=\"-7.8\" font-family=\"Helvetica,sans-Serif\" font-size=\"14.00\">class = y</text>\n<text text-anchor=\"start\" x=\"715\" y=\"-7.8\" font-family=\"Helvetica,sans-Serif\" baseline-shift=\"sub\" font-size=\"14.00\">0</text>\n</g>\n<!-- 10&#45;&gt;12 -->\n<g id=\"edge12\" class=\"edge\">\n<title>10&#45;&gt;12</title>\n<path fill=\"none\" stroke=\"black\" d=\"M609.44,-99.8C621.14,-90.27 633.69,-80.06 645.35,-70.56\"/>\n<polygon fill=\"black\" stroke=\"black\" points=\"647.72,-73.14 653.27,-64.12 643.31,-67.72 647.72,-73.14\"/>\n</g>\n</g>\n</svg>\n",
            "text/plain": [
              "<graphviz.sources.Source at 0x7f05648b7970>"
            ]
          },
          "metadata": {}
        }
      ]
    }
  ]
}