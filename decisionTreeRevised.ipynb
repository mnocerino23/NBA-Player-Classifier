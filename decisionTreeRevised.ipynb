{
  "nbformat": 4,
  "nbformat_minor": 0,
  "metadata": {
    "colab": {
      "provenance": [],
      "authorship_tag": "ABX9TyNgEraC6eVh8yihgE3u/L9y",
      "include_colab_link": true
    },
    "kernelspec": {
      "name": "python3",
      "display_name": "Python 3"
    },
    "language_info": {
      "name": "python"
    }
  },
  "cells": [
    {
      "cell_type": "markdown",
      "metadata": {
        "id": "view-in-github",
        "colab_type": "text"
      },
      "source": [
        "<a href=\"https://colab.research.google.com/github/mnocerino23/NBA-Player-Classifier/blob/main/decisionTreeRevised.ipynb\" target=\"_parent\"><img src=\"https://colab.research.google.com/assets/colab-badge.svg\" alt=\"Open In Colab\"/></a>"
      ]
    },
    {
      "cell_type": "markdown",
      "source": [
        "#In this notebook we experiment with Decision Trees to decide who does and does not deserve a max contract. In this revised jupyter notebook, we try to remove outliers and see how this effects the decision tree model"
      ],
      "metadata": {
        "id": "S18Gy3_SAVoM"
      }
    },
    {
      "cell_type": "code",
      "execution_count": 647,
      "metadata": {
        "colab": {
          "base_uri": "https://localhost:8080/"
        },
        "id": "UQTJFDfYGIOo",
        "outputId": "14335115-3500-4c4f-f07f-46be123cc53b"
      },
      "outputs": [
        {
          "output_type": "stream",
          "name": "stdout",
          "text": [
            "Drive already mounted at /content/drive; to attempt to forcibly remount, call drive.mount(\"/content/drive\", force_remount=True).\n"
          ]
        }
      ],
      "source": [
        "import pandas as pd\n",
        "import sklearn\n",
        "from google.colab import drive\n",
        "drive.mount('/content/drive')"
      ]
    },
    {
      "cell_type": "code",
      "source": [
        "complete = pd.read_csv('/content/drive/MyDrive/Data_Science_Projects/NBA/complete22-23.csv')"
      ],
      "metadata": {
        "id": "0niM9ni-GjB8"
      },
      "execution_count": 648,
      "outputs": []
    },
    {
      "cell_type": "code",
      "source": [
        "complete.head(4)"
      ],
      "metadata": {
        "colab": {
          "base_uri": "https://localhost:8080/",
          "height": 337
        },
        "id": "nFY9snYBdrsZ",
        "outputId": "eacf164e-2246-4e03-aba0-15d019ca198b"
      },
      "execution_count": 649,
      "outputs": [
        {
          "output_type": "execute_result",
          "data": {
            "text/plain": [
              "             Player Pos  Age   Tm   G  GS    MP   FG   FGA    FG%  ...  \\\n",
              "0  Precious Achiuwa   C   23  TOR  55  12  20.7  3.6   7.3  0.485  ...   \n",
              "1      Steven Adams   C   29  MEM  42  42  27.0  3.7   6.3  0.597  ...   \n",
              "2       Bam Adebayo   C   25  MIA  75  75  34.6  8.0  14.9  0.540  ...   \n",
              "3      Ochai Agbaji  SG   22  UTA  59  22  20.5  2.8   6.5  0.427  ...   \n",
              "\n",
              "    AST_TOV  OWS_div_USG  TS_times_USG   bigmanD  foul_rate  three_rate  \\\n",
              "0  0.818182     0.041237       10.7476  0.251208   0.091787   21.505376   \n",
              "1  1.210526     0.089041        8.2344  0.314815   0.085185    0.000000   \n",
              "2  1.280000     0.142857       14.9184  0.251445   0.080925    1.324503   \n",
              "3  1.571429     0.056962        8.8638  0.092683   0.082927   37.500000   \n",
              "\n",
              "   PTs_per_36  PF_per_dplay    FG_TOV     two_way  \n",
              "0   16.000000      1.727273  3.727273   38.690909  \n",
              "1   11.466667      1.150000  1.947368   87.500000  \n",
              "2   21.225434      1.400000  3.200000  101.840000  \n",
              "3   13.873171      2.833333  6.000000    6.440678  \n",
              "\n",
              "[4 rows x 63 columns]"
            ],
            "text/html": [
              "\n",
              "  <div id=\"df-25735a40-f3e2-4e03-8daf-91b7104effc4\">\n",
              "    <div class=\"colab-df-container\">\n",
              "      <div>\n",
              "<style scoped>\n",
              "    .dataframe tbody tr th:only-of-type {\n",
              "        vertical-align: middle;\n",
              "    }\n",
              "\n",
              "    .dataframe tbody tr th {\n",
              "        vertical-align: top;\n",
              "    }\n",
              "\n",
              "    .dataframe thead th {\n",
              "        text-align: right;\n",
              "    }\n",
              "</style>\n",
              "<table border=\"1\" class=\"dataframe\">\n",
              "  <thead>\n",
              "    <tr style=\"text-align: right;\">\n",
              "      <th></th>\n",
              "      <th>Player</th>\n",
              "      <th>Pos</th>\n",
              "      <th>Age</th>\n",
              "      <th>Tm</th>\n",
              "      <th>G</th>\n",
              "      <th>GS</th>\n",
              "      <th>MP</th>\n",
              "      <th>FG</th>\n",
              "      <th>FGA</th>\n",
              "      <th>FG%</th>\n",
              "      <th>...</th>\n",
              "      <th>AST_TOV</th>\n",
              "      <th>OWS_div_USG</th>\n",
              "      <th>TS_times_USG</th>\n",
              "      <th>bigmanD</th>\n",
              "      <th>foul_rate</th>\n",
              "      <th>three_rate</th>\n",
              "      <th>PTs_per_36</th>\n",
              "      <th>PF_per_dplay</th>\n",
              "      <th>FG_TOV</th>\n",
              "      <th>two_way</th>\n",
              "    </tr>\n",
              "  </thead>\n",
              "  <tbody>\n",
              "    <tr>\n",
              "      <th>0</th>\n",
              "      <td>Precious Achiuwa</td>\n",
              "      <td>C</td>\n",
              "      <td>23</td>\n",
              "      <td>TOR</td>\n",
              "      <td>55</td>\n",
              "      <td>12</td>\n",
              "      <td>20.7</td>\n",
              "      <td>3.6</td>\n",
              "      <td>7.3</td>\n",
              "      <td>0.485</td>\n",
              "      <td>...</td>\n",
              "      <td>0.818182</td>\n",
              "      <td>0.041237</td>\n",
              "      <td>10.7476</td>\n",
              "      <td>0.251208</td>\n",
              "      <td>0.091787</td>\n",
              "      <td>21.505376</td>\n",
              "      <td>16.000000</td>\n",
              "      <td>1.727273</td>\n",
              "      <td>3.727273</td>\n",
              "      <td>38.690909</td>\n",
              "    </tr>\n",
              "    <tr>\n",
              "      <th>1</th>\n",
              "      <td>Steven Adams</td>\n",
              "      <td>C</td>\n",
              "      <td>29</td>\n",
              "      <td>MEM</td>\n",
              "      <td>42</td>\n",
              "      <td>42</td>\n",
              "      <td>27.0</td>\n",
              "      <td>3.7</td>\n",
              "      <td>6.3</td>\n",
              "      <td>0.597</td>\n",
              "      <td>...</td>\n",
              "      <td>1.210526</td>\n",
              "      <td>0.089041</td>\n",
              "      <td>8.2344</td>\n",
              "      <td>0.314815</td>\n",
              "      <td>0.085185</td>\n",
              "      <td>0.000000</td>\n",
              "      <td>11.466667</td>\n",
              "      <td>1.150000</td>\n",
              "      <td>1.947368</td>\n",
              "      <td>87.500000</td>\n",
              "    </tr>\n",
              "    <tr>\n",
              "      <th>2</th>\n",
              "      <td>Bam Adebayo</td>\n",
              "      <td>C</td>\n",
              "      <td>25</td>\n",
              "      <td>MIA</td>\n",
              "      <td>75</td>\n",
              "      <td>75</td>\n",
              "      <td>34.6</td>\n",
              "      <td>8.0</td>\n",
              "      <td>14.9</td>\n",
              "      <td>0.540</td>\n",
              "      <td>...</td>\n",
              "      <td>1.280000</td>\n",
              "      <td>0.142857</td>\n",
              "      <td>14.9184</td>\n",
              "      <td>0.251445</td>\n",
              "      <td>0.080925</td>\n",
              "      <td>1.324503</td>\n",
              "      <td>21.225434</td>\n",
              "      <td>1.400000</td>\n",
              "      <td>3.200000</td>\n",
              "      <td>101.840000</td>\n",
              "    </tr>\n",
              "    <tr>\n",
              "      <th>3</th>\n",
              "      <td>Ochai Agbaji</td>\n",
              "      <td>SG</td>\n",
              "      <td>22</td>\n",
              "      <td>UTA</td>\n",
              "      <td>59</td>\n",
              "      <td>22</td>\n",
              "      <td>20.5</td>\n",
              "      <td>2.8</td>\n",
              "      <td>6.5</td>\n",
              "      <td>0.427</td>\n",
              "      <td>...</td>\n",
              "      <td>1.571429</td>\n",
              "      <td>0.056962</td>\n",
              "      <td>8.8638</td>\n",
              "      <td>0.092683</td>\n",
              "      <td>0.082927</td>\n",
              "      <td>37.500000</td>\n",
              "      <td>13.873171</td>\n",
              "      <td>2.833333</td>\n",
              "      <td>6.000000</td>\n",
              "      <td>6.440678</td>\n",
              "    </tr>\n",
              "  </tbody>\n",
              "</table>\n",
              "<p>4 rows × 63 columns</p>\n",
              "</div>\n",
              "      <button class=\"colab-df-convert\" onclick=\"convertToInteractive('df-25735a40-f3e2-4e03-8daf-91b7104effc4')\"\n",
              "              title=\"Convert this dataframe to an interactive table.\"\n",
              "              style=\"display:none;\">\n",
              "        \n",
              "  <svg xmlns=\"http://www.w3.org/2000/svg\" height=\"24px\"viewBox=\"0 0 24 24\"\n",
              "       width=\"24px\">\n",
              "    <path d=\"M0 0h24v24H0V0z\" fill=\"none\"/>\n",
              "    <path d=\"M18.56 5.44l.94 2.06.94-2.06 2.06-.94-2.06-.94-.94-2.06-.94 2.06-2.06.94zm-11 1L8.5 8.5l.94-2.06 2.06-.94-2.06-.94L8.5 2.5l-.94 2.06-2.06.94zm10 10l.94 2.06.94-2.06 2.06-.94-2.06-.94-.94-2.06-.94 2.06-2.06.94z\"/><path d=\"M17.41 7.96l-1.37-1.37c-.4-.4-.92-.59-1.43-.59-.52 0-1.04.2-1.43.59L10.3 9.45l-7.72 7.72c-.78.78-.78 2.05 0 2.83L4 21.41c.39.39.9.59 1.41.59.51 0 1.02-.2 1.41-.59l7.78-7.78 2.81-2.81c.8-.78.8-2.07 0-2.86zM5.41 20L4 18.59l7.72-7.72 1.47 1.35L5.41 20z\"/>\n",
              "  </svg>\n",
              "      </button>\n",
              "      \n",
              "  <style>\n",
              "    .colab-df-container {\n",
              "      display:flex;\n",
              "      flex-wrap:wrap;\n",
              "      gap: 12px;\n",
              "    }\n",
              "\n",
              "    .colab-df-convert {\n",
              "      background-color: #E8F0FE;\n",
              "      border: none;\n",
              "      border-radius: 50%;\n",
              "      cursor: pointer;\n",
              "      display: none;\n",
              "      fill: #1967D2;\n",
              "      height: 32px;\n",
              "      padding: 0 0 0 0;\n",
              "      width: 32px;\n",
              "    }\n",
              "\n",
              "    .colab-df-convert:hover {\n",
              "      background-color: #E2EBFA;\n",
              "      box-shadow: 0px 1px 2px rgba(60, 64, 67, 0.3), 0px 1px 3px 1px rgba(60, 64, 67, 0.15);\n",
              "      fill: #174EA6;\n",
              "    }\n",
              "\n",
              "    [theme=dark] .colab-df-convert {\n",
              "      background-color: #3B4455;\n",
              "      fill: #D2E3FC;\n",
              "    }\n",
              "\n",
              "    [theme=dark] .colab-df-convert:hover {\n",
              "      background-color: #434B5C;\n",
              "      box-shadow: 0px 1px 3px 1px rgba(0, 0, 0, 0.15);\n",
              "      filter: drop-shadow(0px 1px 2px rgba(0, 0, 0, 0.3));\n",
              "      fill: #FFFFFF;\n",
              "    }\n",
              "  </style>\n",
              "\n",
              "      <script>\n",
              "        const buttonEl =\n",
              "          document.querySelector('#df-25735a40-f3e2-4e03-8daf-91b7104effc4 button.colab-df-convert');\n",
              "        buttonEl.style.display =\n",
              "          google.colab.kernel.accessAllowed ? 'block' : 'none';\n",
              "\n",
              "        async function convertToInteractive(key) {\n",
              "          const element = document.querySelector('#df-25735a40-f3e2-4e03-8daf-91b7104effc4');\n",
              "          const dataTable =\n",
              "            await google.colab.kernel.invokeFunction('convertToInteractive',\n",
              "                                                     [key], {});\n",
              "          if (!dataTable) return;\n",
              "\n",
              "          const docLinkHtml = 'Like what you see? Visit the ' +\n",
              "            '<a target=\"_blank\" href=https://colab.research.google.com/notebooks/data_table.ipynb>data table notebook</a>'\n",
              "            + ' to learn more about interactive tables.';\n",
              "          element.innerHTML = '';\n",
              "          dataTable['output_type'] = 'display_data';\n",
              "          await google.colab.output.renderOutput(dataTable, element);\n",
              "          const docLink = document.createElement('div');\n",
              "          docLink.innerHTML = docLinkHtml;\n",
              "          element.appendChild(docLink);\n",
              "        }\n",
              "      </script>\n",
              "    </div>\n",
              "  </div>\n",
              "  "
            ]
          },
          "metadata": {},
          "execution_count": 649
        }
      ]
    },
    {
      "cell_type": "code",
      "source": [
        "#note that some players have multiple positions\n",
        "complete['Pos'].unique()"
      ],
      "metadata": {
        "colab": {
          "base_uri": "https://localhost:8080/"
        },
        "id": "5oqJoa0mczmy",
        "outputId": "b9635592-8cb8-4571-b266-914417f7118a"
      },
      "execution_count": 650,
      "outputs": [
        {
          "output_type": "execute_result",
          "data": {
            "text/plain": [
              "array(['C', 'SG', 'PF', 'PG', 'SF', 'PF-SF', 'SF-SG', 'SG-PG'],\n",
              "      dtype=object)"
            ]
          },
          "metadata": {},
          "execution_count": 650
        }
      ]
    },
    {
      "cell_type": "code",
      "source": [
        "#we want to make sure each player has only one position to limit the amount of categories for Pos.\n",
        "#although we don't need to one hot encode for our tree based model, limiting all \n",
        "#entries to just one position is still important\n",
        "\n",
        "for index, rows in complete.iterrows():\n",
        "  #if the position has length greater than two (meaning it isn't C, PG, SG, SF, or PF), we shorten it to the first position\n",
        "  if len(complete.at[index, 'Pos']) > 2:\n",
        "    complete.at[index, 'Pos'] = complete.at[index, 'Pos'][:2]"
      ],
      "metadata": {
        "id": "Uskq4H8DYJKh"
      },
      "execution_count": 651,
      "outputs": []
    },
    {
      "cell_type": "markdown",
      "source": [
        "# Players with salaries over 25 million will be considered max level players while those under with be considered \"Not max\""
      ],
      "metadata": {
        "id": "jdU3uVLvgMCL"
      }
    },
    {
      "cell_type": "code",
      "source": [
        "#use a lambda function to assign classes\n",
        "complete['Class'] = complete['Salary'].apply(lambda x: 'Max' if x > 25 else 'Not Max')"
      ],
      "metadata": {
        "id": "jA6bQD4Xey08"
      },
      "execution_count": 652,
      "outputs": []
    },
    {
      "cell_type": "code",
      "source": [
        "#the count of each class in the dataset before splitting\n",
        "complete['Class'].value_counts()"
      ],
      "metadata": {
        "colab": {
          "base_uri": "https://localhost:8080/"
        },
        "id": "Bo0qnBa2f5Sf",
        "outputId": "3985239d-28a9-4a35-9fb8-92931a9a6abd"
      },
      "execution_count": 653,
      "outputs": [
        {
          "output_type": "execute_result",
          "data": {
            "text/plain": [
              "Not Max    398\n",
              "Max         52\n",
              "Name: Class, dtype: int64"
            ]
          },
          "metadata": {},
          "execution_count": 653
        }
      ]
    },
    {
      "cell_type": "markdown",
      "source": [
        "Before splitting into train-test, we need to drop outliers that have been identified such as Kyle Lowry, John Wall, Gordon Hayward, and Ben Simmons. These are players who have all severly fallen off after receiving max contracts and should not appear in the training set."
      ],
      "metadata": {
        "id": "x98iXcyWUtF8"
      }
    },
    {
      "cell_type": "code",
      "source": [
        "#need to remove john wall, Gordon Hayward, Ben Simmons from the training sert"
      ],
      "metadata": {
        "id": "Lck7JFTrWouq"
      },
      "execution_count": 654,
      "outputs": []
    },
    {
      "cell_type": "code",
      "source": [
        "need_to_remove = ['John Wall', 'Gordon Hayward', 'Ben Simmons']\n",
        "for player in need_to_remove:\n",
        "  complete = complete.drop(complete[complete['Player'] == player].index)"
      ],
      "metadata": {
        "id": "a0R1omXAVTiA"
      },
      "execution_count": 655,
      "outputs": []
    },
    {
      "cell_type": "code",
      "source": [
        "print(list(complete['Player']))"
      ],
      "metadata": {
        "colab": {
          "base_uri": "https://localhost:8080/"
        },
        "id": "2acfODX4Vwtm",
        "outputId": "c31e0400-c8ac-44c8-950f-8429c242c3dc"
      },
      "execution_count": 656,
      "outputs": [
        {
          "output_type": "stream",
          "name": "stdout",
          "text": [
            "['Precious Achiuwa', 'Steven Adams', 'Bam Adebayo', 'Ochai Agbaji', 'Santi Aldama', 'Nickeil Alexander-Walker', 'Grayson Allen', 'Jarrett Allen', 'Jose Alvarado', 'Kyle Anderson', 'Giannis Antetokounmpo', 'Thanasis Antetokounmpo', 'Cole Anthony', 'OG Anunoby', 'Ryan Arcidiacono', 'Deni Avdija', 'Deandre Ayton', 'Udoka Azubuike', 'Marvin Bagley III', 'Patrick Baldwin Jr.', 'LaMelo Ball', 'Mo Bamba', 'Paolo Banchero', 'Desmond Bane', 'Dalano Banton', 'Dominick Barlow', 'Harrison Barnes', 'Scottie Barnes', 'RJ Barrett', 'Will Barton', 'Charles Bassey', 'Keita Bates-Diop', 'Nicolas Batum', 'Darius Bazley', 'Bradley Beal', 'Malik Beasley', 'MarJon Beauchamp', 'Dāvis Bertāns', 'Patrick Beverley', 'Saddiq Bey', 'Khem Birch', 'Goga Bitadze', 'Bismack Biyombo', 'Bogdan Bogdanović', 'Bojan Bogdanović', 'Bol Bol', 'Devin Booker', 'Brandon Boston Jr.', 'Chris Boucher', 'James Bouknight', 'Malaki Branham', 'Christian Braun', 'Mikal Bridges', 'Oshae Brissett', 'Malcolm Brogdon', 'Dillon Brooks', 'Bruce Brown', 'Greg Brown III', 'Jaylen Brown', 'Moses Brown', 'Troy Brown Jr.', 'Jalen Brunson', 'Thomas Bryant', 'Reggie Bullock', 'Alec Burks', 'Jimmy Butler', 'John Butler', 'Jamal Cain', 'Kentavious Caldwell-Pope', 'Vlatko Čančar', 'Clint Capela', 'Jevon Carter', 'Wendell Carter Jr.', 'Alex Caruso', 'Julian Champagnie', 'Kennedy Chandler', 'Max Christie', 'Josh Christopher', 'Brandon Clarke', 'Jordan Clarkson', 'Nic Claxton', 'Amir Coffey', 'John Collins', 'Zach Collins', 'Mike Conley', 'Pat Connaughton', 'Robert Covington', 'Torrey Craig', 'Jae Crowder', 'Seth Curry', 'Stephen Curry', 'Dyson Daniels', 'Anthony Davis', 'Johnny Davis', 'Terence Davis', 'Dewayne Dedmon', 'Matthew Dellavedova', 'DeMar DeRozan', 'Moussa Diabaté', 'Mamadi Diakite', 'Hamidou Diallo', 'Gorgui Dieng', 'Ousmane Dieng', 'Spencer Dinwiddie', 'Donte DiVincenzo', 'Luka Dončić', 'Luguentz Dort', 'Ayo Dosunmu', 'Jeff Dowtin', 'PJ Dozier', 'Goran Dragić', 'Andre Drummond', 'Chris Duarte', 'David Duke Jr.', 'Kris Dunn', 'Kevin Durant', 'Jalen Duren', 'Tari Eason', 'Anthony Edwards', 'Kessler Edwards', 'Keon Ellis', 'Joel Embiid', 'Drew Eubanks', 'Bruno Fernando', 'Dorian Finney-Smith', 'Malachi Flynn', 'Simone Fontecchio', 'Bryn Forbes', 'Trent Forrest', 'Evan Fournier', \"De'Aaron Fox\", 'Markelle Fultz', 'Wenyen Gabriel', 'Daniel Gafford', 'Darius Garland', 'Usman Garuba', 'Luka Garza', 'Rudy Gay', 'Paul George', 'Taj Gibson', 'Josh Giddey', 'Shai Gilgeous-Alexander', 'Anthony Gill', 'Rudy Gobert', 'Jordan Goodwin', 'Aaron Gordon', 'Eric Gordon', \"Devonte' Graham\", 'Jerami Grant', 'A.J. Green', 'Draymond Green', 'Jalen Green', 'JaMychal Green', 'Javonte Green', 'Jeff Green', 'Josh Green', 'AJ Griffin', 'Blake Griffin', 'Quentin Grimes', 'Rui Hachimura', 'Tyrese Haliburton', 'R.J. Hampton', 'Tim Hardaway Jr.', 'James Harden', 'Jaden Hardy', 'Montrezl Harrell', 'Gary Harris', 'Joe Harris', 'Kevon Harris', 'Tobias Harris', 'Josh Hart', 'Isaiah Hartenstein', 'Sam Hauser', 'Jaxson Hayes', 'Killian Hayes', 'Juancho Hernangómez', 'Willy Hernangómez', 'Tyler Herro', 'Buddy Hield', 'Haywood Highsmith', 'George Hill', 'Aaron Holiday', 'Jrue Holiday', 'Justin Holiday', 'Richaun Holmes', 'Al Horford', 'Talen Horton-Tucker', 'Danuel House Jr.', 'Caleb Houstan', 'Kevin Huerter', \"De'Andre Hunter\", 'Bones Hyland', 'Serge Ibaka', 'Joe Ingles', 'Brandon Ingram', 'Kyrie Irving', 'Jaden Ivey', 'Isaiah Jackson', 'Jaren Jackson Jr.', 'Justin Jackson', 'Reggie Jackson', 'LeBron James', 'Ty Jerome', 'Isaiah Joe', 'Cameron Johnson', 'Jalen Johnson', 'James Johnson', 'Keldon Johnson', 'Keon Johnson', 'Stanley Johnson', 'Nikola Jokić', 'Damian Jones', 'Derrick Jones Jr.', 'Herbert Jones', 'Kai Jones', 'Tre Jones', 'Tyus Jones', 'DeAndre Jordan', 'Cory Joseph', 'Johnny Juzang', 'Frank Kaminsky', 'Luke Kennard', 'Walker Kessler', 'Corey Kispert', 'Maxi Kleber', 'Nathan Knight', 'Kevin Knox', 'Christian Koloko', 'John Konchar', 'Furkan Korkmaz', 'Luke Kornet', 'Vit Krejci', 'Jonathan Kuminga', 'Kyle Kuzma', 'Anthony Lamb', 'Jock Landale', 'Romeo Langford', 'Jake LaRavia', 'Zach LaVine', 'Damion Lee', 'Saben Lee', 'Alex Len', 'Kawhi Leonard', 'Caris LeVert', 'Kira Lewis Jr.', 'Damian Lillard', 'Nassir Little', 'Isaiah Livers', 'Kenneth Lofton Jr.', 'Kevon Looney', 'Brook Lopez', 'Robin Lopez', 'Kevin Love', 'Kyle Lowry', 'Trey Lyles', 'Théo Maledon', 'Sandro Mamukelashvili', 'Terance Mann', 'Tre Mann', 'Boban Marjanović', 'Lauri Markkanen', 'Naji Marshall', 'Caleb Martin', 'Kenyon Martin Jr.', 'Tyrese Martin', 'Garrison Mathews', 'Bennedict Mathurin', 'Wesley Matthews', 'Tyrese Maxey', 'Miles McBride', 'CJ McCollum', 'T.J. McConnell', 'Jaden McDaniels', 'Jalen McDaniels', 'Doug McDermott', 'JaVale McGee', 'Bryce McGowens', 'Rodney McGruder', 'Jordan McLaughlin', \"De'Anthony Melton\", 'Chimezie Metu', 'Khris Middleton', 'Patty Mills', 'Shake Milton', 'Davion Mitchell', 'Donovan Mitchell', 'Evan Mobley', 'Malik Monk', 'Moses Moody', 'Wendell Moore Jr.', 'Ja Morant', 'Marcus Morris', 'Markieff Morris', 'Monte Morris', 'Trey Murphy III', 'Dejounte Murray', 'Jamal Murray', 'Keegan Murray', 'Mike Muscala', 'Svi Mykhailiuk', 'Larry Nance Jr.', 'Andrew Nembhard', 'Aaron Nesmith', 'Raul Neto', 'Georges Niang', 'Daishen Nix', 'Zeke Nnaji', 'Nerlens Noel', 'Jaylen Nowell', 'Frank Ntilikina', 'Kendrick Nunn', 'Jusuf Nurkić', 'Jordan Nwora', \"Royce O'Neale\", 'Chuma Okeke', 'Josh Okogie', 'Onyeka Okongwu', 'Isaac Okoro', 'KZ Okpala', 'Victor Oladipo', 'Kelly Olynyk', 'Eugene Omoruyi', 'Cedi Osman', 'Kelly Oubre Jr.', 'Chris Paul', 'Cameron Payne', 'Gary Payton II', 'Theo Pinson', 'Mason Plumlee', 'Jakob Poeltl', 'Aleksej Pokusevski', 'Jordan Poole', 'Kevin Porter Jr.', 'Michael Porter Jr.', 'Bobby Portis', 'Kristaps Porziņģis', 'Dwight Powell', 'Norman Powell', 'Taurean Prince', 'Payton Pritchard', 'Immanuel Quickley', 'Julius Randle', 'Austin Reaves', 'Cam Reddish', 'Davon Reed', 'Paul Reed', 'Naz Reid', 'Nick Richards', 'Josh Richardson', 'Austin Rivers', 'Duncan Robinson', 'Mitchell Robinson', 'Orlando Robinson', 'Jeremiah Robinson-Earl', 'Isaiah Roby', 'David Roddy', 'Derrick Rose', 'Terrence Ross', 'Terry Rozier', 'Ricky Rubio', \"D'Angelo Russell\", 'Matt Ryan', 'Domantas Sabonis', 'Dario Šarić', 'Admiral Schofield', 'Dennis Schröder', 'Alperen Şengün', 'Collin Sexton', 'Landry Shamet', \"Day'Ron Sharpe\", 'Shaedon Sharpe', 'Pascal Siakam', 'Anfernee Simons', 'Jericho Sims', 'Marcus Smart', 'Dennis Smith Jr.', 'Ish Smith', 'Jabari Smith Jr.', 'Jalen Smith', 'Jeremy Sochan', 'Jaden Springer', 'Lamar Stevens', 'Isaiah Stewart', 'Max Strus', 'Jalen Suggs', 'Edmond Sumner', \"Jae'Sean Tate\", 'Jayson Tatum', 'Terry Taylor', 'Garrett Temple', 'Dalen Terry', 'Cam Thomas', 'Klay Thompson', 'JT Thor', 'Matisse Thybulle', 'Xavier Tillman Sr.', 'Obi Toppin', 'Juan Toscano-Anderson', 'Karl-Anthony Towns', 'Gary Trent Jr.', 'P.J. Tucker', 'Myles Turner', 'Jonas Valančiūnas', 'Jarred Vanderbilt', 'Fred VanVleet', 'Devin Vassell', 'Gabe Vincent', 'Noah Vonleh', 'Nikola Vučević', 'Dean Wade', 'Franz Wagner', 'Moritz Wagner', 'Ish Wainright', 'Jabari Walker', 'Lonnie Walker IV', 'T.J. Warren', 'Duane Washington Jr.', 'P.J. Washington', 'TyTy Washington Jr.', 'Yuta Watanabe', 'Lindy Waters III', 'Trendon Watford', 'Peyton Watson', 'Blake Wesley', 'Russell Westbrook', 'Coby White', 'Derrick White', 'Jack White', 'Aaron Wiggins', 'Andrew Wiggins', 'Grant Williams', 'Jalen Williams', 'Jaylin Williams', 'Kenrich Williams', 'Mark Williams', 'Patrick Williams', 'Robert Williams', 'Ziaire Williams', 'Zion Williamson', 'Justise Winslow', 'James Wiseman', 'Christian Wood', 'Delon Wright', 'McKinley Wright IV', 'Thaddeus Young', 'Trae Young', 'Ivica Zubac']\n"
          ]
        }
      ]
    },
    {
      "cell_type": "code",
      "source": [
        "from sklearn.model_selection import train_test_split, cross_val_score"
      ],
      "metadata": {
        "id": "JPVKvV4fgh5e"
      },
      "execution_count": 657,
      "outputs": []
    },
    {
      "cell_type": "code",
      "source": [
        "#split into input features and target variable class\n",
        "X = complete.drop(columns = ['Salary', 'Class'], axis = 1)\n",
        "y = complete['Class']"
      ],
      "metadata": {
        "id": "jt_2Mwlsg9nf"
      },
      "execution_count": 658,
      "outputs": []
    },
    {
      "cell_type": "code",
      "source": [
        "X_train, X_test, y_train, y_test = train_test_split(X, y, random_state = 5, test_size=0.15, shuffle = True)"
      ],
      "metadata": {
        "id": "hCdTwQJwgteA"
      },
      "execution_count": 659,
      "outputs": []
    },
    {
      "cell_type": "code",
      "source": [
        "#X_train.loc[X_train['Class'] == 1]['Player']"
      ],
      "metadata": {
        "id": "YTSVvISUUxQ0"
      },
      "execution_count": 660,
      "outputs": []
    },
    {
      "cell_type": "code",
      "source": [
        "#drop the names column before proceeding\n",
        "names_train = list(X_train['Player'])\n",
        "X_train.drop(columns = ['Player', 'Pos', 'Tm'], axis = 1, inplace = True)\n",
        "names_test = list(X_test['Player'])\n",
        "X_test.drop(columns = ['Player', 'Pos', 'Tm'], axis = 1, inplace = True)"
      ],
      "metadata": {
        "id": "rKCEWHMuiCkP"
      },
      "execution_count": 661,
      "outputs": []
    },
    {
      "cell_type": "code",
      "source": [
        "print('Train:')\n",
        "print('train_features dimensions: ', X_train.shape)\n",
        "print('train_target dimensions: ', y_train.shape, '\\n')\n",
        "\n",
        "\n",
        "print('Test:')\n",
        "print('test_features dimensions: ', X_test.shape)\n",
        "print('test_target dimensions: ', y_test.shape)"
      ],
      "metadata": {
        "colab": {
          "base_uri": "https://localhost:8080/"
        },
        "id": "8zUD_NjhM8j1",
        "outputId": "cd62448c-2013-4a2d-ff42-e6af54ec45dd"
      },
      "execution_count": 662,
      "outputs": [
        {
          "output_type": "stream",
          "name": "stdout",
          "text": [
            "Train:\n",
            "train_features dimensions:  (379, 59)\n",
            "train_target dimensions:  (379,) \n",
            "\n",
            "Test:\n",
            "test_features dimensions:  (68, 59)\n",
            "test_target dimensions:  (68,)\n"
          ]
        }
      ]
    },
    {
      "cell_type": "code",
      "source": [
        "import sklearn\n",
        "from sklearn import tree"
      ],
      "metadata": {
        "id": "rCPPd9lKZQel"
      },
      "execution_count": 663,
      "outputs": []
    },
    {
      "cell_type": "code",
      "source": [
        "from sklearn.metrics import accuracy_score, confusion_matrix, precision_score, recall_score, f1_score, classification_report, ConfusionMatrixDisplay\n",
        "import matplotlib.pyplot as plt\n",
        "import seaborn"
      ],
      "metadata": {
        "id": "zZtx2omZFStq"
      },
      "execution_count": 664,
      "outputs": []
    },
    {
      "cell_type": "code",
      "source": [
        "#use a max_depth of 3 for this decision tree to avoid overfitting the data\n",
        "dt = tree.DecisionTreeClassifier(random_state= 5, max_depth = 3, criterion = 'entropy')\n",
        "dt.fit(X_train, y_train)"
      ],
      "metadata": {
        "id": "KeRsDc8UyM81",
        "colab": {
          "base_uri": "https://localhost:8080/",
          "height": 74
        },
        "outputId": "249a9bab-6609-4a05-be49-064ffd88b34d"
      },
      "execution_count": 665,
      "outputs": [
        {
          "output_type": "execute_result",
          "data": {
            "text/plain": [
              "DecisionTreeClassifier(criterion='entropy', max_depth=3, random_state=5)"
            ],
            "text/html": [
              "<style>#sk-container-id-21 {color: black;background-color: white;}#sk-container-id-21 pre{padding: 0;}#sk-container-id-21 div.sk-toggleable {background-color: white;}#sk-container-id-21 label.sk-toggleable__label {cursor: pointer;display: block;width: 100%;margin-bottom: 0;padding: 0.3em;box-sizing: border-box;text-align: center;}#sk-container-id-21 label.sk-toggleable__label-arrow:before {content: \"▸\";float: left;margin-right: 0.25em;color: #696969;}#sk-container-id-21 label.sk-toggleable__label-arrow:hover:before {color: black;}#sk-container-id-21 div.sk-estimator:hover label.sk-toggleable__label-arrow:before {color: black;}#sk-container-id-21 div.sk-toggleable__content {max-height: 0;max-width: 0;overflow: hidden;text-align: left;background-color: #f0f8ff;}#sk-container-id-21 div.sk-toggleable__content pre {margin: 0.2em;color: black;border-radius: 0.25em;background-color: #f0f8ff;}#sk-container-id-21 input.sk-toggleable__control:checked~div.sk-toggleable__content {max-height: 200px;max-width: 100%;overflow: auto;}#sk-container-id-21 input.sk-toggleable__control:checked~label.sk-toggleable__label-arrow:before {content: \"▾\";}#sk-container-id-21 div.sk-estimator input.sk-toggleable__control:checked~label.sk-toggleable__label {background-color: #d4ebff;}#sk-container-id-21 div.sk-label input.sk-toggleable__control:checked~label.sk-toggleable__label {background-color: #d4ebff;}#sk-container-id-21 input.sk-hidden--visually {border: 0;clip: rect(1px 1px 1px 1px);clip: rect(1px, 1px, 1px, 1px);height: 1px;margin: -1px;overflow: hidden;padding: 0;position: absolute;width: 1px;}#sk-container-id-21 div.sk-estimator {font-family: monospace;background-color: #f0f8ff;border: 1px dotted black;border-radius: 0.25em;box-sizing: border-box;margin-bottom: 0.5em;}#sk-container-id-21 div.sk-estimator:hover {background-color: #d4ebff;}#sk-container-id-21 div.sk-parallel-item::after {content: \"\";width: 100%;border-bottom: 1px solid gray;flex-grow: 1;}#sk-container-id-21 div.sk-label:hover label.sk-toggleable__label {background-color: #d4ebff;}#sk-container-id-21 div.sk-serial::before {content: \"\";position: absolute;border-left: 1px solid gray;box-sizing: border-box;top: 0;bottom: 0;left: 50%;z-index: 0;}#sk-container-id-21 div.sk-serial {display: flex;flex-direction: column;align-items: center;background-color: white;padding-right: 0.2em;padding-left: 0.2em;position: relative;}#sk-container-id-21 div.sk-item {position: relative;z-index: 1;}#sk-container-id-21 div.sk-parallel {display: flex;align-items: stretch;justify-content: center;background-color: white;position: relative;}#sk-container-id-21 div.sk-item::before, #sk-container-id-21 div.sk-parallel-item::before {content: \"\";position: absolute;border-left: 1px solid gray;box-sizing: border-box;top: 0;bottom: 0;left: 50%;z-index: -1;}#sk-container-id-21 div.sk-parallel-item {display: flex;flex-direction: column;z-index: 1;position: relative;background-color: white;}#sk-container-id-21 div.sk-parallel-item:first-child::after {align-self: flex-end;width: 50%;}#sk-container-id-21 div.sk-parallel-item:last-child::after {align-self: flex-start;width: 50%;}#sk-container-id-21 div.sk-parallel-item:only-child::after {width: 0;}#sk-container-id-21 div.sk-dashed-wrapped {border: 1px dashed gray;margin: 0 0.4em 0.5em 0.4em;box-sizing: border-box;padding-bottom: 0.4em;background-color: white;}#sk-container-id-21 div.sk-label label {font-family: monospace;font-weight: bold;display: inline-block;line-height: 1.2em;}#sk-container-id-21 div.sk-label-container {text-align: center;}#sk-container-id-21 div.sk-container {/* jupyter's `normalize.less` sets `[hidden] { display: none; }` but bootstrap.min.css set `[hidden] { display: none !important; }` so we also need the `!important` here to be able to override the default hidden behavior on the sphinx rendered scikit-learn.org. See: https://github.com/scikit-learn/scikit-learn/issues/21755 */display: inline-block !important;position: relative;}#sk-container-id-21 div.sk-text-repr-fallback {display: none;}</style><div id=\"sk-container-id-21\" class=\"sk-top-container\"><div class=\"sk-text-repr-fallback\"><pre>DecisionTreeClassifier(criterion=&#x27;entropy&#x27;, max_depth=3, random_state=5)</pre><b>In a Jupyter environment, please rerun this cell to show the HTML representation or trust the notebook. <br />On GitHub, the HTML representation is unable to render, please try loading this page with nbviewer.org.</b></div><div class=\"sk-container\" hidden><div class=\"sk-item\"><div class=\"sk-estimator sk-toggleable\"><input class=\"sk-toggleable__control sk-hidden--visually\" id=\"sk-estimator-id-21\" type=\"checkbox\" checked><label for=\"sk-estimator-id-21\" class=\"sk-toggleable__label sk-toggleable__label-arrow\">DecisionTreeClassifier</label><div class=\"sk-toggleable__content\"><pre>DecisionTreeClassifier(criterion=&#x27;entropy&#x27;, max_depth=3, random_state=5)</pre></div></div></div></div></div>"
            ]
          },
          "metadata": {},
          "execution_count": 665
        }
      ]
    },
    {
      "cell_type": "code",
      "source": [
        "class_predicted = dt.predict(X_test)"
      ],
      "metadata": {
        "id": "rWbfZswbZrJD"
      },
      "execution_count": 666,
      "outputs": []
    },
    {
      "cell_type": "markdown",
      "source": [
        "# Create a dataframe predictions"
      ],
      "metadata": {
        "id": "SyD7JeEhqtCL"
      }
    },
    {
      "cell_type": "code",
      "source": [
        "predictions = pd.DataFrame({'Name': names_test, 'Real label': y_test, 'Prediction': class_predicted})"
      ],
      "metadata": {
        "id": "E04ueFrWkEED"
      },
      "execution_count": 667,
      "outputs": []
    },
    {
      "cell_type": "code",
      "source": [
        "print(\"Correct Predictions: \")\n",
        "for index, rows in predictions.iterrows():\n",
        "  if predictions.at[index, 'Real label'] == predictions.at[index, 'Prediction']:\n",
        "    print(predictions.at[index, 'Name'], '-', predictions.at[index,'Real label'])"
      ],
      "metadata": {
        "colab": {
          "base_uri": "https://localhost:8080/"
        },
        "id": "fdKde9gspzFB",
        "outputId": "36956c0b-4546-4802-8d6d-9a6d4c9cc460"
      },
      "execution_count": 668,
      "outputs": [
        {
          "output_type": "stream",
          "name": "stdout",
          "text": [
            "Correct Predictions: \n",
            "Kenyon Martin Jr. - Not Max\n",
            "Bradley Beal - Max\n",
            "Monte Morris - Not Max\n",
            "Jaren Jackson Jr. - Max\n",
            "Xavier Tillman Sr. - Not Max\n",
            "Javonte Green - Not Max\n",
            "Kennedy Chandler - Not Max\n",
            "Richaun Holmes - Not Max\n",
            "Jake LaRavia - Not Max\n",
            "Khem Birch - Not Max\n",
            "Bryn Forbes - Not Max\n",
            "Nassir Little - Not Max\n",
            "Derrick Jones Jr. - Not Max\n",
            "Kevon Harris - Not Max\n",
            "Jevon Carter - Not Max\n",
            "R.J. Hampton - Not Max\n",
            "Dalen Terry - Not Max\n",
            "Payton Pritchard - Not Max\n",
            "Landry Shamet - Not Max\n",
            "Thaddeus Young - Not Max\n",
            "Stanley Johnson - Not Max\n",
            "Gorgui Dieng - Not Max\n",
            "Walker Kessler - Not Max\n",
            "Kyrie Irving - Max\n",
            "Josh Giddey - Not Max\n",
            "Justise Winslow - Not Max\n",
            "Terry Rozier - Not Max\n",
            "Willy Hernangómez - Not Max\n",
            "John Butler - Not Max\n",
            "Paul George - Max\n",
            "Mikal Bridges - Not Max\n",
            "Caleb Martin - Not Max\n",
            "Tari Eason - Not Max\n",
            "Josh Richardson - Not Max\n",
            "Mo Bamba - Not Max\n",
            "Mark Williams - Not Max\n",
            "Wenyen Gabriel - Not Max\n",
            "Bogdan Bogdanović - Not Max\n",
            "LeBron James - Max\n",
            "Jarred Vanderbilt - Not Max\n",
            "Jae'Sean Tate - Not Max\n",
            "Boban Marjanović - Not Max\n",
            "Mitchell Robinson - Not Max\n",
            "Mamadi Diakite - Not Max\n",
            "Malaki Branham - Not Max\n",
            "Georges Niang - Not Max\n",
            "T.J. Warren - Not Max\n",
            "Rodney McGruder - Not Max\n",
            "Donovan Mitchell - Max\n",
            "Kendrick Nunn - Not Max\n",
            "Moussa Diabaté - Not Max\n",
            "Dwight Powell - Not Max\n",
            "Moses Moody - Not Max\n",
            "Marcus Morris - Not Max\n",
            "Daishen Nix - Not Max\n",
            "Robin Lopez - Not Max\n",
            "Jeff Dowtin - Not Max\n",
            "Brandon Boston Jr. - Not Max\n",
            "JaMychal Green - Not Max\n",
            "Kyle Anderson - Not Max\n",
            "Nick Richards - Not Max\n",
            "Miles McBride - Not Max\n",
            "Oshae Brissett - Not Max\n"
          ]
        }
      ]
    },
    {
      "cell_type": "markdown",
      "source": [
        "# Dataframe showing the models missed predictions (where the model disagrees with true label)"
      ],
      "metadata": {
        "id": "pkrYzgbLqmEY"
      }
    },
    {
      "cell_type": "code",
      "source": [
        "predictions.loc[predictions['Real label'] != predictions['Prediction']].reset_index(drop = True)"
      ],
      "metadata": {
        "colab": {
          "base_uri": "https://localhost:8080/",
          "height": 206
        },
        "id": "UAUB8Za4ke9k",
        "outputId": "5fe7adce-f220-4020-dfe5-1fad7f03f82c"
      },
      "execution_count": 669,
      "outputs": [
        {
          "output_type": "execute_result",
          "data": {
            "text/plain": [
              "                Name Real label Prediction\n",
              "0          Ja Morant    Not Max        Max\n",
              "1  Jonas Valančiūnas    Not Max        Max\n",
              "2          Josh Hart    Not Max        Max\n",
              "3      Fred VanVleet    Not Max        Max\n",
              "4  Russell Westbrook        Max    Not Max"
            ],
            "text/html": [
              "\n",
              "  <div id=\"df-e9c672fe-da3a-46fd-844c-cf5241fb1002\">\n",
              "    <div class=\"colab-df-container\">\n",
              "      <div>\n",
              "<style scoped>\n",
              "    .dataframe tbody tr th:only-of-type {\n",
              "        vertical-align: middle;\n",
              "    }\n",
              "\n",
              "    .dataframe tbody tr th {\n",
              "        vertical-align: top;\n",
              "    }\n",
              "\n",
              "    .dataframe thead th {\n",
              "        text-align: right;\n",
              "    }\n",
              "</style>\n",
              "<table border=\"1\" class=\"dataframe\">\n",
              "  <thead>\n",
              "    <tr style=\"text-align: right;\">\n",
              "      <th></th>\n",
              "      <th>Name</th>\n",
              "      <th>Real label</th>\n",
              "      <th>Prediction</th>\n",
              "    </tr>\n",
              "  </thead>\n",
              "  <tbody>\n",
              "    <tr>\n",
              "      <th>0</th>\n",
              "      <td>Ja Morant</td>\n",
              "      <td>Not Max</td>\n",
              "      <td>Max</td>\n",
              "    </tr>\n",
              "    <tr>\n",
              "      <th>1</th>\n",
              "      <td>Jonas Valančiūnas</td>\n",
              "      <td>Not Max</td>\n",
              "      <td>Max</td>\n",
              "    </tr>\n",
              "    <tr>\n",
              "      <th>2</th>\n",
              "      <td>Josh Hart</td>\n",
              "      <td>Not Max</td>\n",
              "      <td>Max</td>\n",
              "    </tr>\n",
              "    <tr>\n",
              "      <th>3</th>\n",
              "      <td>Fred VanVleet</td>\n",
              "      <td>Not Max</td>\n",
              "      <td>Max</td>\n",
              "    </tr>\n",
              "    <tr>\n",
              "      <th>4</th>\n",
              "      <td>Russell Westbrook</td>\n",
              "      <td>Max</td>\n",
              "      <td>Not Max</td>\n",
              "    </tr>\n",
              "  </tbody>\n",
              "</table>\n",
              "</div>\n",
              "      <button class=\"colab-df-convert\" onclick=\"convertToInteractive('df-e9c672fe-da3a-46fd-844c-cf5241fb1002')\"\n",
              "              title=\"Convert this dataframe to an interactive table.\"\n",
              "              style=\"display:none;\">\n",
              "        \n",
              "  <svg xmlns=\"http://www.w3.org/2000/svg\" height=\"24px\"viewBox=\"0 0 24 24\"\n",
              "       width=\"24px\">\n",
              "    <path d=\"M0 0h24v24H0V0z\" fill=\"none\"/>\n",
              "    <path d=\"M18.56 5.44l.94 2.06.94-2.06 2.06-.94-2.06-.94-.94-2.06-.94 2.06-2.06.94zm-11 1L8.5 8.5l.94-2.06 2.06-.94-2.06-.94L8.5 2.5l-.94 2.06-2.06.94zm10 10l.94 2.06.94-2.06 2.06-.94-2.06-.94-.94-2.06-.94 2.06-2.06.94z\"/><path d=\"M17.41 7.96l-1.37-1.37c-.4-.4-.92-.59-1.43-.59-.52 0-1.04.2-1.43.59L10.3 9.45l-7.72 7.72c-.78.78-.78 2.05 0 2.83L4 21.41c.39.39.9.59 1.41.59.51 0 1.02-.2 1.41-.59l7.78-7.78 2.81-2.81c.8-.78.8-2.07 0-2.86zM5.41 20L4 18.59l7.72-7.72 1.47 1.35L5.41 20z\"/>\n",
              "  </svg>\n",
              "      </button>\n",
              "      \n",
              "  <style>\n",
              "    .colab-df-container {\n",
              "      display:flex;\n",
              "      flex-wrap:wrap;\n",
              "      gap: 12px;\n",
              "    }\n",
              "\n",
              "    .colab-df-convert {\n",
              "      background-color: #E8F0FE;\n",
              "      border: none;\n",
              "      border-radius: 50%;\n",
              "      cursor: pointer;\n",
              "      display: none;\n",
              "      fill: #1967D2;\n",
              "      height: 32px;\n",
              "      padding: 0 0 0 0;\n",
              "      width: 32px;\n",
              "    }\n",
              "\n",
              "    .colab-df-convert:hover {\n",
              "      background-color: #E2EBFA;\n",
              "      box-shadow: 0px 1px 2px rgba(60, 64, 67, 0.3), 0px 1px 3px 1px rgba(60, 64, 67, 0.15);\n",
              "      fill: #174EA6;\n",
              "    }\n",
              "\n",
              "    [theme=dark] .colab-df-convert {\n",
              "      background-color: #3B4455;\n",
              "      fill: #D2E3FC;\n",
              "    }\n",
              "\n",
              "    [theme=dark] .colab-df-convert:hover {\n",
              "      background-color: #434B5C;\n",
              "      box-shadow: 0px 1px 3px 1px rgba(0, 0, 0, 0.15);\n",
              "      filter: drop-shadow(0px 1px 2px rgba(0, 0, 0, 0.3));\n",
              "      fill: #FFFFFF;\n",
              "    }\n",
              "  </style>\n",
              "\n",
              "      <script>\n",
              "        const buttonEl =\n",
              "          document.querySelector('#df-e9c672fe-da3a-46fd-844c-cf5241fb1002 button.colab-df-convert');\n",
              "        buttonEl.style.display =\n",
              "          google.colab.kernel.accessAllowed ? 'block' : 'none';\n",
              "\n",
              "        async function convertToInteractive(key) {\n",
              "          const element = document.querySelector('#df-e9c672fe-da3a-46fd-844c-cf5241fb1002');\n",
              "          const dataTable =\n",
              "            await google.colab.kernel.invokeFunction('convertToInteractive',\n",
              "                                                     [key], {});\n",
              "          if (!dataTable) return;\n",
              "\n",
              "          const docLinkHtml = 'Like what you see? Visit the ' +\n",
              "            '<a target=\"_blank\" href=https://colab.research.google.com/notebooks/data_table.ipynb>data table notebook</a>'\n",
              "            + ' to learn more about interactive tables.';\n",
              "          element.innerHTML = '';\n",
              "          dataTable['output_type'] = 'display_data';\n",
              "          await google.colab.output.renderOutput(dataTable, element);\n",
              "          const docLink = document.createElement('div');\n",
              "          docLink.innerHTML = docLinkHtml;\n",
              "          element.appendChild(docLink);\n",
              "        }\n",
              "      </script>\n",
              "    </div>\n",
              "  </div>\n",
              "  "
            ]
          },
          "metadata": {},
          "execution_count": 669
        }
      ]
    },
    {
      "cell_type": "code",
      "source": [
        "from sklearn.metrics import accuracy_score, f1_score, precision_score, recall_score"
      ],
      "metadata": {
        "id": "Pn8v8XB5jAwk"
      },
      "execution_count": 670,
      "outputs": []
    },
    {
      "cell_type": "code",
      "source": [
        "print(\"Accuracy: \", accuracy_score(class_predicted, y_test))\n",
        "#print(\"F1: \", f1_score(class_predicted, y_test))\n",
        "#print(\"Precision: \", precision_score(class_predicted, y_test))\n",
        "#print(\"Recall: \", recall_score(class_predicted, y_test))"
      ],
      "metadata": {
        "colab": {
          "base_uri": "https://localhost:8080/"
        },
        "id": "cXoBDDj-GVDY",
        "outputId": "bde3141a-0b5d-42a1-c231-bb3548564267"
      },
      "execution_count": 671,
      "outputs": [
        {
          "output_type": "stream",
          "name": "stdout",
          "text": [
            "Accuracy:  0.9264705882352942\n"
          ]
        }
      ]
    },
    {
      "cell_type": "markdown",
      "source": [
        "# Confusion matrix for the model's performance on the test data"
      ],
      "metadata": {
        "id": "i-9AC4Chq_BT"
      }
    },
    {
      "cell_type": "code",
      "source": [
        "disp = ConfusionMatrixDisplay.from_estimator(\n",
        "        dt,\n",
        "        X_test,\n",
        "        y_test,\n",
        "        cmap=plt.cm.Reds,\n",
        "    )\n",
        "\n",
        "print(disp.confusion_matrix)"
      ],
      "metadata": {
        "colab": {
          "base_uri": "https://localhost:8080/",
          "height": 484
        },
        "id": "D7tR6pnTE67I",
        "outputId": "2f7fb9cd-ebd1-4cc2-9809-421faf26400a"
      },
      "execution_count": 672,
      "outputs": [
        {
          "output_type": "stream",
          "name": "stdout",
          "text": [
            "[[ 6  1]\n",
            " [ 4 57]]\n"
          ]
        },
        {
          "output_type": "display_data",
          "data": {
            "text/plain": [
              "<Figure size 640x480 with 2 Axes>"
            ],
            "image/png": "[encoded data removed]"
          },
          "metadata": {}
        }
      ]
    },
    {
      "cell_type": "markdown",
      "source": [
        "# Investigate how the model learned on the training data we provided"
      ],
      "metadata": {
        "id": "Qv-KxhfHrLqu"
      }
    },
    {
      "cell_type": "code",
      "source": [
        "class_pred = dt.predict(X_train)"
      ],
      "metadata": {
        "id": "GqpiB_oHliIo"
      },
      "execution_count": 673,
      "outputs": []
    },
    {
      "cell_type": "code",
      "source": [
        "predictions2 = pd.DataFrame({'Name': names_train, 'Real label': y_train, 'Prediction': class_pred})"
      ],
      "metadata": {
        "id": "FckLfzYWloYk"
      },
      "execution_count": 674,
      "outputs": []
    },
    {
      "cell_type": "code",
      "source": [
        "predictions2.loc[predictions2['Real label'] != predictions2['Prediction']]"
      ],
      "metadata": {
        "colab": {
          "base_uri": "https://localhost:8080/",
          "height": 457
        },
        "id": "rAPjoROkmBv4",
        "outputId": "d4d9b771-4bbf-4e74-bdbd-49c667db0e26"
      },
      "execution_count": 675,
      "outputs": [
        {
          "output_type": "execute_result",
          "data": {
            "text/plain": [
              "                  Name Real label Prediction\n",
              "432     Andrew Wiggins        Max    Not Max\n",
              "441    Zion Williamson    Not Max        Max\n",
              "134     Darius Garland    Not Max        Max\n",
              "111     Andre Drummond    Not Max        Max\n",
              "23        Desmond Bane    Not Max        Max\n",
              "269       Tyrese Maxey    Not Max        Max\n",
              "271        CJ McCollum        Max    Not Max\n",
              "261    Lauri Markkanen    Not Max        Max\n",
              "160  Tyrese Haliburton    Not Max        Max\n",
              "394      Klay Thompson        Max    Not Max\n",
              "342      Julius Randle    Not Max        Max\n",
              "401     Gary Trent Jr.    Not Max        Max\n",
              "7        Jarrett Allen    Not Max        Max"
            ],
            "text/html": [
              "\n",
              "  <div id=\"df-46b2a838-1386-403d-b027-c059a275a87a\">\n",
              "    <div class=\"colab-df-container\">\n",
              "      <div>\n",
              "<style scoped>\n",
              "    .dataframe tbody tr th:only-of-type {\n",
              "        vertical-align: middle;\n",
              "    }\n",
              "\n",
              "    .dataframe tbody tr th {\n",
              "        vertical-align: top;\n",
              "    }\n",
              "\n",
              "    .dataframe thead th {\n",
              "        text-align: right;\n",
              "    }\n",
              "</style>\n",
              "<table border=\"1\" class=\"dataframe\">\n",
              "  <thead>\n",
              "    <tr style=\"text-align: right;\">\n",
              "      <th></th>\n",
              "      <th>Name</th>\n",
              "      <th>Real label</th>\n",
              "      <th>Prediction</th>\n",
              "    </tr>\n",
              "  </thead>\n",
              "  <tbody>\n",
              "    <tr>\n",
              "      <th>432</th>\n",
              "      <td>Andrew Wiggins</td>\n",
              "      <td>Max</td>\n",
              "      <td>Not Max</td>\n",
              "    </tr>\n",
              "    <tr>\n",
              "      <th>441</th>\n",
              "      <td>Zion Williamson</td>\n",
              "      <td>Not Max</td>\n",
              "      <td>Max</td>\n",
              "    </tr>\n",
              "    <tr>\n",
              "      <th>134</th>\n",
              "      <td>Darius Garland</td>\n",
              "      <td>Not Max</td>\n",
              "      <td>Max</td>\n",
              "    </tr>\n",
              "    <tr>\n",
              "      <th>111</th>\n",
              "      <td>Andre Drummond</td>\n",
              "      <td>Not Max</td>\n",
              "      <td>Max</td>\n",
              "    </tr>\n",
              "    <tr>\n",
              "      <th>23</th>\n",
              "      <td>Desmond Bane</td>\n",
              "      <td>Not Max</td>\n",
              "      <td>Max</td>\n",
              "    </tr>\n",
              "    <tr>\n",
              "      <th>269</th>\n",
              "      <td>Tyrese Maxey</td>\n",
              "      <td>Not Max</td>\n",
              "      <td>Max</td>\n",
              "    </tr>\n",
              "    <tr>\n",
              "      <th>271</th>\n",
              "      <td>CJ McCollum</td>\n",
              "      <td>Max</td>\n",
              "      <td>Not Max</td>\n",
              "    </tr>\n",
              "    <tr>\n",
              "      <th>261</th>\n",
              "      <td>Lauri Markkanen</td>\n",
              "      <td>Not Max</td>\n",
              "      <td>Max</td>\n",
              "    </tr>\n",
              "    <tr>\n",
              "      <th>160</th>\n",
              "      <td>Tyrese Haliburton</td>\n",
              "      <td>Not Max</td>\n",
              "      <td>Max</td>\n",
              "    </tr>\n",
              "    <tr>\n",
              "      <th>394</th>\n",
              "      <td>Klay Thompson</td>\n",
              "      <td>Max</td>\n",
              "      <td>Not Max</td>\n",
              "    </tr>\n",
              "    <tr>\n",
              "      <th>342</th>\n",
              "      <td>Julius Randle</td>\n",
              "      <td>Not Max</td>\n",
              "      <td>Max</td>\n",
              "    </tr>\n",
              "    <tr>\n",
              "      <th>401</th>\n",
              "      <td>Gary Trent Jr.</td>\n",
              "      <td>Not Max</td>\n",
              "      <td>Max</td>\n",
              "    </tr>\n",
              "    <tr>\n",
              "      <th>7</th>\n",
              "      <td>Jarrett Allen</td>\n",
              "      <td>Not Max</td>\n",
              "      <td>Max</td>\n",
              "    </tr>\n",
              "  </tbody>\n",
              "</table>\n",
              "</div>\n",
              "      <button class=\"colab-df-convert\" onclick=\"convertToInteractive('df-46b2a838-1386-403d-b027-c059a275a87a')\"\n",
              "              title=\"Convert this dataframe to an interactive table.\"\n",
              "              style=\"display:none;\">\n",
              "        \n",
              "  <svg xmlns=\"http://www.w3.org/2000/svg\" height=\"24px\"viewBox=\"0 0 24 24\"\n",
              "       width=\"24px\">\n",
              "    <path d=\"M0 0h24v24H0V0z\" fill=\"none\"/>\n",
              "    <path d=\"M18.56 5.44l.94 2.06.94-2.06 2.06-.94-2.06-.94-.94-2.06-.94 2.06-2.06.94zm-11 1L8.5 8.5l.94-2.06 2.06-.94-2.06-.94L8.5 2.5l-.94 2.06-2.06.94zm10 10l.94 2.06.94-2.06 2.06-.94-2.06-.94-.94-2.06-.94 2.06-2.06.94z\"/><path d=\"M17.41 7.96l-1.37-1.37c-.4-.4-.92-.59-1.43-.59-.52 0-1.04.2-1.43.59L10.3 9.45l-7.72 7.72c-.78.78-.78 2.05 0 2.83L4 21.41c.39.39.9.59 1.41.59.51 0 1.02-.2 1.41-.59l7.78-7.78 2.81-2.81c.8-.78.8-2.07 0-2.86zM5.41 20L4 18.59l7.72-7.72 1.47 1.35L5.41 20z\"/>\n",
              "  </svg>\n",
              "      </button>\n",
              "      \n",
              "  <style>\n",
              "    .colab-df-container {\n",
              "      display:flex;\n",
              "      flex-wrap:wrap;\n",
              "      gap: 12px;\n",
              "    }\n",
              "\n",
              "    .colab-df-convert {\n",
              "      background-color: #E8F0FE;\n",
              "      border: none;\n",
              "      border-radius: 50%;\n",
              "      cursor: pointer;\n",
              "      display: none;\n",
              "      fill: #1967D2;\n",
              "      height: 32px;\n",
              "      padding: 0 0 0 0;\n",
              "      width: 32px;\n",
              "    }\n",
              "\n",
              "    .colab-df-convert:hover {\n",
              "      background-color: #E2EBFA;\n",
              "      box-shadow: 0px 1px 2px rgba(60, 64, 67, 0.3), 0px 1px 3px 1px rgba(60, 64, 67, 0.15);\n",
              "      fill: #174EA6;\n",
              "    }\n",
              "\n",
              "    [theme=dark] .colab-df-convert {\n",
              "      background-color: #3B4455;\n",
              "      fill: #D2E3FC;\n",
              "    }\n",
              "\n",
              "    [theme=dark] .colab-df-convert:hover {\n",
              "      background-color: #434B5C;\n",
              "      box-shadow: 0px 1px 3px 1px rgba(0, 0, 0, 0.15);\n",
              "      filter: drop-shadow(0px 1px 2px rgba(0, 0, 0, 0.3));\n",
              "      fill: #FFFFFF;\n",
              "    }\n",
              "  </style>\n",
              "\n",
              "      <script>\n",
              "        const buttonEl =\n",
              "          document.querySelector('#df-46b2a838-1386-403d-b027-c059a275a87a button.colab-df-convert');\n",
              "        buttonEl.style.display =\n",
              "          google.colab.kernel.accessAllowed ? 'block' : 'none';\n",
              "\n",
              "        async function convertToInteractive(key) {\n",
              "          const element = document.querySelector('#df-46b2a838-1386-403d-b027-c059a275a87a');\n",
              "          const dataTable =\n",
              "            await google.colab.kernel.invokeFunction('convertToInteractive',\n",
              "                                                     [key], {});\n",
              "          if (!dataTable) return;\n",
              "\n",
              "          const docLinkHtml = 'Like what you see? Visit the ' +\n",
              "            '<a target=\"_blank\" href=https://colab.research.google.com/notebooks/data_table.ipynb>data table notebook</a>'\n",
              "            + ' to learn more about interactive tables.';\n",
              "          element.innerHTML = '';\n",
              "          dataTable['output_type'] = 'display_data';\n",
              "          await google.colab.output.renderOutput(dataTable, element);\n",
              "          const docLink = document.createElement('div');\n",
              "          docLink.innerHTML = docLinkHtml;\n",
              "          element.appendChild(docLink);\n",
              "        }\n",
              "      </script>\n",
              "    </div>\n",
              "  </div>\n",
              "  "
            ]
          },
          "metadata": {},
          "execution_count": 675
        }
      ]
    },
    {
      "cell_type": "markdown",
      "source": [
        "# Print the 41 players deserving of the max as identified by the model"
      ],
      "metadata": {
        "id": "19lYrzIArXyW"
      }
    },
    {
      "cell_type": "code",
      "source": [
        "predictions2.loc[(predictions2['Real label'] == 'Max') & (predictions2['Prediction'] == 'Max')]"
      ],
      "metadata": {
        "colab": {
          "base_uri": "https://localhost:8080/",
          "height": 1000
        },
        "id": "iBFNrmnurcdb",
        "outputId": "dc02c456-74d5-4284-ec6e-9a364299efc0"
      },
      "execution_count": 676,
      "outputs": [
        {
          "output_type": "execute_result",
          "data": {
            "text/plain": [
              "                        Name Real label Prediction\n",
              "150           Draymond Green        Max        Max\n",
              "90             Stephen Curry        Max        Max\n",
              "400       Karl-Anthony Towns        Max        Max\n",
              "141  Shai Gilgeous-Alexander        Max        Max\n",
              "336       Kristaps Porziņģis        Max        Max\n",
              "183             Jrue Holiday        Max        Max\n",
              "115             Kevin Durant        Max        Max\n",
              "186               Al Horford        Max        Max\n",
              "254               Kyle Lowry        Max        Max\n",
              "334       Michael Porter Jr.        Max        Max\n",
              "372            Pascal Siakam        Max        Max\n",
              "10     Giannis Antetokounmpo        Max        Max\n",
              "243            Kawhi Leonard        Max        Max\n",
              "92             Anthony Davis        Max        Max\n",
              "46              Devin Booker        Max        Max\n",
              "58              Jaylen Brown        Max        Max\n",
              "61             Jalen Brunson        Max        Max\n",
              "239              Zach LaVine        Max        Max\n",
              "163             James Harden        Max        Max\n",
              "2                Bam Adebayo        Max        Max\n",
              "297             Jamal Murray        Max        Max\n",
              "282          Khris Middleton        Max        Max\n",
              "448               Trae Young        Max        Max\n",
              "97             DeMar DeRozan        Max        Max\n",
              "253               Kevin Love        Max        Max\n",
              "130             De'Aaron Fox        Max        Max\n",
              "389             Jayson Tatum        Max        Max\n",
              "143              Rudy Gobert        Max        Max\n",
              "121              Joel Embiid        Max        Max\n",
              "195           Brandon Ingram        Max        Max\n",
              "169            Tobias Harris        Max        Max\n",
              "361         D'Angelo Russell        Max        Max\n",
              "403             Myles Turner        Max        Max\n",
              "16             Deandre Ayton        Max        Max\n",
              "246           Damian Lillard        Max        Max\n",
              "105              Luka Dončić        Max        Max\n",
              "325               Chris Paul        Max        Max\n",
              "211             Nikola Jokić        Max        Max\n",
              "65              Jimmy Butler        Max        Max"
            ],
            "text/html": [
              "\n",
              "  <div id=\"df-d6522fab-f16c-49c8-bddc-60839b167fe2\">\n",
              "    <div class=\"colab-df-container\">\n",
              "      <div>\n",
              "<style scoped>\n",
              "    .dataframe tbody tr th:only-of-type {\n",
              "        vertical-align: middle;\n",
              "    }\n",
              "\n",
              "    .dataframe tbody tr th {\n",
              "        vertical-align: top;\n",
              "    }\n",
              "\n",
              "    .dataframe thead th {\n",
              "        text-align: right;\n",
              "    }\n",
              "</style>\n",
              "<table border=\"1\" class=\"dataframe\">\n",
              "  <thead>\n",
              "    <tr style=\"text-align: right;\">\n",
              "      <th></th>\n",
              "      <th>Name</th>\n",
              "      <th>Real label</th>\n",
              "      <th>Prediction</th>\n",
              "    </tr>\n",
              "  </thead>\n",
              "  <tbody>\n",
              "    <tr>\n",
              "      <th>150</th>\n",
              "      <td>Draymond Green</td>\n",
              "      <td>Max</td>\n",
              "      <td>Max</td>\n",
              "    </tr>\n",
              "    <tr>\n",
              "      <th>90</th>\n",
              "      <td>Stephen Curry</td>\n",
              "      <td>Max</td>\n",
              "      <td>Max</td>\n",
              "    </tr>\n",
              "    <tr>\n",
              "      <th>400</th>\n",
              "      <td>Karl-Anthony Towns</td>\n",
              "      <td>Max</td>\n",
              "      <td>Max</td>\n",
              "    </tr>\n",
              "    <tr>\n",
              "      <th>141</th>\n",
              "      <td>Shai Gilgeous-Alexander</td>\n",
              "      <td>Max</td>\n",
              "      <td>Max</td>\n",
              "    </tr>\n",
              "    <tr>\n",
              "      <th>336</th>\n",
              "      <td>Kristaps Porziņģis</td>\n",
              "      <td>Max</td>\n",
              "      <td>Max</td>\n",
              "    </tr>\n",
              "    <tr>\n",
              "      <th>183</th>\n",
              "      <td>Jrue Holiday</td>\n",
              "      <td>Max</td>\n",
              "      <td>Max</td>\n",
              "    </tr>\n",
              "    <tr>\n",
              "      <th>115</th>\n",
              "      <td>Kevin Durant</td>\n",
              "      <td>Max</td>\n",
              "      <td>Max</td>\n",
              "    </tr>\n",
              "    <tr>\n",
              "      <th>186</th>\n",
              "      <td>Al Horford</td>\n",
              "      <td>Max</td>\n",
              "      <td>Max</td>\n",
              "    </tr>\n",
              "    <tr>\n",
              "      <th>254</th>\n",
              "      <td>Kyle Lowry</td>\n",
              "      <td>Max</td>\n",
              "      <td>Max</td>\n",
              "    </tr>\n",
              "    <tr>\n",
              "      <th>334</th>\n",
              "      <td>Michael Porter Jr.</td>\n",
              "      <td>Max</td>\n",
              "      <td>Max</td>\n",
              "    </tr>\n",
              "    <tr>\n",
              "      <th>372</th>\n",
              "      <td>Pascal Siakam</td>\n",
              "      <td>Max</td>\n",
              "      <td>Max</td>\n",
              "    </tr>\n",
              "    <tr>\n",
              "      <th>10</th>\n",
              "      <td>Giannis Antetokounmpo</td>\n",
              "      <td>Max</td>\n",
              "      <td>Max</td>\n",
              "    </tr>\n",
              "    <tr>\n",
              "      <th>243</th>\n",
              "      <td>Kawhi Leonard</td>\n",
              "      <td>Max</td>\n",
              "      <td>Max</td>\n",
              "    </tr>\n",
              "    <tr>\n",
              "      <th>92</th>\n",
              "      <td>Anthony Davis</td>\n",
              "      <td>Max</td>\n",
              "      <td>Max</td>\n",
              "    </tr>\n",
              "    <tr>\n",
              "      <th>46</th>\n",
              "      <td>Devin Booker</td>\n",
              "      <td>Max</td>\n",
              "      <td>Max</td>\n",
              "    </tr>\n",
              "    <tr>\n",
              "      <th>58</th>\n",
              "      <td>Jaylen Brown</td>\n",
              "      <td>Max</td>\n",
              "      <td>Max</td>\n",
              "    </tr>\n",
              "    <tr>\n",
              "      <th>61</th>\n",
              "      <td>Jalen Brunson</td>\n",
              "      <td>Max</td>\n",
              "      <td>Max</td>\n",
              "    </tr>\n",
              "    <tr>\n",
              "      <th>239</th>\n",
              "      <td>Zach LaVine</td>\n",
              "      <td>Max</td>\n",
              "      <td>Max</td>\n",
              "    </tr>\n",
              "    <tr>\n",
              "      <th>163</th>\n",
              "      <td>James Harden</td>\n",
              "      <td>Max</td>\n",
              "      <td>Max</td>\n",
              "    </tr>\n",
              "    <tr>\n",
              "      <th>2</th>\n",
              "      <td>Bam Adebayo</td>\n",
              "      <td>Max</td>\n",
              "      <td>Max</td>\n",
              "    </tr>\n",
              "    <tr>\n",
              "      <th>297</th>\n",
              "      <td>Jamal Murray</td>\n",
              "      <td>Max</td>\n",
              "      <td>Max</td>\n",
              "    </tr>\n",
              "    <tr>\n",
              "      <th>282</th>\n",
              "      <td>Khris Middleton</td>\n",
              "      <td>Max</td>\n",
              "      <td>Max</td>\n",
              "    </tr>\n",
              "    <tr>\n",
              "      <th>448</th>\n",
              "      <td>Trae Young</td>\n",
              "      <td>Max</td>\n",
              "      <td>Max</td>\n",
              "    </tr>\n",
              "    <tr>\n",
              "      <th>97</th>\n",
              "      <td>DeMar DeRozan</td>\n",
              "      <td>Max</td>\n",
              "      <td>Max</td>\n",
              "    </tr>\n",
              "    <tr>\n",
              "      <th>253</th>\n",
              "      <td>Kevin Love</td>\n",
              "      <td>Max</td>\n",
              "      <td>Max</td>\n",
              "    </tr>\n",
              "    <tr>\n",
              "      <th>130</th>\n",
              "      <td>De'Aaron Fox</td>\n",
              "      <td>Max</td>\n",
              "      <td>Max</td>\n",
              "    </tr>\n",
              "    <tr>\n",
              "      <th>389</th>\n",
              "      <td>Jayson Tatum</td>\n",
              "      <td>Max</td>\n",
              "      <td>Max</td>\n",
              "    </tr>\n",
              "    <tr>\n",
              "      <th>143</th>\n",
              "      <td>Rudy Gobert</td>\n",
              "      <td>Max</td>\n",
              "      <td>Max</td>\n",
              "    </tr>\n",
              "    <tr>\n",
              "      <th>121</th>\n",
              "      <td>Joel Embiid</td>\n",
              "      <td>Max</td>\n",
              "      <td>Max</td>\n",
              "    </tr>\n",
              "    <tr>\n",
              "      <th>195</th>\n",
              "      <td>Brandon Ingram</td>\n",
              "      <td>Max</td>\n",
              "      <td>Max</td>\n",
              "    </tr>\n",
              "    <tr>\n",
              "      <th>169</th>\n",
              "      <td>Tobias Harris</td>\n",
              "      <td>Max</td>\n",
              "      <td>Max</td>\n",
              "    </tr>\n",
              "    <tr>\n",
              "      <th>361</th>\n",
              "      <td>D'Angelo Russell</td>\n",
              "      <td>Max</td>\n",
              "      <td>Max</td>\n",
              "    </tr>\n",
              "    <tr>\n",
              "      <th>403</th>\n",
              "      <td>Myles Turner</td>\n",
              "      <td>Max</td>\n",
              "      <td>Max</td>\n",
              "    </tr>\n",
              "    <tr>\n",
              "      <th>16</th>\n",
              "      <td>Deandre Ayton</td>\n",
              "      <td>Max</td>\n",
              "      <td>Max</td>\n",
              "    </tr>\n",
              "    <tr>\n",
              "      <th>246</th>\n",
              "      <td>Damian Lillard</td>\n",
              "      <td>Max</td>\n",
              "      <td>Max</td>\n",
              "    </tr>\n",
              "    <tr>\n",
              "      <th>105</th>\n",
              "      <td>Luka Dončić</td>\n",
              "      <td>Max</td>\n",
              "      <td>Max</td>\n",
              "    </tr>\n",
              "    <tr>\n",
              "      <th>325</th>\n",
              "      <td>Chris Paul</td>\n",
              "      <td>Max</td>\n",
              "      <td>Max</td>\n",
              "    </tr>\n",
              "    <tr>\n",
              "      <th>211</th>\n",
              "      <td>Nikola Jokić</td>\n",
              "      <td>Max</td>\n",
              "      <td>Max</td>\n",
              "    </tr>\n",
              "    <tr>\n",
              "      <th>65</th>\n",
              "      <td>Jimmy Butler</td>\n",
              "      <td>Max</td>\n",
              "      <td>Max</td>\n",
              "    </tr>\n",
              "  </tbody>\n",
              "</table>\n",
              "</div>\n",
              "      <button class=\"colab-df-convert\" onclick=\"convertToInteractive('df-d6522fab-f16c-49c8-bddc-60839b167fe2')\"\n",
              "              title=\"Convert this dataframe to an interactive table.\"\n",
              "              style=\"display:none;\">\n",
              "        \n",
              "  <svg xmlns=\"http://www.w3.org/2000/svg\" height=\"24px\"viewBox=\"0 0 24 24\"\n",
              "       width=\"24px\">\n",
              "    <path d=\"M0 0h24v24H0V0z\" fill=\"none\"/>\n",
              "    <path d=\"M18.56 5.44l.94 2.06.94-2.06 2.06-.94-2.06-.94-.94-2.06-.94 2.06-2.06.94zm-11 1L8.5 8.5l.94-2.06 2.06-.94-2.06-.94L8.5 2.5l-.94 2.06-2.06.94zm10 10l.94 2.06.94-2.06 2.06-.94-2.06-.94-.94-2.06-.94 2.06-2.06.94z\"/><path d=\"M17.41 7.96l-1.37-1.37c-.4-.4-.92-.59-1.43-.59-.52 0-1.04.2-1.43.59L10.3 9.45l-7.72 7.72c-.78.78-.78 2.05 0 2.83L4 21.41c.39.39.9.59 1.41.59.51 0 1.02-.2 1.41-.59l7.78-7.78 2.81-2.81c.8-.78.8-2.07 0-2.86zM5.41 20L4 18.59l7.72-7.72 1.47 1.35L5.41 20z\"/>\n",
              "  </svg>\n",
              "      </button>\n",
              "      \n",
              "  <style>\n",
              "    .colab-df-container {\n",
              "      display:flex;\n",
              "      flex-wrap:wrap;\n",
              "      gap: 12px;\n",
              "    }\n",
              "\n",
              "    .colab-df-convert {\n",
              "      background-color: #E8F0FE;\n",
              "      border: none;\n",
              "      border-radius: 50%;\n",
              "      cursor: pointer;\n",
              "      display: none;\n",
              "      fill: #1967D2;\n",
              "      height: 32px;\n",
              "      padding: 0 0 0 0;\n",
              "      width: 32px;\n",
              "    }\n",
              "\n",
              "    .colab-df-convert:hover {\n",
              "      background-color: #E2EBFA;\n",
              "      box-shadow: 0px 1px 2px rgba(60, 64, 67, 0.3), 0px 1px 3px 1px rgba(60, 64, 67, 0.15);\n",
              "      fill: #174EA6;\n",
              "    }\n",
              "\n",
              "    [theme=dark] .colab-df-convert {\n",
              "      background-color: #3B4455;\n",
              "      fill: #D2E3FC;\n",
              "    }\n",
              "\n",
              "    [theme=dark] .colab-df-convert:hover {\n",
              "      background-color: #434B5C;\n",
              "      box-shadow: 0px 1px 3px 1px rgba(0, 0, 0, 0.15);\n",
              "      filter: drop-shadow(0px 1px 2px rgba(0, 0, 0, 0.3));\n",
              "      fill: #FFFFFF;\n",
              "    }\n",
              "  </style>\n",
              "\n",
              "      <script>\n",
              "        const buttonEl =\n",
              "          document.querySelector('#df-d6522fab-f16c-49c8-bddc-60839b167fe2 button.colab-df-convert');\n",
              "        buttonEl.style.display =\n",
              "          google.colab.kernel.accessAllowed ? 'block' : 'none';\n",
              "\n",
              "        async function convertToInteractive(key) {\n",
              "          const element = document.querySelector('#df-d6522fab-f16c-49c8-bddc-60839b167fe2');\n",
              "          const dataTable =\n",
              "            await google.colab.kernel.invokeFunction('convertToInteractive',\n",
              "                                                     [key], {});\n",
              "          if (!dataTable) return;\n",
              "\n",
              "          const docLinkHtml = 'Like what you see? Visit the ' +\n",
              "            '<a target=\"_blank\" href=https://colab.research.google.com/notebooks/data_table.ipynb>data table notebook</a>'\n",
              "            + ' to learn more about interactive tables.';\n",
              "          element.innerHTML = '';\n",
              "          dataTable['output_type'] = 'display_data';\n",
              "          await google.colab.output.renderOutput(dataTable, element);\n",
              "          const docLink = document.createElement('div');\n",
              "          docLink.innerHTML = docLinkHtml;\n",
              "          element.appendChild(docLink);\n",
              "        }\n",
              "      </script>\n",
              "    </div>\n",
              "  </div>\n",
              "  "
            ]
          },
          "metadata": {},
          "execution_count": 676
        }
      ]
    },
    {
      "cell_type": "code",
      "source": [
        "disp = ConfusionMatrixDisplay.from_estimator(\n",
        "        dt,\n",
        "        X_train,\n",
        "        y_train,\n",
        "        cmap=plt.cm.Blues,\n",
        "    )\n",
        "\n",
        "print(disp.confusion_matrix)"
      ],
      "metadata": {
        "colab": {
          "base_uri": "https://localhost:8080/",
          "height": 484
        },
        "id": "m9pNfHO-ncPM",
        "outputId": "bf4ee2e6-6a9d-4e3e-9af3-88e9c7d9e2a0"
      },
      "execution_count": 677,
      "outputs": [
        {
          "output_type": "stream",
          "name": "stdout",
          "text": [
            "[[ 39   3]\n",
            " [ 10 327]]\n"
          ]
        },
        {
          "output_type": "display_data",
          "data": {
            "text/plain": [
              "<Figure size 640x480 with 2 Axes>"
            ],
            "image/png": "[encoded data removed]"
          },
          "metadata": {}
        }
      ]
    },
    {
      "cell_type": "code",
      "source": [
        "from sklearn.tree import export_graphviz\n",
        "import graphviz\n",
        "\n",
        "\n",
        "graphic = export_graphviz(dt, out_file=None, \n",
        "                           feature_names=X_train.columns, class_names=['0','1'], \n",
        "                           filled=True, rounded=True, special_characters=True)\n",
        "\n",
        "# Render the GraphViz object as an image\n",
        "graph = graphviz.Source(graphic)\n",
        "display(graph)"
      ],
      "metadata": {
        "id": "KdHkXlfgK0sW",
        "colab": {
          "base_uri": "https://localhost:8080/",
          "height": 618
        },
        "outputId": "ab0f0f79-0337-4976-aa6c-fb534b05748c"
      },
      "execution_count": 678,
      "outputs": [
        {
          "output_type": "display_data",
          "data": {
            "image/svg+xml": "<?xml version=\"1.0\" encoding=\"UTF-8\" standalone=\"no\"?>\n<!DOCTYPE svg PUBLIC \"-//W3C//DTD SVG 1.1//EN\"\n \"http://www.w3.org/Graphics/SVG/1.1/DTD/svg11.dtd\">\n<!-- Generated by graphviz version 2.43.0 (0)\n -->\n<!-- Title: Tree Pages: 1 -->\n<svg width=\"953pt\" height=\"433pt\"\n viewBox=\"0.00 0.00 953.00 433.00\" xmlns=\"http://www.w3.org/2000/svg\" xmlns:xlink=\"http://www.w3.org/1999/xlink\">\n<g id=\"graph0\" class=\"graph\" transform=\"scale(1 1) rotate(0) translate(4 429)\">\n<title>Tree</title>\n<polygon fill=\"white\" stroke=\"transparent\" points=\"-4,4 -4,-429 949,-429 949,4 -4,4\"/>\n<!-- 0 -->\n<g id=\"node1\" class=\"node\">\n<title>0</title>\n<path fill=\"#52a9e8\" stroke=\"black\" d=\"M502.5,-425C502.5,-425 409.5,-425 409.5,-425 403.5,-425 397.5,-419 397.5,-413 397.5,-413 397.5,-354 397.5,-354 397.5,-348 403.5,-342 409.5,-342 409.5,-342 502.5,-342 502.5,-342 508.5,-342 514.5,-348 514.5,-354 514.5,-354 514.5,-413 514.5,-413 514.5,-419 508.5,-425 502.5,-425\"/>\n<text text-anchor=\"start\" x=\"421\" y=\"-409.8\" font-family=\"Helvetica,sans-Serif\" font-size=\"14.00\">MP ≤ 30.35</text>\n<text text-anchor=\"start\" x=\"408.5\" y=\"-394.8\" font-family=\"Helvetica,sans-Serif\" font-size=\"14.00\">entropy = 0.502</text>\n<text text-anchor=\"start\" x=\"411\" y=\"-379.8\" font-family=\"Helvetica,sans-Serif\" font-size=\"14.00\">samples = 379</text>\n<text text-anchor=\"start\" x=\"405.5\" y=\"-364.8\" font-family=\"Helvetica,sans-Serif\" font-size=\"14.00\">value = [42, 337]</text>\n<text text-anchor=\"start\" x=\"428.5\" y=\"-349.8\" font-family=\"Helvetica,sans-Serif\" font-size=\"14.00\">class = 1</text>\n</g>\n<!-- 1 -->\n<g id=\"node2\" class=\"node\">\n<title>1</title>\n<path fill=\"#3c9ee5\" stroke=\"black\" d=\"M391.5,-306C391.5,-306 304.5,-306 304.5,-306 298.5,-306 292.5,-300 292.5,-294 292.5,-294 292.5,-235 292.5,-235 292.5,-229 298.5,-223 304.5,-223 304.5,-223 391.5,-223 391.5,-223 397.5,-223 403.5,-229 403.5,-235 403.5,-235 403.5,-294 403.5,-294 403.5,-300 397.5,-306 391.5,-306\"/>\n<text text-anchor=\"start\" x=\"313\" y=\"-290.8\" font-family=\"Helvetica,sans-Serif\" font-size=\"14.00\">FGA ≤ 11.7</text>\n<text text-anchor=\"start\" x=\"300.5\" y=\"-275.8\" font-family=\"Helvetica,sans-Serif\" font-size=\"14.00\">entropy = 0.104</text>\n<text text-anchor=\"start\" x=\"303\" y=\"-260.8\" font-family=\"Helvetica,sans-Serif\" font-size=\"14.00\">samples = 295</text>\n<text text-anchor=\"start\" x=\"301\" y=\"-245.8\" font-family=\"Helvetica,sans-Serif\" font-size=\"14.00\">value = [4, 291]</text>\n<text text-anchor=\"start\" x=\"320.5\" y=\"-230.8\" font-family=\"Helvetica,sans-Serif\" font-size=\"14.00\">class = 1</text>\n</g>\n<!-- 0&#45;&gt;1 -->\n<g id=\"edge1\" class=\"edge\">\n<title>0&#45;&gt;1</title>\n<path fill=\"none\" stroke=\"black\" d=\"M418.53,-341.91C410.07,-332.74 401.01,-322.93 392.3,-313.49\"/>\n<polygon fill=\"black\" stroke=\"black\" points=\"394.76,-310.99 385.4,-306.02 389.61,-315.74 394.76,-310.99\"/>\n<text text-anchor=\"middle\" x=\"384.4\" y=\"-327.3\" font-family=\"Helvetica,sans-Serif\" font-size=\"14.00\">True</text>\n</g>\n<!-- 8 -->\n<g id=\"node9\" class=\"node\">\n<title>8</title>\n<path fill=\"#ddeefa\" stroke=\"black\" d=\"M626.5,-306C626.5,-306 539.5,-306 539.5,-306 533.5,-306 527.5,-300 527.5,-294 527.5,-294 527.5,-235 527.5,-235 527.5,-229 533.5,-223 539.5,-223 539.5,-223 626.5,-223 626.5,-223 632.5,-223 638.5,-229 638.5,-235 638.5,-235 638.5,-294 638.5,-294 638.5,-300 632.5,-306 626.5,-306\"/>\n<text text-anchor=\"start\" x=\"537.5\" y=\"-290.8\" font-family=\"Helvetica,sans-Serif\" font-size=\"14.00\">WS/48 ≤ 0.095</text>\n<text text-anchor=\"start\" x=\"535.5\" y=\"-275.8\" font-family=\"Helvetica,sans-Serif\" font-size=\"14.00\">entropy = 0.993</text>\n<text text-anchor=\"start\" x=\"542\" y=\"-260.8\" font-family=\"Helvetica,sans-Serif\" font-size=\"14.00\">samples = 84</text>\n<text text-anchor=\"start\" x=\"536\" y=\"-245.8\" font-family=\"Helvetica,sans-Serif\" font-size=\"14.00\">value = [38, 46]</text>\n<text text-anchor=\"start\" x=\"555.5\" y=\"-230.8\" font-family=\"Helvetica,sans-Serif\" font-size=\"14.00\">class = 1</text>\n</g>\n<!-- 0&#45;&gt;8 -->\n<g id=\"edge8\" class=\"edge\">\n<title>0&#45;&gt;8</title>\n<path fill=\"none\" stroke=\"black\" d=\"M500.06,-341.91C510.21,-332.56 521.09,-322.54 531.52,-312.93\"/>\n<polygon fill=\"black\" stroke=\"black\" points=\"534.03,-315.37 539.02,-306.02 529.29,-310.22 534.03,-315.37\"/>\n<text text-anchor=\"middle\" x=\"537.99\" y=\"-327.3\" font-family=\"Helvetica,sans-Serif\" font-size=\"14.00\">False</text>\n</g>\n<!-- 2 -->\n<g id=\"node3\" class=\"node\">\n<title>2</title>\n<path fill=\"#3a9de5\" stroke=\"black\" d=\"M219.5,-187C219.5,-187 132.5,-187 132.5,-187 126.5,-187 120.5,-181 120.5,-175 120.5,-175 120.5,-116 120.5,-116 120.5,-110 126.5,-104 132.5,-104 132.5,-104 219.5,-104 219.5,-104 225.5,-104 231.5,-110 231.5,-116 231.5,-116 231.5,-175 231.5,-175 231.5,-181 225.5,-187 219.5,-187\"/>\n<text text-anchor=\"start\" x=\"130.5\" y=\"-171.8\" font-family=\"Helvetica,sans-Serif\" font-size=\"14.00\">DRB% ≤ 31.75</text>\n<text text-anchor=\"start\" x=\"128.5\" y=\"-156.8\" font-family=\"Helvetica,sans-Serif\" font-size=\"14.00\">entropy = 0.033</text>\n<text text-anchor=\"start\" x=\"131\" y=\"-141.8\" font-family=\"Helvetica,sans-Serif\" font-size=\"14.00\">samples = 287</text>\n<text text-anchor=\"start\" x=\"129\" y=\"-126.8\" font-family=\"Helvetica,sans-Serif\" font-size=\"14.00\">value = [1, 286]</text>\n<text text-anchor=\"start\" x=\"148.5\" y=\"-111.8\" font-family=\"Helvetica,sans-Serif\" font-size=\"14.00\">class = 1</text>\n</g>\n<!-- 1&#45;&gt;2 -->\n<g id=\"edge2\" class=\"edge\">\n<title>1&#45;&gt;2</title>\n<path fill=\"none\" stroke=\"black\" d=\"M292.16,-225.51C275.47,-214.16 257.04,-201.63 239.88,-189.95\"/>\n<polygon fill=\"black\" stroke=\"black\" points=\"241.8,-187.03 231.56,-184.3 237.86,-192.81 241.8,-187.03\"/>\n</g>\n<!-- 5 -->\n<g id=\"node6\" class=\"node\">\n<title>5</title>\n<path fill=\"#b0d8f5\" stroke=\"black\" d=\"M391.5,-187C391.5,-187 304.5,-187 304.5,-187 298.5,-187 292.5,-181 292.5,-175 292.5,-175 292.5,-116 292.5,-116 292.5,-110 298.5,-104 304.5,-104 304.5,-104 391.5,-104 391.5,-104 397.5,-104 403.5,-110 403.5,-116 403.5,-116 403.5,-175 403.5,-175 403.5,-181 397.5,-187 391.5,-187\"/>\n<text text-anchor=\"start\" x=\"302.5\" y=\"-171.8\" font-family=\"Helvetica,sans-Serif\" font-size=\"14.00\">WS/48 ≤ 0.111</text>\n<text text-anchor=\"start\" x=\"300.5\" y=\"-156.8\" font-family=\"Helvetica,sans-Serif\" font-size=\"14.00\">entropy = 0.954</text>\n<text text-anchor=\"start\" x=\"310.5\" y=\"-141.8\" font-family=\"Helvetica,sans-Serif\" font-size=\"14.00\">samples = 8</text>\n<text text-anchor=\"start\" x=\"308.5\" y=\"-126.8\" font-family=\"Helvetica,sans-Serif\" font-size=\"14.00\">value = [3, 5]</text>\n<text text-anchor=\"start\" x=\"320.5\" y=\"-111.8\" font-family=\"Helvetica,sans-Serif\" font-size=\"14.00\">class = 1</text>\n</g>\n<!-- 1&#45;&gt;5 -->\n<g id=\"edge5\" class=\"edge\">\n<title>1&#45;&gt;5</title>\n<path fill=\"none\" stroke=\"black\" d=\"M348,-222.91C348,-214.65 348,-205.86 348,-197.3\"/>\n<polygon fill=\"black\" stroke=\"black\" points=\"351.5,-197.02 348,-187.02 344.5,-197.02 351.5,-197.02\"/>\n</g>\n<!-- 3 -->\n<g id=\"node4\" class=\"node\">\n<title>3</title>\n<path fill=\"#399de5\" stroke=\"black\" d=\"M98,-68C98,-68 12,-68 12,-68 6,-68 0,-62 0,-56 0,-56 0,-12 0,-12 0,-6 6,0 12,0 12,0 98,0 98,0 104,0 110,-6 110,-12 110,-12 110,-56 110,-56 110,-62 104,-68 98,-68\"/>\n<text text-anchor=\"start\" x=\"15\" y=\"-52.8\" font-family=\"Helvetica,sans-Serif\" font-size=\"14.00\">entropy = 0.0</text>\n<text text-anchor=\"start\" x=\"10\" y=\"-37.8\" font-family=\"Helvetica,sans-Serif\" font-size=\"14.00\">samples = 285</text>\n<text text-anchor=\"start\" x=\"8\" y=\"-22.8\" font-family=\"Helvetica,sans-Serif\" font-size=\"14.00\">value = [0, 285]</text>\n<text text-anchor=\"start\" x=\"27.5\" y=\"-7.8\" font-family=\"Helvetica,sans-Serif\" font-size=\"14.00\">class = 1</text>\n</g>\n<!-- 2&#45;&gt;3 -->\n<g id=\"edge3\" class=\"edge\">\n<title>2&#45;&gt;3</title>\n<path fill=\"none\" stroke=\"black\" d=\"M130.94,-103.73C120.66,-94.42 109.75,-84.54 99.49,-75.26\"/>\n<polygon fill=\"black\" stroke=\"black\" points=\"101.56,-72.41 91.8,-68.3 96.86,-77.6 101.56,-72.41\"/>\n</g>\n<!-- 4 -->\n<g id=\"node5\" class=\"node\">\n<title>4</title>\n<path fill=\"#ffffff\" stroke=\"black\" d=\"M212,-68C212,-68 140,-68 140,-68 134,-68 128,-62 128,-56 128,-56 128,-12 128,-12 128,-6 134,0 140,0 140,0 212,0 212,0 218,0 224,-6 224,-12 224,-12 224,-56 224,-56 224,-62 218,-68 212,-68\"/>\n<text text-anchor=\"start\" x=\"136\" y=\"-52.8\" font-family=\"Helvetica,sans-Serif\" font-size=\"14.00\">entropy = 1.0</text>\n<text text-anchor=\"start\" x=\"138.5\" y=\"-37.8\" font-family=\"Helvetica,sans-Serif\" font-size=\"14.00\">samples = 2</text>\n<text text-anchor=\"start\" x=\"136.5\" y=\"-22.8\" font-family=\"Helvetica,sans-Serif\" font-size=\"14.00\">value = [1, 1]</text>\n<text text-anchor=\"start\" x=\"148.5\" y=\"-7.8\" font-family=\"Helvetica,sans-Serif\" font-size=\"14.00\">class = 0</text>\n</g>\n<!-- 2&#45;&gt;4 -->\n<g id=\"edge4\" class=\"edge\">\n<title>2&#45;&gt;4</title>\n<path fill=\"none\" stroke=\"black\" d=\"M176,-103.73C176,-95.52 176,-86.86 176,-78.56\"/>\n<polygon fill=\"black\" stroke=\"black\" points=\"179.5,-78.3 176,-68.3 172.5,-78.3 179.5,-78.3\"/>\n</g>\n<!-- 6 -->\n<g id=\"node7\" class=\"node\">\n<title>6</title>\n<path fill=\"#399de5\" stroke=\"black\" d=\"M326,-68C326,-68 254,-68 254,-68 248,-68 242,-62 242,-56 242,-56 242,-12 242,-12 242,-6 248,0 254,0 254,0 326,0 326,0 332,0 338,-6 338,-12 338,-12 338,-56 338,-56 338,-62 332,-68 326,-68\"/>\n<text text-anchor=\"start\" x=\"250\" y=\"-52.8\" font-family=\"Helvetica,sans-Serif\" font-size=\"14.00\">entropy = 0.0</text>\n<text text-anchor=\"start\" x=\"252.5\" y=\"-37.8\" font-family=\"Helvetica,sans-Serif\" font-size=\"14.00\">samples = 5</text>\n<text text-anchor=\"start\" x=\"250.5\" y=\"-22.8\" font-family=\"Helvetica,sans-Serif\" font-size=\"14.00\">value = [0, 5]</text>\n<text text-anchor=\"start\" x=\"262.5\" y=\"-7.8\" font-family=\"Helvetica,sans-Serif\" font-size=\"14.00\">class = 1</text>\n</g>\n<!-- 5&#45;&gt;6 -->\n<g id=\"edge6\" class=\"edge\">\n<title>5&#45;&gt;6</title>\n<path fill=\"none\" stroke=\"black\" d=\"M326.4,-103.73C321.81,-95.06 316.96,-85.9 312.34,-77.18\"/>\n<polygon fill=\"black\" stroke=\"black\" points=\"315.41,-75.5 307.64,-68.3 309.23,-78.77 315.41,-75.5\"/>\n</g>\n<!-- 7 -->\n<g id=\"node8\" class=\"node\">\n<title>7</title>\n<path fill=\"#e58139\" stroke=\"black\" d=\"M440,-68C440,-68 368,-68 368,-68 362,-68 356,-62 356,-56 356,-56 356,-12 356,-12 356,-6 362,0 368,0 368,0 440,0 440,0 446,0 452,-6 452,-12 452,-12 452,-56 452,-56 452,-62 446,-68 440,-68\"/>\n<text text-anchor=\"start\" x=\"364\" y=\"-52.8\" font-family=\"Helvetica,sans-Serif\" font-size=\"14.00\">entropy = 0.0</text>\n<text text-anchor=\"start\" x=\"366.5\" y=\"-37.8\" font-family=\"Helvetica,sans-Serif\" font-size=\"14.00\">samples = 3</text>\n<text text-anchor=\"start\" x=\"364.5\" y=\"-22.8\" font-family=\"Helvetica,sans-Serif\" font-size=\"14.00\">value = [3, 0]</text>\n<text text-anchor=\"start\" x=\"376.5\" y=\"-7.8\" font-family=\"Helvetica,sans-Serif\" font-size=\"14.00\">class = 0</text>\n</g>\n<!-- 5&#45;&gt;7 -->\n<g id=\"edge7\" class=\"edge\">\n<title>5&#45;&gt;7</title>\n<path fill=\"none\" stroke=\"black\" d=\"M368.85,-103.73C373.24,-95.15 377.87,-86.09 382.29,-77.46\"/>\n<polygon fill=\"black\" stroke=\"black\" points=\"385.53,-78.8 386.97,-68.3 379.3,-75.61 385.53,-78.8\"/>\n</g>\n<!-- 9 -->\n<g id=\"node10\" class=\"node\">\n<title>9</title>\n<path fill=\"#4da7e8\" stroke=\"black\" d=\"M626.5,-187C626.5,-187 539.5,-187 539.5,-187 533.5,-187 527.5,-181 527.5,-175 527.5,-175 527.5,-116 527.5,-116 527.5,-110 533.5,-104 539.5,-104 539.5,-104 626.5,-104 626.5,-104 632.5,-104 638.5,-110 638.5,-116 638.5,-116 638.5,-175 638.5,-175 638.5,-181 632.5,-187 626.5,-187\"/>\n<text text-anchor=\"start\" x=\"543.5\" y=\"-171.8\" font-family=\"Helvetica,sans-Serif\" font-size=\"14.00\">3P% ≤ 0.388</text>\n<text text-anchor=\"start\" x=\"535.5\" y=\"-156.8\" font-family=\"Helvetica,sans-Serif\" font-size=\"14.00\">entropy = 0.449</text>\n<text text-anchor=\"start\" x=\"542\" y=\"-141.8\" font-family=\"Helvetica,sans-Serif\" font-size=\"14.00\">samples = 32</text>\n<text text-anchor=\"start\" x=\"540\" y=\"-126.8\" font-family=\"Helvetica,sans-Serif\" font-size=\"14.00\">value = [3, 29]</text>\n<text text-anchor=\"start\" x=\"555.5\" y=\"-111.8\" font-family=\"Helvetica,sans-Serif\" font-size=\"14.00\">class = 1</text>\n</g>\n<!-- 8&#45;&gt;9 -->\n<g id=\"edge9\" class=\"edge\">\n<title>8&#45;&gt;9</title>\n<path fill=\"none\" stroke=\"black\" d=\"M583,-222.91C583,-214.65 583,-205.86 583,-197.3\"/>\n<polygon fill=\"black\" stroke=\"black\" points=\"586.5,-197.02 583,-187.02 579.5,-197.02 586.5,-197.02\"/>\n</g>\n<!-- 12 -->\n<g id=\"node13\" class=\"node\">\n<title>12</title>\n<path fill=\"#f2be99\" stroke=\"black\" d=\"M818.5,-187C818.5,-187 731.5,-187 731.5,-187 725.5,-187 719.5,-181 719.5,-175 719.5,-175 719.5,-116 719.5,-116 719.5,-110 725.5,-104 731.5,-104 731.5,-104 818.5,-104 818.5,-104 824.5,-104 830.5,-110 830.5,-116 830.5,-116 830.5,-175 830.5,-175 830.5,-181 824.5,-187 818.5,-187\"/>\n<text text-anchor=\"start\" x=\"748.5\" y=\"-171.8\" font-family=\"Helvetica,sans-Serif\" font-size=\"14.00\">G ≤ 77.5</text>\n<text text-anchor=\"start\" x=\"727.5\" y=\"-156.8\" font-family=\"Helvetica,sans-Serif\" font-size=\"14.00\">entropy = 0.912</text>\n<text text-anchor=\"start\" x=\"734\" y=\"-141.8\" font-family=\"Helvetica,sans-Serif\" font-size=\"14.00\">samples = 52</text>\n<text text-anchor=\"start\" x=\"728\" y=\"-126.8\" font-family=\"Helvetica,sans-Serif\" font-size=\"14.00\">value = [35, 17]</text>\n<text text-anchor=\"start\" x=\"747.5\" y=\"-111.8\" font-family=\"Helvetica,sans-Serif\" font-size=\"14.00\">class = 0</text>\n</g>\n<!-- 8&#45;&gt;12 -->\n<g id=\"edge12\" class=\"edge\">\n<title>8&#45;&gt;12</title>\n<path fill=\"none\" stroke=\"black\" d=\"M638.53,-229.66C661.02,-215.95 687.14,-200.04 710.47,-185.82\"/>\n<polygon fill=\"black\" stroke=\"black\" points=\"712.54,-188.66 719.26,-180.47 708.9,-182.68 712.54,-188.66\"/>\n</g>\n<!-- 10 -->\n<g id=\"node11\" class=\"node\">\n<title>10</title>\n<path fill=\"#399de5\" stroke=\"black\" d=\"M560,-68C560,-68 482,-68 482,-68 476,-68 470,-62 470,-56 470,-56 470,-12 470,-12 470,-6 476,0 482,0 482,0 560,0 560,0 566,0 572,-6 572,-12 572,-12 572,-56 572,-56 572,-62 566,-68 560,-68\"/>\n<text text-anchor=\"start\" x=\"481\" y=\"-52.8\" font-family=\"Helvetica,sans-Serif\" font-size=\"14.00\">entropy = 0.0</text>\n<text text-anchor=\"start\" x=\"480\" y=\"-37.8\" font-family=\"Helvetica,sans-Serif\" font-size=\"14.00\">samples = 23</text>\n<text text-anchor=\"start\" x=\"478\" y=\"-22.8\" font-family=\"Helvetica,sans-Serif\" font-size=\"14.00\">value = [0, 23]</text>\n<text text-anchor=\"start\" x=\"493.5\" y=\"-7.8\" font-family=\"Helvetica,sans-Serif\" font-size=\"14.00\">class = 1</text>\n</g>\n<!-- 9&#45;&gt;10 -->\n<g id=\"edge10\" class=\"edge\">\n<title>9&#45;&gt;10</title>\n<path fill=\"none\" stroke=\"black\" d=\"M559.91,-103.73C555.01,-95.06 549.82,-85.9 544.88,-77.18\"/>\n<polygon fill=\"black\" stroke=\"black\" points=\"547.83,-75.28 539.85,-68.3 541.74,-78.73 547.83,-75.28\"/>\n</g>\n<!-- 11 -->\n<g id=\"node12\" class=\"node\">\n<title>11</title>\n<path fill=\"#9ccef2\" stroke=\"black\" d=\"M689.5,-68C689.5,-68 602.5,-68 602.5,-68 596.5,-68 590.5,-62 590.5,-56 590.5,-56 590.5,-12 590.5,-12 590.5,-6 596.5,0 602.5,0 602.5,0 689.5,0 689.5,0 695.5,0 701.5,-6 701.5,-12 701.5,-12 701.5,-56 701.5,-56 701.5,-62 695.5,-68 689.5,-68\"/>\n<text text-anchor=\"start\" x=\"598.5\" y=\"-52.8\" font-family=\"Helvetica,sans-Serif\" font-size=\"14.00\">entropy = 0.918</text>\n<text text-anchor=\"start\" x=\"608.5\" y=\"-37.8\" font-family=\"Helvetica,sans-Serif\" font-size=\"14.00\">samples = 9</text>\n<text text-anchor=\"start\" x=\"606.5\" y=\"-22.8\" font-family=\"Helvetica,sans-Serif\" font-size=\"14.00\">value = [3, 6]</text>\n<text text-anchor=\"start\" x=\"618.5\" y=\"-7.8\" font-family=\"Helvetica,sans-Serif\" font-size=\"14.00\">class = 1</text>\n</g>\n<!-- 9&#45;&gt;11 -->\n<g id=\"edge11\" class=\"edge\">\n<title>9&#45;&gt;11</title>\n<path fill=\"none\" stroke=\"black\" d=\"M606.46,-103.73C611.44,-95.06 616.72,-85.9 621.73,-77.18\"/>\n<polygon fill=\"black\" stroke=\"black\" points=\"624.89,-78.71 626.84,-68.3 618.82,-75.22 624.89,-78.71\"/>\n</g>\n<!-- 13 -->\n<g id=\"node14\" class=\"node\">\n<title>13</title>\n<path fill=\"#eca16c\" stroke=\"black\" d=\"M818.5,-68C818.5,-68 731.5,-68 731.5,-68 725.5,-68 719.5,-62 719.5,-56 719.5,-56 719.5,-12 719.5,-12 719.5,-6 725.5,0 731.5,0 731.5,0 818.5,0 818.5,0 824.5,0 830.5,-6 830.5,-12 830.5,-12 830.5,-56 830.5,-56 830.5,-62 824.5,-68 818.5,-68\"/>\n<text text-anchor=\"start\" x=\"727.5\" y=\"-52.8\" font-family=\"Helvetica,sans-Serif\" font-size=\"14.00\">entropy = 0.731</text>\n<text text-anchor=\"start\" x=\"734\" y=\"-37.8\" font-family=\"Helvetica,sans-Serif\" font-size=\"14.00\">samples = 44</text>\n<text text-anchor=\"start\" x=\"732\" y=\"-22.8\" font-family=\"Helvetica,sans-Serif\" font-size=\"14.00\">value = [35, 9]</text>\n<text text-anchor=\"start\" x=\"747.5\" y=\"-7.8\" font-family=\"Helvetica,sans-Serif\" font-size=\"14.00\">class = 0</text>\n</g>\n<!-- 12&#45;&gt;13 -->\n<g id=\"edge13\" class=\"edge\">\n<title>12&#45;&gt;13</title>\n<path fill=\"none\" stroke=\"black\" d=\"M775,-103.73C775,-95.52 775,-86.86 775,-78.56\"/>\n<polygon fill=\"black\" stroke=\"black\" points=\"778.5,-78.3 775,-68.3 771.5,-78.3 778.5,-78.3\"/>\n</g>\n<!-- 14 -->\n<g id=\"node15\" class=\"node\">\n<title>14</title>\n<path fill=\"#399de5\" stroke=\"black\" d=\"M933,-68C933,-68 861,-68 861,-68 855,-68 849,-62 849,-56 849,-56 849,-12 849,-12 849,-6 855,0 861,0 861,0 933,0 933,0 939,0 945,-6 945,-12 945,-12 945,-56 945,-56 945,-62 939,-68 933,-68\"/>\n<text text-anchor=\"start\" x=\"857\" y=\"-52.8\" font-family=\"Helvetica,sans-Serif\" font-size=\"14.00\">entropy = 0.0</text>\n<text text-anchor=\"start\" x=\"859.5\" y=\"-37.8\" font-family=\"Helvetica,sans-Serif\" font-size=\"14.00\">samples = 8</text>\n<text text-anchor=\"start\" x=\"857.5\" y=\"-22.8\" font-family=\"Helvetica,sans-Serif\" font-size=\"14.00\">value = [0, 8]</text>\n<text text-anchor=\"start\" x=\"869.5\" y=\"-7.8\" font-family=\"Helvetica,sans-Serif\" font-size=\"14.00\">class = 1</text>\n</g>\n<!-- 12&#45;&gt;14 -->\n<g id=\"edge14\" class=\"edge\">\n<title>12&#45;&gt;14</title>\n<path fill=\"none\" stroke=\"black\" d=\"M820.43,-103.73C830.9,-94.33 842.02,-84.35 852.45,-74.99\"/>\n<polygon fill=\"black\" stroke=\"black\" points=\"854.79,-77.58 859.9,-68.3 850.12,-72.37 854.79,-77.58\"/>\n</g>\n</g>\n</svg>\n",
            "text/plain": [
              "<graphviz.sources.Source at 0x7f7eae97db70>"
            ]
          },
          "metadata": {}
        }
      ]
    }
  ]
}