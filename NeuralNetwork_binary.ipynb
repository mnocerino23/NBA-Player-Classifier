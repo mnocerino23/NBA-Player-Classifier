{
  "nbformat": 4,
  "nbformat_minor": 0,
  "metadata": {
    "colab": {
      "provenance": [],
      "authorship_tag": "ABX9TyPLimIoG5NECVmdbV492N+Z",
      "include_colab_link": true
    },
    "kernelspec": {
      "name": "python3",
      "display_name": "Python 3"
    },
    "language_info": {
      "name": "python"
    }
  },
  "cells": [
    {
      "cell_type": "markdown",
      "metadata": {
        "id": "view-in-github",
        "colab_type": "text"
      },
      "source": [
        "<a href=\"https://colab.research.google.com/github/mnocerino23/NBA-Player-Classifier/blob/main/NeuralNetwork_binary.ipynb\" target=\"_parent\"><img src=\"https://colab.research.google.com/assets/colab-badge.svg\" alt=\"Open In Colab\"/></a>"
      ]
    },
    {
      "cell_type": "markdown",
      "source": [
        "#In this notebook we experiment with Neural Networks to decide who does and does not deserve a max contract (binary classifier). In this revised jupyter notebook, we try to remove outliers and see how this effects the model"
      ],
      "metadata": {
        "id": "S18Gy3_SAVoM"
      }
    },
    {
      "cell_type": "code",
      "execution_count": 130,
      "metadata": {
        "colab": {
          "base_uri": "https://localhost:8080/"
        },
        "id": "UQTJFDfYGIOo",
        "outputId": "5fdfdf22-e24d-4bbb-f697-56ff02b73199"
      },
      "outputs": [
        {
          "output_type": "stream",
          "name": "stdout",
          "text": [
            "Drive already mounted at /content/drive; to attempt to forcibly remount, call drive.mount(\"/content/drive\", force_remount=True).\n"
          ]
        }
      ],
      "source": [
        "import pandas as pd\n",
        "import sklearn\n",
        "from google.colab import drive\n",
        "drive.mount('/content/drive')"
      ]
    },
    {
      "cell_type": "code",
      "source": [
        "complete = pd.read_csv('/content/drive/MyDrive/Data_Science_Projects/NBA/complete22-23.csv')"
      ],
      "metadata": {
        "id": "0niM9ni-GjB8"
      },
      "execution_count": 131,
      "outputs": []
    },
    {
      "cell_type": "code",
      "source": [
        "complete.head(4)"
      ],
      "metadata": {
        "colab": {
          "base_uri": "https://localhost:8080/",
          "height": 337
        },
        "id": "nFY9snYBdrsZ",
        "outputId": "90ee1d47-f2d4-4504-c002-1dabcbe75325"
      },
      "execution_count": 132,
      "outputs": [
        {
          "output_type": "execute_result",
          "data": {
            "text/plain": [
              "             Player Pos  Age   Tm   G  GS    MP   FG   FGA    FG%  ...  \\\n",
              "0  Precious Achiuwa   C   23  TOR  55  12  20.7  3.6   7.3  0.485  ...   \n",
              "1      Steven Adams   C   29  MEM  42  42  27.0  3.7   6.3  0.597  ...   \n",
              "2       Bam Adebayo   C   25  MIA  75  75  34.6  8.0  14.9  0.540  ...   \n",
              "3      Ochai Agbaji  SG   22  UTA  59  22  20.5  2.8   6.5  0.427  ...   \n",
              "\n",
              "    AST_TOV  OWS_div_USG  TS_times_USG   bigmanD  foul_rate  three_rate  \\\n",
              "0  0.818182     0.041237       10.7476  0.251208   0.091787   21.505376   \n",
              "1  1.210526     0.089041        8.2344  0.314815   0.085185    0.000000   \n",
              "2  1.280000     0.142857       14.9184  0.251445   0.080925    1.324503   \n",
              "3  1.571429     0.056962        8.8638  0.092683   0.082927   37.500000   \n",
              "\n",
              "   PTs_per_36  PF_per_dplay    FG_TOV     two_way  \n",
              "0   16.000000      1.727273  3.727273   38.690909  \n",
              "1   11.466667      1.150000  1.947368   87.500000  \n",
              "2   21.225434      1.400000  3.200000  101.840000  \n",
              "3   13.873171      2.833333  6.000000    6.440678  \n",
              "\n",
              "[4 rows x 63 columns]"
            ],
            "text/html": [
              "\n",
              "  <div id=\"df-17f7551a-8f62-4a70-baf0-9b2c7226ea46\">\n",
              "    <div class=\"colab-df-container\">\n",
              "      <div>\n",
              "<style scoped>\n",
              "    .dataframe tbody tr th:only-of-type {\n",
              "        vertical-align: middle;\n",
              "    }\n",
              "\n",
              "    .dataframe tbody tr th {\n",
              "        vertical-align: top;\n",
              "    }\n",
              "\n",
              "    .dataframe thead th {\n",
              "        text-align: right;\n",
              "    }\n",
              "</style>\n",
              "<table border=\"1\" class=\"dataframe\">\n",
              "  <thead>\n",
              "    <tr style=\"text-align: right;\">\n",
              "      <th></th>\n",
              "      <th>Player</th>\n",
              "      <th>Pos</th>\n",
              "      <th>Age</th>\n",
              "      <th>Tm</th>\n",
              "      <th>G</th>\n",
              "      <th>GS</th>\n",
              "      <th>MP</th>\n",
              "      <th>FG</th>\n",
              "      <th>FGA</th>\n",
              "      <th>FG%</th>\n",
              "      <th>...</th>\n",
              "      <th>AST_TOV</th>\n",
              "      <th>OWS_div_USG</th>\n",
              "      <th>TS_times_USG</th>\n",
              "      <th>bigmanD</th>\n",
              "      <th>foul_rate</th>\n",
              "      <th>three_rate</th>\n",
              "      <th>PTs_per_36</th>\n",
              "      <th>PF_per_dplay</th>\n",
              "      <th>FG_TOV</th>\n",
              "      <th>two_way</th>\n",
              "    </tr>\n",
              "  </thead>\n",
              "  <tbody>\n",
              "    <tr>\n",
              "      <th>0</th>\n",
              "      <td>Precious Achiuwa</td>\n",
              "      <td>C</td>\n",
              "      <td>23</td>\n",
              "      <td>TOR</td>\n",
              "      <td>55</td>\n",
              "      <td>12</td>\n",
              "      <td>20.7</td>\n",
              "      <td>3.6</td>\n",
              "      <td>7.3</td>\n",
              "      <td>0.485</td>\n",
              "      <td>...</td>\n",
              "      <td>0.818182</td>\n",
              "      <td>0.041237</td>\n",
              "      <td>10.7476</td>\n",
              "      <td>0.251208</td>\n",
              "      <td>0.091787</td>\n",
              "      <td>21.505376</td>\n",
              "      <td>16.000000</td>\n",
              "      <td>1.727273</td>\n",
              "      <td>3.727273</td>\n",
              "      <td>38.690909</td>\n",
              "    </tr>\n",
              "    <tr>\n",
              "      <th>1</th>\n",
              "      <td>Steven Adams</td>\n",
              "      <td>C</td>\n",
              "      <td>29</td>\n",
              "      <td>MEM</td>\n",
              "      <td>42</td>\n",
              "      <td>42</td>\n",
              "      <td>27.0</td>\n",
              "      <td>3.7</td>\n",
              "      <td>6.3</td>\n",
              "      <td>0.597</td>\n",
              "      <td>...</td>\n",
              "      <td>1.210526</td>\n",
              "      <td>0.089041</td>\n",
              "      <td>8.2344</td>\n",
              "      <td>0.314815</td>\n",
              "      <td>0.085185</td>\n",
              "      <td>0.000000</td>\n",
              "      <td>11.466667</td>\n",
              "      <td>1.150000</td>\n",
              "      <td>1.947368</td>\n",
              "      <td>87.500000</td>\n",
              "    </tr>\n",
              "    <tr>\n",
              "      <th>2</th>\n",
              "      <td>Bam Adebayo</td>\n",
              "      <td>C</td>\n",
              "      <td>25</td>\n",
              "      <td>MIA</td>\n",
              "      <td>75</td>\n",
              "      <td>75</td>\n",
              "      <td>34.6</td>\n",
              "      <td>8.0</td>\n",
              "      <td>14.9</td>\n",
              "      <td>0.540</td>\n",
              "      <td>...</td>\n",
              "      <td>1.280000</td>\n",
              "      <td>0.142857</td>\n",
              "      <td>14.9184</td>\n",
              "      <td>0.251445</td>\n",
              "      <td>0.080925</td>\n",
              "      <td>1.324503</td>\n",
              "      <td>21.225434</td>\n",
              "      <td>1.400000</td>\n",
              "      <td>3.200000</td>\n",
              "      <td>101.840000</td>\n",
              "    </tr>\n",
              "    <tr>\n",
              "      <th>3</th>\n",
              "      <td>Ochai Agbaji</td>\n",
              "      <td>SG</td>\n",
              "      <td>22</td>\n",
              "      <td>UTA</td>\n",
              "      <td>59</td>\n",
              "      <td>22</td>\n",
              "      <td>20.5</td>\n",
              "      <td>2.8</td>\n",
              "      <td>6.5</td>\n",
              "      <td>0.427</td>\n",
              "      <td>...</td>\n",
              "      <td>1.571429</td>\n",
              "      <td>0.056962</td>\n",
              "      <td>8.8638</td>\n",
              "      <td>0.092683</td>\n",
              "      <td>0.082927</td>\n",
              "      <td>37.500000</td>\n",
              "      <td>13.873171</td>\n",
              "      <td>2.833333</td>\n",
              "      <td>6.000000</td>\n",
              "      <td>6.440678</td>\n",
              "    </tr>\n",
              "  </tbody>\n",
              "</table>\n",
              "<p>4 rows × 63 columns</p>\n",
              "</div>\n",
              "      <button class=\"colab-df-convert\" onclick=\"convertToInteractive('df-17f7551a-8f62-4a70-baf0-9b2c7226ea46')\"\n",
              "              title=\"Convert this dataframe to an interactive table.\"\n",
              "              style=\"display:none;\">\n",
              "        \n",
              "  <svg xmlns=\"http://www.w3.org/2000/svg\" height=\"24px\"viewBox=\"0 0 24 24\"\n",
              "       width=\"24px\">\n",
              "    <path d=\"M0 0h24v24H0V0z\" fill=\"none\"/>\n",
              "    <path d=\"M18.56 5.44l.94 2.06.94-2.06 2.06-.94-2.06-.94-.94-2.06-.94 2.06-2.06.94zm-11 1L8.5 8.5l.94-2.06 2.06-.94-2.06-.94L8.5 2.5l-.94 2.06-2.06.94zm10 10l.94 2.06.94-2.06 2.06-.94-2.06-.94-.94-2.06-.94 2.06-2.06.94z\"/><path d=\"M17.41 7.96l-1.37-1.37c-.4-.4-.92-.59-1.43-.59-.52 0-1.04.2-1.43.59L10.3 9.45l-7.72 7.72c-.78.78-.78 2.05 0 2.83L4 21.41c.39.39.9.59 1.41.59.51 0 1.02-.2 1.41-.59l7.78-7.78 2.81-2.81c.8-.78.8-2.07 0-2.86zM5.41 20L4 18.59l7.72-7.72 1.47 1.35L5.41 20z\"/>\n",
              "  </svg>\n",
              "      </button>\n",
              "      \n",
              "  <style>\n",
              "    .colab-df-container {\n",
              "      display:flex;\n",
              "      flex-wrap:wrap;\n",
              "      gap: 12px;\n",
              "    }\n",
              "\n",
              "    .colab-df-convert {\n",
              "      background-color: #E8F0FE;\n",
              "      border: none;\n",
              "      border-radius: 50%;\n",
              "      cursor: pointer;\n",
              "      display: none;\n",
              "      fill: #1967D2;\n",
              "      height: 32px;\n",
              "      padding: 0 0 0 0;\n",
              "      width: 32px;\n",
              "    }\n",
              "\n",
              "    .colab-df-convert:hover {\n",
              "      background-color: #E2EBFA;\n",
              "      box-shadow: 0px 1px 2px rgba(60, 64, 67, 0.3), 0px 1px 3px 1px rgba(60, 64, 67, 0.15);\n",
              "      fill: #174EA6;\n",
              "    }\n",
              "\n",
              "    [theme=dark] .colab-df-convert {\n",
              "      background-color: #3B4455;\n",
              "      fill: #D2E3FC;\n",
              "    }\n",
              "\n",
              "    [theme=dark] .colab-df-convert:hover {\n",
              "      background-color: #434B5C;\n",
              "      box-shadow: 0px 1px 3px 1px rgba(0, 0, 0, 0.15);\n",
              "      filter: drop-shadow(0px 1px 2px rgba(0, 0, 0, 0.3));\n",
              "      fill: #FFFFFF;\n",
              "    }\n",
              "  </style>\n",
              "\n",
              "      <script>\n",
              "        const buttonEl =\n",
              "          document.querySelector('#df-17f7551a-8f62-4a70-baf0-9b2c7226ea46 button.colab-df-convert');\n",
              "        buttonEl.style.display =\n",
              "          google.colab.kernel.accessAllowed ? 'block' : 'none';\n",
              "\n",
              "        async function convertToInteractive(key) {\n",
              "          const element = document.querySelector('#df-17f7551a-8f62-4a70-baf0-9b2c7226ea46');\n",
              "          const dataTable =\n",
              "            await google.colab.kernel.invokeFunction('convertToInteractive',\n",
              "                                                     [key], {});\n",
              "          if (!dataTable) return;\n",
              "\n",
              "          const docLinkHtml = 'Like what you see? Visit the ' +\n",
              "            '<a target=\"_blank\" href=https://colab.research.google.com/notebooks/data_table.ipynb>data table notebook</a>'\n",
              "            + ' to learn more about interactive tables.';\n",
              "          element.innerHTML = '';\n",
              "          dataTable['output_type'] = 'display_data';\n",
              "          await google.colab.output.renderOutput(dataTable, element);\n",
              "          const docLink = document.createElement('div');\n",
              "          docLink.innerHTML = docLinkHtml;\n",
              "          element.appendChild(docLink);\n",
              "        }\n",
              "      </script>\n",
              "    </div>\n",
              "  </div>\n",
              "  "
            ]
          },
          "metadata": {},
          "execution_count": 132
        }
      ]
    },
    {
      "cell_type": "code",
      "source": [
        "#note that some players have multiple positions\n",
        "complete['Pos'].unique()"
      ],
      "metadata": {
        "colab": {
          "base_uri": "https://localhost:8080/"
        },
        "id": "5oqJoa0mczmy",
        "outputId": "4a8f9f8a-a65c-4d82-fe0e-a491a093c418"
      },
      "execution_count": 133,
      "outputs": [
        {
          "output_type": "execute_result",
          "data": {
            "text/plain": [
              "array(['C', 'SG', 'PF', 'PG', 'SF', 'PF-SF', 'SF-SG', 'SG-PG'],\n",
              "      dtype=object)"
            ]
          },
          "metadata": {},
          "execution_count": 133
        }
      ]
    },
    {
      "cell_type": "code",
      "source": [
        "#we want to make sure each player has only one position to limit the amount of categories for Pos.\n",
        "#although we don't need to one hot encode for our tree based model, limiting all \n",
        "#entries to just one position is still important\n",
        "\n",
        "for index, rows in complete.iterrows():\n",
        "  #if the position has length greater than two (meaning it isn't C, PG, SG, SF, or PF), we shorten it to the first position\n",
        "  if len(complete.at[index, 'Pos']) > 2:\n",
        "    complete.at[index, 'Pos'] = complete.at[index, 'Pos'][:2]"
      ],
      "metadata": {
        "id": "Uskq4H8DYJKh"
      },
      "execution_count": 134,
      "outputs": []
    },
    {
      "cell_type": "markdown",
      "source": [
        "# Players with salaries over 25 million will be considered max level players while those under with be considered \"Not max\""
      ],
      "metadata": {
        "id": "jdU3uVLvgMCL"
      }
    },
    {
      "cell_type": "code",
      "source": [
        "#use a lambda function to assign classes\n",
        "complete['Class'] = complete['Salary'].apply(lambda x: 1 if x > 25 else 0)"
      ],
      "metadata": {
        "id": "jA6bQD4Xey08"
      },
      "execution_count": 135,
      "outputs": []
    },
    {
      "cell_type": "code",
      "source": [
        "#the count of each class in the dataset before splitting\n",
        "complete['Class'].value_counts()"
      ],
      "metadata": {
        "colab": {
          "base_uri": "https://localhost:8080/"
        },
        "id": "Bo0qnBa2f5Sf",
        "outputId": "7107912e-3cc8-471b-cc52-bb4ede786c5c"
      },
      "execution_count": 136,
      "outputs": [
        {
          "output_type": "execute_result",
          "data": {
            "text/plain": [
              "0    398\n",
              "1     52\n",
              "Name: Class, dtype: int64"
            ]
          },
          "metadata": {},
          "execution_count": 136
        }
      ]
    },
    {
      "cell_type": "markdown",
      "source": [
        "Before splitting into train-test, we need to drop outliers that have been identified such as Kyle Lowry, John Wall, Gordon Hayward, and Ben Simmons. These are players who have all severly fallen off after receiving max contracts and should not appear in the training set."
      ],
      "metadata": {
        "id": "x98iXcyWUtF8"
      }
    },
    {
      "cell_type": "code",
      "source": [
        "#need to remove john wall, Gordon Hayward, Ben Simmons from the training set"
      ],
      "metadata": {
        "id": "Lck7JFTrWouq"
      },
      "execution_count": 137,
      "outputs": []
    },
    {
      "cell_type": "code",
      "source": [
        "need_to_remove = ['John Wall', 'Gordon Hayward', 'Ben Simmons']\n",
        "for player in need_to_remove:\n",
        "  complete = complete.drop(complete[complete['Player'] == player].index)"
      ],
      "metadata": {
        "id": "a0R1omXAVTiA"
      },
      "execution_count": 138,
      "outputs": []
    },
    {
      "cell_type": "code",
      "source": [
        "from sklearn.model_selection import train_test_split, cross_val_score"
      ],
      "metadata": {
        "id": "JPVKvV4fgh5e"
      },
      "execution_count": 139,
      "outputs": []
    },
    {
      "cell_type": "code",
      "source": [
        "#split into input features and target variable class\n",
        "X = complete.drop(columns = ['Salary', 'Class'], axis = 1)\n",
        "y = complete['Class']"
      ],
      "metadata": {
        "id": "jt_2Mwlsg9nf"
      },
      "execution_count": 140,
      "outputs": []
    },
    {
      "cell_type": "code",
      "source": [
        "X_train, X_test, y_train, y_test = train_test_split(X, y, random_state = 5, test_size=0.2, shuffle = True)"
      ],
      "metadata": {
        "id": "hCdTwQJwgteA"
      },
      "execution_count": 141,
      "outputs": []
    },
    {
      "cell_type": "code",
      "source": [
        "#drop the names column before proceeding\n",
        "names_train = list(X_train['Player'])\n",
        "X_train.drop(columns = ['Player', 'Tm', 'Pos'], axis = 1, inplace = True)\n",
        "names_test = list(X_test['Player'])\n",
        "X_test.drop(columns = ['Player','Tm', 'Pos'], axis = 1, inplace = True)"
      ],
      "metadata": {
        "id": "rKCEWHMuiCkP"
      },
      "execution_count": 142,
      "outputs": []
    },
    {
      "cell_type": "code",
      "source": [
        "print('Train:')\n",
        "print('train_features dimensions: ', X_train.shape)\n",
        "print('train_target dimensions: ', y_train.shape, '\\n')\n",
        "\n",
        "\n",
        "print('Test:')\n",
        "print('test_features dimensions: ', X_test.shape)\n",
        "print('test_target dimensions: ', y_test.shape)"
      ],
      "metadata": {
        "colab": {
          "base_uri": "https://localhost:8080/"
        },
        "id": "8zUD_NjhM8j1",
        "outputId": "905a66ac-3006-45b9-8c61-73efc9cc8b9b"
      },
      "execution_count": 143,
      "outputs": [
        {
          "output_type": "stream",
          "name": "stdout",
          "text": [
            "Train:\n",
            "train_features dimensions:  (357, 59)\n",
            "train_target dimensions:  (357,) \n",
            "\n",
            "Test:\n",
            "test_features dimensions:  (90, 59)\n",
            "test_target dimensions:  (90,)\n"
          ]
        }
      ]
    },
    {
      "cell_type": "code",
      "source": [
        "#use keras within tensorflow since I have used this in the past\n",
        "import tensorflow as tf\n",
        "from tensorflow import keras\n",
        "tf.random.set_seed(5)\n",
        "\n",
        "nn = tf.keras.models.Sequential()\n",
        "nn.add(tf.keras.Input(shape=(59,)))\n",
        "nn.add(tf.keras.layers.Dense(15, activation='relu'))\n",
        "nn.add(tf.keras.layers.Dense(30, activation='relu'))\n",
        "nn.add(tf.keras.layers.Dense(30, activation='relu'))\n",
        "nn.add(tf.keras.layers.Dense(15, activation='relu'))\n",
        "nn.add(tf.keras.layers.Dense(1, activation='sigmoid'))\n",
        "\n",
        "nn.compile(\n",
        "   loss=tf.keras.losses.BinaryCrossentropy(),\n",
        "   optimizer=tf.keras.optimizers.Adam(),\n",
        "   metrics=\"accuracy\")\n",
        "\n",
        "history = nn.fit(X_train, y_train, epochs=10,validation_data=(X_test,y_test))"
      ],
      "metadata": {
        "colab": {
          "base_uri": "https://localhost:8080/"
        },
        "id": "U97Rl2rehEIM",
        "outputId": "3e009fe4-211e-4728-93d3-3e38a471a135"
      },
      "execution_count": 154,
      "outputs": [
        {
          "output_type": "stream",
          "name": "stdout",
          "text": [
            "Epoch 1/10\n",
            "12/12 [==============================] - 2s 25ms/step - loss: 0.9364 - accuracy: 0.8739 - val_loss: 0.5584 - val_accuracy: 0.7889\n",
            "Epoch 2/10\n",
            "12/12 [==============================] - 0s 5ms/step - loss: 0.4272 - accuracy: 0.8880 - val_loss: 0.2973 - val_accuracy: 0.9111\n",
            "Epoch 3/10\n",
            "12/12 [==============================] - 0s 6ms/step - loss: 0.2375 - accuracy: 0.9132 - val_loss: 0.2077 - val_accuracy: 0.9222\n",
            "Epoch 4/10\n",
            "12/12 [==============================] - 0s 5ms/step - loss: 0.1981 - accuracy: 0.9188 - val_loss: 0.1743 - val_accuracy: 0.9222\n",
            "Epoch 5/10\n",
            "12/12 [==============================] - 0s 5ms/step - loss: 0.1775 - accuracy: 0.9300 - val_loss: 0.1503 - val_accuracy: 0.9333\n",
            "Epoch 6/10\n",
            "12/12 [==============================] - 0s 7ms/step - loss: 0.1692 - accuracy: 0.9328 - val_loss: 0.1480 - val_accuracy: 0.9333\n",
            "Epoch 7/10\n",
            "12/12 [==============================] - 0s 5ms/step - loss: 0.1617 - accuracy: 0.9384 - val_loss: 0.1388 - val_accuracy: 0.9333\n",
            "Epoch 8/10\n",
            "12/12 [==============================] - 0s 7ms/step - loss: 0.1491 - accuracy: 0.9328 - val_loss: 0.1390 - val_accuracy: 0.9444\n",
            "Epoch 9/10\n",
            "12/12 [==============================] - 0s 5ms/step - loss: 0.1556 - accuracy: 0.9356 - val_loss: 0.1466 - val_accuracy: 0.9333\n",
            "Epoch 10/10\n",
            "12/12 [==============================] - 0s 5ms/step - loss: 0.1404 - accuracy: 0.9412 - val_loss: 0.1476 - val_accuracy: 0.9444\n"
          ]
        }
      ]
    },
    {
      "cell_type": "code",
      "source": [
        "from matplotlib import pyplot as plt\n",
        "plt.plot(history.history['accuracy'])\n",
        "plt.plot(history.history['val_accuracy'])\n",
        "plt.title('model accuracy')\n",
        "plt.ylabel('accuracy')\n",
        "plt.xlabel('epoch')\n",
        "plt.legend(['Train', 'Cross-Validation'], loc='lower right')\n",
        "plt.show()"
      ],
      "metadata": {
        "colab": {
          "base_uri": "https://localhost:8080/",
          "height": 472
        },
        "id": "78oYunU_jtcO",
        "outputId": "b676ad1d-ec12-461a-a4f7-2f46d9ff0203"
      },
      "execution_count": 155,
      "outputs": [
        {
          "output_type": "display_data",
          "data": {
            "text/plain": [
              "<Figure size 640x480 with 1 Axes>"
            ],
            "image/png": "[encoded data removed]"
          },
          "metadata": {}
        }
      ]
    },
    {
      "cell_type": "code",
      "source": [
        "from sklearn.metrics import accuracy_score\n",
        "y_hat_train = nn.predict(X_train)\n",
        "y_hat_test = nn.predict(X_test)\n",
        "\n",
        "predicted_classes_train = tf.where(y_hat_train > 0.5, 1, 0)\n",
        "predicted_classes_test = tf.where(y_hat_test > 0.5, 1, 0)\n",
        "\n",
        "train_accuracy = accuracy_score(y_train, predicted_classes_train)\n",
        "test_accuracy = accuracy_score(y_test, predicted_classes_test)\n",
        "\n",
        "#training_acc.append(train_accuracy)\n",
        "#testing_acc.append(test_accuracy)"
      ],
      "metadata": {
        "colab": {
          "base_uri": "https://localhost:8080/"
        },
        "id": "nMZWdfzWhI26",
        "outputId": "47897bbd-943f-4c8b-bc59-c31a43cad37f"
      },
      "execution_count": 156,
      "outputs": [
        {
          "output_type": "stream",
          "name": "stdout",
          "text": [
            "12/12 [==============================] - 0s 1ms/step\n",
            "3/3 [==============================] - 0s 3ms/step\n"
          ]
        }
      ]
    },
    {
      "cell_type": "code",
      "source": [
        "print('Train Accuracy: ', train_accuracy)\n",
        "print('Test Accuracy: ', test_accuracy)"
      ],
      "metadata": {
        "colab": {
          "base_uri": "https://localhost:8080/"
        },
        "id": "Q-SBjkPgiQaK",
        "outputId": "dbbf2cbd-2956-427c-de3d-761a7d844a01"
      },
      "execution_count": 157,
      "outputs": [
        {
          "output_type": "stream",
          "name": "stdout",
          "text": [
            "Train Accuracy:  0.9355742296918768\n",
            "Test Accuracy:  0.9444444444444444\n"
          ]
        }
      ]
    }
  ]
}