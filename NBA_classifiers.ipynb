{
  "nbformat": 4,
  "nbformat_minor": 0,
  "metadata": {
    "colab": {
      "name": "NBA_classifiers.ipynb",
      "provenance": [],
      "authorship_tag": "ABX9TyMUrjBl0wqxHhVcOZNw1JHQ",
      "include_colab_link": true
    },
    "kernelspec": {
      "name": "python3",
      "display_name": "Python 3"
    },
    "language_info": {
      "name": "python"
    }
  },
  "cells": [
    {
      "cell_type": "markdown",
      "metadata": {
        "id": "view-in-github",
        "colab_type": "text"
      },
      "source": [
        "<a href=\"https://colab.research.google.com/github/mnocerino23/NBA-Player-Classifier/blob/main/NBA_classifiers.ipynb\" target=\"_parent\"><img src=\"https://colab.research.google.com/assets/colab-badge.svg\" alt=\"Open In Colab\"/></a>"
      ]
    },
    {
      "cell_type": "code",
      "execution_count": 86,
      "metadata": {
        "colab": {
          "base_uri": "https://localhost:8080/"
        },
        "id": "UQTJFDfYGIOo",
        "outputId": "d71d435a-cf2c-49e2-f234-a5bffa065fbb"
      },
      "outputs": [
        {
          "output_type": "stream",
          "name": "stdout",
          "text": [
            "Drive already mounted at /content/drive; to attempt to forcibly remount, call drive.mount(\"/content/drive\", force_remount=True).\n"
          ]
        }
      ],
      "source": [
        "import pandas as pd\n",
        "from google.colab import drive\n",
        "drive.mount('/content/drive')"
      ]
    },
    {
      "cell_type": "code",
      "source": [
        "nba_train = pd.read_csv('/content/drive/MyDrive/Data_Science_Projects/NBA/nba_train.csv')\n",
        "nba_test = pd.read_csv('/content/drive/MyDrive/Data_Science_Projects/NBA/nba_test.csv')"
      ],
      "metadata": {
        "id": "0niM9ni-GjB8"
      },
      "execution_count": 87,
      "outputs": []
    },
    {
      "cell_type": "code",
      "source": [
        "nba_train.shape"
      ],
      "metadata": {
        "colab": {
          "base_uri": "https://localhost:8080/"
        },
        "id": "3Htr8jieHHMn",
        "outputId": "b74f59a6-dc7e-4450-813e-86bcb6bdda9d"
      },
      "execution_count": 88,
      "outputs": [
        {
          "output_type": "execute_result",
          "data": {
            "text/plain": [
              "(314, 52)"
            ]
          },
          "metadata": {},
          "execution_count": 88
        }
      ]
    },
    {
      "cell_type": "code",
      "source": [
        "nba_test.shape"
      ],
      "metadata": {
        "colab": {
          "base_uri": "https://localhost:8080/"
        },
        "id": "KdPTs3JYHJGq",
        "outputId": "f4731970-2336-4f1b-a221-786dab7cd9d1"
      },
      "execution_count": 89,
      "outputs": [
        {
          "output_type": "execute_result",
          "data": {
            "text/plain": [
              "(79, 52)"
            ]
          },
          "metadata": {},
          "execution_count": 89
        }
      ]
    },
    {
      "cell_type": "markdown",
      "source": [
        "# Break Players into classes based on their salary\n"
      ],
      "metadata": {
        "id": "WkVRe6J9eqvC"
      }
    },
    {
      "cell_type": "code",
      "source": [
        "nba_train['class'] = ''\n",
        "for index, row in nba_train.iterrows():\n",
        "  if nba_train.at[index,'Salary'] <= 5.5:\n",
        "    nba_train.at[index,'class'] = 'Low Worthy Player'\n",
        "  elif nba_train.at[index,'Salary'] > 5.5 and nba_train.at[index,'Salary'] <= 11:\n",
        "    nba_train.at[index,'class'] = 'Average Worthy Player'\n",
        "  elif nba_train.at[index, 'Salary'] > 11 and nba_train.at[index,'Salary'] <= 20:\n",
        "    nba_train.at[index,'class'] = 'Mid Worthy Playeer'\n",
        "  elif nba_train.at[index,'Salary']> 20:\n",
        "    nba_train.at[index,'class'] = 'Max Level'"
      ],
      "metadata": {
        "id": "ik5yABXDHOT0"
      },
      "execution_count": 90,
      "outputs": []
    },
    {
      "cell_type": "code",
      "source": [
        "print(nba_train['class'].value_counts())"
      ],
      "metadata": {
        "colab": {
          "base_uri": "https://localhost:8080/"
        },
        "id": "f2Yi6ZUcPHdT",
        "outputId": "d93f304e-2eda-4f50-e84b-fa92b9b63c9e"
      },
      "execution_count": 91,
      "outputs": [
        {
          "output_type": "stream",
          "name": "stdout",
          "text": [
            "Low Worthy Player        161\n",
            "Average Worthy Player     61\n",
            "Mid Worthy Playeer        48\n",
            "Max Level                 44\n",
            "Name: class, dtype: int64\n"
          ]
        }
      ]
    },
    {
      "cell_type": "code",
      "source": [
        "nba_test['class'] = ''\n",
        "for index, row in nba_test.iterrows():\n",
        "  if nba_test.at[index,'Salary'] <= 5.5:\n",
        "    nba_test.at[index,'class'] = 'Low Level'\n",
        "  elif nba_test.at[index,'Salary'] > 5.5 and nba_test.at[index,'Salary'] <= 11:\n",
        "    nba_test.at[index,'class'] = 'Average Level'\n",
        "  elif nba_test.at[index, 'Salary'] > 11 and nba_test.at[index,'Salary'] <= 20:\n",
        "    nba_test.at[index,'class'] = 'Mid Level'\n",
        "  elif nba_test.at[index,'Salary'] > 20:\n",
        "    nba_test.at[index,'class'] = 'Max Level'"
      ],
      "metadata": {
        "id": "NBFm1IBfMsSm"
      },
      "execution_count": 92,
      "outputs": []
    },
    {
      "cell_type": "code",
      "source": [
        "print(nba_test['class'].value_counts())"
      ],
      "metadata": {
        "colab": {
          "base_uri": "https://localhost:8080/"
        },
        "id": "sEIozj_0PH37",
        "outputId": "3f71b4d7-369a-4448-eabb-72dea245de53"
      },
      "execution_count": 93,
      "outputs": [
        {
          "output_type": "stream",
          "name": "stdout",
          "text": [
            "Low Level        36\n",
            "Max Level        16\n",
            "Average Level    14\n",
            "Mid Level        13\n",
            "Name: class, dtype: int64\n"
          ]
        }
      ]
    },
    {
      "cell_type": "code",
      "source": [
        "nba_train = nba_train.drop(['Salary'], axis = 1)\n",
        "nba_test = nba_test.drop(['Salary'], axis = 1)"
      ],
      "metadata": {
        "id": "CVDA2r4IIpFn"
      },
      "execution_count": 94,
      "outputs": []
    },
    {
      "cell_type": "code",
      "source": [
        "nba_train_features = nba_train.drop(['class'], axis = 1)\n",
        "nba_train_target = nba_train['class']\n",
        "\n",
        "nba_test_features = nba_test.drop(['class'], axis = 1)\n",
        "nba_test_target = nba_test['class']"
      ],
      "metadata": {
        "id": "CvMrBIZvLX3b"
      },
      "execution_count": 95,
      "outputs": []
    },
    {
      "cell_type": "code",
      "source": [
        "print('Train:')\n",
        "print('train_features dimensions: ', nba_train_features.shape)\n",
        "print('train_target dimensions: ', nba_train_target.shape, '\\n')\n",
        "\n",
        "\n",
        "print('Test:')\n",
        "print('test_features dimensions: ', nba_test_features.shape)\n",
        "print('test_target dimensions: ', nba_test_target.shape)"
      ],
      "metadata": {
        "colab": {
          "base_uri": "https://localhost:8080/"
        },
        "id": "8zUD_NjhM8j1",
        "outputId": "0b3169ab-d09d-47d3-9d84-af75752c1dd5"
      },
      "execution_count": 96,
      "outputs": [
        {
          "output_type": "stream",
          "name": "stdout",
          "text": [
            "Train:\n",
            "train_features dimensions:  (314, 51)\n",
            "train_target dimensions:  (314,) \n",
            "\n",
            "Test:\n",
            "test_features dimensions:  (79, 51)\n",
            "test_target dimensions:  (79,)\n"
          ]
        }
      ]
    },
    {
      "cell_type": "code",
      "source": [
        "print(nba_train_features.columns)"
      ],
      "metadata": {
        "colab": {
          "base_uri": "https://localhost:8080/"
        },
        "id": "tUIFbIEhzXTq",
        "outputId": "357b9c05-da8a-4f19-fa52-e46642e25a10"
      },
      "execution_count": 97,
      "outputs": [
        {
          "output_type": "stream",
          "name": "stdout",
          "text": [
            "Index(['Age', 'G', 'GS', 'MP', 'FG', 'FGA', 'FG%', '3P', '3PA', '3P%', '2P',\n",
            "       '2PA', '2P%', 'eFG%', 'FT', 'FTA', 'FT%', 'ORB', 'DRB', 'TRB', 'AST',\n",
            "       'STL', 'BLK', 'TOV', 'PF', 'PTS', 'PER', 'TS%', '3PAr', 'FTr', 'ORB%',\n",
            "       'DRB%', 'TRB%', 'AST%', 'STL%', 'BLK%', 'TOV%', 'USG%', 'OWS', 'DWS',\n",
            "       'WS', 'WS/48', 'OBPM', 'DBPM', 'BPM', 'VORP', 'pos_C', 'pos_PF',\n",
            "       'pos_PG', 'pos_SF', 'pos_SG'],\n",
            "      dtype='object')\n"
          ]
        }
      ]
    },
    {
      "cell_type": "markdown",
      "source": [
        "# K-Nearest-Neighbours Classifier"
      ],
      "metadata": {
        "id": "Gh405Lgp0ejN"
      }
    },
    {
      "cell_type": "code",
      "source": [
        "from sklearn.neighbors import KNeighborsClassifier\n",
        "from sklearn.model_selection import cross_val_score\n",
        "\n",
        "knn = KNeighborsClassifier(n_neighbors=9, metric = 'manhattan')\n",
        "cv = cross_val_score(knn, nba_train_features, nba_train_target, cv = 6)\n",
        "print(cv)\n",
        "print(cv.mean())"
      ],
      "metadata": {
        "colab": {
          "base_uri": "https://localhost:8080/"
        },
        "id": "KeRsDc8UyM81",
        "outputId": "302ac8f9-3ccd-4025-8554-6865fdd49ac1"
      },
      "execution_count": 98,
      "outputs": [
        {
          "output_type": "stream",
          "name": "stdout",
          "text": [
            "[0.81132075 0.69811321 0.65384615 0.69230769 0.63461538 0.59615385]\n",
            "0.6810595065312047\n"
          ]
        }
      ]
    },
    {
      "cell_type": "markdown",
      "source": [
        "# Support Vector Machine Classifier"
      ],
      "metadata": {
        "id": "gNF5M4EM0azQ"
      }
    },
    {
      "cell_type": "code",
      "source": [
        "from sklearn import svm\n",
        "from sklearn.svm import SVC"
      ],
      "metadata": {
        "id": "Z24rQiNBzTmo"
      },
      "execution_count": 99,
      "outputs": []
    },
    {
      "cell_type": "markdown",
      "source": [
        "# Naive Bayes Classifier"
      ],
      "metadata": {
        "id": "CWqCzJNU0ij9"
      }
    },
    {
      "cell_type": "code",
      "source": [
        "from sklearn.naive_bayes import GaussianNB"
      ],
      "metadata": {
        "id": "7Vvqim6b03K9"
      },
      "execution_count": 100,
      "outputs": []
    },
    {
      "cell_type": "code",
      "source": [
        "gnb = GaussianNB()\n",
        "cv = cross_val_score(gnb, nba_train_features, nba_train_target, cv = 5)\n",
        "print(cv)\n",
        "print(cv.mean())"
      ],
      "metadata": {
        "colab": {
          "base_uri": "https://localhost:8080/"
        },
        "id": "vk99o6Kz05RI",
        "outputId": "80ecf74c-65c8-4426-c42b-39f5d891802e"
      },
      "execution_count": 101,
      "outputs": [
        {
          "output_type": "stream",
          "name": "stdout",
          "text": [
            "[0.71428571 0.6984127  0.6031746  0.61904762 0.56451613]\n",
            "0.6398873527905786\n"
          ]
        }
      ]
    },
    {
      "cell_type": "markdown",
      "source": [
        "# Decision Tree Classifier\n"
      ],
      "metadata": {
        "id": "UBRbznDb0_V5"
      }
    },
    {
      "cell_type": "code",
      "source": [
        "from sklearn import tree\n",
        "from sklearn.tree import DecisionTreeClassifier"
      ],
      "metadata": {
        "id": "mrF82LM51Cnt"
      },
      "execution_count": 102,
      "outputs": []
    },
    {
      "cell_type": "code",
      "source": [
        "dt = DecisionTreeClassifier()\n",
        "cv = cross_val_score(dt, nba_train_features, nba_train_target, cv =5)\n",
        "print(cv)\n",
        "print(cv.mean())"
      ],
      "metadata": {
        "colab": {
          "base_uri": "https://localhost:8080/"
        },
        "id": "v9u8gwy41Elc",
        "outputId": "2515b510-b47d-49a0-da52-6b3bd18082f6"
      },
      "execution_count": 103,
      "outputs": [
        {
          "output_type": "stream",
          "name": "stdout",
          "text": [
            "[0.58730159 0.53968254 0.58730159 0.6031746  0.64516129]\n",
            "0.5925243215565796\n"
          ]
        }
      ]
    },
    {
      "cell_type": "markdown",
      "source": [
        "# Random Forest Classifier"
      ],
      "metadata": {
        "id": "wxjJTfoP1M0k"
      }
    },
    {
      "cell_type": "code",
      "source": [
        "from sklearn.ensemble import RandomForestClassifier"
      ],
      "metadata": {
        "id": "7Ywj-hIW1Pnl"
      },
      "execution_count": 104,
      "outputs": []
    },
    {
      "cell_type": "code",
      "source": [
        "rf = RandomForestClassifier()\n",
        "cv = cross_val_score(rf, nba_train_features, nba_train_target, cv = 5)\n",
        "print(cv)\n",
        "print(cv.mean())"
      ],
      "metadata": {
        "colab": {
          "base_uri": "https://localhost:8080/"
        },
        "id": "PaqyWkc91RUs",
        "outputId": "7775d172-6696-4fd7-d7e7-8f289f3311b9"
      },
      "execution_count": 105,
      "outputs": [
        {
          "output_type": "stream",
          "name": "stdout",
          "text": [
            "[0.74603175 0.63492063 0.66666667 0.71428571 0.62903226]\n",
            "0.6781874039938556\n"
          ]
        }
      ]
    },
    {
      "cell_type": "markdown",
      "source": [
        "# Gradient Boost Classifier"
      ],
      "metadata": {
        "id": "Js0WFjJt1mek"
      }
    },
    {
      "cell_type": "code",
      "source": [
        "from sklearn.ensemble import GradientBoostingClassifier\n",
        "gb = GradientBoostingClassifier()\n",
        "cv = cross_val_score(gb, nba_train_features, nba_train_target, cv = 5)\n",
        "print(cv)\n",
        "print(cv.mean())"
      ],
      "metadata": {
        "colab": {
          "base_uri": "https://localhost:8080/"
        },
        "id": "ARJH6AoF1mCB",
        "outputId": "92e80b1d-b9f5-4132-bcd8-d78acc221a24"
      },
      "execution_count": 106,
      "outputs": [
        {
          "output_type": "stream",
          "name": "stdout",
          "text": [
            "[0.77777778 0.66666667 0.61904762 0.68253968 0.64516129]\n",
            "0.6782386072708653\n"
          ]
        }
      ]
    },
    {
      "cell_type": "markdown",
      "source": [
        "# Neural Network Classifiers"
      ],
      "metadata": {
        "id": "XF6kccQE1_C2"
      }
    },
    {
      "cell_type": "code",
      "source": [
        "#encode the target variable\n",
        "train_target = pd.get_dummies(nba_train['class'])\n",
        "test_target = pd.get_dummies(nba_test['class'])"
      ],
      "metadata": {
        "id": "lKdj_C6F5XBw"
      },
      "execution_count": 107,
      "outputs": []
    },
    {
      "cell_type": "code",
      "source": [
        "print(train_target.shape)\n",
        "print(test_target.shape)"
      ],
      "metadata": {
        "colab": {
          "base_uri": "https://localhost:8080/"
        },
        "id": "sCRJy7Qb5gxn",
        "outputId": "1715c91e-202a-40dd-9646-23feea180540"
      },
      "execution_count": 108,
      "outputs": [
        {
          "output_type": "stream",
          "name": "stdout",
          "text": [
            "(314, 4)\n",
            "(79, 4)\n"
          ]
        }
      ]
    },
    {
      "cell_type": "code",
      "source": [
        "import tensorflow as tf\n",
        "from tensorflow import keras\n",
        "from sklearn.model_selection import train_test_split\n",
        "\n",
        "from tensorflow.keras.models import Sequential\n",
        "from tensorflow.keras.layers import Activation, Dense, BatchNormalization, Dropout\n",
        "from tensorflow.keras import optimizers\n",
        "import matplotlib.pyplot as plt\n",
        "import numpy as np \n",
        "import pandas as pd\n",
        "import seaborn as sns"
      ],
      "metadata": {
        "id": "J8S9U_yyLJyi"
      },
      "execution_count": 109,
      "outputs": []
    },
    {
      "cell_type": "code",
      "source": [
        "tf.random.set_seed(5)\n",
        "\n",
        "network = tf.keras.models.Sequential()\n",
        "network.add(tf.keras.Input(shape=(51,)))\n",
        "network.add(tf.keras.layers.Dense(30, activation='relu'))\n",
        "network.add(tf.keras.layers.Dense(20, activation='relu'))\n",
        "network.add(tf.keras.layers.Dense(4, activation='softmax'))\n",
        "\n",
        "network.compile(\n",
        "   loss=tf.keras.losses.CategoricalCrossentropy(),\n",
        "   optimizer=tf.keras.optimizers.Adam(),\n",
        "   metrics=\"accuracy\")\n",
        "\n",
        "history = network.fit(nba_train_features, train_target, epochs= 80,validation_data=(nba_test_features, test_target))"
      ],
      "metadata": {
        "colab": {
          "base_uri": "https://localhost:8080/"
        },
        "id": "h1ZaePzALJEa",
        "outputId": "e55b333b-67e7-4070-d5df-c2bd8c076447"
      },
      "execution_count": 110,
      "outputs": [
        {
          "output_type": "stream",
          "name": "stdout",
          "text": [
            "Epoch 1/80\n",
            "10/10 [==============================] - 1s 28ms/step - loss: 4.1355 - accuracy: 0.2293 - val_loss: 2.8642 - val_accuracy: 0.2532\n",
            "Epoch 2/80\n",
            "10/10 [==============================] - 0s 4ms/step - loss: 2.1113 - accuracy: 0.3408 - val_loss: 1.8402 - val_accuracy: 0.4051\n",
            "Epoch 3/80\n",
            "10/10 [==============================] - 0s 4ms/step - loss: 1.5222 - accuracy: 0.4777 - val_loss: 1.2689 - val_accuracy: 0.5570\n",
            "Epoch 4/80\n",
            "10/10 [==============================] - 0s 5ms/step - loss: 1.2633 - accuracy: 0.5541 - val_loss: 1.1375 - val_accuracy: 0.5823\n",
            "Epoch 5/80\n",
            "10/10 [==============================] - 0s 5ms/step - loss: 1.1553 - accuracy: 0.6115 - val_loss: 1.0408 - val_accuracy: 0.5949\n",
            "Epoch 6/80\n",
            "10/10 [==============================] - 0s 5ms/step - loss: 1.0912 - accuracy: 0.6210 - val_loss: 0.9984 - val_accuracy: 0.6203\n",
            "Epoch 7/80\n",
            "10/10 [==============================] - 0s 5ms/step - loss: 1.0188 - accuracy: 0.6083 - val_loss: 0.9560 - val_accuracy: 0.6329\n",
            "Epoch 8/80\n",
            "10/10 [==============================] - 0s 6ms/step - loss: 0.9779 - accuracy: 0.6019 - val_loss: 0.9215 - val_accuracy: 0.6203\n",
            "Epoch 9/80\n",
            "10/10 [==============================] - 0s 6ms/step - loss: 0.9448 - accuracy: 0.6242 - val_loss: 0.9079 - val_accuracy: 0.5823\n",
            "Epoch 10/80\n",
            "10/10 [==============================] - 0s 8ms/step - loss: 0.9090 - accuracy: 0.6274 - val_loss: 0.9081 - val_accuracy: 0.6076\n",
            "Epoch 11/80\n",
            "10/10 [==============================] - 0s 7ms/step - loss: 0.8877 - accuracy: 0.6369 - val_loss: 0.9073 - val_accuracy: 0.6203\n",
            "Epoch 12/80\n",
            "10/10 [==============================] - 0s 5ms/step - loss: 0.8689 - accuracy: 0.6306 - val_loss: 0.8962 - val_accuracy: 0.6203\n",
            "Epoch 13/80\n",
            "10/10 [==============================] - 0s 5ms/step - loss: 0.8438 - accuracy: 0.6401 - val_loss: 0.9069 - val_accuracy: 0.6456\n",
            "Epoch 14/80\n",
            "10/10 [==============================] - 0s 5ms/step - loss: 0.8319 - accuracy: 0.6433 - val_loss: 0.8934 - val_accuracy: 0.6329\n",
            "Epoch 15/80\n",
            "10/10 [==============================] - 0s 5ms/step - loss: 0.8224 - accuracy: 0.6497 - val_loss: 0.8817 - val_accuracy: 0.6329\n",
            "Epoch 16/80\n",
            "10/10 [==============================] - 0s 7ms/step - loss: 0.7964 - accuracy: 0.6592 - val_loss: 0.8711 - val_accuracy: 0.6582\n",
            "Epoch 17/80\n",
            "10/10 [==============================] - 0s 5ms/step - loss: 0.7900 - accuracy: 0.6497 - val_loss: 0.8799 - val_accuracy: 0.6456\n",
            "Epoch 18/80\n",
            "10/10 [==============================] - 0s 4ms/step - loss: 0.7764 - accuracy: 0.6783 - val_loss: 0.8791 - val_accuracy: 0.6456\n",
            "Epoch 19/80\n",
            "10/10 [==============================] - 0s 5ms/step - loss: 0.7661 - accuracy: 0.7006 - val_loss: 0.8603 - val_accuracy: 0.6582\n",
            "Epoch 20/80\n",
            "10/10 [==============================] - 0s 5ms/step - loss: 0.7666 - accuracy: 0.6783 - val_loss: 0.8647 - val_accuracy: 0.6456\n",
            "Epoch 21/80\n",
            "10/10 [==============================] - 0s 5ms/step - loss: 0.7545 - accuracy: 0.6975 - val_loss: 0.8629 - val_accuracy: 0.6582\n",
            "Epoch 22/80\n",
            "10/10 [==============================] - 0s 5ms/step - loss: 0.7422 - accuracy: 0.7006 - val_loss: 0.8567 - val_accuracy: 0.6835\n",
            "Epoch 23/80\n",
            "10/10 [==============================] - 0s 7ms/step - loss: 0.7347 - accuracy: 0.6943 - val_loss: 0.8425 - val_accuracy: 0.6456\n",
            "Epoch 24/80\n",
            "10/10 [==============================] - 0s 6ms/step - loss: 0.7333 - accuracy: 0.7102 - val_loss: 0.8421 - val_accuracy: 0.6709\n",
            "Epoch 25/80\n",
            "10/10 [==============================] - 0s 7ms/step - loss: 0.7328 - accuracy: 0.7070 - val_loss: 0.8390 - val_accuracy: 0.6835\n",
            "Epoch 26/80\n",
            "10/10 [==============================] - 0s 5ms/step - loss: 0.7287 - accuracy: 0.7261 - val_loss: 0.8390 - val_accuracy: 0.7089\n",
            "Epoch 27/80\n",
            "10/10 [==============================] - 0s 5ms/step - loss: 0.7199 - accuracy: 0.7006 - val_loss: 0.8426 - val_accuracy: 0.6962\n",
            "Epoch 28/80\n",
            "10/10 [==============================] - 0s 5ms/step - loss: 0.7249 - accuracy: 0.7006 - val_loss: 0.8758 - val_accuracy: 0.6329\n",
            "Epoch 29/80\n",
            "10/10 [==============================] - 0s 8ms/step - loss: 0.7410 - accuracy: 0.7261 - val_loss: 0.8274 - val_accuracy: 0.6962\n",
            "Epoch 30/80\n",
            "10/10 [==============================] - 0s 5ms/step - loss: 0.7106 - accuracy: 0.7229 - val_loss: 0.8379 - val_accuracy: 0.7089\n",
            "Epoch 31/80\n",
            "10/10 [==============================] - 0s 5ms/step - loss: 0.7043 - accuracy: 0.7134 - val_loss: 0.8431 - val_accuracy: 0.6962\n",
            "Epoch 32/80\n",
            "10/10 [==============================] - 0s 7ms/step - loss: 0.7014 - accuracy: 0.7293 - val_loss: 0.8604 - val_accuracy: 0.6709\n",
            "Epoch 33/80\n",
            "10/10 [==============================] - 0s 5ms/step - loss: 0.6785 - accuracy: 0.7038 - val_loss: 0.8371 - val_accuracy: 0.7215\n",
            "Epoch 34/80\n",
            "10/10 [==============================] - 0s 6ms/step - loss: 0.6770 - accuracy: 0.7357 - val_loss: 0.8216 - val_accuracy: 0.6962\n",
            "Epoch 35/80\n",
            "10/10 [==============================] - 0s 5ms/step - loss: 0.6727 - accuracy: 0.7229 - val_loss: 0.8432 - val_accuracy: 0.6835\n",
            "Epoch 36/80\n",
            "10/10 [==============================] - 0s 7ms/step - loss: 0.6667 - accuracy: 0.7134 - val_loss: 0.8223 - val_accuracy: 0.7215\n",
            "Epoch 37/80\n",
            "10/10 [==============================] - 0s 6ms/step - loss: 0.6707 - accuracy: 0.7102 - val_loss: 0.8232 - val_accuracy: 0.7089\n",
            "Epoch 38/80\n",
            "10/10 [==============================] - 0s 5ms/step - loss: 0.6614 - accuracy: 0.7197 - val_loss: 0.8333 - val_accuracy: 0.6962\n",
            "Epoch 39/80\n",
            "10/10 [==============================] - 0s 5ms/step - loss: 0.6538 - accuracy: 0.7389 - val_loss: 0.8356 - val_accuracy: 0.7089\n",
            "Epoch 40/80\n",
            "10/10 [==============================] - 0s 6ms/step - loss: 0.6624 - accuracy: 0.7261 - val_loss: 0.8337 - val_accuracy: 0.7089\n",
            "Epoch 41/80\n",
            "10/10 [==============================] - 0s 6ms/step - loss: 0.6496 - accuracy: 0.7006 - val_loss: 0.8108 - val_accuracy: 0.7342\n",
            "Epoch 42/80\n",
            "10/10 [==============================] - 0s 5ms/step - loss: 0.6343 - accuracy: 0.7389 - val_loss: 0.8147 - val_accuracy: 0.7215\n",
            "Epoch 43/80\n",
            "10/10 [==============================] - 0s 6ms/step - loss: 0.6281 - accuracy: 0.7134 - val_loss: 0.8298 - val_accuracy: 0.7215\n",
            "Epoch 44/80\n",
            "10/10 [==============================] - 0s 7ms/step - loss: 0.6407 - accuracy: 0.7389 - val_loss: 0.8113 - val_accuracy: 0.7468\n",
            "Epoch 45/80\n",
            "10/10 [==============================] - 0s 6ms/step - loss: 0.6178 - accuracy: 0.7516 - val_loss: 0.8142 - val_accuracy: 0.7342\n",
            "Epoch 46/80\n",
            "10/10 [==============================] - 0s 5ms/step - loss: 0.6270 - accuracy: 0.7357 - val_loss: 0.8282 - val_accuracy: 0.7595\n",
            "Epoch 47/80\n",
            "10/10 [==============================] - 0s 5ms/step - loss: 0.6191 - accuracy: 0.7452 - val_loss: 0.8053 - val_accuracy: 0.7468\n",
            "Epoch 48/80\n",
            "10/10 [==============================] - 0s 5ms/step - loss: 0.6160 - accuracy: 0.7548 - val_loss: 0.8098 - val_accuracy: 0.7468\n",
            "Epoch 49/80\n",
            "10/10 [==============================] - 0s 7ms/step - loss: 0.6168 - accuracy: 0.7484 - val_loss: 0.8112 - val_accuracy: 0.7468\n",
            "Epoch 50/80\n",
            "10/10 [==============================] - 0s 5ms/step - loss: 0.6064 - accuracy: 0.7420 - val_loss: 0.8182 - val_accuracy: 0.7215\n",
            "Epoch 51/80\n",
            "10/10 [==============================] - 0s 5ms/step - loss: 0.6041 - accuracy: 0.7516 - val_loss: 0.8150 - val_accuracy: 0.7468\n",
            "Epoch 52/80\n",
            "10/10 [==============================] - 0s 7ms/step - loss: 0.5971 - accuracy: 0.7516 - val_loss: 0.8057 - val_accuracy: 0.7595\n",
            "Epoch 53/80\n",
            "10/10 [==============================] - 0s 6ms/step - loss: 0.5985 - accuracy: 0.7452 - val_loss: 0.8069 - val_accuracy: 0.7342\n",
            "Epoch 54/80\n",
            "10/10 [==============================] - 0s 5ms/step - loss: 0.5857 - accuracy: 0.7611 - val_loss: 0.8138 - val_accuracy: 0.7595\n",
            "Epoch 55/80\n",
            "10/10 [==============================] - 0s 5ms/step - loss: 0.5868 - accuracy: 0.7739 - val_loss: 0.8290 - val_accuracy: 0.7089\n",
            "Epoch 56/80\n",
            "10/10 [==============================] - 0s 7ms/step - loss: 0.5847 - accuracy: 0.7516 - val_loss: 0.7937 - val_accuracy: 0.7468\n",
            "Epoch 57/80\n",
            "10/10 [==============================] - 0s 7ms/step - loss: 0.5788 - accuracy: 0.7643 - val_loss: 0.7909 - val_accuracy: 0.7595\n",
            "Epoch 58/80\n",
            "10/10 [==============================] - 0s 5ms/step - loss: 0.5809 - accuracy: 0.7452 - val_loss: 0.8225 - val_accuracy: 0.7468\n",
            "Epoch 59/80\n",
            "10/10 [==============================] - 0s 6ms/step - loss: 0.5868 - accuracy: 0.7389 - val_loss: 0.8127 - val_accuracy: 0.7468\n",
            "Epoch 60/80\n",
            "10/10 [==============================] - 0s 7ms/step - loss: 0.5778 - accuracy: 0.7834 - val_loss: 0.8075 - val_accuracy: 0.7342\n",
            "Epoch 61/80\n",
            "10/10 [==============================] - 0s 5ms/step - loss: 0.5942 - accuracy: 0.7325 - val_loss: 0.8116 - val_accuracy: 0.7215\n",
            "Epoch 62/80\n",
            "10/10 [==============================] - 0s 7ms/step - loss: 0.5746 - accuracy: 0.7707 - val_loss: 0.8552 - val_accuracy: 0.7342\n",
            "Epoch 63/80\n",
            "10/10 [==============================] - 0s 5ms/step - loss: 0.5679 - accuracy: 0.7771 - val_loss: 0.8357 - val_accuracy: 0.6709\n",
            "Epoch 64/80\n",
            "10/10 [==============================] - 0s 7ms/step - loss: 0.5754 - accuracy: 0.7516 - val_loss: 0.7957 - val_accuracy: 0.7342\n",
            "Epoch 65/80\n",
            "10/10 [==============================] - 0s 5ms/step - loss: 0.5562 - accuracy: 0.7803 - val_loss: 0.8140 - val_accuracy: 0.7595\n",
            "Epoch 66/80\n",
            "10/10 [==============================] - 0s 5ms/step - loss: 0.5444 - accuracy: 0.7803 - val_loss: 0.7948 - val_accuracy: 0.7342\n",
            "Epoch 67/80\n",
            "10/10 [==============================] - 0s 5ms/step - loss: 0.5486 - accuracy: 0.7803 - val_loss: 0.8037 - val_accuracy: 0.7342\n",
            "Epoch 68/80\n",
            "10/10 [==============================] - 0s 5ms/step - loss: 0.5430 - accuracy: 0.7866 - val_loss: 0.7942 - val_accuracy: 0.7215\n",
            "Epoch 69/80\n",
            "10/10 [==============================] - 0s 5ms/step - loss: 0.5413 - accuracy: 0.7516 - val_loss: 0.8121 - val_accuracy: 0.7468\n",
            "Epoch 70/80\n",
            "10/10 [==============================] - 0s 7ms/step - loss: 0.5490 - accuracy: 0.7771 - val_loss: 0.8013 - val_accuracy: 0.7342\n",
            "Epoch 71/80\n",
            "10/10 [==============================] - 0s 7ms/step - loss: 0.5303 - accuracy: 0.7962 - val_loss: 0.7850 - val_accuracy: 0.7215\n",
            "Epoch 72/80\n",
            "10/10 [==============================] - 0s 5ms/step - loss: 0.5272 - accuracy: 0.7866 - val_loss: 0.8065 - val_accuracy: 0.7215\n",
            "Epoch 73/80\n",
            "10/10 [==============================] - 0s 5ms/step - loss: 0.5282 - accuracy: 0.7898 - val_loss: 0.8052 - val_accuracy: 0.7215\n",
            "Epoch 74/80\n",
            "10/10 [==============================] - 0s 7ms/step - loss: 0.5278 - accuracy: 0.7803 - val_loss: 0.8100 - val_accuracy: 0.7215\n",
            "Epoch 75/80\n",
            "10/10 [==============================] - 0s 5ms/step - loss: 0.5160 - accuracy: 0.7930 - val_loss: 0.8025 - val_accuracy: 0.7215\n",
            "Epoch 76/80\n",
            "10/10 [==============================] - 0s 7ms/step - loss: 0.5219 - accuracy: 0.7962 - val_loss: 0.8287 - val_accuracy: 0.7595\n",
            "Epoch 77/80\n",
            "10/10 [==============================] - 0s 7ms/step - loss: 0.5237 - accuracy: 0.8121 - val_loss: 0.8022 - val_accuracy: 0.6962\n",
            "Epoch 78/80\n",
            "10/10 [==============================] - 0s 7ms/step - loss: 0.5239 - accuracy: 0.7898 - val_loss: 0.8040 - val_accuracy: 0.7089\n",
            "Epoch 79/80\n",
            "10/10 [==============================] - 0s 6ms/step - loss: 0.5119 - accuracy: 0.7771 - val_loss: 0.8042 - val_accuracy: 0.7215\n",
            "Epoch 80/80\n",
            "10/10 [==============================] - 0s 5ms/step - loss: 0.5030 - accuracy: 0.7834 - val_loss: 0.8072 - val_accuracy: 0.7215\n"
          ]
        }
      ]
    },
    {
      "cell_type": "code",
      "source": [
        "from matplotlib import pyplot as plt\n",
        "plt.plot(history.history['accuracy'])\n",
        "plt.plot(history.history['val_accuracy'])\n",
        "plt.title('model accuracy')\n",
        "plt.ylabel('accuracy')\n",
        "plt.xlabel('epoch')\n",
        "plt.legend(['Train', 'Cross-Validation'], loc='upper left')\n",
        "plt.show()"
      ],
      "metadata": {
        "colab": {
          "base_uri": "https://localhost:8080/",
          "height": 295
        },
        "id": "QqiWjzZ-LNBn",
        "outputId": "2dbea707-d069-4e08-b2ff-530cf6eb60a0"
      },
      "execution_count": 111,
      "outputs": [
        {
          "output_type": "display_data",
          "data": {
            "text/plain": [
              "<Figure size 432x288 with 1 Axes>"
            ],
            "image/png": "[encoded data removed]"
          },
          "metadata": {
            "needs_background": "light"
          }
        }
      ]
    }
  ]
}