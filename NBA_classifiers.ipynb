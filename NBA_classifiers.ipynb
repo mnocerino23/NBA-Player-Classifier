{
  "nbformat": 4,
  "nbformat_minor": 0,
  "metadata": {
    "colab": {
      "name": "NBA_classifiers.ipynb",
      "provenance": [],
      "authorship_tag": "ABX9TyNtk7pdmJ67dfsVF06KV5VC",
      "include_colab_link": true
    },
    "kernelspec": {
      "name": "python3",
      "display_name": "Python 3"
    },
    "language_info": {
      "name": "python"
    }
  },
  "cells": [
    {
      "cell_type": "markdown",
      "metadata": {
        "id": "view-in-github",
        "colab_type": "text"
      },
      "source": [
        "<a href=\"https://colab.research.google.com/github/mnocerino23/NBA-Player-Classifier/blob/main/NBA_classifiers.ipynb\" target=\"_parent\"><img src=\"https://colab.research.google.com/assets/colab-badge.svg\" alt=\"Open In Colab\"/></a>"
      ]
    },
    {
      "cell_type": "markdown",
      "source": [
        "# The goal in this notebook is to build some intitial models to see which ML algorithms are performing best on the NBA salary dataset"
      ],
      "metadata": {
        "id": "S18Gy3_SAVoM"
      }
    },
    {
      "cell_type": "code",
      "execution_count": 1,
      "metadata": {
        "colab": {
          "base_uri": "https://localhost:8080/"
        },
        "id": "UQTJFDfYGIOo",
        "outputId": "2d654992-f37b-4fc0-8961-92189c9f8d97"
      },
      "outputs": [
        {
          "output_type": "stream",
          "name": "stdout",
          "text": [
            "Mounted at /content/drive\n"
          ]
        }
      ],
      "source": [
        "import pandas as pd\n",
        "from google.colab import drive\n",
        "drive.mount('/content/drive')"
      ]
    },
    {
      "cell_type": "markdown",
      "source": [
        "# Read in the training and testing data that we preprocessed and split in the previous Jupyter Notebook"
      ],
      "metadata": {
        "id": "z2u7vhKD4oGx"
      }
    },
    {
      "cell_type": "code",
      "source": [
        "nba_train = pd.read_csv('/content/drive/MyDrive/Data_Science_Projects/NBA/nba_train.csv')\n",
        "nba_test = pd.read_csv('/content/drive/MyDrive/Data_Science_Projects/NBA/nba_test.csv')"
      ],
      "metadata": {
        "id": "0niM9ni-GjB8"
      },
      "execution_count": 2,
      "outputs": []
    },
    {
      "cell_type": "code",
      "source": [
        "nba_train.shape"
      ],
      "metadata": {
        "colab": {
          "base_uri": "https://localhost:8080/"
        },
        "id": "3Htr8jieHHMn",
        "outputId": "ca89b9ca-909e-48a3-8916-2063da90beac"
      },
      "execution_count": 3,
      "outputs": [
        {
          "output_type": "execute_result",
          "data": {
            "text/plain": [
              "(334, 52)"
            ]
          },
          "metadata": {},
          "execution_count": 3
        }
      ]
    },
    {
      "cell_type": "code",
      "source": [
        "nba_test.shape"
      ],
      "metadata": {
        "colab": {
          "base_uri": "https://localhost:8080/"
        },
        "id": "KdPTs3JYHJGq",
        "outputId": "403d1481-4ce3-42b2-eea7-ded536653ed9"
      },
      "execution_count": 4,
      "outputs": [
        {
          "output_type": "execute_result",
          "data": {
            "text/plain": [
              "(59, 52)"
            ]
          },
          "metadata": {},
          "execution_count": 4
        }
      ]
    },
    {
      "cell_type": "markdown",
      "source": [
        "# Break Players into 4 classes based on their salary\n",
        "With some experimentation this was the best 4 class division I was able to find\n",
        "\n",
        "1.   0-6 Million: Low Level\n",
        "2.   6-12 Million: Average Level\n",
        "3.   12-20 Million: Star Level\n",
        "4.   20+ Million: Max Level\n",
        "\n"
      ],
      "metadata": {
        "id": "WkVRe6J9eqvC"
      }
    },
    {
      "cell_type": "code",
      "source": [
        "nba_train['class'] = ''\n",
        "for index, row in nba_train.iterrows():\n",
        "  if nba_train.at[index,'Salary'] <= 6:\n",
        "    nba_train.at[index,'class'] = 'Low Level'\n",
        "  elif nba_train.at[index,'Salary'] > 6 and nba_train.at[index,'Salary'] <= 12:\n",
        "    nba_train.at[index,'class'] = 'Average Level'\n",
        "  elif nba_train.at[index, 'Salary'] > 12 and nba_train.at[index,'Salary'] <= 20:\n",
        "    nba_train.at[index,'class'] = 'Star Level'\n",
        "  elif nba_train.at[index,'Salary']> 20:\n",
        "    nba_train.at[index,'class'] = 'Max Level'"
      ],
      "metadata": {
        "id": "ik5yABXDHOT0"
      },
      "execution_count": 5,
      "outputs": []
    },
    {
      "cell_type": "code",
      "source": [
        "print(nba_train['class'].value_counts())"
      ],
      "metadata": {
        "colab": {
          "base_uri": "https://localhost:8080/"
        },
        "id": "f2Yi6ZUcPHdT",
        "outputId": "7d45e698-20d8-44fc-9d8c-07e5df09ef73"
      },
      "execution_count": 6,
      "outputs": [
        {
          "output_type": "stream",
          "name": "stdout",
          "text": [
            "Low Level        178\n",
            "Average Level     60\n",
            "Max Level         52\n",
            "Star Level        44\n",
            "Name: class, dtype: int64\n"
          ]
        }
      ]
    },
    {
      "cell_type": "code",
      "source": [
        "nba_test['class'] = ''\n",
        "for index, row in nba_test.iterrows():\n",
        "  if nba_test.at[index,'Salary'] <= 6:\n",
        "    nba_test.at[index,'class'] = 'Low Level'\n",
        "  elif nba_test.at[index,'Salary'] > 6 and nba_test.at[index,'Salary'] <= 12:\n",
        "    nba_test.at[index,'class'] = 'Average Level'\n",
        "  elif nba_test.at[index, 'Salary'] > 12 and nba_test.at[index,'Salary'] <= 20:\n",
        "    nba_test.at[index,'class'] = 'Star Level'\n",
        "  elif nba_test.at[index,'Salary'] > 20:\n",
        "    nba_test.at[index,'class'] = 'Max Level'"
      ],
      "metadata": {
        "id": "NBFm1IBfMsSm"
      },
      "execution_count": 7,
      "outputs": []
    },
    {
      "cell_type": "code",
      "source": [
        "print(nba_train['class'].value_counts())"
      ],
      "metadata": {
        "colab": {
          "base_uri": "https://localhost:8080/"
        },
        "id": "sEIozj_0PH37",
        "outputId": "d85cfef1-b98b-4904-9924-e9d61d14873b"
      },
      "execution_count": 9,
      "outputs": [
        {
          "output_type": "stream",
          "name": "stdout",
          "text": [
            "Low Level        178\n",
            "Average Level     60\n",
            "Max Level         52\n",
            "Star Level        44\n",
            "Name: class, dtype: int64\n"
          ]
        }
      ]
    },
    {
      "cell_type": "code",
      "source": [
        "print(nba_test['class'].value_counts())"
      ],
      "metadata": {
        "id": "Ar98yu0_YF90",
        "outputId": "dd05b92e-fb46-4922-ac6d-6f66117cfeef",
        "colab": {
          "base_uri": "https://localhost:8080/"
        }
      },
      "execution_count": 10,
      "outputs": [
        {
          "output_type": "stream",
          "name": "stdout",
          "text": [
            "Low Level        30\n",
            "Star Level       11\n",
            "Average Level    10\n",
            "Max Level         8\n",
            "Name: class, dtype: int64\n"
          ]
        }
      ]
    },
    {
      "cell_type": "code",
      "source": [
        "nba_train = nba_train.drop(['Salary'], axis = 1)\n",
        "nba_test = nba_test.drop(['Salary'], axis = 1)"
      ],
      "metadata": {
        "id": "CVDA2r4IIpFn"
      },
      "execution_count": 11,
      "outputs": []
    },
    {
      "cell_type": "code",
      "source": [
        "#seperate the other features from the target feature class (which is a class rank based on the salary of the player)\n",
        "nba_train_features = nba_train.drop(['class'], axis = 1)\n",
        "nba_train_target = nba_train['class']\n",
        "\n",
        "nba_test_features = nba_test.drop(['class'], axis = 1)\n",
        "nba_test_target = nba_test['class']"
      ],
      "metadata": {
        "id": "CvMrBIZvLX3b"
      },
      "execution_count": 12,
      "outputs": []
    },
    {
      "cell_type": "code",
      "source": [
        "print('Train:')\n",
        "print('train_features dimensions: ', nba_train_features.shape)\n",
        "print('train_target dimensions: ', nba_train_target.shape, '\\n')\n",
        "\n",
        "\n",
        "print('Test:')\n",
        "print('test_features dimensions: ', nba_test_features.shape)\n",
        "print('test_target dimensions: ', nba_test_target.shape)"
      ],
      "metadata": {
        "colab": {
          "base_uri": "https://localhost:8080/"
        },
        "id": "8zUD_NjhM8j1",
        "outputId": "977647c7-ccd3-42c9-bf1a-b42f3cb2b727"
      },
      "execution_count": 13,
      "outputs": [
        {
          "output_type": "stream",
          "name": "stdout",
          "text": [
            "Train:\n",
            "train_features dimensions:  (334, 51)\n",
            "train_target dimensions:  (334,) \n",
            "\n",
            "Test:\n",
            "test_features dimensions:  (59, 51)\n",
            "test_target dimensions:  (59,)\n"
          ]
        }
      ]
    },
    {
      "cell_type": "code",
      "source": [
        "print(len(nba_train_features.columns))\n",
        "print(nba_train_features.columns)"
      ],
      "metadata": {
        "colab": {
          "base_uri": "https://localhost:8080/"
        },
        "id": "tUIFbIEhzXTq",
        "outputId": "495053a0-bc96-4864-bd63-212392a85792"
      },
      "execution_count": 14,
      "outputs": [
        {
          "output_type": "stream",
          "name": "stdout",
          "text": [
            "51\n",
            "Index(['Age', 'G', 'GS', 'MP', 'FG', 'FGA', 'FG%', '3P', '3PA', '3P%', '2P',\n",
            "       '2PA', '2P%', 'eFG%', 'FT', 'FTA', 'FT%', 'ORB', 'DRB', 'TRB', 'AST',\n",
            "       'STL', 'BLK', 'TOV', 'PF', 'PTS', 'PER', 'TS%', '3PAr', 'FTr', 'ORB%',\n",
            "       'DRB%', 'TRB%', 'AST%', 'STL%', 'BLK%', 'TOV%', 'USG%', 'OWS', 'DWS',\n",
            "       'WS', 'WS/48', 'OBPM', 'DBPM', 'BPM', 'VORP', 'pos_C', 'pos_PF',\n",
            "       'pos_PG', 'pos_SF', 'pos_SG'],\n",
            "      dtype='object')\n"
          ]
        }
      ]
    },
    {
      "cell_type": "markdown",
      "source": [
        "# Feature Selection\n",
        "*   Determine the most relevant of the 51 features in the dataset for predicting player salary using SelectKBest in Scikit-Learn\n"
      ],
      "metadata": {
        "id": "9T4TSH4k5LEv"
      }
    },
    {
      "cell_type": "code",
      "source": [
        "from sklearn.feature_selection import SelectKBest, f_classif"
      ],
      "metadata": {
        "id": "6CsUdGdW7pve"
      },
      "execution_count": 15,
      "outputs": []
    },
    {
      "cell_type": "code",
      "source": [
        "top_features_ordered = []"
      ],
      "metadata": {
        "id": "dJyKX0TL7256"
      },
      "execution_count": 16,
      "outputs": []
    },
    {
      "cell_type": "code",
      "source": [
        "best_features = SelectKBest(f_classif, k=40)\n",
        "k_best_data = best_features.fit_transform(nba_train_features, nba_train_target)\n",
        "mask = best_features.get_support()\n",
        "new_features = nba_train_features.columns[mask]\n",
        "for item in new_features:\n",
        "  if item not in top_features_ordered:\n",
        "    top_features_ordered.append(item)"
      ],
      "metadata": {
        "id": "pk4MlKpN7cI5"
      },
      "execution_count": 17,
      "outputs": []
    },
    {
      "cell_type": "code",
      "source": [
        "count = 1\n",
        "for item in top_features_ordered:\n",
        "  print(count, '. ', item)\n",
        "  count += 1"
      ],
      "metadata": {
        "id": "Qh9QJa047mlh",
        "outputId": "196acf03-dc81-4f5c-dadd-0190ec8251d6",
        "colab": {
          "base_uri": "https://localhost:8080/"
        }
      },
      "execution_count": 18,
      "outputs": [
        {
          "output_type": "stream",
          "name": "stdout",
          "text": [
            "1 .  Age\n",
            "2 .  G\n",
            "3 .  GS\n",
            "4 .  MP\n",
            "5 .  FG\n",
            "6 .  FGA\n",
            "7 .  FG%\n",
            "8 .  3P\n",
            "9 .  3PA\n",
            "10 .  2P\n",
            "11 .  2PA\n",
            "12 .  eFG%\n",
            "13 .  FT\n",
            "14 .  FTA\n",
            "15 .  FT%\n",
            "16 .  ORB\n",
            "17 .  DRB\n",
            "18 .  TRB\n",
            "19 .  AST\n",
            "20 .  STL\n",
            "21 .  BLK\n",
            "22 .  TOV\n",
            "23 .  PF\n",
            "24 .  PTS\n",
            "25 .  PER\n",
            "26 .  TS%\n",
            "27 .  FTr\n",
            "28 .  ORB%\n",
            "29 .  DRB%\n",
            "30 .  AST%\n",
            "31 .  USG%\n",
            "32 .  OWS\n",
            "33 .  DWS\n",
            "34 .  WS\n",
            "35 .  WS/48\n",
            "36 .  OBPM\n",
            "37 .  DBPM\n",
            "38 .  BPM\n",
            "39 .  VORP\n",
            "40 .  pos_PG\n"
          ]
        }
      ]
    },
    {
      "cell_type": "markdown",
      "source": [
        "# K-Nearest-Neighbours Classifier"
      ],
      "metadata": {
        "id": "Gh405Lgp0ejN"
      }
    },
    {
      "cell_type": "code",
      "source": [
        "from sklearn.neighbors import KNeighborsClassifier\n",
        "from sklearn.model_selection import cross_val_score\n",
        "\n",
        "knn = KNeighborsClassifier(n_neighbors=9, metric = 'manhattan')\n",
        "cv = cross_val_score(knn, nba_train_features, nba_train_target, cv = 6)\n",
        "print(cv)\n",
        "print(cv.mean())"
      ],
      "metadata": {
        "colab": {
          "base_uri": "https://localhost:8080/"
        },
        "id": "KeRsDc8UyM81",
        "outputId": "2e9b5ffe-06c3-403e-d31a-678a968d9a74"
      },
      "execution_count": 19,
      "outputs": [
        {
          "output_type": "stream",
          "name": "stdout",
          "text": [
            "[0.75       0.58928571 0.625      0.57142857 0.70909091 0.72727273]\n",
            "0.662012987012987\n"
          ]
        }
      ]
    },
    {
      "cell_type": "markdown",
      "source": [
        "# Support Vector Machine Classifier"
      ],
      "metadata": {
        "id": "gNF5M4EM0azQ"
      }
    },
    {
      "cell_type": "code",
      "source": [
        "from sklearn import svm\n",
        "from sklearn.svm import SVC"
      ],
      "metadata": {
        "id": "Z24rQiNBzTmo"
      },
      "execution_count": 20,
      "outputs": []
    },
    {
      "cell_type": "code",
      "source": [
        "linear_boundary = svm.SVC()"
      ],
      "metadata": {
        "id": "rwqyy_15ACy2"
      },
      "execution_count": 21,
      "outputs": []
    },
    {
      "cell_type": "code",
      "source": [
        "cv = cross_val_score(linear_boundary, nba_train_features[top_features_ordered], nba_train_target, cv = 5)\n",
        "print(cv)\n",
        "print(cv.mean())"
      ],
      "metadata": {
        "id": "YqDNQ6BeDoyk",
        "outputId": "22cf4695-2170-413b-990d-95fcfc23e489",
        "colab": {
          "base_uri": "https://localhost:8080/"
        }
      },
      "execution_count": 22,
      "outputs": [
        {
          "output_type": "stream",
          "name": "stdout",
          "text": [
            "[0.71641791 0.67164179 0.59701493 0.71641791 0.66666667]\n",
            "0.6736318407960199\n"
          ]
        }
      ]
    },
    {
      "cell_type": "markdown",
      "source": [
        "# Naive Bayes Classifier"
      ],
      "metadata": {
        "id": "CWqCzJNU0ij9"
      }
    },
    {
      "cell_type": "code",
      "source": [
        "from sklearn.naive_bayes import GaussianNB"
      ],
      "metadata": {
        "id": "7Vvqim6b03K9"
      },
      "execution_count": 23,
      "outputs": []
    },
    {
      "cell_type": "code",
      "source": [
        "gnb = GaussianNB()\n",
        "cv = cross_val_score(gnb, nba_train_features[top_features_ordered], nba_train_target, cv = 5)\n",
        "print(cv)\n",
        "print(cv.mean())"
      ],
      "metadata": {
        "colab": {
          "base_uri": "https://localhost:8080/"
        },
        "id": "vk99o6Kz05RI",
        "outputId": "1598c372-c2d5-4758-da87-6948392527f2"
      },
      "execution_count": 24,
      "outputs": [
        {
          "output_type": "stream",
          "name": "stdout",
          "text": [
            "[0.59701493 0.62686567 0.53731343 0.65671642 0.75757576]\n",
            "0.6350972410673903\n"
          ]
        }
      ]
    },
    {
      "cell_type": "markdown",
      "source": [
        "# Decision Tree Classifier\n"
      ],
      "metadata": {
        "id": "UBRbznDb0_V5"
      }
    },
    {
      "cell_type": "code",
      "source": [
        "from sklearn import tree\n",
        "from sklearn.tree import DecisionTreeClassifier"
      ],
      "metadata": {
        "id": "mrF82LM51Cnt"
      },
      "execution_count": 25,
      "outputs": []
    },
    {
      "cell_type": "code",
      "source": [
        "dt = DecisionTreeClassifier()\n",
        "cv = cross_val_score(dt, nba_train_features[top_features_ordered], nba_train_target, cv =5)\n",
        "print(cv)\n",
        "print(cv.mean())"
      ],
      "metadata": {
        "colab": {
          "base_uri": "https://localhost:8080/"
        },
        "id": "v9u8gwy41Elc",
        "outputId": "19b2bafc-a84a-49c3-cc05-a4c3dd732950"
      },
      "execution_count": 30,
      "outputs": [
        {
          "output_type": "stream",
          "name": "stdout",
          "text": [
            "[0.58208955 0.53731343 0.6119403  0.59701493 0.66666667]\n",
            "0.599004975124378\n"
          ]
        }
      ]
    },
    {
      "cell_type": "markdown",
      "source": [
        "# Random Forest Classifier"
      ],
      "metadata": {
        "id": "wxjJTfoP1M0k"
      }
    },
    {
      "cell_type": "code",
      "source": [
        "from sklearn.ensemble import RandomForestClassifier"
      ],
      "metadata": {
        "id": "7Ywj-hIW1Pnl"
      },
      "execution_count": 31,
      "outputs": []
    },
    {
      "cell_type": "code",
      "source": [
        "rf = RandomForestClassifier()\n",
        "cv = cross_val_score(rf, nba_train_features[top_features_ordered], nba_train_target, cv = 5)\n",
        "print(cv)\n",
        "print(cv.mean())"
      ],
      "metadata": {
        "colab": {
          "base_uri": "https://localhost:8080/"
        },
        "id": "PaqyWkc91RUs",
        "outputId": "7b0c3188-b1f1-4ca2-c378-73f621aa69db"
      },
      "execution_count": 34,
      "outputs": [
        {
          "output_type": "stream",
          "name": "stdout",
          "text": [
            "[0.73134328 0.65671642 0.6119403  0.67164179 0.74242424]\n",
            "0.6828132066938037\n"
          ]
        }
      ]
    },
    {
      "cell_type": "markdown",
      "source": [
        "# Gradient Boost Classifier"
      ],
      "metadata": {
        "id": "Js0WFjJt1mek"
      }
    },
    {
      "cell_type": "code",
      "source": [
        "from sklearn.ensemble import GradientBoostingClassifier\n",
        "gb = GradientBoostingClassifier()\n",
        "cv = cross_val_score(gb, nba_train_features[top_features_ordered], nba_train_target, cv = 5)\n",
        "print(cv)\n",
        "print(cv.mean())"
      ],
      "metadata": {
        "colab": {
          "base_uri": "https://localhost:8080/"
        },
        "id": "ARJH6AoF1mCB",
        "outputId": "a3011480-22ed-4b32-87a5-9b120f39d630"
      },
      "execution_count": 35,
      "outputs": [
        {
          "output_type": "stream",
          "name": "stdout",
          "text": [
            "[0.7761194  0.71641791 0.65671642 0.70149254 0.72727273]\n",
            "0.7156037991858888\n"
          ]
        }
      ]
    },
    {
      "cell_type": "markdown",
      "source": [
        "# Neural Network Classifiers"
      ],
      "metadata": {
        "id": "XF6kccQE1_C2"
      }
    },
    {
      "cell_type": "code",
      "source": [
        "#encode the target variable\n",
        "train_target = pd.get_dummies(nba_train['class'])\n",
        "test_target = pd.get_dummies(nba_test['class'])"
      ],
      "metadata": {
        "id": "lKdj_C6F5XBw"
      },
      "execution_count": 36,
      "outputs": []
    },
    {
      "cell_type": "code",
      "source": [
        "print(train_target.shape)\n",
        "print(test_target.shape)"
      ],
      "metadata": {
        "colab": {
          "base_uri": "https://localhost:8080/"
        },
        "id": "sCRJy7Qb5gxn",
        "outputId": "074083c5-d240-4d44-edc3-025efa092a50"
      },
      "execution_count": 37,
      "outputs": [
        {
          "output_type": "stream",
          "name": "stdout",
          "text": [
            "(334, 4)\n",
            "(59, 4)\n"
          ]
        }
      ]
    },
    {
      "cell_type": "code",
      "source": [
        "import tensorflow as tf\n",
        "from tensorflow import keras\n",
        "from sklearn.model_selection import train_test_split\n",
        "\n",
        "from tensorflow.keras.models import Sequential\n",
        "from tensorflow.keras.layers import Activation, Dense, BatchNormalization, Dropout\n",
        "from tensorflow.keras import optimizers\n",
        "import matplotlib.pyplot as plt\n",
        "import numpy as np \n",
        "import pandas as pd\n",
        "import seaborn as sns"
      ],
      "metadata": {
        "id": "J8S9U_yyLJyi"
      },
      "execution_count": 38,
      "outputs": []
    },
    {
      "cell_type": "code",
      "source": [
        "tf.random.set_seed(5)\n",
        "\n",
        "network = tf.keras.models.Sequential()\n",
        "network.add(tf.keras.Input(shape=(51,)))\n",
        "network.add(tf.keras.layers.Dense(20, activation='relu'))\n",
        "network.add(tf.keras.layers.Dense(20, activation='relu'))\n",
        "network.add(tf.keras.layers.Dense(4, activation='softmax'))\n",
        "\n",
        "network.compile(\n",
        "   loss=tf.keras.losses.CategoricalCrossentropy(),\n",
        "   optimizer=tf.keras.optimizers.Adam(),\n",
        "   metrics=\"accuracy\")\n",
        "\n",
        "history = network.fit(nba_train_features, train_target, epochs= 55,validation_data=(nba_test_features, test_target))"
      ],
      "metadata": {
        "colab": {
          "base_uri": "https://localhost:8080/"
        },
        "id": "h1ZaePzALJEa",
        "outputId": "39ecf7f7-c160-49d6-e1dc-a852dc721af0"
      },
      "execution_count": 49,
      "outputs": [
        {
          "output_type": "stream",
          "name": "stdout",
          "text": [
            "Epoch 1/55\n",
            "11/11 [==============================] - 1s 62ms/step - loss: 8.8155 - accuracy: 0.4491 - val_loss: 5.9712 - val_accuracy: 0.2542\n",
            "Epoch 2/55\n",
            "11/11 [==============================] - 0s 6ms/step - loss: 3.8890 - accuracy: 0.3174 - val_loss: 2.7998 - val_accuracy: 0.2881\n",
            "Epoch 3/55\n",
            "11/11 [==============================] - 0s 12ms/step - loss: 2.2759 - accuracy: 0.3563 - val_loss: 1.8345 - val_accuracy: 0.4237\n",
            "Epoch 4/55\n",
            "11/11 [==============================] - 0s 8ms/step - loss: 1.6296 - accuracy: 0.5269 - val_loss: 1.3588 - val_accuracy: 0.4746\n",
            "Epoch 5/55\n",
            "11/11 [==============================] - 0s 16ms/step - loss: 1.3554 - accuracy: 0.5778 - val_loss: 1.2034 - val_accuracy: 0.5085\n",
            "Epoch 6/55\n",
            "11/11 [==============================] - 0s 18ms/step - loss: 1.2157 - accuracy: 0.5898 - val_loss: 1.0682 - val_accuracy: 0.5593\n",
            "Epoch 7/55\n",
            "11/11 [==============================] - 0s 8ms/step - loss: 1.1373 - accuracy: 0.6018 - val_loss: 1.0746 - val_accuracy: 0.5424\n",
            "Epoch 8/55\n",
            "11/11 [==============================] - 0s 6ms/step - loss: 1.0691 - accuracy: 0.6198 - val_loss: 1.0323 - val_accuracy: 0.5932\n",
            "Epoch 9/55\n",
            "11/11 [==============================] - 0s 6ms/step - loss: 1.0204 - accuracy: 0.6138 - val_loss: 1.0397 - val_accuracy: 0.5254\n",
            "Epoch 10/55\n",
            "11/11 [==============================] - 0s 7ms/step - loss: 0.9824 - accuracy: 0.6437 - val_loss: 0.9910 - val_accuracy: 0.6102\n",
            "Epoch 11/55\n",
            "11/11 [==============================] - 0s 7ms/step - loss: 0.9485 - accuracy: 0.6497 - val_loss: 0.9827 - val_accuracy: 0.5763\n",
            "Epoch 12/55\n",
            "11/11 [==============================] - 0s 7ms/step - loss: 0.9328 - accuracy: 0.6347 - val_loss: 0.9980 - val_accuracy: 0.5932\n",
            "Epoch 13/55\n",
            "11/11 [==============================] - 0s 8ms/step - loss: 0.8922 - accuracy: 0.6497 - val_loss: 0.9862 - val_accuracy: 0.5932\n",
            "Epoch 14/55\n",
            "11/11 [==============================] - 0s 6ms/step - loss: 0.8782 - accuracy: 0.6707 - val_loss: 1.0342 - val_accuracy: 0.5424\n",
            "Epoch 15/55\n",
            "11/11 [==============================] - 0s 5ms/step - loss: 0.8638 - accuracy: 0.6437 - val_loss: 0.9997 - val_accuracy: 0.5763\n",
            "Epoch 16/55\n",
            "11/11 [==============================] - 0s 6ms/step - loss: 0.8417 - accuracy: 0.6737 - val_loss: 1.0547 - val_accuracy: 0.5424\n",
            "Epoch 17/55\n",
            "11/11 [==============================] - 0s 5ms/step - loss: 0.8371 - accuracy: 0.6527 - val_loss: 0.9578 - val_accuracy: 0.5593\n",
            "Epoch 18/55\n",
            "11/11 [==============================] - 0s 5ms/step - loss: 0.8190 - accuracy: 0.6707 - val_loss: 1.0327 - val_accuracy: 0.5593\n",
            "Epoch 19/55\n",
            "11/11 [==============================] - 0s 5ms/step - loss: 0.8116 - accuracy: 0.6677 - val_loss: 0.9849 - val_accuracy: 0.5763\n",
            "Epoch 20/55\n",
            "11/11 [==============================] - 0s 5ms/step - loss: 0.7956 - accuracy: 0.6826 - val_loss: 0.9974 - val_accuracy: 0.5254\n",
            "Epoch 21/55\n",
            "11/11 [==============================] - 0s 5ms/step - loss: 0.7986 - accuracy: 0.6737 - val_loss: 0.9341 - val_accuracy: 0.5932\n",
            "Epoch 22/55\n",
            "11/11 [==============================] - 0s 5ms/step - loss: 0.7922 - accuracy: 0.6886 - val_loss: 1.0661 - val_accuracy: 0.5254\n",
            "Epoch 23/55\n",
            "11/11 [==============================] - 0s 4ms/step - loss: 0.7757 - accuracy: 0.6766 - val_loss: 0.9689 - val_accuracy: 0.5763\n",
            "Epoch 24/55\n",
            "11/11 [==============================] - 0s 5ms/step - loss: 0.7699 - accuracy: 0.6976 - val_loss: 0.9614 - val_accuracy: 0.5763\n",
            "Epoch 25/55\n",
            "11/11 [==============================] - 0s 4ms/step - loss: 0.7631 - accuracy: 0.6737 - val_loss: 1.0026 - val_accuracy: 0.5593\n",
            "Epoch 26/55\n",
            "11/11 [==============================] - 0s 6ms/step - loss: 0.7501 - accuracy: 0.6766 - val_loss: 0.9543 - val_accuracy: 0.5763\n",
            "Epoch 27/55\n",
            "11/11 [==============================] - 0s 5ms/step - loss: 0.7527 - accuracy: 0.6737 - val_loss: 0.9380 - val_accuracy: 0.5932\n",
            "Epoch 28/55\n",
            "11/11 [==============================] - 0s 6ms/step - loss: 0.7507 - accuracy: 0.6677 - val_loss: 0.9538 - val_accuracy: 0.5763\n",
            "Epoch 29/55\n",
            "11/11 [==============================] - 0s 5ms/step - loss: 0.7544 - accuracy: 0.6856 - val_loss: 1.0302 - val_accuracy: 0.5424\n",
            "Epoch 30/55\n",
            "11/11 [==============================] - 0s 5ms/step - loss: 0.7476 - accuracy: 0.6796 - val_loss: 0.9592 - val_accuracy: 0.5593\n",
            "Epoch 31/55\n",
            "11/11 [==============================] - 0s 7ms/step - loss: 0.7368 - accuracy: 0.6796 - val_loss: 0.9014 - val_accuracy: 0.5763\n",
            "Epoch 32/55\n",
            "11/11 [==============================] - 0s 7ms/step - loss: 0.7805 - accuracy: 0.6527 - val_loss: 1.1269 - val_accuracy: 0.5763\n",
            "Epoch 33/55\n",
            "11/11 [==============================] - 0s 7ms/step - loss: 0.7530 - accuracy: 0.6946 - val_loss: 0.9096 - val_accuracy: 0.5932\n",
            "Epoch 34/55\n",
            "11/11 [==============================] - 0s 6ms/step - loss: 0.7172 - accuracy: 0.7036 - val_loss: 0.9864 - val_accuracy: 0.5593\n",
            "Epoch 35/55\n",
            "11/11 [==============================] - 0s 7ms/step - loss: 0.7096 - accuracy: 0.7126 - val_loss: 0.9038 - val_accuracy: 0.6102\n",
            "Epoch 36/55\n",
            "11/11 [==============================] - 0s 8ms/step - loss: 0.7123 - accuracy: 0.7006 - val_loss: 0.9390 - val_accuracy: 0.5593\n",
            "Epoch 37/55\n",
            "11/11 [==============================] - 0s 7ms/step - loss: 0.7109 - accuracy: 0.6976 - val_loss: 1.0769 - val_accuracy: 0.5932\n",
            "Epoch 38/55\n",
            "11/11 [==============================] - 0s 7ms/step - loss: 0.7001 - accuracy: 0.6946 - val_loss: 0.9279 - val_accuracy: 0.5593\n",
            "Epoch 39/55\n",
            "11/11 [==============================] - 0s 9ms/step - loss: 0.6880 - accuracy: 0.7126 - val_loss: 0.9532 - val_accuracy: 0.5424\n",
            "Epoch 40/55\n",
            "11/11 [==============================] - 0s 10ms/step - loss: 0.6823 - accuracy: 0.7186 - val_loss: 0.9462 - val_accuracy: 0.5593\n",
            "Epoch 41/55\n",
            "11/11 [==============================] - 0s 11ms/step - loss: 0.6878 - accuracy: 0.7186 - val_loss: 0.9332 - val_accuracy: 0.5593\n",
            "Epoch 42/55\n",
            "11/11 [==============================] - 0s 10ms/step - loss: 0.6735 - accuracy: 0.7126 - val_loss: 0.9573 - val_accuracy: 0.5763\n",
            "Epoch 43/55\n",
            "11/11 [==============================] - 0s 9ms/step - loss: 0.6779 - accuracy: 0.6946 - val_loss: 0.8767 - val_accuracy: 0.5763\n",
            "Epoch 44/55\n",
            "11/11 [==============================] - 0s 10ms/step - loss: 0.6755 - accuracy: 0.7036 - val_loss: 0.9406 - val_accuracy: 0.5593\n",
            "Epoch 45/55\n",
            "11/11 [==============================] - 0s 10ms/step - loss: 0.6608 - accuracy: 0.7216 - val_loss: 0.9102 - val_accuracy: 0.5763\n",
            "Epoch 46/55\n",
            "11/11 [==============================] - 0s 11ms/step - loss: 0.6661 - accuracy: 0.7126 - val_loss: 0.9698 - val_accuracy: 0.5763\n",
            "Epoch 47/55\n",
            "11/11 [==============================] - 0s 12ms/step - loss: 0.6628 - accuracy: 0.7246 - val_loss: 0.9249 - val_accuracy: 0.5763\n",
            "Epoch 48/55\n",
            "11/11 [==============================] - 0s 10ms/step - loss: 0.6570 - accuracy: 0.7156 - val_loss: 0.8974 - val_accuracy: 0.5763\n",
            "Epoch 49/55\n",
            "11/11 [==============================] - 0s 11ms/step - loss: 0.6481 - accuracy: 0.7335 - val_loss: 0.9267 - val_accuracy: 0.5593\n",
            "Epoch 50/55\n",
            "11/11 [==============================] - 0s 9ms/step - loss: 0.6529 - accuracy: 0.7275 - val_loss: 0.9765 - val_accuracy: 0.5763\n",
            "Epoch 51/55\n",
            "11/11 [==============================] - 0s 11ms/step - loss: 0.6825 - accuracy: 0.7036 - val_loss: 0.9843 - val_accuracy: 0.5593\n",
            "Epoch 52/55\n",
            "11/11 [==============================] - 0s 10ms/step - loss: 0.6501 - accuracy: 0.7186 - val_loss: 0.9120 - val_accuracy: 0.5763\n",
            "Epoch 53/55\n",
            "11/11 [==============================] - 0s 10ms/step - loss: 0.6424 - accuracy: 0.7305 - val_loss: 1.0141 - val_accuracy: 0.5932\n",
            "Epoch 54/55\n",
            "11/11 [==============================] - 0s 11ms/step - loss: 0.6403 - accuracy: 0.7156 - val_loss: 0.9169 - val_accuracy: 0.5763\n",
            "Epoch 55/55\n",
            "11/11 [==============================] - 0s 11ms/step - loss: 0.6384 - accuracy: 0.7305 - val_loss: 0.8898 - val_accuracy: 0.5763\n"
          ]
        }
      ]
    },
    {
      "cell_type": "code",
      "source": [
        "from matplotlib import pyplot as plt\n",
        "plt.plot(history.history['accuracy'])\n",
        "plt.plot(history.history['val_accuracy'])\n",
        "plt.title('model accuracy')\n",
        "plt.ylabel('accuracy')\n",
        "plt.xlabel('epoch')\n",
        "plt.legend(['Train', 'Cross-Validation'], loc='upper left')\n",
        "plt.show()"
      ],
      "metadata": {
        "colab": {
          "base_uri": "https://localhost:8080/",
          "height": 295
        },
        "id": "QqiWjzZ-LNBn",
        "outputId": "63ba7b89-7dc4-44a4-d9b2-1ff07376f07e"
      },
      "execution_count": 50,
      "outputs": [
        {
          "output_type": "display_data",
          "data": {
            "text/plain": [
              "<Figure size 432x288 with 1 Axes>"
            ],
            "image/png": "[encoded data removed]"
          },
          "metadata": {
            "needs_background": "light"
          }
        }
      ]
    },
    {
      "cell_type": "markdown",
      "source": [
        "# Takeaways\n",
        "1.   Best Peforming Classifiers on the NBA dataset: Neural Network, Gradient Boosting, Random Forest, KNN\n",
        "2.   Decision Trees struggled to perform well on this data\n",
        "3.   The optimal number of features selected varies from algorithm to algorithm. For example, KNN performed best with many features. Gradient Boosting and Random Forest performed best with slightly less features than KNN\n"
      ],
      "metadata": {
        "id": "iaStIwOZAhwo"
      }
    }
  ]
}