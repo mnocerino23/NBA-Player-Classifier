{
  "nbformat": 4,
  "nbformat_minor": 0,
  "metadata": {
    "colab": {
      "name": "NBA_classifiers.ipynb",
      "provenance": [],
      "authorship_tag": "ABX9TyN/nWT6KJqLsuia8UeCwdZ/",
      "include_colab_link": true
    },
    "kernelspec": {
      "name": "python3",
      "display_name": "Python 3"
    },
    "language_info": {
      "name": "python"
    }
  },
  "cells": [
    {
      "cell_type": "markdown",
      "metadata": {
        "id": "view-in-github",
        "colab_type": "text"
      },
      "source": [
        "<a href=\"https://colab.research.google.com/github/mnocerino23/NBA-Player-Classifier/blob/main/NBA_classifiers.ipynb\" target=\"_parent\"><img src=\"https://colab.research.google.com/assets/colab-badge.svg\" alt=\"Open In Colab\"/></a>"
      ]
    },
    {
      "cell_type": "markdown",
      "source": [
        "# The goal in this notebook is to build some intitial models to see which ML algorithms are performing best on the NBA salary dataset"
      ],
      "metadata": {
        "id": "S18Gy3_SAVoM"
      }
    },
    {
      "cell_type": "code",
      "execution_count": 525,
      "metadata": {
        "colab": {
          "base_uri": "https://localhost:8080/"
        },
        "id": "UQTJFDfYGIOo",
        "outputId": "616c17e0-64ec-45f4-922c-95506a1019aa"
      },
      "outputs": [
        {
          "output_type": "stream",
          "name": "stdout",
          "text": [
            "Drive already mounted at /content/drive; to attempt to forcibly remount, call drive.mount(\"/content/drive\", force_remount=True).\n"
          ]
        }
      ],
      "source": [
        "import pandas as pd\n",
        "from google.colab import drive\n",
        "drive.mount('/content/drive')"
      ]
    },
    {
      "cell_type": "markdown",
      "source": [
        "# Read in the training and testing data that we preprocessed and split in the previous Jupyter Notebook"
      ],
      "metadata": {
        "id": "z2u7vhKD4oGx"
      }
    },
    {
      "cell_type": "code",
      "source": [
        "nba_train = pd.read_csv('/content/drive/MyDrive/Data_Science_Projects/NBA/nba_train.csv')\n",
        "nba_test = pd.read_csv('/content/drive/MyDrive/Data_Science_Projects/NBA/nba_test.csv')"
      ],
      "metadata": {
        "id": "0niM9ni-GjB8"
      },
      "execution_count": 526,
      "outputs": []
    },
    {
      "cell_type": "code",
      "source": [
        "nba_train.shape"
      ],
      "metadata": {
        "colab": {
          "base_uri": "https://localhost:8080/"
        },
        "id": "3Htr8jieHHMn",
        "outputId": "b5423b9f-f8a7-4f83-d687-54a457a39ccb"
      },
      "execution_count": 527,
      "outputs": [
        {
          "output_type": "execute_result",
          "data": {
            "text/plain": [
              "(314, 52)"
            ]
          },
          "metadata": {},
          "execution_count": 527
        }
      ]
    },
    {
      "cell_type": "code",
      "source": [
        "nba_test.shape"
      ],
      "metadata": {
        "colab": {
          "base_uri": "https://localhost:8080/"
        },
        "id": "KdPTs3JYHJGq",
        "outputId": "f877acb1-0a07-4ee7-eb96-9bd1f1461864"
      },
      "execution_count": 528,
      "outputs": [
        {
          "output_type": "execute_result",
          "data": {
            "text/plain": [
              "(79, 52)"
            ]
          },
          "metadata": {},
          "execution_count": 528
        }
      ]
    },
    {
      "cell_type": "markdown",
      "source": [
        "# Break Players into 4 classes based on their salary\n",
        "With some experimentation this was the best 4 class division I was able to find\n",
        "\n",
        "1.   0-6 Million: Low Level\n",
        "2.   6-12 Million: Average Level\n",
        "3.   12-20 Million: Star Level\n",
        "4.   20+ Million: Max Level\n",
        "\n"
      ],
      "metadata": {
        "id": "WkVRe6J9eqvC"
      }
    },
    {
      "cell_type": "code",
      "source": [
        "nba_train['class'] = ''\n",
        "for index, row in nba_train.iterrows():\n",
        "  if nba_train.at[index,'Salary'] <= 6:\n",
        "    nba_train.at[index,'class'] = 'Low Level'\n",
        "  elif nba_train.at[index,'Salary'] > 6 and nba_train.at[index,'Salary'] <= 12:\n",
        "    nba_train.at[index,'class'] = 'Average Level'\n",
        "  elif nba_train.at[index, 'Salary'] > 12 and nba_train.at[index,'Salary'] <= 20:\n",
        "    nba_train.at[index,'class'] = 'Star Level'\n",
        "  elif nba_train.at[index,'Salary']> 20:\n",
        "    nba_train.at[index,'class'] = 'Max Level'"
      ],
      "metadata": {
        "id": "ik5yABXDHOT0"
      },
      "execution_count": 529,
      "outputs": []
    },
    {
      "cell_type": "code",
      "source": [
        "print(nba_train['class'].value_counts())"
      ],
      "metadata": {
        "colab": {
          "base_uri": "https://localhost:8080/"
        },
        "id": "f2Yi6ZUcPHdT",
        "outputId": "c67b20de-a1ef-48ad-9bb2-5891f8f4d70c"
      },
      "execution_count": 530,
      "outputs": [
        {
          "output_type": "stream",
          "name": "stdout",
          "text": [
            "Low Level        170\n",
            "Average Level     55\n",
            "Star Level        45\n",
            "Max Level         44\n",
            "Name: class, dtype: int64\n"
          ]
        }
      ]
    },
    {
      "cell_type": "code",
      "source": [
        "nba_test['class'] = ''\n",
        "for index, row in nba_test.iterrows():\n",
        "  if nba_test.at[index,'Salary'] <= 6:\n",
        "    nba_test.at[index,'class'] = 'Low Level'\n",
        "  elif nba_test.at[index,'Salary'] > 6 and nba_test.at[index,'Salary'] <= 12:\n",
        "    nba_test.at[index,'class'] = 'Average Level'\n",
        "  elif nba_test.at[index, 'Salary'] > 12 and nba_test.at[index,'Salary'] <= 20:\n",
        "    nba_test.at[index,'class'] = 'Star Level'\n",
        "  elif nba_test.at[index,'Salary'] > 20:\n",
        "    nba_test.at[index,'class'] = 'Max Level'"
      ],
      "metadata": {
        "id": "NBFm1IBfMsSm"
      },
      "execution_count": 531,
      "outputs": []
    },
    {
      "cell_type": "code",
      "source": [
        "print(nba_test['class'].value_counts())"
      ],
      "metadata": {
        "colab": {
          "base_uri": "https://localhost:8080/"
        },
        "id": "sEIozj_0PH37",
        "outputId": "6a9f44da-9bdc-414d-ee41-af1c1452e80e"
      },
      "execution_count": 532,
      "outputs": [
        {
          "output_type": "stream",
          "name": "stdout",
          "text": [
            "Low Level        38\n",
            "Max Level        16\n",
            "Average Level    15\n",
            "Star Level       10\n",
            "Name: class, dtype: int64\n"
          ]
        }
      ]
    },
    {
      "cell_type": "code",
      "source": [
        "nba_train = nba_train.drop(['Salary'], axis = 1)\n",
        "nba_test = nba_test.drop(['Salary'], axis = 1)"
      ],
      "metadata": {
        "id": "CVDA2r4IIpFn"
      },
      "execution_count": 533,
      "outputs": []
    },
    {
      "cell_type": "code",
      "source": [
        "#seperate the other features from the target feature class (which is a class rank based on the salary of the player)\n",
        "nba_train_features = nba_train.drop(['class'], axis = 1)\n",
        "nba_train_target = nba_train['class']\n",
        "\n",
        "nba_test_features = nba_test.drop(['class'], axis = 1)\n",
        "nba_test_target = nba_test['class']"
      ],
      "metadata": {
        "id": "CvMrBIZvLX3b"
      },
      "execution_count": 534,
      "outputs": []
    },
    {
      "cell_type": "code",
      "source": [
        "print('Train:')\n",
        "print('train_features dimensions: ', nba_train_features.shape)\n",
        "print('train_target dimensions: ', nba_train_target.shape, '\\n')\n",
        "\n",
        "\n",
        "print('Test:')\n",
        "print('test_features dimensions: ', nba_test_features.shape)\n",
        "print('test_target dimensions: ', nba_test_target.shape)"
      ],
      "metadata": {
        "colab": {
          "base_uri": "https://localhost:8080/"
        },
        "id": "8zUD_NjhM8j1",
        "outputId": "62932d1f-b576-4bdf-b9f0-297a837f7452"
      },
      "execution_count": 535,
      "outputs": [
        {
          "output_type": "stream",
          "name": "stdout",
          "text": [
            "Train:\n",
            "train_features dimensions:  (314, 51)\n",
            "train_target dimensions:  (314,) \n",
            "\n",
            "Test:\n",
            "test_features dimensions:  (79, 51)\n",
            "test_target dimensions:  (79,)\n"
          ]
        }
      ]
    },
    {
      "cell_type": "code",
      "source": [
        "print(len(nba_train_features.columns))\n",
        "print(nba_train_features.columns)"
      ],
      "metadata": {
        "colab": {
          "base_uri": "https://localhost:8080/"
        },
        "id": "tUIFbIEhzXTq",
        "outputId": "5d5303d6-183f-4f0f-f7d1-0fd68bb9acd6"
      },
      "execution_count": 536,
      "outputs": [
        {
          "output_type": "stream",
          "name": "stdout",
          "text": [
            "51\n",
            "Index(['Age', 'G', 'GS', 'MP', 'FG', 'FGA', 'FG%', '3P', '3PA', '3P%', '2P',\n",
            "       '2PA', '2P%', 'eFG%', 'FT', 'FTA', 'FT%', 'ORB', 'DRB', 'TRB', 'AST',\n",
            "       'STL', 'BLK', 'TOV', 'PF', 'PTS', 'PER', 'TS%', '3PAr', 'FTr', 'ORB%',\n",
            "       'DRB%', 'TRB%', 'AST%', 'STL%', 'BLK%', 'TOV%', 'USG%', 'OWS', 'DWS',\n",
            "       'WS', 'WS/48', 'OBPM', 'DBPM', 'BPM', 'VORP', 'pos_C', 'pos_PF',\n",
            "       'pos_PG', 'pos_SF', 'pos_SG'],\n",
            "      dtype='object')\n"
          ]
        }
      ]
    },
    {
      "cell_type": "markdown",
      "source": [
        "# Feature Selection\n",
        "*   Determine the most relevant of the 51 features in the dataset for predicting player salary using SelectKBest in Scikit-Learn\n"
      ],
      "metadata": {
        "id": "9T4TSH4k5LEv"
      }
    },
    {
      "cell_type": "code",
      "source": [
        "from sklearn.feature_selection import SelectKBest, f_classif"
      ],
      "metadata": {
        "id": "6CsUdGdW7pve"
      },
      "execution_count": 537,
      "outputs": []
    },
    {
      "cell_type": "code",
      "source": [
        "top_features_ordered = []"
      ],
      "metadata": {
        "id": "dJyKX0TL7256"
      },
      "execution_count": 538,
      "outputs": []
    },
    {
      "cell_type": "code",
      "source": [
        "best_features = SelectKBest(f_classif, k=40)\n",
        "k_best_data = best_features.fit_transform(nba_train_features, nba_train_target)\n",
        "mask = best_features.get_support()\n",
        "new_features = nba_train_features.columns[mask]\n",
        "for item in new_features:\n",
        "  if item not in top_features_ordered:\n",
        "    top_features_ordered.append(item)"
      ],
      "metadata": {
        "id": "pk4MlKpN7cI5"
      },
      "execution_count": 539,
      "outputs": []
    },
    {
      "cell_type": "code",
      "source": [
        "count = 1\n",
        "for item in top_features_ordered:\n",
        "  print(count, '. ', item)\n",
        "  count += 1"
      ],
      "metadata": {
        "id": "Qh9QJa047mlh",
        "outputId": "ebc7eb05-3d34-41ea-a370-a29cd1d75510",
        "colab": {
          "base_uri": "https://localhost:8080/"
        }
      },
      "execution_count": 540,
      "outputs": [
        {
          "output_type": "stream",
          "name": "stdout",
          "text": [
            "1 .  Age\n",
            "2 .  G\n",
            "3 .  GS\n",
            "4 .  MP\n",
            "5 .  FG\n",
            "6 .  FGA\n",
            "7 .  FG%\n",
            "8 .  3P\n",
            "9 .  3PA\n",
            "10 .  2P\n",
            "11 .  2PA\n",
            "12 .  eFG%\n",
            "13 .  FT\n",
            "14 .  FTA\n",
            "15 .  FT%\n",
            "16 .  ORB\n",
            "17 .  DRB\n",
            "18 .  TRB\n",
            "19 .  AST\n",
            "20 .  STL\n",
            "21 .  BLK\n",
            "22 .  TOV\n",
            "23 .  PF\n",
            "24 .  PTS\n",
            "25 .  PER\n",
            "26 .  TS%\n",
            "27 .  3PAr\n",
            "28 .  FTr\n",
            "29 .  DRB%\n",
            "30 .  AST%\n",
            "31 .  TOV%\n",
            "32 .  USG%\n",
            "33 .  OWS\n",
            "34 .  DWS\n",
            "35 .  WS\n",
            "36 .  WS/48\n",
            "37 .  OBPM\n",
            "38 .  DBPM\n",
            "39 .  BPM\n",
            "40 .  VORP\n"
          ]
        }
      ]
    },
    {
      "cell_type": "markdown",
      "source": [
        "# K-Nearest-Neighbours Classifier"
      ],
      "metadata": {
        "id": "Gh405Lgp0ejN"
      }
    },
    {
      "cell_type": "code",
      "source": [
        "from sklearn.neighbors import KNeighborsClassifier\n",
        "from sklearn.model_selection import cross_val_score\n",
        "\n",
        "knn = KNeighborsClassifier(n_neighbors=9, metric = 'manhattan')\n",
        "cv = cross_val_score(knn, nba_train_features, nba_train_target, cv = 6)\n",
        "print(cv)\n",
        "print(cv.mean())"
      ],
      "metadata": {
        "colab": {
          "base_uri": "https://localhost:8080/"
        },
        "id": "KeRsDc8UyM81",
        "outputId": "23166f0e-9f15-409c-ff92-7ee87ac21fd9"
      },
      "execution_count": 541,
      "outputs": [
        {
          "output_type": "stream",
          "name": "stdout",
          "text": [
            "[0.77358491 0.67924528 0.67307692 0.69230769 0.65384615 0.65384615]\n",
            "0.6876511852926948\n"
          ]
        }
      ]
    },
    {
      "cell_type": "markdown",
      "source": [
        "# Support Vector Machine Classifier"
      ],
      "metadata": {
        "id": "gNF5M4EM0azQ"
      }
    },
    {
      "cell_type": "code",
      "source": [
        "from sklearn import svm\n",
        "from sklearn.svm import SVC"
      ],
      "metadata": {
        "id": "Z24rQiNBzTmo"
      },
      "execution_count": 542,
      "outputs": []
    },
    {
      "cell_type": "code",
      "source": [
        "linear_boundary = svm.SVC()"
      ],
      "metadata": {
        "id": "rwqyy_15ACy2"
      },
      "execution_count": 555,
      "outputs": []
    },
    {
      "cell_type": "code",
      "source": [
        "cv = cross_val_score(linear_boundary, nba_train_features[top_features_ordered], nba_train_target, cv = 5)\n",
        "print(cv)\n",
        "print(cv.mean())"
      ],
      "metadata": {
        "id": "YqDNQ6BeDoyk",
        "outputId": "252cc824-653e-4126-9cfe-ea2d79326e93",
        "colab": {
          "base_uri": "https://localhost:8080/"
        }
      },
      "execution_count": 559,
      "outputs": [
        {
          "output_type": "stream",
          "name": "stdout",
          "text": [
            "[0.6984127  0.66666667 0.61904762 0.65079365 0.64516129]\n",
            "0.6560163850486431\n"
          ]
        }
      ]
    },
    {
      "cell_type": "markdown",
      "source": [
        "# Naive Bayes Classifier"
      ],
      "metadata": {
        "id": "CWqCzJNU0ij9"
      }
    },
    {
      "cell_type": "code",
      "source": [
        "from sklearn.naive_bayes import GaussianNB"
      ],
      "metadata": {
        "id": "7Vvqim6b03K9"
      },
      "execution_count": 543,
      "outputs": []
    },
    {
      "cell_type": "code",
      "source": [
        "gnb = GaussianNB()\n",
        "cv = cross_val_score(gnb, nba_train_features[top_features_ordered], nba_train_target, cv = 5)\n",
        "print(cv)\n",
        "print(cv.mean())"
      ],
      "metadata": {
        "colab": {
          "base_uri": "https://localhost:8080/"
        },
        "id": "vk99o6Kz05RI",
        "outputId": "e7921ad3-d562-4cd2-9a73-1c3fd43a59b5"
      },
      "execution_count": 544,
      "outputs": [
        {
          "output_type": "stream",
          "name": "stdout",
          "text": [
            "[0.66666667 0.6984127  0.63492063 0.58730159 0.62903226]\n",
            "0.6432667690732207\n"
          ]
        }
      ]
    },
    {
      "cell_type": "markdown",
      "source": [
        "# Decision Tree Classifier\n"
      ],
      "metadata": {
        "id": "UBRbznDb0_V5"
      }
    },
    {
      "cell_type": "code",
      "source": [
        "from sklearn import tree\n",
        "from sklearn.tree import DecisionTreeClassifier"
      ],
      "metadata": {
        "id": "mrF82LM51Cnt"
      },
      "execution_count": 545,
      "outputs": []
    },
    {
      "cell_type": "code",
      "source": [
        "dt = DecisionTreeClassifier()\n",
        "cv = cross_val_score(dt, nba_train_features[top_features_ordered], nba_train_target, cv =5)\n",
        "print(cv)\n",
        "print(cv.mean())"
      ],
      "metadata": {
        "colab": {
          "base_uri": "https://localhost:8080/"
        },
        "id": "v9u8gwy41Elc",
        "outputId": "0212566c-6787-46f8-867c-517f6003f0fd"
      },
      "execution_count": 546,
      "outputs": [
        {
          "output_type": "stream",
          "name": "stdout",
          "text": [
            "[0.68253968 0.65079365 0.57142857 0.55555556 0.69354839]\n",
            "0.6307731694828469\n"
          ]
        }
      ]
    },
    {
      "cell_type": "markdown",
      "source": [
        "# Random Forest Classifier"
      ],
      "metadata": {
        "id": "wxjJTfoP1M0k"
      }
    },
    {
      "cell_type": "code",
      "source": [
        "from sklearn.ensemble import RandomForestClassifier"
      ],
      "metadata": {
        "id": "7Ywj-hIW1Pnl"
      },
      "execution_count": 547,
      "outputs": []
    },
    {
      "cell_type": "code",
      "source": [
        "rf = RandomForestClassifier()\n",
        "cv = cross_val_score(rf, nba_train_features[top_features_ordered], nba_train_target, cv = 5)\n",
        "print(cv)\n",
        "print(cv.mean())"
      ],
      "metadata": {
        "colab": {
          "base_uri": "https://localhost:8080/"
        },
        "id": "PaqyWkc91RUs",
        "outputId": "b3d88e91-83a8-40e8-f3ce-beb3118f1d20"
      },
      "execution_count": 548,
      "outputs": [
        {
          "output_type": "stream",
          "name": "stdout",
          "text": [
            "[0.71428571 0.68253968 0.6984127  0.63492063 0.69354839]\n",
            "0.6847414234511009\n"
          ]
        }
      ]
    },
    {
      "cell_type": "markdown",
      "source": [
        "# Gradient Boost Classifier"
      ],
      "metadata": {
        "id": "Js0WFjJt1mek"
      }
    },
    {
      "cell_type": "code",
      "source": [
        "from sklearn.ensemble import GradientBoostingClassifier\n",
        "gb = GradientBoostingClassifier()\n",
        "cv = cross_val_score(gb, nba_train_features[top_features_ordered], nba_train_target, cv = 5)\n",
        "print(cv)\n",
        "print(cv.mean())"
      ],
      "metadata": {
        "colab": {
          "base_uri": "https://localhost:8080/"
        },
        "id": "ARJH6AoF1mCB",
        "outputId": "95741097-88f4-4d18-c6da-a101addb170d"
      },
      "execution_count": 549,
      "outputs": [
        {
          "output_type": "stream",
          "name": "stdout",
          "text": [
            "[0.74603175 0.73015873 0.65079365 0.6984127  0.69354839]\n",
            "0.7037890424987199\n"
          ]
        }
      ]
    },
    {
      "cell_type": "markdown",
      "source": [
        "# Neural Network Classifiers"
      ],
      "metadata": {
        "id": "XF6kccQE1_C2"
      }
    },
    {
      "cell_type": "code",
      "source": [
        "#encode the target variable\n",
        "train_target = pd.get_dummies(nba_train['class'])\n",
        "test_target = pd.get_dummies(nba_test['class'])"
      ],
      "metadata": {
        "id": "lKdj_C6F5XBw"
      },
      "execution_count": 550,
      "outputs": []
    },
    {
      "cell_type": "code",
      "source": [
        "print(train_target.shape)\n",
        "print(test_target.shape)"
      ],
      "metadata": {
        "colab": {
          "base_uri": "https://localhost:8080/"
        },
        "id": "sCRJy7Qb5gxn",
        "outputId": "19a40791-f5e0-4c39-abba-b0b0ac814660"
      },
      "execution_count": 551,
      "outputs": [
        {
          "output_type": "stream",
          "name": "stdout",
          "text": [
            "(314, 4)\n",
            "(79, 4)\n"
          ]
        }
      ]
    },
    {
      "cell_type": "code",
      "source": [
        "import tensorflow as tf\n",
        "from tensorflow import keras\n",
        "from sklearn.model_selection import train_test_split\n",
        "\n",
        "from tensorflow.keras.models import Sequential\n",
        "from tensorflow.keras.layers import Activation, Dense, BatchNormalization, Dropout\n",
        "from tensorflow.keras import optimizers\n",
        "import matplotlib.pyplot as plt\n",
        "import numpy as np \n",
        "import pandas as pd\n",
        "import seaborn as sns"
      ],
      "metadata": {
        "id": "J8S9U_yyLJyi"
      },
      "execution_count": 552,
      "outputs": []
    },
    {
      "cell_type": "code",
      "source": [
        "tf.random.set_seed(5)\n",
        "\n",
        "network = tf.keras.models.Sequential()\n",
        "network.add(tf.keras.Input(shape=(51,)))\n",
        "network.add(tf.keras.layers.Dense(30, activation='relu'))\n",
        "network.add(tf.keras.layers.Dense(20, activation='relu'))\n",
        "network.add(tf.keras.layers.Dense(4, activation='softmax'))\n",
        "\n",
        "network.compile(\n",
        "   loss=tf.keras.losses.CategoricalCrossentropy(),\n",
        "   optimizer=tf.keras.optimizers.Adam(),\n",
        "   metrics=\"accuracy\")\n",
        "\n",
        "history = network.fit(nba_train_features, train_target, epochs= 70,validation_data=(nba_test_features, test_target))"
      ],
      "metadata": {
        "colab": {
          "base_uri": "https://localhost:8080/"
        },
        "id": "h1ZaePzALJEa",
        "outputId": "f0a22c46-7cff-41b9-a462-d864560f4f4e"
      },
      "execution_count": 553,
      "outputs": [
        {
          "output_type": "stream",
          "name": "stdout",
          "text": [
            "Epoch 1/70\n",
            "10/10 [==============================] - 1s 24ms/step - loss: 4.0426 - accuracy: 0.2420 - val_loss: 2.6531 - val_accuracy: 0.2532\n",
            "Epoch 2/70\n",
            "10/10 [==============================] - 0s 4ms/step - loss: 2.0250 - accuracy: 0.3790 - val_loss: 1.7926 - val_accuracy: 0.4304\n",
            "Epoch 3/70\n",
            "10/10 [==============================] - 0s 5ms/step - loss: 1.4200 - accuracy: 0.5255 - val_loss: 1.2392 - val_accuracy: 0.6076\n",
            "Epoch 4/70\n",
            "10/10 [==============================] - 0s 4ms/step - loss: 1.1845 - accuracy: 0.5732 - val_loss: 1.1204 - val_accuracy: 0.6203\n",
            "Epoch 5/70\n",
            "10/10 [==============================] - 0s 5ms/step - loss: 1.1019 - accuracy: 0.6433 - val_loss: 1.0453 - val_accuracy: 0.6329\n",
            "Epoch 6/70\n",
            "10/10 [==============================] - 0s 5ms/step - loss: 1.0413 - accuracy: 0.6529 - val_loss: 0.9686 - val_accuracy: 0.6456\n",
            "Epoch 7/70\n",
            "10/10 [==============================] - 0s 7ms/step - loss: 0.9753 - accuracy: 0.6529 - val_loss: 0.9300 - val_accuracy: 0.6329\n",
            "Epoch 8/70\n",
            "10/10 [==============================] - 0s 7ms/step - loss: 0.9392 - accuracy: 0.6561 - val_loss: 0.8908 - val_accuracy: 0.6203\n",
            "Epoch 9/70\n",
            "10/10 [==============================] - 0s 4ms/step - loss: 0.9071 - accuracy: 0.6497 - val_loss: 0.8716 - val_accuracy: 0.6203\n",
            "Epoch 10/70\n",
            "10/10 [==============================] - 0s 5ms/step - loss: 0.8798 - accuracy: 0.6529 - val_loss: 0.8620 - val_accuracy: 0.6582\n",
            "Epoch 11/70\n",
            "10/10 [==============================] - 0s 5ms/step - loss: 0.8652 - accuracy: 0.6656 - val_loss: 0.8518 - val_accuracy: 0.6962\n",
            "Epoch 12/70\n",
            "10/10 [==============================] - 0s 5ms/step - loss: 0.8465 - accuracy: 0.6688 - val_loss: 0.8387 - val_accuracy: 0.6582\n",
            "Epoch 13/70\n",
            "10/10 [==============================] - 0s 5ms/step - loss: 0.8218 - accuracy: 0.6783 - val_loss: 0.8362 - val_accuracy: 0.6962\n",
            "Epoch 14/70\n",
            "10/10 [==============================] - 0s 5ms/step - loss: 0.8082 - accuracy: 0.6752 - val_loss: 0.8187 - val_accuracy: 0.6709\n",
            "Epoch 15/70\n",
            "10/10 [==============================] - 0s 5ms/step - loss: 0.7975 - accuracy: 0.6847 - val_loss: 0.8034 - val_accuracy: 0.6709\n",
            "Epoch 16/70\n",
            "10/10 [==============================] - 0s 6ms/step - loss: 0.7789 - accuracy: 0.6720 - val_loss: 0.8001 - val_accuracy: 0.7089\n",
            "Epoch 17/70\n",
            "10/10 [==============================] - 0s 5ms/step - loss: 0.7751 - accuracy: 0.6783 - val_loss: 0.7969 - val_accuracy: 0.6709\n",
            "Epoch 18/70\n",
            "10/10 [==============================] - 0s 5ms/step - loss: 0.7601 - accuracy: 0.6911 - val_loss: 0.7865 - val_accuracy: 0.7215\n",
            "Epoch 19/70\n",
            "10/10 [==============================] - 0s 4ms/step - loss: 0.7538 - accuracy: 0.6911 - val_loss: 0.7733 - val_accuracy: 0.7089\n",
            "Epoch 20/70\n",
            "10/10 [==============================] - 0s 5ms/step - loss: 0.7484 - accuracy: 0.6688 - val_loss: 0.7710 - val_accuracy: 0.6582\n",
            "Epoch 21/70\n",
            "10/10 [==============================] - 0s 5ms/step - loss: 0.7349 - accuracy: 0.6943 - val_loss: 0.7772 - val_accuracy: 0.6962\n",
            "Epoch 22/70\n",
            "10/10 [==============================] - 0s 5ms/step - loss: 0.7296 - accuracy: 0.6783 - val_loss: 0.7656 - val_accuracy: 0.7089\n",
            "Epoch 23/70\n",
            "10/10 [==============================] - 0s 6ms/step - loss: 0.7192 - accuracy: 0.6911 - val_loss: 0.7597 - val_accuracy: 0.7089\n",
            "Epoch 24/70\n",
            "10/10 [==============================] - 0s 5ms/step - loss: 0.7203 - accuracy: 0.7070 - val_loss: 0.7644 - val_accuracy: 0.7089\n",
            "Epoch 25/70\n",
            "10/10 [==============================] - 0s 7ms/step - loss: 0.7129 - accuracy: 0.6943 - val_loss: 0.7556 - val_accuracy: 0.6962\n",
            "Epoch 26/70\n",
            "10/10 [==============================] - 0s 5ms/step - loss: 0.7118 - accuracy: 0.7038 - val_loss: 0.7530 - val_accuracy: 0.7089\n",
            "Epoch 27/70\n",
            "10/10 [==============================] - 0s 5ms/step - loss: 0.7103 - accuracy: 0.7166 - val_loss: 0.7542 - val_accuracy: 0.7215\n",
            "Epoch 28/70\n",
            "10/10 [==============================] - 0s 7ms/step - loss: 0.7292 - accuracy: 0.6943 - val_loss: 0.7873 - val_accuracy: 0.6709\n",
            "Epoch 29/70\n",
            "10/10 [==============================] - 0s 7ms/step - loss: 0.7368 - accuracy: 0.7070 - val_loss: 0.7773 - val_accuracy: 0.7089\n",
            "Epoch 30/70\n",
            "10/10 [==============================] - 0s 5ms/step - loss: 0.7132 - accuracy: 0.7006 - val_loss: 0.7440 - val_accuracy: 0.6835\n",
            "Epoch 31/70\n",
            "10/10 [==============================] - 0s 6ms/step - loss: 0.6788 - accuracy: 0.7134 - val_loss: 0.7524 - val_accuracy: 0.6962\n",
            "Epoch 32/70\n",
            "10/10 [==============================] - 0s 5ms/step - loss: 0.6796 - accuracy: 0.7166 - val_loss: 0.7378 - val_accuracy: 0.7215\n",
            "Epoch 33/70\n",
            "10/10 [==============================] - 0s 5ms/step - loss: 0.6701 - accuracy: 0.6975 - val_loss: 0.7426 - val_accuracy: 0.7089\n",
            "Epoch 34/70\n",
            "10/10 [==============================] - 0s 5ms/step - loss: 0.6574 - accuracy: 0.7420 - val_loss: 0.7315 - val_accuracy: 0.7089\n",
            "Epoch 35/70\n",
            "10/10 [==============================] - 0s 7ms/step - loss: 0.6555 - accuracy: 0.7261 - val_loss: 0.7341 - val_accuracy: 0.7342\n",
            "Epoch 36/70\n",
            "10/10 [==============================] - 0s 5ms/step - loss: 0.6464 - accuracy: 0.7070 - val_loss: 0.7362 - val_accuracy: 0.7089\n",
            "Epoch 37/70\n",
            "10/10 [==============================] - 0s 5ms/step - loss: 0.6574 - accuracy: 0.7261 - val_loss: 0.7317 - val_accuracy: 0.7342\n",
            "Epoch 38/70\n",
            "10/10 [==============================] - 0s 5ms/step - loss: 0.6442 - accuracy: 0.7420 - val_loss: 0.7232 - val_accuracy: 0.7215\n",
            "Epoch 39/70\n",
            "10/10 [==============================] - 0s 5ms/step - loss: 0.6417 - accuracy: 0.7261 - val_loss: 0.7232 - val_accuracy: 0.6962\n",
            "Epoch 40/70\n",
            "10/10 [==============================] - 0s 5ms/step - loss: 0.6251 - accuracy: 0.7357 - val_loss: 0.7198 - val_accuracy: 0.7342\n",
            "Epoch 41/70\n",
            "10/10 [==============================] - 0s 7ms/step - loss: 0.6252 - accuracy: 0.7293 - val_loss: 0.7191 - val_accuracy: 0.6962\n",
            "Epoch 42/70\n",
            "10/10 [==============================] - 0s 5ms/step - loss: 0.6187 - accuracy: 0.7452 - val_loss: 0.7117 - val_accuracy: 0.7215\n",
            "Epoch 43/70\n",
            "10/10 [==============================] - 0s 5ms/step - loss: 0.6168 - accuracy: 0.7357 - val_loss: 0.7131 - val_accuracy: 0.7342\n",
            "Epoch 44/70\n",
            "10/10 [==============================] - 0s 5ms/step - loss: 0.6125 - accuracy: 0.7452 - val_loss: 0.7135 - val_accuracy: 0.7342\n",
            "Epoch 45/70\n",
            "10/10 [==============================] - 0s 5ms/step - loss: 0.6026 - accuracy: 0.7325 - val_loss: 0.7110 - val_accuracy: 0.7215\n",
            "Epoch 46/70\n",
            "10/10 [==============================] - 0s 5ms/step - loss: 0.6072 - accuracy: 0.7357 - val_loss: 0.7101 - val_accuracy: 0.7468\n",
            "Epoch 47/70\n",
            "10/10 [==============================] - 0s 5ms/step - loss: 0.5970 - accuracy: 0.7611 - val_loss: 0.7070 - val_accuracy: 0.7342\n",
            "Epoch 48/70\n",
            "10/10 [==============================] - 0s 5ms/step - loss: 0.6108 - accuracy: 0.7420 - val_loss: 0.7171 - val_accuracy: 0.6962\n",
            "Epoch 49/70\n",
            "10/10 [==============================] - 0s 5ms/step - loss: 0.6020 - accuracy: 0.7611 - val_loss: 0.7122 - val_accuracy: 0.7089\n",
            "Epoch 50/70\n",
            "10/10 [==============================] - 0s 5ms/step - loss: 0.5920 - accuracy: 0.7484 - val_loss: 0.7143 - val_accuracy: 0.7342\n",
            "Epoch 51/70\n",
            "10/10 [==============================] - 0s 6ms/step - loss: 0.5903 - accuracy: 0.7516 - val_loss: 0.7007 - val_accuracy: 0.7595\n",
            "Epoch 52/70\n",
            "10/10 [==============================] - 0s 5ms/step - loss: 0.5798 - accuracy: 0.7516 - val_loss: 0.7001 - val_accuracy: 0.7468\n",
            "Epoch 53/70\n",
            "10/10 [==============================] - 0s 5ms/step - loss: 0.5901 - accuracy: 0.7484 - val_loss: 0.7100 - val_accuracy: 0.7089\n",
            "Epoch 54/70\n",
            "10/10 [==============================] - 0s 7ms/step - loss: 0.5726 - accuracy: 0.7834 - val_loss: 0.7016 - val_accuracy: 0.7595\n",
            "Epoch 55/70\n",
            "10/10 [==============================] - 0s 6ms/step - loss: 0.5811 - accuracy: 0.7611 - val_loss: 0.7240 - val_accuracy: 0.6962\n",
            "Epoch 56/70\n",
            "10/10 [==============================] - 0s 5ms/step - loss: 0.5815 - accuracy: 0.7580 - val_loss: 0.6998 - val_accuracy: 0.7595\n",
            "Epoch 57/70\n",
            "10/10 [==============================] - 0s 6ms/step - loss: 0.5799 - accuracy: 0.7643 - val_loss: 0.6918 - val_accuracy: 0.7595\n",
            "Epoch 58/70\n",
            "10/10 [==============================] - 0s 5ms/step - loss: 0.5660 - accuracy: 0.7675 - val_loss: 0.7075 - val_accuracy: 0.7089\n",
            "Epoch 59/70\n",
            "10/10 [==============================] - 0s 5ms/step - loss: 0.5643 - accuracy: 0.7675 - val_loss: 0.6955 - val_accuracy: 0.7595\n",
            "Epoch 60/70\n",
            "10/10 [==============================] - 0s 5ms/step - loss: 0.5614 - accuracy: 0.7771 - val_loss: 0.6941 - val_accuracy: 0.7722\n",
            "Epoch 61/70\n",
            "10/10 [==============================] - 0s 6ms/step - loss: 0.5868 - accuracy: 0.7611 - val_loss: 0.6987 - val_accuracy: 0.7342\n",
            "Epoch 62/70\n",
            "10/10 [==============================] - 0s 5ms/step - loss: 0.5785 - accuracy: 0.7643 - val_loss: 0.7435 - val_accuracy: 0.6709\n",
            "Epoch 63/70\n",
            "10/10 [==============================] - 0s 5ms/step - loss: 0.5664 - accuracy: 0.7771 - val_loss: 0.7302 - val_accuracy: 0.6962\n",
            "Epoch 64/70\n",
            "10/10 [==============================] - 0s 5ms/step - loss: 0.5664 - accuracy: 0.7739 - val_loss: 0.6957 - val_accuracy: 0.7215\n",
            "Epoch 65/70\n",
            "10/10 [==============================] - 0s 5ms/step - loss: 0.5518 - accuracy: 0.7834 - val_loss: 0.6911 - val_accuracy: 0.7468\n",
            "Epoch 66/70\n",
            "10/10 [==============================] - 0s 5ms/step - loss: 0.5436 - accuracy: 0.7866 - val_loss: 0.6982 - val_accuracy: 0.7468\n",
            "Epoch 67/70\n",
            "10/10 [==============================] - 0s 6ms/step - loss: 0.5405 - accuracy: 0.7866 - val_loss: 0.6819 - val_accuracy: 0.7722\n",
            "Epoch 68/70\n",
            "10/10 [==============================] - 0s 5ms/step - loss: 0.5341 - accuracy: 0.7866 - val_loss: 0.6828 - val_accuracy: 0.7595\n",
            "Epoch 69/70\n",
            "10/10 [==============================] - 0s 5ms/step - loss: 0.5367 - accuracy: 0.7898 - val_loss: 0.7024 - val_accuracy: 0.7089\n",
            "Epoch 70/70\n",
            "10/10 [==============================] - 0s 5ms/step - loss: 0.5330 - accuracy: 0.7930 - val_loss: 0.6855 - val_accuracy: 0.7722\n"
          ]
        }
      ]
    },
    {
      "cell_type": "code",
      "source": [
        "from matplotlib import pyplot as plt\n",
        "plt.plot(history.history['accuracy'])\n",
        "plt.plot(history.history['val_accuracy'])\n",
        "plt.title('model accuracy')\n",
        "plt.ylabel('accuracy')\n",
        "plt.xlabel('epoch')\n",
        "plt.legend(['Train', 'Cross-Validation'], loc='upper left')\n",
        "plt.show()"
      ],
      "metadata": {
        "colab": {
          "base_uri": "https://localhost:8080/",
          "height": 295
        },
        "id": "QqiWjzZ-LNBn",
        "outputId": "9b8a68b4-4ccd-43d9-bd61-42b991e1bcee"
      },
      "execution_count": 554,
      "outputs": [
        {
          "output_type": "display_data",
          "data": {
            "text/plain": [
              "<Figure size 432x288 with 1 Axes>"
            ],
            "image/png": "[encoded data removed]"
          },
          "metadata": {
            "needs_background": "light"
          }
        }
      ]
    },
    {
      "cell_type": "markdown",
      "source": [
        "# Takeaways\n",
        "1.   Best Peforming Classifiers on the NBA dataset: Neural Network, Gradient Boosting, Random Forest, KNN\n",
        "2.   Decision Trees struggled to perform well on this data\n",
        "3.   The optimal number of features selected varies from algorithm to algorithm. For example, KNN performed best with many features. Gradient Boosting and Random Forest performed best with slightly less features than KNN\n"
      ],
      "metadata": {
        "id": "iaStIwOZAhwo"
      }
    }
  ]
}