{
  "nbformat": 4,
  "nbformat_minor": 0,
  "metadata": {
    "colab": {
      "provenance": [],
      "authorship_tag": "ABX9TyMrac3momgDvaXjbrqD059I",
      "include_colab_link": true
    },
    "kernelspec": {
      "name": "python3",
      "display_name": "Python 3"
    },
    "language_info": {
      "name": "python"
    }
  },
  "cells": [
    {
      "cell_type": "markdown",
      "metadata": {
        "id": "view-in-github",
        "colab_type": "text"
      },
      "source": [
        "<a href=\"https://colab.research.google.com/github/mnocerino23/NBA-Player-Classifier/blob/main/2022_2023_midseasonStats_cleaning.ipynb\" target=\"_parent\"><img src=\"https://colab.research.google.com/assets/colab-badge.svg\" alt=\"Open In Colab\"/></a>"
      ]
    },
    {
      "cell_type": "markdown",
      "source": [
        "Load in individual player stats from basketball reference\n",
        "\n",
        "2022-23 NBA Player Stats Per Game:\n",
        " https://www.basketball-reference.com/leagues/NBA_2023_per_game.html\n",
        "\n",
        "\n",
        "2022-23 NBA Player Advanced Stats: https://www.basketball-reference.com/leagues/NBA_2023_advanced.html"
      ],
      "metadata": {
        "id": "NHsL7uVsEvnH"
      }
    },
    {
      "cell_type": "markdown",
      "source": [
        "Salary data from "
      ],
      "metadata": {
        "id": "Zc8Y5Pu7HD9b"
      }
    },
    {
      "cell_type": "code",
      "source": [],
      "metadata": {
        "id": "QEjMg6nKEuo9"
      },
      "execution_count": null,
      "outputs": []
    },
    {
      "cell_type": "code",
      "execution_count": null,
      "metadata": {
        "id": "4Qk2Qr-tEm9s"
      },
      "outputs": [],
      "source": []
    }
  ]
}