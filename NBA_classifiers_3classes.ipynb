{
  "nbformat": 4,
  "nbformat_minor": 0,
  "metadata": {
    "colab": {
      "name": "NBA_classifiers_3classes.ipynb",
      "provenance": [],
      "authorship_tag": "ABX9TyO6g5GLoiZhYblBqhnZ33lK",
      "include_colab_link": true
    },
    "kernelspec": {
      "name": "python3",
      "display_name": "Python 3"
    },
    "language_info": {
      "name": "python"
    }
  },
  "cells": [
    {
      "cell_type": "markdown",
      "metadata": {
        "id": "view-in-github",
        "colab_type": "text"
      },
      "source": [
        "<a href=\"https://colab.research.google.com/github/mnocerino23/NBA-Player-Classifier/blob/main/NBA_classifiers_3classes.ipynb\" target=\"_parent\"><img src=\"https://colab.research.google.com/assets/colab-badge.svg\" alt=\"Open In Colab\"/></a>"
      ]
    },
    {
      "cell_type": "code",
      "execution_count": 27,
      "metadata": {
        "colab": {
          "base_uri": "https://localhost:8080/"
        },
        "id": "UQTJFDfYGIOo",
        "outputId": "86f6c8cd-2037-47bc-f87c-3bd84b87dc6e"
      },
      "outputs": [
        {
          "output_type": "stream",
          "name": "stdout",
          "text": [
            "Drive already mounted at /content/drive; to attempt to forcibly remount, call drive.mount(\"/content/drive\", force_remount=True).\n"
          ]
        }
      ],
      "source": [
        "import pandas as pd\n",
        "from google.colab import drive\n",
        "drive.mount('/content/drive')"
      ]
    },
    {
      "cell_type": "code",
      "source": [
        "nba_train = pd.read_csv('/content/drive/MyDrive/Data_Science_Projects/NBA/nba_train.csv')\n",
        "nba_test = pd.read_csv('/content/drive/MyDrive/Data_Science_Projects/NBA/nba_test.csv')"
      ],
      "metadata": {
        "id": "0niM9ni-GjB8"
      },
      "execution_count": 28,
      "outputs": []
    },
    {
      "cell_type": "code",
      "source": [
        "nba_train.shape"
      ],
      "metadata": {
        "colab": {
          "base_uri": "https://localhost:8080/"
        },
        "id": "3Htr8jieHHMn",
        "outputId": "93371f71-ae9c-4e51-ecbd-8bf3c7d75b8c"
      },
      "execution_count": 29,
      "outputs": [
        {
          "output_type": "execute_result",
          "data": {
            "text/plain": [
              "(314, 52)"
            ]
          },
          "metadata": {},
          "execution_count": 29
        }
      ]
    },
    {
      "cell_type": "code",
      "source": [
        "nba_test.shape"
      ],
      "metadata": {
        "colab": {
          "base_uri": "https://localhost:8080/"
        },
        "id": "KdPTs3JYHJGq",
        "outputId": "0c8b2e1e-494e-4bda-daeb-5503abe8b3a8"
      },
      "execution_count": 30,
      "outputs": [
        {
          "output_type": "execute_result",
          "data": {
            "text/plain": [
              "(79, 52)"
            ]
          },
          "metadata": {},
          "execution_count": 30
        }
      ]
    },
    {
      "cell_type": "markdown",
      "source": [
        "# Grouping Players into classes based on their salary\n",
        "\n",
        "\n",
        "1.   Low Level Player (Earn below 6 million)\n",
        "2.   Average Player (Earn 6-12 million)\n",
        "3.   Quality Player (Earn 12-20 million)\n",
        "4.   Max Player (Earn 20+ million)\n",
        "\n",
        "\n"
      ],
      "metadata": {
        "id": "wBF-56we96dx"
      }
    },
    {
      "cell_type": "code",
      "source": [
        "nba_train['class'] = ''\n",
        "for index, row in nba_train.iterrows():\n",
        "  if nba_train.at[index,'Salary'] <= 9:\n",
        "    nba_train.at[index,'class'] = 'Average Player'\n",
        "  elif nba_train.at[index,'Salary'] > 9 and nba_train.at[index,'Salary'] <= 20:\n",
        "    nba_train.at[index,'class'] = 'Quality Player'\n",
        "  elif nba_train.at[index,'Salary']> 20:\n",
        "    nba_train.at[index,'class'] = 'Max Player'"
      ],
      "metadata": {
        "id": "ik5yABXDHOT0"
      },
      "execution_count": 31,
      "outputs": []
    },
    {
      "cell_type": "code",
      "source": [
        "print(nba_train['class'].value_counts())"
      ],
      "metadata": {
        "colab": {
          "base_uri": "https://localhost:8080/"
        },
        "id": "f2Yi6ZUcPHdT",
        "outputId": "84f4cea7-f3c0-425d-ef2d-8a6ef1697f82"
      },
      "execution_count": 32,
      "outputs": [
        {
          "output_type": "stream",
          "name": "stdout",
          "text": [
            "Average Player    202\n",
            "Quality Player     68\n",
            "Max Player         44\n",
            "Name: class, dtype: int64\n"
          ]
        }
      ]
    },
    {
      "cell_type": "code",
      "source": [
        "nba_test['class'] = ''\n",
        "for index, row in nba_test.iterrows():\n",
        "  if nba_test.at[index,'Salary'] <= 9:\n",
        "    nba_test.at[index,'class'] = 'Average Player'\n",
        "  elif nba_test.at[index, 'Salary'] > 9 and nba_test.at[index,'Salary'] <= 20:\n",
        "    nba_test.at[index,'class'] = 'Quality Player'\n",
        "  elif nba_test.at[index,'Salary'] > 20:\n",
        "    nba_test.at[index,'class'] = 'Max Player'"
      ],
      "metadata": {
        "id": "NBFm1IBfMsSm"
      },
      "execution_count": 33,
      "outputs": []
    },
    {
      "cell_type": "code",
      "source": [
        "print(nba_test['class'].value_counts())"
      ],
      "metadata": {
        "colab": {
          "base_uri": "https://localhost:8080/"
        },
        "id": "sEIozj_0PH37",
        "outputId": "62cb73fd-cb80-47f1-8751-1883650e90d7"
      },
      "execution_count": 34,
      "outputs": [
        {
          "output_type": "stream",
          "name": "stdout",
          "text": [
            "Average Player    46\n",
            "Quality Player    17\n",
            "Max Player        16\n",
            "Name: class, dtype: int64\n"
          ]
        }
      ]
    },
    {
      "cell_type": "code",
      "source": [
        "nba_train = nba_train.drop(['Salary'], axis = 1)\n",
        "nba_test = nba_test.drop(['Salary'], axis = 1)"
      ],
      "metadata": {
        "id": "CVDA2r4IIpFn"
      },
      "execution_count": 35,
      "outputs": []
    },
    {
      "cell_type": "code",
      "source": [
        "nba_train_features = nba_train.drop(['class'], axis = 1)\n",
        "nba_train_target = nba_train['class']\n",
        "\n",
        "nba_test_features = nba_test.drop(['class'], axis = 1)\n",
        "nba_test_target = nba_test['class']"
      ],
      "metadata": {
        "id": "CvMrBIZvLX3b"
      },
      "execution_count": 36,
      "outputs": []
    },
    {
      "cell_type": "code",
      "source": [
        "print('Train:')\n",
        "print('train_features dimensions: ', nba_train_features.shape)\n",
        "print('train_target dimensions: ', nba_train_target.shape, '\\n')\n",
        "\n",
        "\n",
        "print('Test:')\n",
        "print('test_features dimensions: ', nba_test_features.shape)\n",
        "print('test_target dimensions: ', nba_test_target.shape)"
      ],
      "metadata": {
        "colab": {
          "base_uri": "https://localhost:8080/"
        },
        "id": "8zUD_NjhM8j1",
        "outputId": "d1754948-1311-4f2d-f73e-6ace0eb37bb0"
      },
      "execution_count": 37,
      "outputs": [
        {
          "output_type": "stream",
          "name": "stdout",
          "text": [
            "Train:\n",
            "train_features dimensions:  (314, 51)\n",
            "train_target dimensions:  (314,) \n",
            "\n",
            "Test:\n",
            "test_features dimensions:  (79, 51)\n",
            "test_target dimensions:  (79,)\n"
          ]
        }
      ]
    },
    {
      "cell_type": "code",
      "source": [
        "print(nba_train_features.columns)"
      ],
      "metadata": {
        "colab": {
          "base_uri": "https://localhost:8080/"
        },
        "id": "tUIFbIEhzXTq",
        "outputId": "531c5c0b-5423-4768-956b-bd3c17d83744"
      },
      "execution_count": 38,
      "outputs": [
        {
          "output_type": "stream",
          "name": "stdout",
          "text": [
            "Index(['Age', 'G', 'GS', 'MP', 'FG', 'FGA', 'FG%', '3P', '3PA', '3P%', '2P',\n",
            "       '2PA', '2P%', 'eFG%', 'FT', 'FTA', 'FT%', 'ORB', 'DRB', 'TRB', 'AST',\n",
            "       'STL', 'BLK', 'TOV', 'PF', 'PTS', 'PER', 'TS%', '3PAr', 'FTr', 'ORB%',\n",
            "       'DRB%', 'TRB%', 'AST%', 'STL%', 'BLK%', 'TOV%', 'USG%', 'OWS', 'DWS',\n",
            "       'WS', 'WS/48', 'OBPM', 'DBPM', 'BPM', 'VORP', 'pos_C', 'pos_PF',\n",
            "       'pos_PG', 'pos_SF', 'pos_SG'],\n",
            "      dtype='object')\n"
          ]
        }
      ]
    },
    {
      "cell_type": "markdown",
      "source": [
        "# K-Nearest-Neighbours Classifier"
      ],
      "metadata": {
        "id": "Gh405Lgp0ejN"
      }
    },
    {
      "cell_type": "code",
      "source": [
        "from sklearn.neighbors import KNeighborsClassifier\n",
        "from sklearn.model_selection import cross_val_score\n",
        "\n",
        "knn = KNeighborsClassifier(n_neighbors=9, metric = 'manhattan')\n",
        "cv = cross_val_score(knn, nba_train_features, nba_train_target, cv = 6)\n",
        "print(cv)\n",
        "print(cv.mean())"
      ],
      "metadata": {
        "colab": {
          "base_uri": "https://localhost:8080/"
        },
        "id": "KeRsDc8UyM81",
        "outputId": "d07b9f79-0270-4894-a181-32afc6defa3f"
      },
      "execution_count": 39,
      "outputs": [
        {
          "output_type": "stream",
          "name": "stdout",
          "text": [
            "[0.81132075 0.83018868 0.76923077 0.82692308 0.75       0.76923077]\n",
            "0.7928156748911466\n"
          ]
        }
      ]
    },
    {
      "cell_type": "markdown",
      "source": [
        "# Support Vector Machine Classifier"
      ],
      "metadata": {
        "id": "gNF5M4EM0azQ"
      }
    },
    {
      "cell_type": "code",
      "source": [
        "from sklearn import svm\n",
        "from sklearn.svm import SVC"
      ],
      "metadata": {
        "id": "Z24rQiNBzTmo"
      },
      "execution_count": 40,
      "outputs": []
    },
    {
      "cell_type": "markdown",
      "source": [
        "# Naive Bayes Classifier"
      ],
      "metadata": {
        "id": "CWqCzJNU0ij9"
      }
    },
    {
      "cell_type": "code",
      "source": [
        "from sklearn.naive_bayes import GaussianNB"
      ],
      "metadata": {
        "id": "7Vvqim6b03K9"
      },
      "execution_count": 41,
      "outputs": []
    },
    {
      "cell_type": "code",
      "source": [
        "gnb = GaussianNB()\n",
        "cv = cross_val_score(gnb, nba_train_features, nba_train_target, cv = 5)\n",
        "print(cv)\n",
        "print(cv.mean())"
      ],
      "metadata": {
        "colab": {
          "base_uri": "https://localhost:8080/"
        },
        "id": "vk99o6Kz05RI",
        "outputId": "a18a3a00-eaa0-45a8-a0e2-92e5b41675e4"
      },
      "execution_count": 42,
      "outputs": [
        {
          "output_type": "stream",
          "name": "stdout",
          "text": [
            "[0.74603175 0.80952381 0.71428571 0.74603175 0.69354839]\n",
            "0.741884280593958\n"
          ]
        }
      ]
    },
    {
      "cell_type": "markdown",
      "source": [
        "# Decision Tree Classifier\n"
      ],
      "metadata": {
        "id": "UBRbznDb0_V5"
      }
    },
    {
      "cell_type": "code",
      "source": [
        "from sklearn import tree\n",
        "from sklearn.tree import DecisionTreeClassifier"
      ],
      "metadata": {
        "id": "mrF82LM51Cnt"
      },
      "execution_count": 43,
      "outputs": []
    },
    {
      "cell_type": "code",
      "source": [
        "dt = DecisionTreeClassifier()\n",
        "cv = cross_val_score(dt, nba_train_features, nba_train_target, cv =5)\n",
        "print(cv)\n",
        "print(cv.mean())"
      ],
      "metadata": {
        "colab": {
          "base_uri": "https://localhost:8080/"
        },
        "id": "v9u8gwy41Elc",
        "outputId": "db561db8-ca73-4574-9364-9a22ea7bc910"
      },
      "execution_count": 44,
      "outputs": [
        {
          "output_type": "stream",
          "name": "stdout",
          "text": [
            "[0.6984127  0.80952381 0.68253968 0.71428571 0.69354839]\n",
            "0.7196620583717358\n"
          ]
        }
      ]
    },
    {
      "cell_type": "markdown",
      "source": [
        "# Random Forest Classifier"
      ],
      "metadata": {
        "id": "wxjJTfoP1M0k"
      }
    },
    {
      "cell_type": "code",
      "source": [
        "from sklearn.ensemble import RandomForestClassifier"
      ],
      "metadata": {
        "id": "7Ywj-hIW1Pnl"
      },
      "execution_count": 45,
      "outputs": []
    },
    {
      "cell_type": "code",
      "source": [
        "rf = RandomForestClassifier()\n",
        "cv = cross_val_score(rf, nba_train_features, nba_train_target, cv = 5)\n",
        "print(cv)\n",
        "print(cv.mean())"
      ],
      "metadata": {
        "colab": {
          "base_uri": "https://localhost:8080/"
        },
        "id": "PaqyWkc91RUs",
        "outputId": "e4350ea2-a4ec-482b-9619-0a619419915c"
      },
      "execution_count": 46,
      "outputs": [
        {
          "output_type": "stream",
          "name": "stdout",
          "text": [
            "[0.73015873 0.79365079 0.74603175 0.79365079 0.79032258]\n",
            "0.7707629288274449\n"
          ]
        }
      ]
    },
    {
      "cell_type": "markdown",
      "source": [
        "# Gradient Boost Classifier"
      ],
      "metadata": {
        "id": "Js0WFjJt1mek"
      }
    },
    {
      "cell_type": "code",
      "source": [
        "from sklearn.ensemble import GradientBoostingClassifier\n",
        "gb = GradientBoostingClassifier()\n",
        "cv = cross_val_score(gb, nba_train_features, nba_train_target, cv = 5)\n",
        "print(cv)\n",
        "print(cv.mean())"
      ],
      "metadata": {
        "colab": {
          "base_uri": "https://localhost:8080/"
        },
        "id": "ARJH6AoF1mCB",
        "outputId": "16ed9fdf-7000-4fe3-df12-a421c9b913d1"
      },
      "execution_count": 47,
      "outputs": [
        {
          "output_type": "stream",
          "name": "stdout",
          "text": [
            "[0.74603175 0.80952381 0.73015873 0.79365079 0.77419355]\n",
            "0.7707117255504352\n"
          ]
        }
      ]
    },
    {
      "cell_type": "markdown",
      "source": [
        "# Neural Network Classifiers"
      ],
      "metadata": {
        "id": "XF6kccQE1_C2"
      }
    },
    {
      "cell_type": "code",
      "source": [
        "#encode the target variable\n",
        "train_target = pd.get_dummies(nba_train['class'])\n",
        "test_target = pd.get_dummies(nba_test['class'])"
      ],
      "metadata": {
        "id": "lKdj_C6F5XBw"
      },
      "execution_count": 48,
      "outputs": []
    },
    {
      "cell_type": "code",
      "source": [
        "print(train_target.shape)\n",
        "print(test_target.shape)"
      ],
      "metadata": {
        "colab": {
          "base_uri": "https://localhost:8080/"
        },
        "id": "sCRJy7Qb5gxn",
        "outputId": "ffd7c3ef-5568-4d20-88dd-9c5c767324db"
      },
      "execution_count": 49,
      "outputs": [
        {
          "output_type": "stream",
          "name": "stdout",
          "text": [
            "(314, 3)\n",
            "(79, 3)\n"
          ]
        }
      ]
    },
    {
      "cell_type": "code",
      "source": [
        "import tensorflow as tf\n",
        "from tensorflow import keras\n",
        "from sklearn.model_selection import train_test_split\n",
        "\n",
        "from tensorflow.keras.models import Sequential\n",
        "from tensorflow.keras.layers import Activation, Dense, BatchNormalization, Dropout\n",
        "from tensorflow.keras import optimizers\n",
        "import matplotlib.pyplot as plt\n",
        "import numpy as np \n",
        "import pandas as pd\n",
        "import seaborn as sns"
      ],
      "metadata": {
        "id": "J8S9U_yyLJyi"
      },
      "execution_count": 50,
      "outputs": []
    },
    {
      "cell_type": "code",
      "source": [
        "tf.random.set_seed(5)\n",
        "\n",
        "network = tf.keras.models.Sequential()\n",
        "network.add(tf.keras.Input(shape=(51,)))\n",
        "network.add(tf.keras.layers.Dense(30, activation='relu'))\n",
        "network.add(tf.keras.layers.Dense(20, activation='relu'))\n",
        "network.add(tf.keras.layers.Dense(3, activation='softmax'))\n",
        "\n",
        "network.compile(\n",
        "   loss=tf.keras.losses.CategoricalCrossentropy(),\n",
        "   optimizer=tf.keras.optimizers.Adam(),\n",
        "   metrics=\"accuracy\")\n",
        "\n",
        "history = network.fit(nba_train_features, train_target, epochs= 80,validation_data=(nba_test_features, test_target))"
      ],
      "metadata": {
        "colab": {
          "base_uri": "https://localhost:8080/"
        },
        "id": "h1ZaePzALJEa",
        "outputId": "1f1b4368-bf3d-4445-f8bb-b77756225364"
      },
      "execution_count": 52,
      "outputs": [
        {
          "output_type": "stream",
          "name": "stdout",
          "text": [
            "Epoch 1/80\n",
            "10/10 [==============================] - 1s 32ms/step - loss: 3.4930 - accuracy: 0.3153 - val_loss: 2.2069 - val_accuracy: 0.4937\n",
            "Epoch 2/80\n",
            "10/10 [==============================] - 0s 6ms/step - loss: 1.7670 - accuracy: 0.5478 - val_loss: 1.2619 - val_accuracy: 0.6835\n",
            "Epoch 3/80\n",
            "10/10 [==============================] - 0s 5ms/step - loss: 1.3048 - accuracy: 0.6178 - val_loss: 0.8243 - val_accuracy: 0.7342\n",
            "Epoch 4/80\n",
            "10/10 [==============================] - 0s 5ms/step - loss: 1.0034 - accuracy: 0.6688 - val_loss: 0.7302 - val_accuracy: 0.7215\n",
            "Epoch 5/80\n",
            "10/10 [==============================] - 0s 6ms/step - loss: 0.8518 - accuracy: 0.7134 - val_loss: 0.6707 - val_accuracy: 0.7722\n",
            "Epoch 6/80\n",
            "10/10 [==============================] - 0s 6ms/step - loss: 0.7693 - accuracy: 0.7134 - val_loss: 0.6396 - val_accuracy: 0.8354\n",
            "Epoch 7/80\n",
            "10/10 [==============================] - 0s 5ms/step - loss: 0.7006 - accuracy: 0.7134 - val_loss: 0.6435 - val_accuracy: 0.8354\n",
            "Epoch 8/80\n",
            "10/10 [==============================] - 0s 5ms/step - loss: 0.6420 - accuracy: 0.7229 - val_loss: 0.6622 - val_accuracy: 0.7848\n",
            "Epoch 9/80\n",
            "10/10 [==============================] - 0s 7ms/step - loss: 0.6261 - accuracy: 0.7420 - val_loss: 0.6235 - val_accuracy: 0.8228\n",
            "Epoch 10/80\n",
            "10/10 [==============================] - 0s 6ms/step - loss: 0.5903 - accuracy: 0.7389 - val_loss: 0.6241 - val_accuracy: 0.7975\n",
            "Epoch 11/80\n",
            "10/10 [==============================] - 0s 5ms/step - loss: 0.5791 - accuracy: 0.7516 - val_loss: 0.6067 - val_accuracy: 0.8354\n",
            "Epoch 12/80\n",
            "10/10 [==============================] - 0s 4ms/step - loss: 0.5667 - accuracy: 0.7580 - val_loss: 0.6229 - val_accuracy: 0.8354\n",
            "Epoch 13/80\n",
            "10/10 [==============================] - 0s 5ms/step - loss: 0.5513 - accuracy: 0.7707 - val_loss: 0.6158 - val_accuracy: 0.7975\n",
            "Epoch 14/80\n",
            "10/10 [==============================] - 0s 7ms/step - loss: 0.5449 - accuracy: 0.7707 - val_loss: 0.6312 - val_accuracy: 0.7848\n",
            "Epoch 15/80\n",
            "10/10 [==============================] - 0s 4ms/step - loss: 0.5329 - accuracy: 0.7834 - val_loss: 0.6133 - val_accuracy: 0.8101\n",
            "Epoch 16/80\n",
            "10/10 [==============================] - 0s 5ms/step - loss: 0.5122 - accuracy: 0.8089 - val_loss: 0.6303 - val_accuracy: 0.7848\n",
            "Epoch 17/80\n",
            "10/10 [==============================] - 0s 5ms/step - loss: 0.5136 - accuracy: 0.7803 - val_loss: 0.6172 - val_accuracy: 0.8101\n",
            "Epoch 18/80\n",
            "10/10 [==============================] - 0s 7ms/step - loss: 0.4945 - accuracy: 0.7994 - val_loss: 0.6333 - val_accuracy: 0.7848\n",
            "Epoch 19/80\n",
            "10/10 [==============================] - 0s 6ms/step - loss: 0.5003 - accuracy: 0.7962 - val_loss: 0.6140 - val_accuracy: 0.7975\n",
            "Epoch 20/80\n",
            "10/10 [==============================] - 0s 7ms/step - loss: 0.4868 - accuracy: 0.8025 - val_loss: 0.6381 - val_accuracy: 0.7848\n",
            "Epoch 21/80\n",
            "10/10 [==============================] - 0s 6ms/step - loss: 0.4794 - accuracy: 0.8185 - val_loss: 0.6191 - val_accuracy: 0.7975\n",
            "Epoch 22/80\n",
            "10/10 [==============================] - 0s 4ms/step - loss: 0.4770 - accuracy: 0.8185 - val_loss: 0.6313 - val_accuracy: 0.7848\n",
            "Epoch 23/80\n",
            "10/10 [==============================] - 0s 6ms/step - loss: 0.4696 - accuracy: 0.8057 - val_loss: 0.6070 - val_accuracy: 0.8101\n",
            "Epoch 24/80\n",
            "10/10 [==============================] - 0s 6ms/step - loss: 0.4645 - accuracy: 0.8248 - val_loss: 0.6187 - val_accuracy: 0.8101\n",
            "Epoch 25/80\n",
            "10/10 [==============================] - 0s 4ms/step - loss: 0.4509 - accuracy: 0.8280 - val_loss: 0.6261 - val_accuracy: 0.8101\n",
            "Epoch 26/80\n",
            "10/10 [==============================] - 0s 5ms/step - loss: 0.4468 - accuracy: 0.8535 - val_loss: 0.6237 - val_accuracy: 0.8101\n",
            "Epoch 27/80\n",
            "10/10 [==============================] - 0s 7ms/step - loss: 0.4315 - accuracy: 0.8408 - val_loss: 0.6376 - val_accuracy: 0.7848\n",
            "Epoch 28/80\n",
            "10/10 [==============================] - 0s 5ms/step - loss: 0.4303 - accuracy: 0.8408 - val_loss: 0.6327 - val_accuracy: 0.7975\n",
            "Epoch 29/80\n",
            "10/10 [==============================] - 0s 7ms/step - loss: 0.4234 - accuracy: 0.8567 - val_loss: 0.6340 - val_accuracy: 0.7848\n",
            "Epoch 30/80\n",
            "10/10 [==============================] - 0s 5ms/step - loss: 0.4299 - accuracy: 0.8376 - val_loss: 0.6329 - val_accuracy: 0.7975\n",
            "Epoch 31/80\n",
            "10/10 [==============================] - 0s 5ms/step - loss: 0.4207 - accuracy: 0.8471 - val_loss: 0.6416 - val_accuracy: 0.7975\n",
            "Epoch 32/80\n",
            "10/10 [==============================] - 0s 7ms/step - loss: 0.4220 - accuracy: 0.8408 - val_loss: 0.6740 - val_accuracy: 0.7595\n",
            "Epoch 33/80\n",
            "10/10 [==============================] - 0s 6ms/step - loss: 0.4219 - accuracy: 0.8376 - val_loss: 0.6328 - val_accuracy: 0.7848\n",
            "Epoch 34/80\n",
            "10/10 [==============================] - 0s 6ms/step - loss: 0.4104 - accuracy: 0.8312 - val_loss: 0.6501 - val_accuracy: 0.8101\n",
            "Epoch 35/80\n",
            "10/10 [==============================] - 0s 5ms/step - loss: 0.4142 - accuracy: 0.8312 - val_loss: 0.6812 - val_accuracy: 0.7722\n",
            "Epoch 36/80\n",
            "10/10 [==============================] - 0s 5ms/step - loss: 0.4069 - accuracy: 0.8280 - val_loss: 0.6449 - val_accuracy: 0.7848\n",
            "Epoch 37/80\n",
            "10/10 [==============================] - 0s 6ms/step - loss: 0.4040 - accuracy: 0.8344 - val_loss: 0.6883 - val_accuracy: 0.7722\n",
            "Epoch 38/80\n",
            "10/10 [==============================] - 0s 7ms/step - loss: 0.4043 - accuracy: 0.8376 - val_loss: 0.6616 - val_accuracy: 0.7848\n",
            "Epoch 39/80\n",
            "10/10 [==============================] - 0s 6ms/step - loss: 0.3936 - accuracy: 0.8726 - val_loss: 0.6694 - val_accuracy: 0.7848\n",
            "Epoch 40/80\n",
            "10/10 [==============================] - 0s 7ms/step - loss: 0.3763 - accuracy: 0.8662 - val_loss: 0.6583 - val_accuracy: 0.7722\n",
            "Epoch 41/80\n",
            "10/10 [==============================] - 0s 6ms/step - loss: 0.3721 - accuracy: 0.8535 - val_loss: 0.6823 - val_accuracy: 0.7722\n",
            "Epoch 42/80\n",
            "10/10 [==============================] - 0s 6ms/step - loss: 0.3686 - accuracy: 0.8439 - val_loss: 0.6863 - val_accuracy: 0.7722\n",
            "Epoch 43/80\n",
            "10/10 [==============================] - 0s 6ms/step - loss: 0.3628 - accuracy: 0.8694 - val_loss: 0.6900 - val_accuracy: 0.7848\n",
            "Epoch 44/80\n",
            "10/10 [==============================] - 0s 6ms/step - loss: 0.3629 - accuracy: 0.8758 - val_loss: 0.6799 - val_accuracy: 0.8101\n",
            "Epoch 45/80\n",
            "10/10 [==============================] - 0s 5ms/step - loss: 0.3621 - accuracy: 0.8567 - val_loss: 0.7097 - val_accuracy: 0.7722\n",
            "Epoch 46/80\n",
            "10/10 [==============================] - 0s 4ms/step - loss: 0.3602 - accuracy: 0.8376 - val_loss: 0.7165 - val_accuracy: 0.7595\n",
            "Epoch 47/80\n",
            "10/10 [==============================] - 0s 7ms/step - loss: 0.3597 - accuracy: 0.8631 - val_loss: 0.7064 - val_accuracy: 0.7722\n",
            "Epoch 48/80\n",
            "10/10 [==============================] - 0s 5ms/step - loss: 0.3474 - accuracy: 0.8694 - val_loss: 0.7080 - val_accuracy: 0.8101\n",
            "Epoch 49/80\n",
            "10/10 [==============================] - 0s 7ms/step - loss: 0.3698 - accuracy: 0.8471 - val_loss: 0.7015 - val_accuracy: 0.7722\n",
            "Epoch 50/80\n",
            "10/10 [==============================] - 0s 5ms/step - loss: 0.3467 - accuracy: 0.8471 - val_loss: 0.7206 - val_accuracy: 0.7848\n",
            "Epoch 51/80\n",
            "10/10 [==============================] - 0s 5ms/step - loss: 0.3517 - accuracy: 0.8662 - val_loss: 0.7147 - val_accuracy: 0.7722\n",
            "Epoch 52/80\n",
            "10/10 [==============================] - 0s 5ms/step - loss: 0.3399 - accuracy: 0.8758 - val_loss: 0.7406 - val_accuracy: 0.7848\n",
            "Epoch 53/80\n",
            "10/10 [==============================] - 0s 7ms/step - loss: 0.3309 - accuracy: 0.8758 - val_loss: 0.7234 - val_accuracy: 0.7975\n",
            "Epoch 54/80\n",
            "10/10 [==============================] - 0s 5ms/step - loss: 0.3353 - accuracy: 0.8599 - val_loss: 0.7244 - val_accuracy: 0.8101\n",
            "Epoch 55/80\n",
            "10/10 [==============================] - 0s 5ms/step - loss: 0.3299 - accuracy: 0.8758 - val_loss: 0.7337 - val_accuracy: 0.7975\n",
            "Epoch 56/80\n",
            "10/10 [==============================] - 0s 5ms/step - loss: 0.3321 - accuracy: 0.8567 - val_loss: 0.7356 - val_accuracy: 0.7848\n",
            "Epoch 57/80\n",
            "10/10 [==============================] - 0s 7ms/step - loss: 0.3352 - accuracy: 0.8758 - val_loss: 0.7362 - val_accuracy: 0.7975\n",
            "Epoch 58/80\n",
            "10/10 [==============================] - 0s 5ms/step - loss: 0.3351 - accuracy: 0.8567 - val_loss: 0.7512 - val_accuracy: 0.7975\n",
            "Epoch 59/80\n",
            "10/10 [==============================] - 0s 7ms/step - loss: 0.3235 - accuracy: 0.8694 - val_loss: 0.7465 - val_accuracy: 0.7975\n",
            "Epoch 60/80\n",
            "10/10 [==============================] - 0s 4ms/step - loss: 0.3364 - accuracy: 0.8599 - val_loss: 0.7769 - val_accuracy: 0.7848\n",
            "Epoch 61/80\n",
            "10/10 [==============================] - 0s 5ms/step - loss: 0.3454 - accuracy: 0.8535 - val_loss: 0.7395 - val_accuracy: 0.8101\n",
            "Epoch 62/80\n",
            "10/10 [==============================] - 0s 7ms/step - loss: 0.3397 - accuracy: 0.8599 - val_loss: 0.7828 - val_accuracy: 0.7848\n",
            "Epoch 63/80\n",
            "10/10 [==============================] - 0s 4ms/step - loss: 0.3221 - accuracy: 0.8471 - val_loss: 0.7391 - val_accuracy: 0.7848\n",
            "Epoch 64/80\n",
            "10/10 [==============================] - 0s 6ms/step - loss: 0.3344 - accuracy: 0.8567 - val_loss: 0.7485 - val_accuracy: 0.7848\n",
            "Epoch 65/80\n",
            "10/10 [==============================] - 0s 6ms/step - loss: 0.3422 - accuracy: 0.8599 - val_loss: 0.8173 - val_accuracy: 0.7722\n",
            "Epoch 66/80\n",
            "10/10 [==============================] - 0s 4ms/step - loss: 0.3198 - accuracy: 0.8567 - val_loss: 0.7772 - val_accuracy: 0.8101\n",
            "Epoch 67/80\n",
            "10/10 [==============================] - 0s 7ms/step - loss: 0.3050 - accuracy: 0.8726 - val_loss: 0.7727 - val_accuracy: 0.7975\n",
            "Epoch 68/80\n",
            "10/10 [==============================] - 0s 7ms/step - loss: 0.3001 - accuracy: 0.8822 - val_loss: 0.8184 - val_accuracy: 0.7975\n",
            "Epoch 69/80\n",
            "10/10 [==============================] - 0s 5ms/step - loss: 0.3049 - accuracy: 0.8822 - val_loss: 0.7965 - val_accuracy: 0.7975\n",
            "Epoch 70/80\n",
            "10/10 [==============================] - 0s 5ms/step - loss: 0.2921 - accuracy: 0.8822 - val_loss: 0.8281 - val_accuracy: 0.7975\n",
            "Epoch 71/80\n",
            "10/10 [==============================] - 0s 7ms/step - loss: 0.2920 - accuracy: 0.8726 - val_loss: 0.7928 - val_accuracy: 0.7975\n",
            "Epoch 72/80\n",
            "10/10 [==============================] - 0s 5ms/step - loss: 0.2858 - accuracy: 0.8949 - val_loss: 0.8266 - val_accuracy: 0.7975\n",
            "Epoch 73/80\n",
            "10/10 [==============================] - 0s 6ms/step - loss: 0.2907 - accuracy: 0.8885 - val_loss: 0.8112 - val_accuracy: 0.8101\n",
            "Epoch 74/80\n",
            "10/10 [==============================] - 0s 7ms/step - loss: 0.3016 - accuracy: 0.8694 - val_loss: 0.8140 - val_accuracy: 0.8101\n",
            "Epoch 75/80\n",
            "10/10 [==============================] - 0s 5ms/step - loss: 0.2942 - accuracy: 0.8758 - val_loss: 0.8321 - val_accuracy: 0.7975\n",
            "Epoch 76/80\n",
            "10/10 [==============================] - 0s 5ms/step - loss: 0.2790 - accuracy: 0.8885 - val_loss: 0.8173 - val_accuracy: 0.8354\n",
            "Epoch 77/80\n",
            "10/10 [==============================] - 0s 7ms/step - loss: 0.2904 - accuracy: 0.8822 - val_loss: 0.8090 - val_accuracy: 0.7975\n",
            "Epoch 78/80\n",
            "10/10 [==============================] - 0s 6ms/step - loss: 0.2837 - accuracy: 0.8726 - val_loss: 0.8651 - val_accuracy: 0.8101\n",
            "Epoch 79/80\n",
            "10/10 [==============================] - 0s 6ms/step - loss: 0.2808 - accuracy: 0.8822 - val_loss: 0.8622 - val_accuracy: 0.8101\n",
            "Epoch 80/80\n",
            "10/10 [==============================] - 0s 5ms/step - loss: 0.2774 - accuracy: 0.8726 - val_loss: 0.8751 - val_accuracy: 0.8228\n"
          ]
        }
      ]
    },
    {
      "cell_type": "code",
      "source": [
        "from matplotlib import pyplot as plt\n",
        "plt.plot(history.history['accuracy'])\n",
        "plt.plot(history.history['val_accuracy'])\n",
        "plt.title('model accuracy')\n",
        "plt.ylabel('accuracy')\n",
        "plt.xlabel('epoch')\n",
        "plt.legend(['Train', 'Cross-Validation'], loc='upper left')\n",
        "plt.show()"
      ],
      "metadata": {
        "colab": {
          "base_uri": "https://localhost:8080/",
          "height": 295
        },
        "id": "QqiWjzZ-LNBn",
        "outputId": "27506edf-07bf-4b5a-e9a1-593a7565bc47"
      },
      "execution_count": 53,
      "outputs": [
        {
          "output_type": "display_data",
          "data": {
            "text/plain": [
              "<Figure size 432x288 with 1 Axes>"
            ],
            "image/png": "[encoded data removed]"
          },
          "metadata": {
            "needs_background": "light"
          }
        }
      ]
    }
  ]
}