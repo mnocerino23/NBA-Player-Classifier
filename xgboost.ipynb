{
  "nbformat": 4,
  "nbformat_minor": 0,
  "metadata": {
    "colab": {
      "provenance": [],
      "authorship_tag": "ABX9TyMv3/xJ3awHncryJ+koEZec",
      "include_colab_link": true
    },
    "kernelspec": {
      "name": "python3",
      "display_name": "Python 3"
    },
    "language_info": {
      "name": "python"
    }
  },
  "cells": [
    {
      "cell_type": "markdown",
      "metadata": {
        "id": "view-in-github",
        "colab_type": "text"
      },
      "source": [
        "<a href=\"https://colab.research.google.com/github/mnocerino23/NBA-Player-Classifier/blob/main/xgboost.ipynb\" target=\"_parent\"><img src=\"https://colab.research.google.com/assets/colab-badge.svg\" alt=\"Open In Colab\"/></a>"
      ]
    },
    {
      "cell_type": "markdown",
      "source": [
        "# In this jupyter notebook, we use xgboost to try to produce a binary classifier for whether or not a player is max level (deserves a max contract)"
      ],
      "metadata": {
        "id": "z-fkYhwDuz8c"
      }
    },
    {
      "cell_type": "code",
      "execution_count": 206,
      "metadata": {
        "colab": {
          "base_uri": "https://localhost:8080/"
        },
        "id": "oP7_vrwdZs9Z",
        "outputId": "eabe46af-4d11-4ed5-bd7a-e1eef0b99e7e"
      },
      "outputs": [
        {
          "output_type": "stream",
          "name": "stdout",
          "text": [
            "Drive already mounted at /content/drive; to attempt to forcibly remount, call drive.mount(\"/content/drive\", force_remount=True).\n"
          ]
        }
      ],
      "source": [
        "import pandas as pd\n",
        "from google.colab import drive\n",
        "drive.mount('/content/drive')"
      ]
    },
    {
      "cell_type": "code",
      "source": [
        "complete = pd.read_csv('/content/drive/MyDrive/Data_Science_Projects/NBA/complete22-23.csv')"
      ],
      "metadata": {
        "id": "9OPMkBN5Z5qH"
      },
      "execution_count": 207,
      "outputs": []
    },
    {
      "cell_type": "code",
      "source": [
        "#use a lambda function to assign classes\n",
        "complete['Class'] = complete['Salary'].apply(lambda x: 1 if x > 25 else 0)"
      ],
      "metadata": {
        "id": "qo12m6naZ86U"
      },
      "execution_count": 208,
      "outputs": []
    },
    {
      "cell_type": "code",
      "source": [
        "#the count of each class in the dataset before splitting\n",
        "complete['Class'].value_counts()"
      ],
      "metadata": {
        "id": "VMOpxxxrZ_Md",
        "outputId": "1058cec7-eee5-418e-da08-81e573c73fb7",
        "colab": {
          "base_uri": "https://localhost:8080/"
        }
      },
      "execution_count": 209,
      "outputs": [
        {
          "output_type": "execute_result",
          "data": {
            "text/plain": [
              "0    398\n",
              "1     52\n",
              "Name: Class, dtype: int64"
            ]
          },
          "metadata": {},
          "execution_count": 209
        }
      ]
    },
    {
      "cell_type": "code",
      "source": [
        "#split into input features and target variable class\n",
        "X = complete.drop(columns = ['Salary'], axis = 1)\n",
        "y = complete['Class']"
      ],
      "metadata": {
        "id": "4WDU5P5GvD-q"
      },
      "execution_count": 210,
      "outputs": []
    },
    {
      "cell_type": "code",
      "source": [
        "from sklearn.model_selection import train_test_split, cross_val_score"
      ],
      "metadata": {
        "id": "8NkQQsJHvBhd"
      },
      "execution_count": 211,
      "outputs": []
    },
    {
      "cell_type": "markdown",
      "source": [
        "# Utilize a 70-30 train test split"
      ],
      "metadata": {
        "id": "fsyQPf5CvyGz"
      }
    },
    {
      "cell_type": "code",
      "source": [
        "X_train, X_test, y_train, y_test = train_test_split(X, y, random_state = 5, test_size=0.3, shuffle = True)"
      ],
      "metadata": {
        "id": "ImBQhEJxvGpm"
      },
      "execution_count": 212,
      "outputs": []
    },
    {
      "cell_type": "code",
      "source": [
        "#list of players in the test set\n",
        "#Ben Simmons and Russell Westbrook are in our set which is great (these are two of the \n",
        "#outliers-worst max contracts)\n",
        "print(list(X_test['Player']))"
      ],
      "metadata": {
        "id": "8g9M6RnwvHvp",
        "outputId": "8a3c748d-976e-4ea0-bd02-b3d785d5ab42",
        "colab": {
          "base_uri": "https://localhost:8080/"
        }
      },
      "execution_count": 213,
      "outputs": [
        {
          "output_type": "stream",
          "name": "stdout",
          "text": [
            "['Donovan Mitchell', 'Khem Birch', 'Kevin Porter Jr.', 'Naji Marshall', 'Luke Kennard', 'R.J. Hampton', 'Isaiah Jackson', 'Justin Holiday', 'Jaden Ivey', 'Jarred Vanderbilt', 'Kennedy Chandler', 'Kevon Harris', 'Shaedon Sharpe', 'Jevon Carter', 'Ricky Rubio', 'Kyle Kuzma', 'Jeff Dowtin', 'Derrick Rose', 'Richaun Holmes', 'Bradley Beal', 'McKinley Wright IV', 'Jabari Walker', 'Aaron Holiday', 'Paul George', 'Mikal Bridges', 'Moussa Diabaté', 'Bogdan Bogdanović', 'Justise Winslow', 'Blake Griffin', 'Dejounte Murray', 'Javonte Green', 'Alperen Şengün', 'Bruno Fernando', 'Josh Okogie', 'Ivica Zubac', 'Malaki Branham', 'Tim Hardaway Jr.', 'Lamar Stevens', 'Mo Bamba', 'Derrick Jones Jr.', 'Wenyen Gabriel', 'Markieff Morris', 'Russell Westbrook', 'Tre Mann', 'Shai Gilgeous-Alexander', 'Kevin Knox', 'Tyrese Maxey', 'Frank Ntilikina', 'Trey Murphy III', 'Duane Washington Jr.', 'Killian Hayes', 'Bruce Brown', 'T.J. Warren', 'John Butler', 'Al Horford', 'Mike Muscala', 'Matisse Thybulle', 'Cory Joseph', 'Tari Eason', \"De'Anthony Melton\", 'Andrew Nembhard', 'Josh Giddey', 'Bryn Forbes', 'Drew Eubanks', 'Mamadi Diakite', 'Brandon Boston Jr.', 'Kyle Anderson', 'DeAndre Jordan', 'Isaac Okoro', 'Jordan McLaughlin', 'Walker Kessler', 'Oshae Brissett', 'JaMychal Green', 'Gabe Vincent', 'Josh Green', 'Josh Hart', 'Austin Rivers', 'James Bouknight', 'Jock Landale', 'Furkan Korkmaz', 'Zion Williamson', 'Stephen Curry', 'Cam Thomas', 'Austin Reaves', 'Thomas Bryant', 'Georges Niang', 'Rodney McGruder', 'Yuta Watanabe', 'Jeremiah Robinson-Earl', 'A.J. Green', 'Dalen Terry', 'Lauri Markkanen', 'Marvin Bagley III', 'Chuma Okeke', 'Victor Oladipo', 'Mark Williams', 'Jusuf Nurkić', 'Ben Simmons', 'Dwight Powell', 'Precious Achiuwa', 'Troy Brown Jr.', 'Obi Toppin', 'Terrence Ross', 'Jayson Tatum', 'Gorgui Dieng', 'Darius Bazley', 'Zeke Nnaji', 'Kevin Love', 'Anfernee Simons', 'Taj Gibson', 'Michael Porter Jr.', 'Larry Nance Jr.', 'Devin Vassell', 'Damion Lee', 'Jalen Duren', 'Dillon Brooks', 'Thaddeus Young', 'Bryce McGowens', 'Klay Thompson', 'Kevon Looney', 'TyTy Washington Jr.', 'Draymond Green', 'Fred VanVleet', 'Ayo Dosunmu', 'Chris Boucher', 'T.J. McConnell', 'Brook Lopez', 'Bismack Biyombo', 'Kevin Durant', 'Harrison Barnes', 'Cam Reddish', 'Jae Crowder', 'Jamal Murray', \"De'Andre Hunter\", 'Moritz Wagner']\n"
          ]
        }
      ]
    },
    {
      "cell_type": "code",
      "source": [
        "for index, rows in X_train.iterrows():\n",
        "  if X_train.at[index, 'Class'] == 1:\n",
        "    print(X_train.at[index, 'Player'])"
      ],
      "metadata": {
        "id": "Z-fAocgy0Ya8",
        "outputId": "39b4f14b-b536-41a1-ad0b-e1f3f9682d55",
        "colab": {
          "base_uri": "https://localhost:8080/"
        }
      },
      "execution_count": 214,
      "outputs": [
        {
          "output_type": "stream",
          "name": "stdout",
          "text": [
            "Giannis Antetokounmpo\n",
            "Brandon Ingram\n",
            "Anthony Davis\n",
            "Devin Booker\n",
            "Jaylen Brown\n",
            "Andrew Wiggins\n",
            "Myles Turner\n",
            "Jalen Brunson\n",
            "James Harden\n",
            "Jaren Jackson Jr.\n",
            "Bam Adebayo\n",
            "Nikola Jokić\n",
            "Damian Lillard\n",
            "Trae Young\n",
            "DeMar DeRozan\n",
            "Khris Middleton\n",
            "John Wall\n",
            "Kyrie Irving\n",
            "Pascal Siakam\n",
            "De'Aaron Fox\n",
            "Rudy Gobert\n",
            "LeBron James\n",
            "Joel Embiid\n",
            "CJ McCollum\n",
            "Kristaps Porziņģis\n",
            "Tobias Harris\n",
            "Kawhi Leonard\n",
            "Zach LaVine\n",
            "Chris Paul\n",
            "Gordon Hayward\n",
            "Deandre Ayton\n",
            "Jrue Holiday\n",
            "Luka Dončić\n",
            "D'Angelo Russell\n",
            "Kyle Lowry\n",
            "Jimmy Butler\n",
            "Karl-Anthony Towns\n"
          ]
        }
      ]
    },
    {
      "cell_type": "code",
      "source": [
        "#drop the names column before proceeding\n",
        "names_train = list(X_train['Player'])\n",
        "X_train.drop(columns = ['Player', 'Pos', 'Tm'], axis = 1, inplace = True)\n",
        "\n",
        "names_test = list(X_test['Player'])\n",
        "X_test.drop(columns = ['Player', 'Pos', 'Tm'], axis = 1, inplace = True)"
      ],
      "metadata": {
        "id": "AYCpV2VnaBCc"
      },
      "execution_count": 215,
      "outputs": []
    },
    {
      "cell_type": "code",
      "source": [
        "print('Train:')\n",
        "print('train_features dimensions: ', X_train.shape)\n",
        "print('train_target dimensions: ', y_train.shape, '\\n')\n",
        "\n",
        "\n",
        "print('Test:')\n",
        "print('test_features dimensions: ', X_test.shape)\n",
        "print('test_target dimensions: ', y_test.shape)"
      ],
      "metadata": {
        "id": "4Hiaex4bvwRk",
        "outputId": "f28df93e-09bc-499b-dd9c-04728ec1dd7e",
        "colab": {
          "base_uri": "https://localhost:8080/"
        }
      },
      "execution_count": 216,
      "outputs": [
        {
          "output_type": "stream",
          "name": "stdout",
          "text": [
            "Train:\n",
            "train_features dimensions:  (315, 60)\n",
            "train_target dimensions:  (315,) \n",
            "\n",
            "Test:\n",
            "test_features dimensions:  (135, 60)\n",
            "test_target dimensions:  (135,)\n"
          ]
        }
      ]
    },
    {
      "cell_type": "code",
      "source": [
        "from sklearn.feature_selection import SelectKBest, f_classif\n",
        "top_features_ordered = []\n",
        "\n",
        "#numerical input, categorical output -> use ANOVA\n",
        "best_features = SelectKBest(f_classif, k=15)\n",
        "k_best_data = best_features.fit_transform(X_train, y_train)\n",
        "mask = best_features.get_support()\n",
        "new_features = X_train.columns[mask]\n",
        "\n",
        "new_features"
      ],
      "metadata": {
        "colab": {
          "base_uri": "https://localhost:8080/"
        },
        "id": "Mv7H1mQpaFa8",
        "outputId": "801e8917-b464-404d-b1bf-c6f43b1cc14a"
      },
      "execution_count": 217,
      "outputs": [
        {
          "output_type": "stream",
          "name": "stderr",
          "text": [
            "/usr/local/lib/python3.10/dist-packages/sklearn/feature_selection/_univariate_selection.py:113: RuntimeWarning: divide by zero encountered in true_divide\n",
            "  f = msb / msw\n"
          ]
        },
        {
          "output_type": "execute_result",
          "data": {
            "text/plain": [
              "Index(['FG', 'FGA', '2P', '2PA', 'FT', 'FTA', 'TOV', 'PTS', 'VORP', 'WS_per_G',\n",
              "       'OWS_per_G', 'TS_times_USG', 'PTs_per_36', 'two_way', 'Class'],\n",
              "      dtype='object')"
            ]
          },
          "metadata": {},
          "execution_count": 217
        }
      ]
    },
    {
      "cell_type": "code",
      "source": [
        "selected = ['WS_per_G', 'TS_times_USG', 'PTs_per_36', 'two_way', 'VORP', 'FT', 'TOV', 'OBPM', 'PF_per_dplay']\n",
        "\n",
        "import xgboost as xgb\n",
        "xgb_classifier = xgb.XGBClassifier()\n",
        "xgb_classifier.fit(X_train[selected], y_train)"
      ],
      "metadata": {
        "colab": {
          "base_uri": "https://localhost:8080/",
          "height": 248
        },
        "id": "5bWV2bjKaj-6",
        "outputId": "7ce42d38-24ec-430f-e99c-3810f3f43bec"
      },
      "execution_count": 218,
      "outputs": [
        {
          "output_type": "execute_result",
          "data": {
            "text/plain": [
              "XGBClassifier(base_score=None, booster=None, callbacks=None,\n",
              "              colsample_bylevel=None, colsample_bynode=None,\n",
              "              colsample_bytree=None, early_stopping_rounds=None,\n",
              "              enable_categorical=False, eval_metric=None, feature_types=None,\n",
              "              gamma=None, gpu_id=None, grow_policy=None, importance_type=None,\n",
              "              interaction_constraints=None, learning_rate=None, max_bin=None,\n",
              "              max_cat_threshold=None, max_cat_to_onehot=None,\n",
              "              max_delta_step=None, max_depth=None, max_leaves=None,\n",
              "              min_child_weight=None, missing=nan, monotone_constraints=None,\n",
              "              n_estimators=100, n_jobs=None, num_parallel_tree=None,\n",
              "              predictor=None, random_state=None, ...)"
            ],
            "text/html": [
              "<style>#sk-container-id-18 {color: black;background-color: white;}#sk-container-id-18 pre{padding: 0;}#sk-container-id-18 div.sk-toggleable {background-color: white;}#sk-container-id-18 label.sk-toggleable__label {cursor: pointer;display: block;width: 100%;margin-bottom: 0;padding: 0.3em;box-sizing: border-box;text-align: center;}#sk-container-id-18 label.sk-toggleable__label-arrow:before {content: \"▸\";float: left;margin-right: 0.25em;color: #696969;}#sk-container-id-18 label.sk-toggleable__label-arrow:hover:before {color: black;}#sk-container-id-18 div.sk-estimator:hover label.sk-toggleable__label-arrow:before {color: black;}#sk-container-id-18 div.sk-toggleable__content {max-height: 0;max-width: 0;overflow: hidden;text-align: left;background-color: #f0f8ff;}#sk-container-id-18 div.sk-toggleable__content pre {margin: 0.2em;color: black;border-radius: 0.25em;background-color: #f0f8ff;}#sk-container-id-18 input.sk-toggleable__control:checked~div.sk-toggleable__content {max-height: 200px;max-width: 100%;overflow: auto;}#sk-container-id-18 input.sk-toggleable__control:checked~label.sk-toggleable__label-arrow:before {content: \"▾\";}#sk-container-id-18 div.sk-estimator input.sk-toggleable__control:checked~label.sk-toggleable__label {background-color: #d4ebff;}#sk-container-id-18 div.sk-label input.sk-toggleable__control:checked~label.sk-toggleable__label {background-color: #d4ebff;}#sk-container-id-18 input.sk-hidden--visually {border: 0;clip: rect(1px 1px 1px 1px);clip: rect(1px, 1px, 1px, 1px);height: 1px;margin: -1px;overflow: hidden;padding: 0;position: absolute;width: 1px;}#sk-container-id-18 div.sk-estimator {font-family: monospace;background-color: #f0f8ff;border: 1px dotted black;border-radius: 0.25em;box-sizing: border-box;margin-bottom: 0.5em;}#sk-container-id-18 div.sk-estimator:hover {background-color: #d4ebff;}#sk-container-id-18 div.sk-parallel-item::after {content: \"\";width: 100%;border-bottom: 1px solid gray;flex-grow: 1;}#sk-container-id-18 div.sk-label:hover label.sk-toggleable__label {background-color: #d4ebff;}#sk-container-id-18 div.sk-serial::before {content: \"\";position: absolute;border-left: 1px solid gray;box-sizing: border-box;top: 0;bottom: 0;left: 50%;z-index: 0;}#sk-container-id-18 div.sk-serial {display: flex;flex-direction: column;align-items: center;background-color: white;padding-right: 0.2em;padding-left: 0.2em;position: relative;}#sk-container-id-18 div.sk-item {position: relative;z-index: 1;}#sk-container-id-18 div.sk-parallel {display: flex;align-items: stretch;justify-content: center;background-color: white;position: relative;}#sk-container-id-18 div.sk-item::before, #sk-container-id-18 div.sk-parallel-item::before {content: \"\";position: absolute;border-left: 1px solid gray;box-sizing: border-box;top: 0;bottom: 0;left: 50%;z-index: -1;}#sk-container-id-18 div.sk-parallel-item {display: flex;flex-direction: column;z-index: 1;position: relative;background-color: white;}#sk-container-id-18 div.sk-parallel-item:first-child::after {align-self: flex-end;width: 50%;}#sk-container-id-18 div.sk-parallel-item:last-child::after {align-self: flex-start;width: 50%;}#sk-container-id-18 div.sk-parallel-item:only-child::after {width: 0;}#sk-container-id-18 div.sk-dashed-wrapped {border: 1px dashed gray;margin: 0 0.4em 0.5em 0.4em;box-sizing: border-box;padding-bottom: 0.4em;background-color: white;}#sk-container-id-18 div.sk-label label {font-family: monospace;font-weight: bold;display: inline-block;line-height: 1.2em;}#sk-container-id-18 div.sk-label-container {text-align: center;}#sk-container-id-18 div.sk-container {/* jupyter's `normalize.less` sets `[hidden] { display: none; }` but bootstrap.min.css set `[hidden] { display: none !important; }` so we also need the `!important` here to be able to override the default hidden behavior on the sphinx rendered scikit-learn.org. See: https://github.com/scikit-learn/scikit-learn/issues/21755 */display: inline-block !important;position: relative;}#sk-container-id-18 div.sk-text-repr-fallback {display: none;}</style><div id=\"sk-container-id-18\" class=\"sk-top-container\"><div class=\"sk-text-repr-fallback\"><pre>XGBClassifier(base_score=None, booster=None, callbacks=None,\n",
              "              colsample_bylevel=None, colsample_bynode=None,\n",
              "              colsample_bytree=None, early_stopping_rounds=None,\n",
              "              enable_categorical=False, eval_metric=None, feature_types=None,\n",
              "              gamma=None, gpu_id=None, grow_policy=None, importance_type=None,\n",
              "              interaction_constraints=None, learning_rate=None, max_bin=None,\n",
              "              max_cat_threshold=None, max_cat_to_onehot=None,\n",
              "              max_delta_step=None, max_depth=None, max_leaves=None,\n",
              "              min_child_weight=None, missing=nan, monotone_constraints=None,\n",
              "              n_estimators=100, n_jobs=None, num_parallel_tree=None,\n",
              "              predictor=None, random_state=None, ...)</pre><b>In a Jupyter environment, please rerun this cell to show the HTML representation or trust the notebook. <br />On GitHub, the HTML representation is unable to render, please try loading this page with nbviewer.org.</b></div><div class=\"sk-container\" hidden><div class=\"sk-item\"><div class=\"sk-estimator sk-toggleable\"><input class=\"sk-toggleable__control sk-hidden--visually\" id=\"sk-estimator-id-18\" type=\"checkbox\" checked><label for=\"sk-estimator-id-18\" class=\"sk-toggleable__label sk-toggleable__label-arrow\">XGBClassifier</label><div class=\"sk-toggleable__content\"><pre>XGBClassifier(base_score=None, booster=None, callbacks=None,\n",
              "              colsample_bylevel=None, colsample_bynode=None,\n",
              "              colsample_bytree=None, early_stopping_rounds=None,\n",
              "              enable_categorical=False, eval_metric=None, feature_types=None,\n",
              "              gamma=None, gpu_id=None, grow_policy=None, importance_type=None,\n",
              "              interaction_constraints=None, learning_rate=None, max_bin=None,\n",
              "              max_cat_threshold=None, max_cat_to_onehot=None,\n",
              "              max_delta_step=None, max_depth=None, max_leaves=None,\n",
              "              min_child_weight=None, missing=nan, monotone_constraints=None,\n",
              "              n_estimators=100, n_jobs=None, num_parallel_tree=None,\n",
              "              predictor=None, random_state=None, ...)</pre></div></div></div></div></div>"
            ]
          },
          "metadata": {},
          "execution_count": 218
        }
      ]
    },
    {
      "cell_type": "code",
      "source": [
        "y_pred = xgb_classifier.predict(X_test[selected])"
      ],
      "metadata": {
        "id": "FXNDjR06bfGN"
      },
      "execution_count": 219,
      "outputs": []
    },
    {
      "cell_type": "code",
      "source": [
        "from sklearn.metrics import accuracy_score, precision_score, recall_score, f1_score, classification_report, ConfusionMatrixDisplay\n",
        "import matplotlib.pyplot as plt\n",
        "\n",
        "print(\"accuracy: \", accuracy_score(y_test, y_pred))\n",
        "print(\"F1: \", f1_score(y_test, y_pred))\n",
        "print(\"Precision: \", precision_score(y_test, y_pred))\n",
        "print(\"Recall: \", recall_score(y_test, y_pred))"
      ],
      "metadata": {
        "colab": {
          "base_uri": "https://localhost:8080/"
        },
        "id": "LPUof3G8bmWn",
        "outputId": "2bf9ac30-d57a-48ac-8176-a286a9af509d"
      },
      "execution_count": 220,
      "outputs": [
        {
          "output_type": "stream",
          "name": "stdout",
          "text": [
            "accuracy:  0.9259259259259259\n",
            "F1:  0.6153846153846153\n",
            "Precision:  0.7272727272727273\n",
            "Recall:  0.5333333333333333\n"
          ]
        }
      ]
    },
    {
      "cell_type": "code",
      "source": [
        "disp = ConfusionMatrixDisplay.from_estimator(\n",
        "        xgb_classifier,\n",
        "        X_test[selected],\n",
        "        y_test,\n",
        "        cmap=plt.cm.Reds,\n",
        "    )\n",
        "\n",
        "print(disp.confusion_matrix)\n",
        "     "
      ],
      "metadata": {
        "id": "fVjP41gtzC1g",
        "outputId": "79f29d54-fd5d-4b02-ed82-bddbf8e36e47",
        "colab": {
          "base_uri": "https://localhost:8080/",
          "height": 484
        }
      },
      "execution_count": 221,
      "outputs": [
        {
          "output_type": "stream",
          "name": "stdout",
          "text": [
            "[[117   3]\n",
            " [  7   8]]\n"
          ]
        },
        {
          "output_type": "display_data",
          "data": {
            "text/plain": [
              "<Figure size 640x480 with 2 Axes>"
            ],
            "image/png": "[encoded data removed]"
          },
          "metadata": {}
        }
      ]
    },
    {
      "cell_type": "code",
      "source": [
        "predictions = pd.DataFrame({'Name': names_test, 'Real label': y_test, 'Prediction': y_pred})"
      ],
      "metadata": {
        "id": "GlasGcXczeCy"
      },
      "execution_count": 222,
      "outputs": []
    },
    {
      "cell_type": "code",
      "source": [
        "misclassified = predictions.loc[predictions['Real label'] != predictions['Prediction']].reset_index(drop = True)\n",
        "misclassified"
      ],
      "metadata": {
        "id": "gPgDa6K1zmnK",
        "outputId": "9115c2e3-5ed4-4991-c8c1-8bd9639cf773",
        "colab": {
          "base_uri": "https://localhost:8080/",
          "height": 363
        }
      },
      "execution_count": 223,
      "outputs": [
        {
          "output_type": "execute_result",
          "data": {
            "text/plain": [
              "                 Name  Real label  Prediction\n",
              "0   Russell Westbrook           1           0\n",
              "1          Al Horford           1           0\n",
              "2     Zion Williamson           0           1\n",
              "3     Lauri Markkanen           0           1\n",
              "4      Victor Oladipo           0           1\n",
              "5         Ben Simmons           1           0\n",
              "6          Kevin Love           1           0\n",
              "7  Michael Porter Jr.           1           0\n",
              "8       Klay Thompson           1           0\n",
              "9      Draymond Green           1           0"
            ],
            "text/html": [
              "\n",
              "  <div id=\"df-8be8fff0-a8e9-4989-92d9-108f82ffa699\">\n",
              "    <div class=\"colab-df-container\">\n",
              "      <div>\n",
              "<style scoped>\n",
              "    .dataframe tbody tr th:only-of-type {\n",
              "        vertical-align: middle;\n",
              "    }\n",
              "\n",
              "    .dataframe tbody tr th {\n",
              "        vertical-align: top;\n",
              "    }\n",
              "\n",
              "    .dataframe thead th {\n",
              "        text-align: right;\n",
              "    }\n",
              "</style>\n",
              "<table border=\"1\" class=\"dataframe\">\n",
              "  <thead>\n",
              "    <tr style=\"text-align: right;\">\n",
              "      <th></th>\n",
              "      <th>Name</th>\n",
              "      <th>Real label</th>\n",
              "      <th>Prediction</th>\n",
              "    </tr>\n",
              "  </thead>\n",
              "  <tbody>\n",
              "    <tr>\n",
              "      <th>0</th>\n",
              "      <td>Russell Westbrook</td>\n",
              "      <td>1</td>\n",
              "      <td>0</td>\n",
              "    </tr>\n",
              "    <tr>\n",
              "      <th>1</th>\n",
              "      <td>Al Horford</td>\n",
              "      <td>1</td>\n",
              "      <td>0</td>\n",
              "    </tr>\n",
              "    <tr>\n",
              "      <th>2</th>\n",
              "      <td>Zion Williamson</td>\n",
              "      <td>0</td>\n",
              "      <td>1</td>\n",
              "    </tr>\n",
              "    <tr>\n",
              "      <th>3</th>\n",
              "      <td>Lauri Markkanen</td>\n",
              "      <td>0</td>\n",
              "      <td>1</td>\n",
              "    </tr>\n",
              "    <tr>\n",
              "      <th>4</th>\n",
              "      <td>Victor Oladipo</td>\n",
              "      <td>0</td>\n",
              "      <td>1</td>\n",
              "    </tr>\n",
              "    <tr>\n",
              "      <th>5</th>\n",
              "      <td>Ben Simmons</td>\n",
              "      <td>1</td>\n",
              "      <td>0</td>\n",
              "    </tr>\n",
              "    <tr>\n",
              "      <th>6</th>\n",
              "      <td>Kevin Love</td>\n",
              "      <td>1</td>\n",
              "      <td>0</td>\n",
              "    </tr>\n",
              "    <tr>\n",
              "      <th>7</th>\n",
              "      <td>Michael Porter Jr.</td>\n",
              "      <td>1</td>\n",
              "      <td>0</td>\n",
              "    </tr>\n",
              "    <tr>\n",
              "      <th>8</th>\n",
              "      <td>Klay Thompson</td>\n",
              "      <td>1</td>\n",
              "      <td>0</td>\n",
              "    </tr>\n",
              "    <tr>\n",
              "      <th>9</th>\n",
              "      <td>Draymond Green</td>\n",
              "      <td>1</td>\n",
              "      <td>0</td>\n",
              "    </tr>\n",
              "  </tbody>\n",
              "</table>\n",
              "</div>\n",
              "      <button class=\"colab-df-convert\" onclick=\"convertToInteractive('df-8be8fff0-a8e9-4989-92d9-108f82ffa699')\"\n",
              "              title=\"Convert this dataframe to an interactive table.\"\n",
              "              style=\"display:none;\">\n",
              "        \n",
              "  <svg xmlns=\"http://www.w3.org/2000/svg\" height=\"24px\"viewBox=\"0 0 24 24\"\n",
              "       width=\"24px\">\n",
              "    <path d=\"M0 0h24v24H0V0z\" fill=\"none\"/>\n",
              "    <path d=\"M18.56 5.44l.94 2.06.94-2.06 2.06-.94-2.06-.94-.94-2.06-.94 2.06-2.06.94zm-11 1L8.5 8.5l.94-2.06 2.06-.94-2.06-.94L8.5 2.5l-.94 2.06-2.06.94zm10 10l.94 2.06.94-2.06 2.06-.94-2.06-.94-.94-2.06-.94 2.06-2.06.94z\"/><path d=\"M17.41 7.96l-1.37-1.37c-.4-.4-.92-.59-1.43-.59-.52 0-1.04.2-1.43.59L10.3 9.45l-7.72 7.72c-.78.78-.78 2.05 0 2.83L4 21.41c.39.39.9.59 1.41.59.51 0 1.02-.2 1.41-.59l7.78-7.78 2.81-2.81c.8-.78.8-2.07 0-2.86zM5.41 20L4 18.59l7.72-7.72 1.47 1.35L5.41 20z\"/>\n",
              "  </svg>\n",
              "      </button>\n",
              "      \n",
              "  <style>\n",
              "    .colab-df-container {\n",
              "      display:flex;\n",
              "      flex-wrap:wrap;\n",
              "      gap: 12px;\n",
              "    }\n",
              "\n",
              "    .colab-df-convert {\n",
              "      background-color: #E8F0FE;\n",
              "      border: none;\n",
              "      border-radius: 50%;\n",
              "      cursor: pointer;\n",
              "      display: none;\n",
              "      fill: #1967D2;\n",
              "      height: 32px;\n",
              "      padding: 0 0 0 0;\n",
              "      width: 32px;\n",
              "    }\n",
              "\n",
              "    .colab-df-convert:hover {\n",
              "      background-color: #E2EBFA;\n",
              "      box-shadow: 0px 1px 2px rgba(60, 64, 67, 0.3), 0px 1px 3px 1px rgba(60, 64, 67, 0.15);\n",
              "      fill: #174EA6;\n",
              "    }\n",
              "\n",
              "    [theme=dark] .colab-df-convert {\n",
              "      background-color: #3B4455;\n",
              "      fill: #D2E3FC;\n",
              "    }\n",
              "\n",
              "    [theme=dark] .colab-df-convert:hover {\n",
              "      background-color: #434B5C;\n",
              "      box-shadow: 0px 1px 3px 1px rgba(0, 0, 0, 0.15);\n",
              "      filter: drop-shadow(0px 1px 2px rgba(0, 0, 0, 0.3));\n",
              "      fill: #FFFFFF;\n",
              "    }\n",
              "  </style>\n",
              "\n",
              "      <script>\n",
              "        const buttonEl =\n",
              "          document.querySelector('#df-8be8fff0-a8e9-4989-92d9-108f82ffa699 button.colab-df-convert');\n",
              "        buttonEl.style.display =\n",
              "          google.colab.kernel.accessAllowed ? 'block' : 'none';\n",
              "\n",
              "        async function convertToInteractive(key) {\n",
              "          const element = document.querySelector('#df-8be8fff0-a8e9-4989-92d9-108f82ffa699');\n",
              "          const dataTable =\n",
              "            await google.colab.kernel.invokeFunction('convertToInteractive',\n",
              "                                                     [key], {});\n",
              "          if (!dataTable) return;\n",
              "\n",
              "          const docLinkHtml = 'Like what you see? Visit the ' +\n",
              "            '<a target=\"_blank\" href=https://colab.research.google.com/notebooks/data_table.ipynb>data table notebook</a>'\n",
              "            + ' to learn more about interactive tables.';\n",
              "          element.innerHTML = '';\n",
              "          dataTable['output_type'] = 'display_data';\n",
              "          await google.colab.output.renderOutput(dataTable, element);\n",
              "          const docLink = document.createElement('div');\n",
              "          docLink.innerHTML = docLinkHtml;\n",
              "          element.appendChild(docLink);\n",
              "        }\n",
              "      </script>\n",
              "    </div>\n",
              "  </div>\n",
              "  "
            ]
          },
          "metadata": {},
          "execution_count": 223
        }
      ]
    }
  ]
}