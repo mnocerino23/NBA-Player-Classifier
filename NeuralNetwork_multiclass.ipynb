{
  "nbformat": 4,
  "nbformat_minor": 0,
  "metadata": {
    "colab": {
      "provenance": [],
      "authorship_tag": "ABX9TyMjCTMONghQ01Y5eJ2SId5w",
      "include_colab_link": true
    },
    "kernelspec": {
      "name": "python3",
      "display_name": "Python 3"
    },
    "language_info": {
      "name": "python"
    }
  },
  "cells": [
    {
      "cell_type": "markdown",
      "metadata": {
        "id": "view-in-github",
        "colab_type": "text"
      },
      "source": [
        "<a href=\"https://colab.research.google.com/github/mnocerino23/NBA-Player-Classifier/blob/main/NeuralNetwork_multiclass.ipynb\" target=\"_parent\"><img src=\"https://colab.research.google.com/assets/colab-badge.svg\" alt=\"Open In Colab\"/></a>"
      ]
    },
    {
      "cell_type": "markdown",
      "source": [
        "#Building a multi-class classifier with Neural Networks"
      ],
      "metadata": {
        "id": "S18Gy3_SAVoM"
      }
    },
    {
      "cell_type": "code",
      "execution_count": 396,
      "metadata": {
        "colab": {
          "base_uri": "https://localhost:8080/"
        },
        "id": "UQTJFDfYGIOo",
        "outputId": "849b08b1-5fb5-4cb7-875f-ba4ce5638185"
      },
      "outputs": [
        {
          "output_type": "stream",
          "name": "stdout",
          "text": [
            "Drive already mounted at /content/drive; to attempt to forcibly remount, call drive.mount(\"/content/drive\", force_remount=True).\n"
          ]
        }
      ],
      "source": [
        "import pandas as pd\n",
        "import sklearn\n",
        "from google.colab import drive\n",
        "drive.mount('/content/drive')"
      ]
    },
    {
      "cell_type": "code",
      "source": [
        "complete = pd.read_csv('/content/drive/MyDrive/Data_Science_Projects/NBA/complete22-23.csv')"
      ],
      "metadata": {
        "id": "0niM9ni-GjB8"
      },
      "execution_count": 397,
      "outputs": []
    },
    {
      "cell_type": "code",
      "source": [
        "complete.head(4)"
      ],
      "metadata": {
        "colab": {
          "base_uri": "https://localhost:8080/",
          "height": 337
        },
        "id": "nFY9snYBdrsZ",
        "outputId": "9b3ba706-4f42-45ff-84e4-47ea77cba8e5"
      },
      "execution_count": 398,
      "outputs": [
        {
          "output_type": "execute_result",
          "data": {
            "text/plain": [
              "             Player Pos  Age   Tm   G  GS    MP   FG   FGA    FG%  ...  \\\n",
              "0  Precious Achiuwa   C   23  TOR  55  12  20.7  3.6   7.3  0.485  ...   \n",
              "1      Steven Adams   C   29  MEM  42  42  27.0  3.7   6.3  0.597  ...   \n",
              "2       Bam Adebayo   C   25  MIA  75  75  34.6  8.0  14.9  0.540  ...   \n",
              "3      Ochai Agbaji  SG   22  UTA  59  22  20.5  2.8   6.5  0.427  ...   \n",
              "\n",
              "    AST_TOV  OWS_div_USG  TS_times_USG   bigmanD  foul_rate  three_rate  \\\n",
              "0  0.818182     0.041237       10.7476  0.251208   0.091787   21.505376   \n",
              "1  1.210526     0.089041        8.2344  0.314815   0.085185    0.000000   \n",
              "2  1.280000     0.142857       14.9184  0.251445   0.080925    1.324503   \n",
              "3  1.571429     0.056962        8.8638  0.092683   0.082927   37.500000   \n",
              "\n",
              "   PTs_per_36  PF_per_dplay    FG_TOV     two_way  \n",
              "0   16.000000      1.727273  3.727273   38.690909  \n",
              "1   11.466667      1.150000  1.947368   87.500000  \n",
              "2   21.225434      1.400000  3.200000  101.840000  \n",
              "3   13.873171      2.833333  6.000000    6.440678  \n",
              "\n",
              "[4 rows x 63 columns]"
            ],
            "text/html": [
              "\n",
              "  <div id=\"df-f2c5c8eb-cc3b-42c1-9412-a56448b0551a\">\n",
              "    <div class=\"colab-df-container\">\n",
              "      <div>\n",
              "<style scoped>\n",
              "    .dataframe tbody tr th:only-of-type {\n",
              "        vertical-align: middle;\n",
              "    }\n",
              "\n",
              "    .dataframe tbody tr th {\n",
              "        vertical-align: top;\n",
              "    }\n",
              "\n",
              "    .dataframe thead th {\n",
              "        text-align: right;\n",
              "    }\n",
              "</style>\n",
              "<table border=\"1\" class=\"dataframe\">\n",
              "  <thead>\n",
              "    <tr style=\"text-align: right;\">\n",
              "      <th></th>\n",
              "      <th>Player</th>\n",
              "      <th>Pos</th>\n",
              "      <th>Age</th>\n",
              "      <th>Tm</th>\n",
              "      <th>G</th>\n",
              "      <th>GS</th>\n",
              "      <th>MP</th>\n",
              "      <th>FG</th>\n",
              "      <th>FGA</th>\n",
              "      <th>FG%</th>\n",
              "      <th>...</th>\n",
              "      <th>AST_TOV</th>\n",
              "      <th>OWS_div_USG</th>\n",
              "      <th>TS_times_USG</th>\n",
              "      <th>bigmanD</th>\n",
              "      <th>foul_rate</th>\n",
              "      <th>three_rate</th>\n",
              "      <th>PTs_per_36</th>\n",
              "      <th>PF_per_dplay</th>\n",
              "      <th>FG_TOV</th>\n",
              "      <th>two_way</th>\n",
              "    </tr>\n",
              "  </thead>\n",
              "  <tbody>\n",
              "    <tr>\n",
              "      <th>0</th>\n",
              "      <td>Precious Achiuwa</td>\n",
              "      <td>C</td>\n",
              "      <td>23</td>\n",
              "      <td>TOR</td>\n",
              "      <td>55</td>\n",
              "      <td>12</td>\n",
              "      <td>20.7</td>\n",
              "      <td>3.6</td>\n",
              "      <td>7.3</td>\n",
              "      <td>0.485</td>\n",
              "      <td>...</td>\n",
              "      <td>0.818182</td>\n",
              "      <td>0.041237</td>\n",
              "      <td>10.7476</td>\n",
              "      <td>0.251208</td>\n",
              "      <td>0.091787</td>\n",
              "      <td>21.505376</td>\n",
              "      <td>16.000000</td>\n",
              "      <td>1.727273</td>\n",
              "      <td>3.727273</td>\n",
              "      <td>38.690909</td>\n",
              "    </tr>\n",
              "    <tr>\n",
              "      <th>1</th>\n",
              "      <td>Steven Adams</td>\n",
              "      <td>C</td>\n",
              "      <td>29</td>\n",
              "      <td>MEM</td>\n",
              "      <td>42</td>\n",
              "      <td>42</td>\n",
              "      <td>27.0</td>\n",
              "      <td>3.7</td>\n",
              "      <td>6.3</td>\n",
              "      <td>0.597</td>\n",
              "      <td>...</td>\n",
              "      <td>1.210526</td>\n",
              "      <td>0.089041</td>\n",
              "      <td>8.2344</td>\n",
              "      <td>0.314815</td>\n",
              "      <td>0.085185</td>\n",
              "      <td>0.000000</td>\n",
              "      <td>11.466667</td>\n",
              "      <td>1.150000</td>\n",
              "      <td>1.947368</td>\n",
              "      <td>87.500000</td>\n",
              "    </tr>\n",
              "    <tr>\n",
              "      <th>2</th>\n",
              "      <td>Bam Adebayo</td>\n",
              "      <td>C</td>\n",
              "      <td>25</td>\n",
              "      <td>MIA</td>\n",
              "      <td>75</td>\n",
              "      <td>75</td>\n",
              "      <td>34.6</td>\n",
              "      <td>8.0</td>\n",
              "      <td>14.9</td>\n",
              "      <td>0.540</td>\n",
              "      <td>...</td>\n",
              "      <td>1.280000</td>\n",
              "      <td>0.142857</td>\n",
              "      <td>14.9184</td>\n",
              "      <td>0.251445</td>\n",
              "      <td>0.080925</td>\n",
              "      <td>1.324503</td>\n",
              "      <td>21.225434</td>\n",
              "      <td>1.400000</td>\n",
              "      <td>3.200000</td>\n",
              "      <td>101.840000</td>\n",
              "    </tr>\n",
              "    <tr>\n",
              "      <th>3</th>\n",
              "      <td>Ochai Agbaji</td>\n",
              "      <td>SG</td>\n",
              "      <td>22</td>\n",
              "      <td>UTA</td>\n",
              "      <td>59</td>\n",
              "      <td>22</td>\n",
              "      <td>20.5</td>\n",
              "      <td>2.8</td>\n",
              "      <td>6.5</td>\n",
              "      <td>0.427</td>\n",
              "      <td>...</td>\n",
              "      <td>1.571429</td>\n",
              "      <td>0.056962</td>\n",
              "      <td>8.8638</td>\n",
              "      <td>0.092683</td>\n",
              "      <td>0.082927</td>\n",
              "      <td>37.500000</td>\n",
              "      <td>13.873171</td>\n",
              "      <td>2.833333</td>\n",
              "      <td>6.000000</td>\n",
              "      <td>6.440678</td>\n",
              "    </tr>\n",
              "  </tbody>\n",
              "</table>\n",
              "<p>4 rows × 63 columns</p>\n",
              "</div>\n",
              "      <button class=\"colab-df-convert\" onclick=\"convertToInteractive('df-f2c5c8eb-cc3b-42c1-9412-a56448b0551a')\"\n",
              "              title=\"Convert this dataframe to an interactive table.\"\n",
              "              style=\"display:none;\">\n",
              "        \n",
              "  <svg xmlns=\"http://www.w3.org/2000/svg\" height=\"24px\"viewBox=\"0 0 24 24\"\n",
              "       width=\"24px\">\n",
              "    <path d=\"M0 0h24v24H0V0z\" fill=\"none\"/>\n",
              "    <path d=\"M18.56 5.44l.94 2.06.94-2.06 2.06-.94-2.06-.94-.94-2.06-.94 2.06-2.06.94zm-11 1L8.5 8.5l.94-2.06 2.06-.94-2.06-.94L8.5 2.5l-.94 2.06-2.06.94zm10 10l.94 2.06.94-2.06 2.06-.94-2.06-.94-.94-2.06-.94 2.06-2.06.94z\"/><path d=\"M17.41 7.96l-1.37-1.37c-.4-.4-.92-.59-1.43-.59-.52 0-1.04.2-1.43.59L10.3 9.45l-7.72 7.72c-.78.78-.78 2.05 0 2.83L4 21.41c.39.39.9.59 1.41.59.51 0 1.02-.2 1.41-.59l7.78-7.78 2.81-2.81c.8-.78.8-2.07 0-2.86zM5.41 20L4 18.59l7.72-7.72 1.47 1.35L5.41 20z\"/>\n",
              "  </svg>\n",
              "      </button>\n",
              "      \n",
              "  <style>\n",
              "    .colab-df-container {\n",
              "      display:flex;\n",
              "      flex-wrap:wrap;\n",
              "      gap: 12px;\n",
              "    }\n",
              "\n",
              "    .colab-df-convert {\n",
              "      background-color: #E8F0FE;\n",
              "      border: none;\n",
              "      border-radius: 50%;\n",
              "      cursor: pointer;\n",
              "      display: none;\n",
              "      fill: #1967D2;\n",
              "      height: 32px;\n",
              "      padding: 0 0 0 0;\n",
              "      width: 32px;\n",
              "    }\n",
              "\n",
              "    .colab-df-convert:hover {\n",
              "      background-color: #E2EBFA;\n",
              "      box-shadow: 0px 1px 2px rgba(60, 64, 67, 0.3), 0px 1px 3px 1px rgba(60, 64, 67, 0.15);\n",
              "      fill: #174EA6;\n",
              "    }\n",
              "\n",
              "    [theme=dark] .colab-df-convert {\n",
              "      background-color: #3B4455;\n",
              "      fill: #D2E3FC;\n",
              "    }\n",
              "\n",
              "    [theme=dark] .colab-df-convert:hover {\n",
              "      background-color: #434B5C;\n",
              "      box-shadow: 0px 1px 3px 1px rgba(0, 0, 0, 0.15);\n",
              "      filter: drop-shadow(0px 1px 2px rgba(0, 0, 0, 0.3));\n",
              "      fill: #FFFFFF;\n",
              "    }\n",
              "  </style>\n",
              "\n",
              "      <script>\n",
              "        const buttonEl =\n",
              "          document.querySelector('#df-f2c5c8eb-cc3b-42c1-9412-a56448b0551a button.colab-df-convert');\n",
              "        buttonEl.style.display =\n",
              "          google.colab.kernel.accessAllowed ? 'block' : 'none';\n",
              "\n",
              "        async function convertToInteractive(key) {\n",
              "          const element = document.querySelector('#df-f2c5c8eb-cc3b-42c1-9412-a56448b0551a');\n",
              "          const dataTable =\n",
              "            await google.colab.kernel.invokeFunction('convertToInteractive',\n",
              "                                                     [key], {});\n",
              "          if (!dataTable) return;\n",
              "\n",
              "          const docLinkHtml = 'Like what you see? Visit the ' +\n",
              "            '<a target=\"_blank\" href=https://colab.research.google.com/notebooks/data_table.ipynb>data table notebook</a>'\n",
              "            + ' to learn more about interactive tables.';\n",
              "          element.innerHTML = '';\n",
              "          dataTable['output_type'] = 'display_data';\n",
              "          await google.colab.output.renderOutput(dataTable, element);\n",
              "          const docLink = document.createElement('div');\n",
              "          docLink.innerHTML = docLinkHtml;\n",
              "          element.appendChild(docLink);\n",
              "        }\n",
              "      </script>\n",
              "    </div>\n",
              "  </div>\n",
              "  "
            ]
          },
          "metadata": {},
          "execution_count": 398
        }
      ]
    },
    {
      "cell_type": "code",
      "source": [
        "#we want to make sure each player has only one position to limit the amount of categories for Pos.\n",
        "#although we don't need to one hot encode for our tree based model, limiting all \n",
        "#entries to just one position is still important\n",
        "\n",
        "for index, rows in complete.iterrows():\n",
        "  #if the position has length greater than two (meaning it isn't C, PG, SG, SF, or PF), we shorten it to the first position\n",
        "  if len(complete.at[index, 'Pos']) > 2:\n",
        "    complete.at[index, 'Pos'] = complete.at[index, 'Pos'][:2]"
      ],
      "metadata": {
        "id": "Uskq4H8DYJKh"
      },
      "execution_count": 399,
      "outputs": []
    },
    {
      "cell_type": "markdown",
      "source": [
        "# Players with salaries over 25 million will be considered max level players while those under with be considered \"Not max\""
      ],
      "metadata": {
        "id": "jdU3uVLvgMCL"
      }
    },
    {
      "cell_type": "code",
      "source": [
        "#use a lambda function to assign classes\n",
        "complete['Class'] = ''\n",
        "\n",
        "for index, rows in complete.iterrows():\n",
        "  salary = complete.at[index,'Salary']\n",
        "  #low tier players with salary under 10 mil\n",
        "  if salary < 9:\n",
        "    complete.at[index, 'Class'] = 0\n",
        "  elif salary >= 9 and salary < 30:\n",
        "    #middle tier players with salary between 10-25 mil\n",
        "    complete.at[index, 'Class'] = 1\n",
        "  else:\n",
        "    #star players with salary over 25 mil\n",
        "    complete.at[index, 'Class'] = 2"
      ],
      "metadata": {
        "id": "jA6bQD4Xey08"
      },
      "execution_count": 400,
      "outputs": []
    },
    {
      "cell_type": "code",
      "source": [
        "#the count of each class in the dataset before splitting\n",
        "complete['Class'].value_counts()"
      ],
      "metadata": {
        "colab": {
          "base_uri": "https://localhost:8080/"
        },
        "id": "Bo0qnBa2f5Sf",
        "outputId": "947dea79-5fd7-49d0-ac2e-ff11d6757619"
      },
      "execution_count": 401,
      "outputs": [
        {
          "output_type": "execute_result",
          "data": {
            "text/plain": [
              "0    297\n",
              "1    109\n",
              "2     44\n",
              "Name: Class, dtype: int64"
            ]
          },
          "metadata": {},
          "execution_count": 401
        }
      ]
    },
    {
      "cell_type": "markdown",
      "source": [
        "Before splitting into train-test, we need to drop outliers that have been identified such as Kyle Lowry, John Wall, Gordon Hayward, and Ben Simmons. These are players who have all severly fallen off after receiving max contracts and should not appear in the training set."
      ],
      "metadata": {
        "id": "x98iXcyWUtF8"
      }
    },
    {
      "cell_type": "code",
      "source": [
        "#need to remove john wall, Gordon Hayward, Ben Simmons from the training set"
      ],
      "metadata": {
        "id": "Lck7JFTrWouq"
      },
      "execution_count": 402,
      "outputs": []
    },
    {
      "cell_type": "code",
      "source": [
        "need_to_remove = ['John Wall', 'Gordon Hayward', 'Ben Simmons']\n",
        "for player in need_to_remove:\n",
        "  complete = complete.drop(complete[complete['Player'] == player].index)"
      ],
      "metadata": {
        "id": "a0R1omXAVTiA"
      },
      "execution_count": 403,
      "outputs": []
    },
    {
      "cell_type": "code",
      "source": [
        "print(list(complete['Player']))"
      ],
      "metadata": {
        "colab": {
          "base_uri": "https://localhost:8080/"
        },
        "id": "2acfODX4Vwtm",
        "outputId": "61e6fc5c-2574-41bb-dc7c-b483c0d5cba1"
      },
      "execution_count": 404,
      "outputs": [
        {
          "output_type": "stream",
          "name": "stdout",
          "text": [
            "['Precious Achiuwa', 'Steven Adams', 'Bam Adebayo', 'Ochai Agbaji', 'Santi Aldama', 'Nickeil Alexander-Walker', 'Grayson Allen', 'Jarrett Allen', 'Jose Alvarado', 'Kyle Anderson', 'Giannis Antetokounmpo', 'Thanasis Antetokounmpo', 'Cole Anthony', 'OG Anunoby', 'Ryan Arcidiacono', 'Deni Avdija', 'Deandre Ayton', 'Udoka Azubuike', 'Marvin Bagley III', 'Patrick Baldwin Jr.', 'LaMelo Ball', 'Mo Bamba', 'Paolo Banchero', 'Desmond Bane', 'Dalano Banton', 'Dominick Barlow', 'Harrison Barnes', 'Scottie Barnes', 'RJ Barrett', 'Will Barton', 'Charles Bassey', 'Keita Bates-Diop', 'Nicolas Batum', 'Darius Bazley', 'Bradley Beal', 'Malik Beasley', 'MarJon Beauchamp', 'Dāvis Bertāns', 'Patrick Beverley', 'Saddiq Bey', 'Khem Birch', 'Goga Bitadze', 'Bismack Biyombo', 'Bogdan Bogdanović', 'Bojan Bogdanović', 'Bol Bol', 'Devin Booker', 'Brandon Boston Jr.', 'Chris Boucher', 'James Bouknight', 'Malaki Branham', 'Christian Braun', 'Mikal Bridges', 'Oshae Brissett', 'Malcolm Brogdon', 'Dillon Brooks', 'Bruce Brown', 'Greg Brown III', 'Jaylen Brown', 'Moses Brown', 'Troy Brown Jr.', 'Jalen Brunson', 'Thomas Bryant', 'Reggie Bullock', 'Alec Burks', 'Jimmy Butler', 'John Butler', 'Jamal Cain', 'Kentavious Caldwell-Pope', 'Vlatko Čančar', 'Clint Capela', 'Jevon Carter', 'Wendell Carter Jr.', 'Alex Caruso', 'Julian Champagnie', 'Kennedy Chandler', 'Max Christie', 'Josh Christopher', 'Brandon Clarke', 'Jordan Clarkson', 'Nic Claxton', 'Amir Coffey', 'John Collins', 'Zach Collins', 'Mike Conley', 'Pat Connaughton', 'Robert Covington', 'Torrey Craig', 'Jae Crowder', 'Seth Curry', 'Stephen Curry', 'Dyson Daniels', 'Anthony Davis', 'Johnny Davis', 'Terence Davis', 'Dewayne Dedmon', 'Matthew Dellavedova', 'DeMar DeRozan', 'Moussa Diabaté', 'Mamadi Diakite', 'Hamidou Diallo', 'Gorgui Dieng', 'Ousmane Dieng', 'Spencer Dinwiddie', 'Donte DiVincenzo', 'Luka Dončić', 'Luguentz Dort', 'Ayo Dosunmu', 'Jeff Dowtin', 'PJ Dozier', 'Goran Dragić', 'Andre Drummond', 'Chris Duarte', 'David Duke Jr.', 'Kris Dunn', 'Kevin Durant', 'Jalen Duren', 'Tari Eason', 'Anthony Edwards', 'Kessler Edwards', 'Keon Ellis', 'Joel Embiid', 'Drew Eubanks', 'Bruno Fernando', 'Dorian Finney-Smith', 'Malachi Flynn', 'Simone Fontecchio', 'Bryn Forbes', 'Trent Forrest', 'Evan Fournier', \"De'Aaron Fox\", 'Markelle Fultz', 'Wenyen Gabriel', 'Daniel Gafford', 'Darius Garland', 'Usman Garuba', 'Luka Garza', 'Rudy Gay', 'Paul George', 'Taj Gibson', 'Josh Giddey', 'Shai Gilgeous-Alexander', 'Anthony Gill', 'Rudy Gobert', 'Jordan Goodwin', 'Aaron Gordon', 'Eric Gordon', \"Devonte' Graham\", 'Jerami Grant', 'A.J. Green', 'Draymond Green', 'Jalen Green', 'JaMychal Green', 'Javonte Green', 'Jeff Green', 'Josh Green', 'AJ Griffin', 'Blake Griffin', 'Quentin Grimes', 'Rui Hachimura', 'Tyrese Haliburton', 'R.J. Hampton', 'Tim Hardaway Jr.', 'James Harden', 'Jaden Hardy', 'Montrezl Harrell', 'Gary Harris', 'Joe Harris', 'Kevon Harris', 'Tobias Harris', 'Josh Hart', 'Isaiah Hartenstein', 'Sam Hauser', 'Jaxson Hayes', 'Killian Hayes', 'Juancho Hernangómez', 'Willy Hernangómez', 'Tyler Herro', 'Buddy Hield', 'Haywood Highsmith', 'George Hill', 'Aaron Holiday', 'Jrue Holiday', 'Justin Holiday', 'Richaun Holmes', 'Al Horford', 'Talen Horton-Tucker', 'Danuel House Jr.', 'Caleb Houstan', 'Kevin Huerter', \"De'Andre Hunter\", 'Bones Hyland', 'Serge Ibaka', 'Joe Ingles', 'Brandon Ingram', 'Kyrie Irving', 'Jaden Ivey', 'Isaiah Jackson', 'Jaren Jackson Jr.', 'Justin Jackson', 'Reggie Jackson', 'LeBron James', 'Ty Jerome', 'Isaiah Joe', 'Cameron Johnson', 'Jalen Johnson', 'James Johnson', 'Keldon Johnson', 'Keon Johnson', 'Stanley Johnson', 'Nikola Jokić', 'Damian Jones', 'Derrick Jones Jr.', 'Herbert Jones', 'Kai Jones', 'Tre Jones', 'Tyus Jones', 'DeAndre Jordan', 'Cory Joseph', 'Johnny Juzang', 'Frank Kaminsky', 'Luke Kennard', 'Walker Kessler', 'Corey Kispert', 'Maxi Kleber', 'Nathan Knight', 'Kevin Knox', 'Christian Koloko', 'John Konchar', 'Furkan Korkmaz', 'Luke Kornet', 'Vit Krejci', 'Jonathan Kuminga', 'Kyle Kuzma', 'Anthony Lamb', 'Jock Landale', 'Romeo Langford', 'Jake LaRavia', 'Zach LaVine', 'Damion Lee', 'Saben Lee', 'Alex Len', 'Kawhi Leonard', 'Caris LeVert', 'Kira Lewis Jr.', 'Damian Lillard', 'Nassir Little', 'Isaiah Livers', 'Kenneth Lofton Jr.', 'Kevon Looney', 'Brook Lopez', 'Robin Lopez', 'Kevin Love', 'Kyle Lowry', 'Trey Lyles', 'Théo Maledon', 'Sandro Mamukelashvili', 'Terance Mann', 'Tre Mann', 'Boban Marjanović', 'Lauri Markkanen', 'Naji Marshall', 'Caleb Martin', 'Kenyon Martin Jr.', 'Tyrese Martin', 'Garrison Mathews', 'Bennedict Mathurin', 'Wesley Matthews', 'Tyrese Maxey', 'Miles McBride', 'CJ McCollum', 'T.J. McConnell', 'Jaden McDaniels', 'Jalen McDaniels', 'Doug McDermott', 'JaVale McGee', 'Bryce McGowens', 'Rodney McGruder', 'Jordan McLaughlin', \"De'Anthony Melton\", 'Chimezie Metu', 'Khris Middleton', 'Patty Mills', 'Shake Milton', 'Davion Mitchell', 'Donovan Mitchell', 'Evan Mobley', 'Malik Monk', 'Moses Moody', 'Wendell Moore Jr.', 'Ja Morant', 'Marcus Morris', 'Markieff Morris', 'Monte Morris', 'Trey Murphy III', 'Dejounte Murray', 'Jamal Murray', 'Keegan Murray', 'Mike Muscala', 'Svi Mykhailiuk', 'Larry Nance Jr.', 'Andrew Nembhard', 'Aaron Nesmith', 'Raul Neto', 'Georges Niang', 'Daishen Nix', 'Zeke Nnaji', 'Nerlens Noel', 'Jaylen Nowell', 'Frank Ntilikina', 'Kendrick Nunn', 'Jusuf Nurkić', 'Jordan Nwora', \"Royce O'Neale\", 'Chuma Okeke', 'Josh Okogie', 'Onyeka Okongwu', 'Isaac Okoro', 'KZ Okpala', 'Victor Oladipo', 'Kelly Olynyk', 'Eugene Omoruyi', 'Cedi Osman', 'Kelly Oubre Jr.', 'Chris Paul', 'Cameron Payne', 'Gary Payton II', 'Theo Pinson', 'Mason Plumlee', 'Jakob Poeltl', 'Aleksej Pokusevski', 'Jordan Poole', 'Kevin Porter Jr.', 'Michael Porter Jr.', 'Bobby Portis', 'Kristaps Porziņģis', 'Dwight Powell', 'Norman Powell', 'Taurean Prince', 'Payton Pritchard', 'Immanuel Quickley', 'Julius Randle', 'Austin Reaves', 'Cam Reddish', 'Davon Reed', 'Paul Reed', 'Naz Reid', 'Nick Richards', 'Josh Richardson', 'Austin Rivers', 'Duncan Robinson', 'Mitchell Robinson', 'Orlando Robinson', 'Jeremiah Robinson-Earl', 'Isaiah Roby', 'David Roddy', 'Derrick Rose', 'Terrence Ross', 'Terry Rozier', 'Ricky Rubio', \"D'Angelo Russell\", 'Matt Ryan', 'Domantas Sabonis', 'Dario Šarić', 'Admiral Schofield', 'Dennis Schröder', 'Alperen Şengün', 'Collin Sexton', 'Landry Shamet', \"Day'Ron Sharpe\", 'Shaedon Sharpe', 'Pascal Siakam', 'Anfernee Simons', 'Jericho Sims', 'Marcus Smart', 'Dennis Smith Jr.', 'Ish Smith', 'Jabari Smith Jr.', 'Jalen Smith', 'Jeremy Sochan', 'Jaden Springer', 'Lamar Stevens', 'Isaiah Stewart', 'Max Strus', 'Jalen Suggs', 'Edmond Sumner', \"Jae'Sean Tate\", 'Jayson Tatum', 'Terry Taylor', 'Garrett Temple', 'Dalen Terry', 'Cam Thomas', 'Klay Thompson', 'JT Thor', 'Matisse Thybulle', 'Xavier Tillman Sr.', 'Obi Toppin', 'Juan Toscano-Anderson', 'Karl-Anthony Towns', 'Gary Trent Jr.', 'P.J. Tucker', 'Myles Turner', 'Jonas Valančiūnas', 'Jarred Vanderbilt', 'Fred VanVleet', 'Devin Vassell', 'Gabe Vincent', 'Noah Vonleh', 'Nikola Vučević', 'Dean Wade', 'Franz Wagner', 'Moritz Wagner', 'Ish Wainright', 'Jabari Walker', 'Lonnie Walker IV', 'T.J. Warren', 'Duane Washington Jr.', 'P.J. Washington', 'TyTy Washington Jr.', 'Yuta Watanabe', 'Lindy Waters III', 'Trendon Watford', 'Peyton Watson', 'Blake Wesley', 'Russell Westbrook', 'Coby White', 'Derrick White', 'Jack White', 'Aaron Wiggins', 'Andrew Wiggins', 'Grant Williams', 'Jalen Williams', 'Jaylin Williams', 'Kenrich Williams', 'Mark Williams', 'Patrick Williams', 'Robert Williams', 'Ziaire Williams', 'Zion Williamson', 'Justise Winslow', 'James Wiseman', 'Christian Wood', 'Delon Wright', 'McKinley Wright IV', 'Thaddeus Young', 'Trae Young', 'Ivica Zubac']\n"
          ]
        }
      ]
    },
    {
      "cell_type": "code",
      "source": [
        "from sklearn.model_selection import train_test_split, cross_val_score"
      ],
      "metadata": {
        "id": "JPVKvV4fgh5e"
      },
      "execution_count": 405,
      "outputs": []
    },
    {
      "cell_type": "code",
      "source": [
        "#one hot encode position\n",
        "dummies = pd.get_dummies(complete['Pos'], prefix = 'Pos')"
      ],
      "metadata": {
        "id": "XCQMh0ZioQ2W"
      },
      "execution_count": 406,
      "outputs": []
    },
    {
      "cell_type": "code",
      "source": [
        "dummies.head(3)"
      ],
      "metadata": {
        "colab": {
          "base_uri": "https://localhost:8080/",
          "height": 143
        },
        "id": "xQejVh7po9l-",
        "outputId": "2425b5cf-230c-4c5d-851e-49e8277b66bb"
      },
      "execution_count": 407,
      "outputs": [
        {
          "output_type": "execute_result",
          "data": {
            "text/plain": [
              "   Pos_C  Pos_PF  Pos_PG  Pos_SF  Pos_SG\n",
              "0      1       0       0       0       0\n",
              "1      1       0       0       0       0\n",
              "2      1       0       0       0       0"
            ],
            "text/html": [
              "\n",
              "  <div id=\"df-23acaac9-e251-4e5a-82a6-eb7fda894e17\">\n",
              "    <div class=\"colab-df-container\">\n",
              "      <div>\n",
              "<style scoped>\n",
              "    .dataframe tbody tr th:only-of-type {\n",
              "        vertical-align: middle;\n",
              "    }\n",
              "\n",
              "    .dataframe tbody tr th {\n",
              "        vertical-align: top;\n",
              "    }\n",
              "\n",
              "    .dataframe thead th {\n",
              "        text-align: right;\n",
              "    }\n",
              "</style>\n",
              "<table border=\"1\" class=\"dataframe\">\n",
              "  <thead>\n",
              "    <tr style=\"text-align: right;\">\n",
              "      <th></th>\n",
              "      <th>Pos_C</th>\n",
              "      <th>Pos_PF</th>\n",
              "      <th>Pos_PG</th>\n",
              "      <th>Pos_SF</th>\n",
              "      <th>Pos_SG</th>\n",
              "    </tr>\n",
              "  </thead>\n",
              "  <tbody>\n",
              "    <tr>\n",
              "      <th>0</th>\n",
              "      <td>1</td>\n",
              "      <td>0</td>\n",
              "      <td>0</td>\n",
              "      <td>0</td>\n",
              "      <td>0</td>\n",
              "    </tr>\n",
              "    <tr>\n",
              "      <th>1</th>\n",
              "      <td>1</td>\n",
              "      <td>0</td>\n",
              "      <td>0</td>\n",
              "      <td>0</td>\n",
              "      <td>0</td>\n",
              "    </tr>\n",
              "    <tr>\n",
              "      <th>2</th>\n",
              "      <td>1</td>\n",
              "      <td>0</td>\n",
              "      <td>0</td>\n",
              "      <td>0</td>\n",
              "      <td>0</td>\n",
              "    </tr>\n",
              "  </tbody>\n",
              "</table>\n",
              "</div>\n",
              "      <button class=\"colab-df-convert\" onclick=\"convertToInteractive('df-23acaac9-e251-4e5a-82a6-eb7fda894e17')\"\n",
              "              title=\"Convert this dataframe to an interactive table.\"\n",
              "              style=\"display:none;\">\n",
              "        \n",
              "  <svg xmlns=\"http://www.w3.org/2000/svg\" height=\"24px\"viewBox=\"0 0 24 24\"\n",
              "       width=\"24px\">\n",
              "    <path d=\"M0 0h24v24H0V0z\" fill=\"none\"/>\n",
              "    <path d=\"M18.56 5.44l.94 2.06.94-2.06 2.06-.94-2.06-.94-.94-2.06-.94 2.06-2.06.94zm-11 1L8.5 8.5l.94-2.06 2.06-.94-2.06-.94L8.5 2.5l-.94 2.06-2.06.94zm10 10l.94 2.06.94-2.06 2.06-.94-2.06-.94-.94-2.06-.94 2.06-2.06.94z\"/><path d=\"M17.41 7.96l-1.37-1.37c-.4-.4-.92-.59-1.43-.59-.52 0-1.04.2-1.43.59L10.3 9.45l-7.72 7.72c-.78.78-.78 2.05 0 2.83L4 21.41c.39.39.9.59 1.41.59.51 0 1.02-.2 1.41-.59l7.78-7.78 2.81-2.81c.8-.78.8-2.07 0-2.86zM5.41 20L4 18.59l7.72-7.72 1.47 1.35L5.41 20z\"/>\n",
              "  </svg>\n",
              "      </button>\n",
              "      \n",
              "  <style>\n",
              "    .colab-df-container {\n",
              "      display:flex;\n",
              "      flex-wrap:wrap;\n",
              "      gap: 12px;\n",
              "    }\n",
              "\n",
              "    .colab-df-convert {\n",
              "      background-color: #E8F0FE;\n",
              "      border: none;\n",
              "      border-radius: 50%;\n",
              "      cursor: pointer;\n",
              "      display: none;\n",
              "      fill: #1967D2;\n",
              "      height: 32px;\n",
              "      padding: 0 0 0 0;\n",
              "      width: 32px;\n",
              "    }\n",
              "\n",
              "    .colab-df-convert:hover {\n",
              "      background-color: #E2EBFA;\n",
              "      box-shadow: 0px 1px 2px rgba(60, 64, 67, 0.3), 0px 1px 3px 1px rgba(60, 64, 67, 0.15);\n",
              "      fill: #174EA6;\n",
              "    }\n",
              "\n",
              "    [theme=dark] .colab-df-convert {\n",
              "      background-color: #3B4455;\n",
              "      fill: #D2E3FC;\n",
              "    }\n",
              "\n",
              "    [theme=dark] .colab-df-convert:hover {\n",
              "      background-color: #434B5C;\n",
              "      box-shadow: 0px 1px 3px 1px rgba(0, 0, 0, 0.15);\n",
              "      filter: drop-shadow(0px 1px 2px rgba(0, 0, 0, 0.3));\n",
              "      fill: #FFFFFF;\n",
              "    }\n",
              "  </style>\n",
              "\n",
              "      <script>\n",
              "        const buttonEl =\n",
              "          document.querySelector('#df-23acaac9-e251-4e5a-82a6-eb7fda894e17 button.colab-df-convert');\n",
              "        buttonEl.style.display =\n",
              "          google.colab.kernel.accessAllowed ? 'block' : 'none';\n",
              "\n",
              "        async function convertToInteractive(key) {\n",
              "          const element = document.querySelector('#df-23acaac9-e251-4e5a-82a6-eb7fda894e17');\n",
              "          const dataTable =\n",
              "            await google.colab.kernel.invokeFunction('convertToInteractive',\n",
              "                                                     [key], {});\n",
              "          if (!dataTable) return;\n",
              "\n",
              "          const docLinkHtml = 'Like what you see? Visit the ' +\n",
              "            '<a target=\"_blank\" href=https://colab.research.google.com/notebooks/data_table.ipynb>data table notebook</a>'\n",
              "            + ' to learn more about interactive tables.';\n",
              "          element.innerHTML = '';\n",
              "          dataTable['output_type'] = 'display_data';\n",
              "          await google.colab.output.renderOutput(dataTable, element);\n",
              "          const docLink = document.createElement('div');\n",
              "          docLink.innerHTML = docLinkHtml;\n",
              "          element.appendChild(docLink);\n",
              "        }\n",
              "      </script>\n",
              "    </div>\n",
              "  </div>\n",
              "  "
            ]
          },
          "metadata": {},
          "execution_count": 407
        }
      ]
    },
    {
      "cell_type": "code",
      "source": [
        "#concat the one-hot encoded columns and drop the original Pos column\n",
        "complete = pd.concat([complete,dummies], axis = 1)\n",
        "complete = complete.drop(columns = ['Pos'], axis = 1)"
      ],
      "metadata": {
        "id": "HKIujCcUpg7s"
      },
      "execution_count": 408,
      "outputs": []
    },
    {
      "cell_type": "code",
      "source": [
        "#check that this worked\n",
        "complete.head(5)"
      ],
      "metadata": {
        "colab": {
          "base_uri": "https://localhost:8080/",
          "height": 386
        },
        "id": "cSDrSrjrppb_",
        "outputId": "113d836f-7555-4372-b9f7-35620197a0ae"
      },
      "execution_count": 409,
      "outputs": [
        {
          "output_type": "execute_result",
          "data": {
            "text/plain": [
              "             Player  Age   Tm   G  GS    MP   FG   FGA    FG%   3P  ...  \\\n",
              "0  Precious Achiuwa   23  TOR  55  12  20.7  3.6   7.3  0.485  0.5  ...   \n",
              "1      Steven Adams   29  MEM  42  42  27.0  3.7   6.3  0.597  0.0  ...   \n",
              "2       Bam Adebayo   25  MIA  75  75  34.6  8.0  14.9  0.540  0.0  ...   \n",
              "3      Ochai Agbaji   22  UTA  59  22  20.5  2.8   6.5  0.427  1.4  ...   \n",
              "4      Santi Aldama   22  MEM  77  20  21.8  3.2   6.8  0.470  1.2  ...   \n",
              "\n",
              "   PTs_per_36  PF_per_dplay    FG_TOV     two_way  Class  Pos_C  Pos_PF  \\\n",
              "0   16.000000      1.727273  3.727273   38.690909      0      1       0   \n",
              "1   11.466667      1.150000  1.947368   87.500000      1      1       0   \n",
              "2   21.225434      1.400000  3.200000  101.840000      2      1       0   \n",
              "3   13.873171      2.833333  6.000000    6.440678      0      0       0   \n",
              "4   14.862385      1.583333  5.500000   43.324675      0      0       1   \n",
              "\n",
              "   Pos_PG  Pos_SF  Pos_SG  \n",
              "0       0       0       0  \n",
              "1       0       0       0  \n",
              "2       0       0       0  \n",
              "3       0       0       1  \n",
              "4       0       0       0  \n",
              "\n",
              "[5 rows x 68 columns]"
            ],
            "text/html": [
              "\n",
              "  <div id=\"df-0dc7f0cc-85c5-4077-9e91-4f250fe070c3\">\n",
              "    <div class=\"colab-df-container\">\n",
              "      <div>\n",
              "<style scoped>\n",
              "    .dataframe tbody tr th:only-of-type {\n",
              "        vertical-align: middle;\n",
              "    }\n",
              "\n",
              "    .dataframe tbody tr th {\n",
              "        vertical-align: top;\n",
              "    }\n",
              "\n",
              "    .dataframe thead th {\n",
              "        text-align: right;\n",
              "    }\n",
              "</style>\n",
              "<table border=\"1\" class=\"dataframe\">\n",
              "  <thead>\n",
              "    <tr style=\"text-align: right;\">\n",
              "      <th></th>\n",
              "      <th>Player</th>\n",
              "      <th>Age</th>\n",
              "      <th>Tm</th>\n",
              "      <th>G</th>\n",
              "      <th>GS</th>\n",
              "      <th>MP</th>\n",
              "      <th>FG</th>\n",
              "      <th>FGA</th>\n",
              "      <th>FG%</th>\n",
              "      <th>3P</th>\n",
              "      <th>...</th>\n",
              "      <th>PTs_per_36</th>\n",
              "      <th>PF_per_dplay</th>\n",
              "      <th>FG_TOV</th>\n",
              "      <th>two_way</th>\n",
              "      <th>Class</th>\n",
              "      <th>Pos_C</th>\n",
              "      <th>Pos_PF</th>\n",
              "      <th>Pos_PG</th>\n",
              "      <th>Pos_SF</th>\n",
              "      <th>Pos_SG</th>\n",
              "    </tr>\n",
              "  </thead>\n",
              "  <tbody>\n",
              "    <tr>\n",
              "      <th>0</th>\n",
              "      <td>Precious Achiuwa</td>\n",
              "      <td>23</td>\n",
              "      <td>TOR</td>\n",
              "      <td>55</td>\n",
              "      <td>12</td>\n",
              "      <td>20.7</td>\n",
              "      <td>3.6</td>\n",
              "      <td>7.3</td>\n",
              "      <td>0.485</td>\n",
              "      <td>0.5</td>\n",
              "      <td>...</td>\n",
              "      <td>16.000000</td>\n",
              "      <td>1.727273</td>\n",
              "      <td>3.727273</td>\n",
              "      <td>38.690909</td>\n",
              "      <td>0</td>\n",
              "      <td>1</td>\n",
              "      <td>0</td>\n",
              "      <td>0</td>\n",
              "      <td>0</td>\n",
              "      <td>0</td>\n",
              "    </tr>\n",
              "    <tr>\n",
              "      <th>1</th>\n",
              "      <td>Steven Adams</td>\n",
              "      <td>29</td>\n",
              "      <td>MEM</td>\n",
              "      <td>42</td>\n",
              "      <td>42</td>\n",
              "      <td>27.0</td>\n",
              "      <td>3.7</td>\n",
              "      <td>6.3</td>\n",
              "      <td>0.597</td>\n",
              "      <td>0.0</td>\n",
              "      <td>...</td>\n",
              "      <td>11.466667</td>\n",
              "      <td>1.150000</td>\n",
              "      <td>1.947368</td>\n",
              "      <td>87.500000</td>\n",
              "      <td>1</td>\n",
              "      <td>1</td>\n",
              "      <td>0</td>\n",
              "      <td>0</td>\n",
              "      <td>0</td>\n",
              "      <td>0</td>\n",
              "    </tr>\n",
              "    <tr>\n",
              "      <th>2</th>\n",
              "      <td>Bam Adebayo</td>\n",
              "      <td>25</td>\n",
              "      <td>MIA</td>\n",
              "      <td>75</td>\n",
              "      <td>75</td>\n",
              "      <td>34.6</td>\n",
              "      <td>8.0</td>\n",
              "      <td>14.9</td>\n",
              "      <td>0.540</td>\n",
              "      <td>0.0</td>\n",
              "      <td>...</td>\n",
              "      <td>21.225434</td>\n",
              "      <td>1.400000</td>\n",
              "      <td>3.200000</td>\n",
              "      <td>101.840000</td>\n",
              "      <td>2</td>\n",
              "      <td>1</td>\n",
              "      <td>0</td>\n",
              "      <td>0</td>\n",
              "      <td>0</td>\n",
              "      <td>0</td>\n",
              "    </tr>\n",
              "    <tr>\n",
              "      <th>3</th>\n",
              "      <td>Ochai Agbaji</td>\n",
              "      <td>22</td>\n",
              "      <td>UTA</td>\n",
              "      <td>59</td>\n",
              "      <td>22</td>\n",
              "      <td>20.5</td>\n",
              "      <td>2.8</td>\n",
              "      <td>6.5</td>\n",
              "      <td>0.427</td>\n",
              "      <td>1.4</td>\n",
              "      <td>...</td>\n",
              "      <td>13.873171</td>\n",
              "      <td>2.833333</td>\n",
              "      <td>6.000000</td>\n",
              "      <td>6.440678</td>\n",
              "      <td>0</td>\n",
              "      <td>0</td>\n",
              "      <td>0</td>\n",
              "      <td>0</td>\n",
              "      <td>0</td>\n",
              "      <td>1</td>\n",
              "    </tr>\n",
              "    <tr>\n",
              "      <th>4</th>\n",
              "      <td>Santi Aldama</td>\n",
              "      <td>22</td>\n",
              "      <td>MEM</td>\n",
              "      <td>77</td>\n",
              "      <td>20</td>\n",
              "      <td>21.8</td>\n",
              "      <td>3.2</td>\n",
              "      <td>6.8</td>\n",
              "      <td>0.470</td>\n",
              "      <td>1.2</td>\n",
              "      <td>...</td>\n",
              "      <td>14.862385</td>\n",
              "      <td>1.583333</td>\n",
              "      <td>5.500000</td>\n",
              "      <td>43.324675</td>\n",
              "      <td>0</td>\n",
              "      <td>0</td>\n",
              "      <td>1</td>\n",
              "      <td>0</td>\n",
              "      <td>0</td>\n",
              "      <td>0</td>\n",
              "    </tr>\n",
              "  </tbody>\n",
              "</table>\n",
              "<p>5 rows × 68 columns</p>\n",
              "</div>\n",
              "      <button class=\"colab-df-convert\" onclick=\"convertToInteractive('df-0dc7f0cc-85c5-4077-9e91-4f250fe070c3')\"\n",
              "              title=\"Convert this dataframe to an interactive table.\"\n",
              "              style=\"display:none;\">\n",
              "        \n",
              "  <svg xmlns=\"http://www.w3.org/2000/svg\" height=\"24px\"viewBox=\"0 0 24 24\"\n",
              "       width=\"24px\">\n",
              "    <path d=\"M0 0h24v24H0V0z\" fill=\"none\"/>\n",
              "    <path d=\"M18.56 5.44l.94 2.06.94-2.06 2.06-.94-2.06-.94-.94-2.06-.94 2.06-2.06.94zm-11 1L8.5 8.5l.94-2.06 2.06-.94-2.06-.94L8.5 2.5l-.94 2.06-2.06.94zm10 10l.94 2.06.94-2.06 2.06-.94-2.06-.94-.94-2.06-.94 2.06-2.06.94z\"/><path d=\"M17.41 7.96l-1.37-1.37c-.4-.4-.92-.59-1.43-.59-.52 0-1.04.2-1.43.59L10.3 9.45l-7.72 7.72c-.78.78-.78 2.05 0 2.83L4 21.41c.39.39.9.59 1.41.59.51 0 1.02-.2 1.41-.59l7.78-7.78 2.81-2.81c.8-.78.8-2.07 0-2.86zM5.41 20L4 18.59l7.72-7.72 1.47 1.35L5.41 20z\"/>\n",
              "  </svg>\n",
              "      </button>\n",
              "      \n",
              "  <style>\n",
              "    .colab-df-container {\n",
              "      display:flex;\n",
              "      flex-wrap:wrap;\n",
              "      gap: 12px;\n",
              "    }\n",
              "\n",
              "    .colab-df-convert {\n",
              "      background-color: #E8F0FE;\n",
              "      border: none;\n",
              "      border-radius: 50%;\n",
              "      cursor: pointer;\n",
              "      display: none;\n",
              "      fill: #1967D2;\n",
              "      height: 32px;\n",
              "      padding: 0 0 0 0;\n",
              "      width: 32px;\n",
              "    }\n",
              "\n",
              "    .colab-df-convert:hover {\n",
              "      background-color: #E2EBFA;\n",
              "      box-shadow: 0px 1px 2px rgba(60, 64, 67, 0.3), 0px 1px 3px 1px rgba(60, 64, 67, 0.15);\n",
              "      fill: #174EA6;\n",
              "    }\n",
              "\n",
              "    [theme=dark] .colab-df-convert {\n",
              "      background-color: #3B4455;\n",
              "      fill: #D2E3FC;\n",
              "    }\n",
              "\n",
              "    [theme=dark] .colab-df-convert:hover {\n",
              "      background-color: #434B5C;\n",
              "      box-shadow: 0px 1px 3px 1px rgba(0, 0, 0, 0.15);\n",
              "      filter: drop-shadow(0px 1px 2px rgba(0, 0, 0, 0.3));\n",
              "      fill: #FFFFFF;\n",
              "    }\n",
              "  </style>\n",
              "\n",
              "      <script>\n",
              "        const buttonEl =\n",
              "          document.querySelector('#df-0dc7f0cc-85c5-4077-9e91-4f250fe070c3 button.colab-df-convert');\n",
              "        buttonEl.style.display =\n",
              "          google.colab.kernel.accessAllowed ? 'block' : 'none';\n",
              "\n",
              "        async function convertToInteractive(key) {\n",
              "          const element = document.querySelector('#df-0dc7f0cc-85c5-4077-9e91-4f250fe070c3');\n",
              "          const dataTable =\n",
              "            await google.colab.kernel.invokeFunction('convertToInteractive',\n",
              "                                                     [key], {});\n",
              "          if (!dataTable) return;\n",
              "\n",
              "          const docLinkHtml = 'Like what you see? Visit the ' +\n",
              "            '<a target=\"_blank\" href=https://colab.research.google.com/notebooks/data_table.ipynb>data table notebook</a>'\n",
              "            + ' to learn more about interactive tables.';\n",
              "          element.innerHTML = '';\n",
              "          dataTable['output_type'] = 'display_data';\n",
              "          await google.colab.output.renderOutput(dataTable, element);\n",
              "          const docLink = document.createElement('div');\n",
              "          docLink.innerHTML = docLinkHtml;\n",
              "          element.appendChild(docLink);\n",
              "        }\n",
              "      </script>\n",
              "    </div>\n",
              "  </div>\n",
              "  "
            ]
          },
          "metadata": {},
          "execution_count": 409
        }
      ]
    },
    {
      "cell_type": "code",
      "source": [
        "#split into input features and target variable class\n",
        "X = complete.drop(columns = ['Salary', 'Class'], axis = 1)\n",
        "y = complete['Class']"
      ],
      "metadata": {
        "id": "jt_2Mwlsg9nf"
      },
      "execution_count": 410,
      "outputs": []
    },
    {
      "cell_type": "code",
      "source": [
        "X_train, X_test, y_train, y_test = train_test_split(X, y, random_state = 5, test_size=0.2, shuffle = True)"
      ],
      "metadata": {
        "id": "hCdTwQJwgteA"
      },
      "execution_count": 411,
      "outputs": []
    },
    {
      "cell_type": "code",
      "source": [
        "#X_train.loc[X_train['Class'] == 1]['Player']"
      ],
      "metadata": {
        "id": "YTSVvISUUxQ0"
      },
      "execution_count": 412,
      "outputs": []
    },
    {
      "cell_type": "code",
      "source": [
        "#drop the names column before proceeding\n",
        "names_train = list(X_train['Player'])\n",
        "X_train.drop(columns = ['Player', 'Tm'], axis = 1, inplace = True)\n",
        "names_test = list(X_test['Player'])\n",
        "X_test.drop(columns = ['Player', 'Tm'], axis = 1, inplace = True)"
      ],
      "metadata": {
        "id": "rKCEWHMuiCkP"
      },
      "execution_count": 413,
      "outputs": []
    },
    {
      "cell_type": "code",
      "source": [
        "print('Train:')\n",
        "print('train_features dimensions: ', X_train.shape)\n",
        "print('train_target dimensions: ', y_train.shape, '\\n')\n",
        "\n",
        "\n",
        "print('Test:')\n",
        "print('test_features dimensions: ', X_test.shape)\n",
        "print('test_target dimensions: ', y_test.shape)"
      ],
      "metadata": {
        "colab": {
          "base_uri": "https://localhost:8080/"
        },
        "id": "8zUD_NjhM8j1",
        "outputId": "11570d73-86cf-424c-f559-b9ee0e119d2b"
      },
      "execution_count": 414,
      "outputs": [
        {
          "output_type": "stream",
          "name": "stdout",
          "text": [
            "Train:\n",
            "train_features dimensions:  (357, 64)\n",
            "train_target dimensions:  (357,) \n",
            "\n",
            "Test:\n",
            "test_features dimensions:  (90, 64)\n",
            "test_target dimensions:  (90,)\n"
          ]
        }
      ]
    },
    {
      "cell_type": "code",
      "source": [
        "import numpy as np\n",
        "#the labels need to be in the format\n",
        "#of int32 to be used by TF\n",
        "\n",
        "y_train = y_train.astype(np.int32)\n",
        "y_test = y_test.astype(np.int32)"
      ],
      "metadata": {
        "id": "LaRlrAEwssYf"
      },
      "execution_count": 415,
      "outputs": []
    },
    {
      "cell_type": "markdown",
      "source": [
        "# Neural Network 1\n",
        "*   64 Input features\n",
        "*   30 Neurons, ReLu Activation\n",
        "*   60 Neurons, ReLu Activation\n",
        "*   60 Neurons, ReLu Activation\n",
        "*   60 Neurons, ReLu Activation\n",
        "*   30 Neurons, ReLu Activation\n",
        "*   3 Neurons, Softmax Activation \n",
        "\n",
        "\n",
        "\n",
        "*   15 Epochs, Adam Optimization\n",
        "\n",
        "\n",
        "\n",
        "\n",
        "\n",
        "\n",
        "\n",
        "\n"
      ],
      "metadata": {
        "id": "omGmFQ0lvfF9"
      }
    },
    {
      "cell_type": "code",
      "source": [
        "#build the neural network\n",
        "\n",
        "import tensorflow as tf\n",
        "from tensorflow import keras\n",
        "tf.random.set_seed(5)\n",
        "\n",
        "nn = tf.keras.models.Sequential()\n",
        "nn.add(tf.keras.Input(shape=(64,)))\n",
        "nn.add(tf.keras.layers.Dense(30, activation='relu'))\n",
        "nn.add(tf.keras.layers.Dense(60, activation='relu'))\n",
        "nn.add(tf.keras.layers.Dense(60, activation='relu'))\n",
        "nn.add(tf.keras.layers.Dense(60, activation='relu'))\n",
        "nn.add(tf.keras.layers.Dense(30, activation='relu'))\n",
        "nn.add(tf.keras.layers.Dense(3, activation='softmax'))\n",
        "\n",
        "#use Sparse Categorical Crossentropy loss function since we\n",
        "#are building a multiclass classifier\n",
        "\n",
        "nn.compile(\n",
        "   loss=tf.keras.losses.SparseCategoricalCrossentropy(),\n",
        "   optimizer=tf.keras.optimizers.Adam(),\n",
        "   metrics=\"accuracy\")\n",
        "\n",
        "nn_one = nn.fit(X_train, y_train, epochs= 15,validation_data=(X_test,y_test))"
      ],
      "metadata": {
        "colab": {
          "base_uri": "https://localhost:8080/"
        },
        "id": "w0XEriT8l0YT",
        "outputId": "8f250400-02e0-4795-fbfa-7ebb7578878f"
      },
      "execution_count": 416,
      "outputs": [
        {
          "output_type": "stream",
          "name": "stdout",
          "text": [
            "Epoch 1/15\n",
            "12/12 [==============================] - 2s 23ms/step - loss: 1.1500 - accuracy: 0.5238 - val_loss: 0.7150 - val_accuracy: 0.7444\n",
            "Epoch 2/15\n",
            "12/12 [==============================] - 0s 6ms/step - loss: 0.7506 - accuracy: 0.7059 - val_loss: 0.6659 - val_accuracy: 0.7556\n",
            "Epoch 3/15\n",
            "12/12 [==============================] - 0s 6ms/step - loss: 0.6687 - accuracy: 0.7395 - val_loss: 0.6408 - val_accuracy: 0.7222\n",
            "Epoch 4/15\n",
            "12/12 [==============================] - 0s 7ms/step - loss: 0.5950 - accuracy: 0.7535 - val_loss: 0.5847 - val_accuracy: 0.7778\n",
            "Epoch 5/15\n",
            "12/12 [==============================] - 0s 5ms/step - loss: 0.5615 - accuracy: 0.7619 - val_loss: 0.5722 - val_accuracy: 0.7889\n",
            "Epoch 6/15\n",
            "12/12 [==============================] - 0s 5ms/step - loss: 0.5318 - accuracy: 0.7815 - val_loss: 0.5781 - val_accuracy: 0.8222\n",
            "Epoch 7/15\n",
            "12/12 [==============================] - 0s 5ms/step - loss: 0.5082 - accuracy: 0.7899 - val_loss: 0.5724 - val_accuracy: 0.8111\n",
            "Epoch 8/15\n",
            "12/12 [==============================] - 0s 7ms/step - loss: 0.5224 - accuracy: 0.7675 - val_loss: 0.5647 - val_accuracy: 0.7667\n",
            "Epoch 9/15\n",
            "12/12 [==============================] - 0s 7ms/step - loss: 0.4794 - accuracy: 0.8095 - val_loss: 0.5452 - val_accuracy: 0.8000\n",
            "Epoch 10/15\n",
            "12/12 [==============================] - 0s 6ms/step - loss: 0.4551 - accuracy: 0.8263 - val_loss: 0.5458 - val_accuracy: 0.8111\n",
            "Epoch 11/15\n",
            "12/12 [==============================] - 0s 7ms/step - loss: 0.4245 - accuracy: 0.8235 - val_loss: 0.5354 - val_accuracy: 0.8000\n",
            "Epoch 12/15\n",
            "12/12 [==============================] - 0s 7ms/step - loss: 0.4633 - accuracy: 0.8151 - val_loss: 0.5276 - val_accuracy: 0.8111\n",
            "Epoch 13/15\n",
            "12/12 [==============================] - 0s 8ms/step - loss: 0.4373 - accuracy: 0.8263 - val_loss: 0.5129 - val_accuracy: 0.8333\n",
            "Epoch 14/15\n",
            "12/12 [==============================] - 0s 6ms/step - loss: 0.4021 - accuracy: 0.8431 - val_loss: 0.5727 - val_accuracy: 0.8000\n",
            "Epoch 15/15\n",
            "12/12 [==============================] - 0s 9ms/step - loss: 0.4253 - accuracy: 0.8319 - val_loss: 0.5213 - val_accuracy: 0.8444\n"
          ]
        }
      ]
    },
    {
      "cell_type": "markdown",
      "source": [
        "Plotting "
      ],
      "metadata": {
        "id": "in9vuTqrwHzR"
      }
    },
    {
      "cell_type": "code",
      "source": [
        "from matplotlib import pyplot as plt\n",
        "\n",
        "plt.plot(nn_one.history['accuracy'], color = 'blue')\n",
        "plt.plot(nn_one.history['val_accuracy'], color = 'purple')\n",
        "plt.title('Neural Network Accuracy')\n",
        "plt.ylabel('accuracy')\n",
        "plt.xlabel('epoch')\n",
        "plt.legend(['Train Acc.', 'Test Acc.'], loc='upper left')\n",
        "plt.show()"
      ],
      "metadata": {
        "colab": {
          "base_uri": "https://localhost:8080/",
          "height": 472
        },
        "id": "PTW3o05NuD8N",
        "outputId": "add7ecbe-3d82-4875-d470-fff6cafbe304"
      },
      "execution_count": 417,
      "outputs": [
        {
          "output_type": "display_data",
          "data": {
            "text/plain": [
              "<Figure size 640x480 with 1 Axes>"
            ],
            "image/png": "[encoded data removed]"
          },
          "metadata": {}
        }
      ]
    },
    {
      "cell_type": "code",
      "source": [
        "from sklearn.metrics import confusion_matrix, ConfusionMatrixDisplay\n",
        "\n",
        "# Assuming you have already trained your neural network and obtained predictions\n",
        "predictions = nn.predict(X_test)\n",
        "y_predicted = np.argmax(predictions, axis=1)  # Convert probabilities to class labels\n",
        "\n",
        "# Obtain the confusion matrix\n",
        "confusion_test = confusion_matrix(y_test, y_predicted)\n",
        "\n",
        "print(confusion_test)"
      ],
      "metadata": {
        "colab": {
          "base_uri": "https://localhost:8080/"
        },
        "id": "sq159BYPuxtX",
        "outputId": "882b4d9f-d1a8-4d24-93dc-0a9e467e074f"
      },
      "execution_count": 426,
      "outputs": [
        {
          "output_type": "stream",
          "name": "stdout",
          "text": [
            "3/3 [==============================] - 0s 3ms/step\n",
            "[[57  3  0]\n",
            " [ 8 12  2]\n",
            " [ 1  0  7]]\n"
          ]
        }
      ]
    },
    {
      "cell_type": "code",
      "source": [
        "predictions_train = nn.predict(X_train)\n",
        "y_predicted_train = np.argmax(predictions_train, axis = 1)\n",
        "\n",
        "confusion_train = confusion_matrix(y_train, y_predicted_train)\n",
        "print(confusion_train)"
      ],
      "metadata": {
        "id": "rFrifjvMh-3A",
        "outputId": "35c67ff9-92d5-49fb-f65d-87dd03521906",
        "colab": {
          "base_uri": "https://localhost:8080/"
        }
      },
      "execution_count": 419,
      "outputs": [
        {
          "output_type": "stream",
          "name": "stdout",
          "text": [
            "12/12 [==============================] - 0s 2ms/step\n",
            "[[228   7   2]\n",
            " [ 30  53   4]\n",
            " [  0  12  21]]\n"
          ]
        }
      ]
    },
    {
      "cell_type": "code",
      "source": [
        "summary = pd.DataFrame({'Name': names_test, 'Real label': y_test, 'Prediction': y_predicted})\n",
        "for index, rows in summary.iterrows():\n",
        "  print(summary.at[index, 'Name'], summary.at[index, 'Real label'], summary.at[index, 'Prediction'])"
      ],
      "metadata": {
        "id": "6JBA435lht-f",
        "outputId": "8ff275e4-3364-4503-9df8-cf495401bda3",
        "colab": {
          "base_uri": "https://localhost:8080/"
        }
      },
      "execution_count": 420,
      "outputs": [
        {
          "output_type": "stream",
          "name": "stdout",
          "text": [
            "Kenyon Martin Jr. 0 0\n",
            "Bradley Beal 2 2\n",
            "Monte Morris 1 1\n",
            "Jaren Jackson Jr. 1 2\n",
            "Ja Morant 1 2\n",
            "Xavier Tillman Sr. 0 0\n",
            "Javonte Green 0 0\n",
            "Kennedy Chandler 0 0\n",
            "Richaun Holmes 1 0\n",
            "Jake LaRavia 0 0\n",
            "Khem Birch 0 0\n",
            "Bryn Forbes 0 0\n",
            "Nassir Little 0 0\n",
            "Derrick Jones Jr. 0 0\n",
            "Kevon Harris 0 0\n",
            "Jevon Carter 0 0\n",
            "R.J. Hampton 0 0\n",
            "Dalen Terry 0 0\n",
            "Payton Pritchard 0 0\n",
            "Landry Shamet 1 1\n",
            "Thaddeus Young 0 0\n",
            "Stanley Johnson 0 0\n",
            "Gorgui Dieng 0 0\n",
            "Walker Kessler 0 0\n",
            "Kyrie Irving 2 2\n",
            "Josh Giddey 0 0\n",
            "Jonas Valančiūnas 1 1\n",
            "Justise Winslow 0 0\n",
            "Terry Rozier 1 1\n",
            "Willy Hernangómez 0 0\n",
            "John Butler 0 0\n",
            "Paul George 2 2\n",
            "Mikal Bridges 1 1\n",
            "Caleb Martin 0 0\n",
            "Tari Eason 0 0\n",
            "Josh Richardson 1 0\n",
            "Mo Bamba 1 0\n",
            "Mark Williams 0 0\n",
            "Wenyen Gabriel 0 0\n",
            "Bogdan Bogdanović 1 1\n",
            "LeBron James 2 2\n",
            "Jarred Vanderbilt 0 0\n",
            "Jae'Sean Tate 0 0\n",
            "Boban Marjanović 0 0\n",
            "Mitchell Robinson 1 1\n",
            "Mamadi Diakite 0 0\n",
            "Malaki Branham 0 0\n",
            "Georges Niang 0 0\n",
            "T.J. Warren 0 0\n",
            "Josh Hart 1 0\n",
            "Rodney McGruder 0 0\n",
            "Donovan Mitchell 2 2\n",
            "Kendrick Nunn 0 0\n",
            "Moussa Diabaté 0 0\n",
            "Dwight Powell 1 0\n",
            "Moses Moody 0 0\n",
            "Marcus Morris 1 1\n",
            "Daishen Nix 0 0\n",
            "Robin Lopez 0 0\n",
            "Jeff Dowtin 0 0\n",
            "Brandon Boston Jr. 0 0\n",
            "JaMychal Green 1 0\n",
            "Kyle Anderson 0 0\n",
            "Fred VanVleet 1 1\n",
            "Russell Westbrook 2 0\n",
            "Nick Richards 0 0\n",
            "Miles McBride 0 0\n",
            "Oshae Brissett 0 0\n",
            "A.J. Green 0 0\n",
            "Shaedon Sharpe 0 0\n",
            "McKinley Wright IV 0 0\n",
            "Kelly Olynyk 1 1\n",
            "Draymond Green 1 1\n",
            "James Bouknight 0 0\n",
            "Stephen Curry 2 2\n",
            "Christian Koloko 0 0\n",
            "Davion Mitchell 0 0\n",
            "Isaiah Livers 0 0\n",
            "Karl-Anthony Towns 2 2\n",
            "Johnny Juzang 0 0\n",
            "Thomas Bryant 0 0\n",
            "Lonnie Walker IV 0 1\n",
            "Devin Vassell 0 1\n",
            "Tim Hardaway Jr. 1 1\n",
            "Cam Reddish 0 1\n",
            "Ish Wainright 0 0\n",
            "Orlando Robinson 0 0\n",
            "Marvin Bagley III 1 0\n",
            "Royce O'Neale 1 0\n",
            "Isaiah Roby 0 0\n"
          ]
        }
      ]
    },
    {
      "cell_type": "code",
      "source": [
        "summary_two = pd.DataFrame({'Name': names_train, 'Real label': y_train, 'Prediction': y_predicted_train})\n",
        "summary_two = summary_two.loc[summary_two['Real label'] != summary_two['Prediction']]\n",
        "for index, rows in summary_two.iterrows():\n",
        "  print(summary_two.at[index, 'Name'], summary_two.at[index, 'Real label'], summary_two.at[index, 'Prediction'])"
      ],
      "metadata": {
        "id": "wk67nZQLjMZU",
        "outputId": "89129285-ff2e-41b5-acd3-8674246e354f",
        "colab": {
          "base_uri": "https://localhost:8080/"
        }
      },
      "execution_count": 424,
      "outputs": [
        {
          "output_type": "stream",
          "name": "stdout",
          "text": [
            "Dario Šarić 1 0\n",
            "Jalen Green 1 0\n",
            "Chris Boucher 1 0\n",
            "Jae Crowder 1 0\n",
            "Talen Horton-Tucker 1 0\n",
            "Evan Fournier 1 0\n",
            "Michael Porter Jr. 2 1\n",
            "Pascal Siakam 2 1\n",
            "Maxi Kleber 1 0\n",
            "Jaylen Brown 1 2\n",
            "Andrew Wiggins 2 1\n",
            "Terrence Ross 1 0\n",
            "Jalen Brunson 1 2\n",
            "Zach LaVine 2 1\n",
            "Zion Williamson 1 2\n",
            "Luguentz Dort 1 0\n",
            "Derrick White 1 0\n",
            "Darius Garland 0 2\n",
            "Dāvis Bertāns 1 0\n",
            "Collin Sexton 1 0\n",
            "Desmond Bane 0 1\n",
            "RJ Barrett 1 0\n",
            "Delon Wright 0 1\n",
            "Trae Young 2 1\n",
            "LaMelo Ball 0 2\n",
            "Kevin Love 2 1\n",
            "Joe Harris 1 0\n",
            "Rudy Gobert 2 1\n",
            "Reggie Jackson 1 0\n",
            "Tyrese Maxey 0 1\n",
            "James Wiseman 1 0\n",
            "Duncan Robinson 1 0\n",
            "Dennis Schröder 0 1\n",
            "Tobias Harris 2 1\n",
            "Caris LeVert 1 0\n",
            "John Collins 1 0\n",
            "Paolo Banchero 1 0\n",
            "Tyler Herro 0 1\n",
            "Malik Beasley 1 0\n",
            "Tyus Jones 1 0\n",
            "Will Barton 1 0\n",
            "D'Angelo Russell 2 1\n",
            "Klay Thompson 2 1\n",
            "Kevin Porter Jr. 0 1\n",
            "Nicolas Batum 1 0\n",
            "Myles Turner 2 1\n",
            "Deandre Ayton 2 1\n",
            "Derrick Rose 1 0\n",
            "Doug McDermott 1 0\n",
            "Devonte' Graham 1 0\n",
            "Malik Monk 1 0\n",
            "Robert Covington 1 0\n",
            "Cameron Johnson 0 1\n",
            "Jarrett Allen 1 2\n",
            "Alex Caruso 1 0\n"
          ]
        }
      ]
    },
    {
      "cell_type": "code",
      "source": [
        "# Specify the file path and name to save the model\n",
        "#to colab and download on my pc\n",
        "\n",
        "nn.save('model.h5')"
      ],
      "metadata": {
        "id": "kCVW9h9TybG2"
      },
      "execution_count": 421,
      "outputs": []
    }
  ]
}