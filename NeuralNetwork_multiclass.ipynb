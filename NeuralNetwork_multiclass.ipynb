{
  "nbformat": 4,
  "nbformat_minor": 0,
  "metadata": {
    "colab": {
      "provenance": [],
      "authorship_tag": "ABX9TyM9UhRStVfMG7eUMFaYz6ju",
      "include_colab_link": true
    },
    "kernelspec": {
      "name": "python3",
      "display_name": "Python 3"
    },
    "language_info": {
      "name": "python"
    }
  },
  "cells": [
    {
      "cell_type": "markdown",
      "metadata": {
        "id": "view-in-github",
        "colab_type": "text"
      },
      "source": [
        "<a href=\"https://colab.research.google.com/github/mnocerino23/NBA-Player-Classifier/blob/main/NeuralNetwork_multiclass.ipynb\" target=\"_parent\"><img src=\"https://colab.research.google.com/assets/colab-badge.svg\" alt=\"Open In Colab\"/></a>"
      ]
    },
    {
      "cell_type": "markdown",
      "source": [
        "#Building a multi-class classifier with Neural Networks"
      ],
      "metadata": {
        "id": "S18Gy3_SAVoM"
      }
    },
    {
      "cell_type": "code",
      "execution_count": 508,
      "metadata": {
        "colab": {
          "base_uri": "https://localhost:8080/"
        },
        "id": "UQTJFDfYGIOo",
        "outputId": "52b5bcfe-6edc-4936-863c-ce03998c5e30"
      },
      "outputs": [
        {
          "output_type": "stream",
          "name": "stdout",
          "text": [
            "Drive already mounted at /content/drive; to attempt to forcibly remount, call drive.mount(\"/content/drive\", force_remount=True).\n"
          ]
        }
      ],
      "source": [
        "import pandas as pd\n",
        "import sklearn\n",
        "from google.colab import drive\n",
        "drive.mount('/content/drive')"
      ]
    },
    {
      "cell_type": "code",
      "source": [
        "complete = pd.read_csv('/content/drive/MyDrive/Data_Science_Projects/NBA/complete22-23.csv')"
      ],
      "metadata": {
        "id": "0niM9ni-GjB8"
      },
      "execution_count": 509,
      "outputs": []
    },
    {
      "cell_type": "code",
      "source": [
        "complete.head(4)"
      ],
      "metadata": {
        "colab": {
          "base_uri": "https://localhost:8080/",
          "height": 337
        },
        "id": "nFY9snYBdrsZ",
        "outputId": "6fba9c1f-9d72-4691-cfa4-8af8ec8a21e0"
      },
      "execution_count": 510,
      "outputs": [
        {
          "output_type": "execute_result",
          "data": {
            "text/plain": [
              "             Player Pos  Age   Tm   G  GS    MP   FG   FGA    FG%  ...  \\\n",
              "0  Precious Achiuwa   C   23  TOR  55  12  20.7  3.6   7.3  0.485  ...   \n",
              "1      Steven Adams   C   29  MEM  42  42  27.0  3.7   6.3  0.597  ...   \n",
              "2       Bam Adebayo   C   25  MIA  75  75  34.6  8.0  14.9  0.540  ...   \n",
              "3      Ochai Agbaji  SG   22  UTA  59  22  20.5  2.8   6.5  0.427  ...   \n",
              "\n",
              "    AST_TOV  OWS_div_USG  TS_times_USG   bigmanD  foul_rate  three_rate  \\\n",
              "0  0.818182     0.041237       10.7476  0.251208   0.091787   21.505376   \n",
              "1  1.210526     0.089041        8.2344  0.314815   0.085185    0.000000   \n",
              "2  1.280000     0.142857       14.9184  0.251445   0.080925    1.324503   \n",
              "3  1.571429     0.056962        8.8638  0.092683   0.082927   37.500000   \n",
              "\n",
              "   PTs_per_36  PF_per_dplay    FG_TOV     two_way  \n",
              "0   16.000000      1.727273  3.727273   38.690909  \n",
              "1   11.466667      1.150000  1.947368   87.500000  \n",
              "2   21.225434      1.400000  3.200000  101.840000  \n",
              "3   13.873171      2.833333  6.000000    6.440678  \n",
              "\n",
              "[4 rows x 63 columns]"
            ],
            "text/html": [
              "\n",
              "  <div id=\"df-68fdb826-7f28-4f3b-af18-34904fe6c72b\">\n",
              "    <div class=\"colab-df-container\">\n",
              "      <div>\n",
              "<style scoped>\n",
              "    .dataframe tbody tr th:only-of-type {\n",
              "        vertical-align: middle;\n",
              "    }\n",
              "\n",
              "    .dataframe tbody tr th {\n",
              "        vertical-align: top;\n",
              "    }\n",
              "\n",
              "    .dataframe thead th {\n",
              "        text-align: right;\n",
              "    }\n",
              "</style>\n",
              "<table border=\"1\" class=\"dataframe\">\n",
              "  <thead>\n",
              "    <tr style=\"text-align: right;\">\n",
              "      <th></th>\n",
              "      <th>Player</th>\n",
              "      <th>Pos</th>\n",
              "      <th>Age</th>\n",
              "      <th>Tm</th>\n",
              "      <th>G</th>\n",
              "      <th>GS</th>\n",
              "      <th>MP</th>\n",
              "      <th>FG</th>\n",
              "      <th>FGA</th>\n",
              "      <th>FG%</th>\n",
              "      <th>...</th>\n",
              "      <th>AST_TOV</th>\n",
              "      <th>OWS_div_USG</th>\n",
              "      <th>TS_times_USG</th>\n",
              "      <th>bigmanD</th>\n",
              "      <th>foul_rate</th>\n",
              "      <th>three_rate</th>\n",
              "      <th>PTs_per_36</th>\n",
              "      <th>PF_per_dplay</th>\n",
              "      <th>FG_TOV</th>\n",
              "      <th>two_way</th>\n",
              "    </tr>\n",
              "  </thead>\n",
              "  <tbody>\n",
              "    <tr>\n",
              "      <th>0</th>\n",
              "      <td>Precious Achiuwa</td>\n",
              "      <td>C</td>\n",
              "      <td>23</td>\n",
              "      <td>TOR</td>\n",
              "      <td>55</td>\n",
              "      <td>12</td>\n",
              "      <td>20.7</td>\n",
              "      <td>3.6</td>\n",
              "      <td>7.3</td>\n",
              "      <td>0.485</td>\n",
              "      <td>...</td>\n",
              "      <td>0.818182</td>\n",
              "      <td>0.041237</td>\n",
              "      <td>10.7476</td>\n",
              "      <td>0.251208</td>\n",
              "      <td>0.091787</td>\n",
              "      <td>21.505376</td>\n",
              "      <td>16.000000</td>\n",
              "      <td>1.727273</td>\n",
              "      <td>3.727273</td>\n",
              "      <td>38.690909</td>\n",
              "    </tr>\n",
              "    <tr>\n",
              "      <th>1</th>\n",
              "      <td>Steven Adams</td>\n",
              "      <td>C</td>\n",
              "      <td>29</td>\n",
              "      <td>MEM</td>\n",
              "      <td>42</td>\n",
              "      <td>42</td>\n",
              "      <td>27.0</td>\n",
              "      <td>3.7</td>\n",
              "      <td>6.3</td>\n",
              "      <td>0.597</td>\n",
              "      <td>...</td>\n",
              "      <td>1.210526</td>\n",
              "      <td>0.089041</td>\n",
              "      <td>8.2344</td>\n",
              "      <td>0.314815</td>\n",
              "      <td>0.085185</td>\n",
              "      <td>0.000000</td>\n",
              "      <td>11.466667</td>\n",
              "      <td>1.150000</td>\n",
              "      <td>1.947368</td>\n",
              "      <td>87.500000</td>\n",
              "    </tr>\n",
              "    <tr>\n",
              "      <th>2</th>\n",
              "      <td>Bam Adebayo</td>\n",
              "      <td>C</td>\n",
              "      <td>25</td>\n",
              "      <td>MIA</td>\n",
              "      <td>75</td>\n",
              "      <td>75</td>\n",
              "      <td>34.6</td>\n",
              "      <td>8.0</td>\n",
              "      <td>14.9</td>\n",
              "      <td>0.540</td>\n",
              "      <td>...</td>\n",
              "      <td>1.280000</td>\n",
              "      <td>0.142857</td>\n",
              "      <td>14.9184</td>\n",
              "      <td>0.251445</td>\n",
              "      <td>0.080925</td>\n",
              "      <td>1.324503</td>\n",
              "      <td>21.225434</td>\n",
              "      <td>1.400000</td>\n",
              "      <td>3.200000</td>\n",
              "      <td>101.840000</td>\n",
              "    </tr>\n",
              "    <tr>\n",
              "      <th>3</th>\n",
              "      <td>Ochai Agbaji</td>\n",
              "      <td>SG</td>\n",
              "      <td>22</td>\n",
              "      <td>UTA</td>\n",
              "      <td>59</td>\n",
              "      <td>22</td>\n",
              "      <td>20.5</td>\n",
              "      <td>2.8</td>\n",
              "      <td>6.5</td>\n",
              "      <td>0.427</td>\n",
              "      <td>...</td>\n",
              "      <td>1.571429</td>\n",
              "      <td>0.056962</td>\n",
              "      <td>8.8638</td>\n",
              "      <td>0.092683</td>\n",
              "      <td>0.082927</td>\n",
              "      <td>37.500000</td>\n",
              "      <td>13.873171</td>\n",
              "      <td>2.833333</td>\n",
              "      <td>6.000000</td>\n",
              "      <td>6.440678</td>\n",
              "    </tr>\n",
              "  </tbody>\n",
              "</table>\n",
              "<p>4 rows × 63 columns</p>\n",
              "</div>\n",
              "      <button class=\"colab-df-convert\" onclick=\"convertToInteractive('df-68fdb826-7f28-4f3b-af18-34904fe6c72b')\"\n",
              "              title=\"Convert this dataframe to an interactive table.\"\n",
              "              style=\"display:none;\">\n",
              "        \n",
              "  <svg xmlns=\"http://www.w3.org/2000/svg\" height=\"24px\"viewBox=\"0 0 24 24\"\n",
              "       width=\"24px\">\n",
              "    <path d=\"M0 0h24v24H0V0z\" fill=\"none\"/>\n",
              "    <path d=\"M18.56 5.44l.94 2.06.94-2.06 2.06-.94-2.06-.94-.94-2.06-.94 2.06-2.06.94zm-11 1L8.5 8.5l.94-2.06 2.06-.94-2.06-.94L8.5 2.5l-.94 2.06-2.06.94zm10 10l.94 2.06.94-2.06 2.06-.94-2.06-.94-.94-2.06-.94 2.06-2.06.94z\"/><path d=\"M17.41 7.96l-1.37-1.37c-.4-.4-.92-.59-1.43-.59-.52 0-1.04.2-1.43.59L10.3 9.45l-7.72 7.72c-.78.78-.78 2.05 0 2.83L4 21.41c.39.39.9.59 1.41.59.51 0 1.02-.2 1.41-.59l7.78-7.78 2.81-2.81c.8-.78.8-2.07 0-2.86zM5.41 20L4 18.59l7.72-7.72 1.47 1.35L5.41 20z\"/>\n",
              "  </svg>\n",
              "      </button>\n",
              "      \n",
              "  <style>\n",
              "    .colab-df-container {\n",
              "      display:flex;\n",
              "      flex-wrap:wrap;\n",
              "      gap: 12px;\n",
              "    }\n",
              "\n",
              "    .colab-df-convert {\n",
              "      background-color: #E8F0FE;\n",
              "      border: none;\n",
              "      border-radius: 50%;\n",
              "      cursor: pointer;\n",
              "      display: none;\n",
              "      fill: #1967D2;\n",
              "      height: 32px;\n",
              "      padding: 0 0 0 0;\n",
              "      width: 32px;\n",
              "    }\n",
              "\n",
              "    .colab-df-convert:hover {\n",
              "      background-color: #E2EBFA;\n",
              "      box-shadow: 0px 1px 2px rgba(60, 64, 67, 0.3), 0px 1px 3px 1px rgba(60, 64, 67, 0.15);\n",
              "      fill: #174EA6;\n",
              "    }\n",
              "\n",
              "    [theme=dark] .colab-df-convert {\n",
              "      background-color: #3B4455;\n",
              "      fill: #D2E3FC;\n",
              "    }\n",
              "\n",
              "    [theme=dark] .colab-df-convert:hover {\n",
              "      background-color: #434B5C;\n",
              "      box-shadow: 0px 1px 3px 1px rgba(0, 0, 0, 0.15);\n",
              "      filter: drop-shadow(0px 1px 2px rgba(0, 0, 0, 0.3));\n",
              "      fill: #FFFFFF;\n",
              "    }\n",
              "  </style>\n",
              "\n",
              "      <script>\n",
              "        const buttonEl =\n",
              "          document.querySelector('#df-68fdb826-7f28-4f3b-af18-34904fe6c72b button.colab-df-convert');\n",
              "        buttonEl.style.display =\n",
              "          google.colab.kernel.accessAllowed ? 'block' : 'none';\n",
              "\n",
              "        async function convertToInteractive(key) {\n",
              "          const element = document.querySelector('#df-68fdb826-7f28-4f3b-af18-34904fe6c72b');\n",
              "          const dataTable =\n",
              "            await google.colab.kernel.invokeFunction('convertToInteractive',\n",
              "                                                     [key], {});\n",
              "          if (!dataTable) return;\n",
              "\n",
              "          const docLinkHtml = 'Like what you see? Visit the ' +\n",
              "            '<a target=\"_blank\" href=https://colab.research.google.com/notebooks/data_table.ipynb>data table notebook</a>'\n",
              "            + ' to learn more about interactive tables.';\n",
              "          element.innerHTML = '';\n",
              "          dataTable['output_type'] = 'display_data';\n",
              "          await google.colab.output.renderOutput(dataTable, element);\n",
              "          const docLink = document.createElement('div');\n",
              "          docLink.innerHTML = docLinkHtml;\n",
              "          element.appendChild(docLink);\n",
              "        }\n",
              "      </script>\n",
              "    </div>\n",
              "  </div>\n",
              "  "
            ]
          },
          "metadata": {},
          "execution_count": 510
        }
      ]
    },
    {
      "cell_type": "code",
      "source": [
        "#we want to make sure each player has only one position to limit the amount of categories for Pos.\n",
        "#although we don't need to one hot encode for our tree based model, limiting all \n",
        "#entries to just one position is still important\n",
        "\n",
        "for index, rows in complete.iterrows():\n",
        "  #if the position has length greater than two (meaning it isn't C, PG, SG, SF, or PF), we shorten it to the first position\n",
        "  if len(complete.at[index, 'Pos']) > 2:\n",
        "    complete.at[index, 'Pos'] = complete.at[index, 'Pos'][:2]"
      ],
      "metadata": {
        "id": "Uskq4H8DYJKh"
      },
      "execution_count": 511,
      "outputs": []
    },
    {
      "cell_type": "markdown",
      "source": [
        "# Players with salaries over 25 million will be considered max level players while those under with be considered \"Not max\""
      ],
      "metadata": {
        "id": "jdU3uVLvgMCL"
      }
    },
    {
      "cell_type": "code",
      "source": [
        "#use a lambda function to assign classes\n",
        "complete['Class'] = ''\n",
        "\n",
        "for index, rows in complete.iterrows():\n",
        "  salary = complete.at[index,'Salary']\n",
        "  #low tier players with salary under 10 mil\n",
        "  if salary <= 10:\n",
        "    complete.at[index, 'Class'] = 0\n",
        "  elif salary > 10 and salary <=25:\n",
        "    #middle tier players with salary between 10-25 mil\n",
        "    complete.at[index, 'Class'] = 1\n",
        "  else:\n",
        "    #star players with salary over 25 mil\n",
        "    complete.at[index, 'Class'] = 2"
      ],
      "metadata": {
        "id": "jA6bQD4Xey08"
      },
      "execution_count": 512,
      "outputs": []
    },
    {
      "cell_type": "code",
      "source": [
        "#the count of each class in the dataset before splitting\n",
        "complete['Class'].value_counts()"
      ],
      "metadata": {
        "colab": {
          "base_uri": "https://localhost:8080/"
        },
        "id": "Bo0qnBa2f5Sf",
        "outputId": "5f0ec7b0-c6cb-4443-d9ff-54c5109b8f75"
      },
      "execution_count": 513,
      "outputs": [
        {
          "output_type": "execute_result",
          "data": {
            "text/plain": [
              "0    312\n",
              "1     86\n",
              "2     52\n",
              "Name: Class, dtype: int64"
            ]
          },
          "metadata": {},
          "execution_count": 513
        }
      ]
    },
    {
      "cell_type": "markdown",
      "source": [
        "Before splitting into train-test, we need to drop outliers that have been identified such as Kyle Lowry, John Wall, Gordon Hayward, and Ben Simmons. These are players who have all severly fallen off after receiving max contracts and should not appear in the training set."
      ],
      "metadata": {
        "id": "x98iXcyWUtF8"
      }
    },
    {
      "cell_type": "code",
      "source": [
        "#need to remove john wall, Gordon Hayward, Ben Simmons from the training set"
      ],
      "metadata": {
        "id": "Lck7JFTrWouq"
      },
      "execution_count": 514,
      "outputs": []
    },
    {
      "cell_type": "code",
      "source": [
        "need_to_remove = ['John Wall', 'Gordon Hayward', 'Ben Simmons']\n",
        "for player in need_to_remove:\n",
        "  complete = complete.drop(complete[complete['Player'] == player].index)"
      ],
      "metadata": {
        "id": "a0R1omXAVTiA"
      },
      "execution_count": 515,
      "outputs": []
    },
    {
      "cell_type": "code",
      "source": [
        "print(list(complete['Player']))"
      ],
      "metadata": {
        "colab": {
          "base_uri": "https://localhost:8080/"
        },
        "id": "2acfODX4Vwtm",
        "outputId": "6a3ae72e-c867-4ed2-af07-85e07383800f"
      },
      "execution_count": 516,
      "outputs": [
        {
          "output_type": "stream",
          "name": "stdout",
          "text": [
            "['Precious Achiuwa', 'Steven Adams', 'Bam Adebayo', 'Ochai Agbaji', 'Santi Aldama', 'Nickeil Alexander-Walker', 'Grayson Allen', 'Jarrett Allen', 'Jose Alvarado', 'Kyle Anderson', 'Giannis Antetokounmpo', 'Thanasis Antetokounmpo', 'Cole Anthony', 'OG Anunoby', 'Ryan Arcidiacono', 'Deni Avdija', 'Deandre Ayton', 'Udoka Azubuike', 'Marvin Bagley III', 'Patrick Baldwin Jr.', 'LaMelo Ball', 'Mo Bamba', 'Paolo Banchero', 'Desmond Bane', 'Dalano Banton', 'Dominick Barlow', 'Harrison Barnes', 'Scottie Barnes', 'RJ Barrett', 'Will Barton', 'Charles Bassey', 'Keita Bates-Diop', 'Nicolas Batum', 'Darius Bazley', 'Bradley Beal', 'Malik Beasley', 'MarJon Beauchamp', 'Dāvis Bertāns', 'Patrick Beverley', 'Saddiq Bey', 'Khem Birch', 'Goga Bitadze', 'Bismack Biyombo', 'Bogdan Bogdanović', 'Bojan Bogdanović', 'Bol Bol', 'Devin Booker', 'Brandon Boston Jr.', 'Chris Boucher', 'James Bouknight', 'Malaki Branham', 'Christian Braun', 'Mikal Bridges', 'Oshae Brissett', 'Malcolm Brogdon', 'Dillon Brooks', 'Bruce Brown', 'Greg Brown III', 'Jaylen Brown', 'Moses Brown', 'Troy Brown Jr.', 'Jalen Brunson', 'Thomas Bryant', 'Reggie Bullock', 'Alec Burks', 'Jimmy Butler', 'John Butler', 'Jamal Cain', 'Kentavious Caldwell-Pope', 'Vlatko Čančar', 'Clint Capela', 'Jevon Carter', 'Wendell Carter Jr.', 'Alex Caruso', 'Julian Champagnie', 'Kennedy Chandler', 'Max Christie', 'Josh Christopher', 'Brandon Clarke', 'Jordan Clarkson', 'Nic Claxton', 'Amir Coffey', 'John Collins', 'Zach Collins', 'Mike Conley', 'Pat Connaughton', 'Robert Covington', 'Torrey Craig', 'Jae Crowder', 'Seth Curry', 'Stephen Curry', 'Dyson Daniels', 'Anthony Davis', 'Johnny Davis', 'Terence Davis', 'Dewayne Dedmon', 'Matthew Dellavedova', 'DeMar DeRozan', 'Moussa Diabaté', 'Mamadi Diakite', 'Hamidou Diallo', 'Gorgui Dieng', 'Ousmane Dieng', 'Spencer Dinwiddie', 'Donte DiVincenzo', 'Luka Dončić', 'Luguentz Dort', 'Ayo Dosunmu', 'Jeff Dowtin', 'PJ Dozier', 'Goran Dragić', 'Andre Drummond', 'Chris Duarte', 'David Duke Jr.', 'Kris Dunn', 'Kevin Durant', 'Jalen Duren', 'Tari Eason', 'Anthony Edwards', 'Kessler Edwards', 'Keon Ellis', 'Joel Embiid', 'Drew Eubanks', 'Bruno Fernando', 'Dorian Finney-Smith', 'Malachi Flynn', 'Simone Fontecchio', 'Bryn Forbes', 'Trent Forrest', 'Evan Fournier', \"De'Aaron Fox\", 'Markelle Fultz', 'Wenyen Gabriel', 'Daniel Gafford', 'Darius Garland', 'Usman Garuba', 'Luka Garza', 'Rudy Gay', 'Paul George', 'Taj Gibson', 'Josh Giddey', 'Shai Gilgeous-Alexander', 'Anthony Gill', 'Rudy Gobert', 'Jordan Goodwin', 'Aaron Gordon', 'Eric Gordon', \"Devonte' Graham\", 'Jerami Grant', 'A.J. Green', 'Draymond Green', 'Jalen Green', 'JaMychal Green', 'Javonte Green', 'Jeff Green', 'Josh Green', 'AJ Griffin', 'Blake Griffin', 'Quentin Grimes', 'Rui Hachimura', 'Tyrese Haliburton', 'R.J. Hampton', 'Tim Hardaway Jr.', 'James Harden', 'Jaden Hardy', 'Montrezl Harrell', 'Gary Harris', 'Joe Harris', 'Kevon Harris', 'Tobias Harris', 'Josh Hart', 'Isaiah Hartenstein', 'Sam Hauser', 'Jaxson Hayes', 'Killian Hayes', 'Juancho Hernangómez', 'Willy Hernangómez', 'Tyler Herro', 'Buddy Hield', 'Haywood Highsmith', 'George Hill', 'Aaron Holiday', 'Jrue Holiday', 'Justin Holiday', 'Richaun Holmes', 'Al Horford', 'Talen Horton-Tucker', 'Danuel House Jr.', 'Caleb Houstan', 'Kevin Huerter', \"De'Andre Hunter\", 'Bones Hyland', 'Serge Ibaka', 'Joe Ingles', 'Brandon Ingram', 'Kyrie Irving', 'Jaden Ivey', 'Isaiah Jackson', 'Jaren Jackson Jr.', 'Justin Jackson', 'Reggie Jackson', 'LeBron James', 'Ty Jerome', 'Isaiah Joe', 'Cameron Johnson', 'Jalen Johnson', 'James Johnson', 'Keldon Johnson', 'Keon Johnson', 'Stanley Johnson', 'Nikola Jokić', 'Damian Jones', 'Derrick Jones Jr.', 'Herbert Jones', 'Kai Jones', 'Tre Jones', 'Tyus Jones', 'DeAndre Jordan', 'Cory Joseph', 'Johnny Juzang', 'Frank Kaminsky', 'Luke Kennard', 'Walker Kessler', 'Corey Kispert', 'Maxi Kleber', 'Nathan Knight', 'Kevin Knox', 'Christian Koloko', 'John Konchar', 'Furkan Korkmaz', 'Luke Kornet', 'Vit Krejci', 'Jonathan Kuminga', 'Kyle Kuzma', 'Anthony Lamb', 'Jock Landale', 'Romeo Langford', 'Jake LaRavia', 'Zach LaVine', 'Damion Lee', 'Saben Lee', 'Alex Len', 'Kawhi Leonard', 'Caris LeVert', 'Kira Lewis Jr.', 'Damian Lillard', 'Nassir Little', 'Isaiah Livers', 'Kenneth Lofton Jr.', 'Kevon Looney', 'Brook Lopez', 'Robin Lopez', 'Kevin Love', 'Kyle Lowry', 'Trey Lyles', 'Théo Maledon', 'Sandro Mamukelashvili', 'Terance Mann', 'Tre Mann', 'Boban Marjanović', 'Lauri Markkanen', 'Naji Marshall', 'Caleb Martin', 'Kenyon Martin Jr.', 'Tyrese Martin', 'Garrison Mathews', 'Bennedict Mathurin', 'Wesley Matthews', 'Tyrese Maxey', 'Miles McBride', 'CJ McCollum', 'T.J. McConnell', 'Jaden McDaniels', 'Jalen McDaniels', 'Doug McDermott', 'JaVale McGee', 'Bryce McGowens', 'Rodney McGruder', 'Jordan McLaughlin', \"De'Anthony Melton\", 'Chimezie Metu', 'Khris Middleton', 'Patty Mills', 'Shake Milton', 'Davion Mitchell', 'Donovan Mitchell', 'Evan Mobley', 'Malik Monk', 'Moses Moody', 'Wendell Moore Jr.', 'Ja Morant', 'Marcus Morris', 'Markieff Morris', 'Monte Morris', 'Trey Murphy III', 'Dejounte Murray', 'Jamal Murray', 'Keegan Murray', 'Mike Muscala', 'Svi Mykhailiuk', 'Larry Nance Jr.', 'Andrew Nembhard', 'Aaron Nesmith', 'Raul Neto', 'Georges Niang', 'Daishen Nix', 'Zeke Nnaji', 'Nerlens Noel', 'Jaylen Nowell', 'Frank Ntilikina', 'Kendrick Nunn', 'Jusuf Nurkić', 'Jordan Nwora', \"Royce O'Neale\", 'Chuma Okeke', 'Josh Okogie', 'Onyeka Okongwu', 'Isaac Okoro', 'KZ Okpala', 'Victor Oladipo', 'Kelly Olynyk', 'Eugene Omoruyi', 'Cedi Osman', 'Kelly Oubre Jr.', 'Chris Paul', 'Cameron Payne', 'Gary Payton II', 'Theo Pinson', 'Mason Plumlee', 'Jakob Poeltl', 'Aleksej Pokusevski', 'Jordan Poole', 'Kevin Porter Jr.', 'Michael Porter Jr.', 'Bobby Portis', 'Kristaps Porziņģis', 'Dwight Powell', 'Norman Powell', 'Taurean Prince', 'Payton Pritchard', 'Immanuel Quickley', 'Julius Randle', 'Austin Reaves', 'Cam Reddish', 'Davon Reed', 'Paul Reed', 'Naz Reid', 'Nick Richards', 'Josh Richardson', 'Austin Rivers', 'Duncan Robinson', 'Mitchell Robinson', 'Orlando Robinson', 'Jeremiah Robinson-Earl', 'Isaiah Roby', 'David Roddy', 'Derrick Rose', 'Terrence Ross', 'Terry Rozier', 'Ricky Rubio', \"D'Angelo Russell\", 'Matt Ryan', 'Domantas Sabonis', 'Dario Šarić', 'Admiral Schofield', 'Dennis Schröder', 'Alperen Şengün', 'Collin Sexton', 'Landry Shamet', \"Day'Ron Sharpe\", 'Shaedon Sharpe', 'Pascal Siakam', 'Anfernee Simons', 'Jericho Sims', 'Marcus Smart', 'Dennis Smith Jr.', 'Ish Smith', 'Jabari Smith Jr.', 'Jalen Smith', 'Jeremy Sochan', 'Jaden Springer', 'Lamar Stevens', 'Isaiah Stewart', 'Max Strus', 'Jalen Suggs', 'Edmond Sumner', \"Jae'Sean Tate\", 'Jayson Tatum', 'Terry Taylor', 'Garrett Temple', 'Dalen Terry', 'Cam Thomas', 'Klay Thompson', 'JT Thor', 'Matisse Thybulle', 'Xavier Tillman Sr.', 'Obi Toppin', 'Juan Toscano-Anderson', 'Karl-Anthony Towns', 'Gary Trent Jr.', 'P.J. Tucker', 'Myles Turner', 'Jonas Valančiūnas', 'Jarred Vanderbilt', 'Fred VanVleet', 'Devin Vassell', 'Gabe Vincent', 'Noah Vonleh', 'Nikola Vučević', 'Dean Wade', 'Franz Wagner', 'Moritz Wagner', 'Ish Wainright', 'Jabari Walker', 'Lonnie Walker IV', 'T.J. Warren', 'Duane Washington Jr.', 'P.J. Washington', 'TyTy Washington Jr.', 'Yuta Watanabe', 'Lindy Waters III', 'Trendon Watford', 'Peyton Watson', 'Blake Wesley', 'Russell Westbrook', 'Coby White', 'Derrick White', 'Jack White', 'Aaron Wiggins', 'Andrew Wiggins', 'Grant Williams', 'Jalen Williams', 'Jaylin Williams', 'Kenrich Williams', 'Mark Williams', 'Patrick Williams', 'Robert Williams', 'Ziaire Williams', 'Zion Williamson', 'Justise Winslow', 'James Wiseman', 'Christian Wood', 'Delon Wright', 'McKinley Wright IV', 'Thaddeus Young', 'Trae Young', 'Ivica Zubac']\n"
          ]
        }
      ]
    },
    {
      "cell_type": "code",
      "source": [
        "from sklearn.model_selection import train_test_split, cross_val_score"
      ],
      "metadata": {
        "id": "JPVKvV4fgh5e"
      },
      "execution_count": 517,
      "outputs": []
    },
    {
      "cell_type": "code",
      "source": [
        "#one hot encode position\n",
        "dummies = pd.get_dummies(complete['Pos'], prefix = 'Pos')"
      ],
      "metadata": {
        "id": "XCQMh0ZioQ2W"
      },
      "execution_count": 518,
      "outputs": []
    },
    {
      "cell_type": "code",
      "source": [
        "dummies.head(3)"
      ],
      "metadata": {
        "colab": {
          "base_uri": "https://localhost:8080/",
          "height": 143
        },
        "id": "xQejVh7po9l-",
        "outputId": "ce6989f8-c787-4102-a825-ca5f158f7604"
      },
      "execution_count": 519,
      "outputs": [
        {
          "output_type": "execute_result",
          "data": {
            "text/plain": [
              "   Pos_C  Pos_PF  Pos_PG  Pos_SF  Pos_SG\n",
              "0      1       0       0       0       0\n",
              "1      1       0       0       0       0\n",
              "2      1       0       0       0       0"
            ],
            "text/html": [
              "\n",
              "  <div id=\"df-6cbda390-0122-4bb8-abfe-f218d7556e89\">\n",
              "    <div class=\"colab-df-container\">\n",
              "      <div>\n",
              "<style scoped>\n",
              "    .dataframe tbody tr th:only-of-type {\n",
              "        vertical-align: middle;\n",
              "    }\n",
              "\n",
              "    .dataframe tbody tr th {\n",
              "        vertical-align: top;\n",
              "    }\n",
              "\n",
              "    .dataframe thead th {\n",
              "        text-align: right;\n",
              "    }\n",
              "</style>\n",
              "<table border=\"1\" class=\"dataframe\">\n",
              "  <thead>\n",
              "    <tr style=\"text-align: right;\">\n",
              "      <th></th>\n",
              "      <th>Pos_C</th>\n",
              "      <th>Pos_PF</th>\n",
              "      <th>Pos_PG</th>\n",
              "      <th>Pos_SF</th>\n",
              "      <th>Pos_SG</th>\n",
              "    </tr>\n",
              "  </thead>\n",
              "  <tbody>\n",
              "    <tr>\n",
              "      <th>0</th>\n",
              "      <td>1</td>\n",
              "      <td>0</td>\n",
              "      <td>0</td>\n",
              "      <td>0</td>\n",
              "      <td>0</td>\n",
              "    </tr>\n",
              "    <tr>\n",
              "      <th>1</th>\n",
              "      <td>1</td>\n",
              "      <td>0</td>\n",
              "      <td>0</td>\n",
              "      <td>0</td>\n",
              "      <td>0</td>\n",
              "    </tr>\n",
              "    <tr>\n",
              "      <th>2</th>\n",
              "      <td>1</td>\n",
              "      <td>0</td>\n",
              "      <td>0</td>\n",
              "      <td>0</td>\n",
              "      <td>0</td>\n",
              "    </tr>\n",
              "  </tbody>\n",
              "</table>\n",
              "</div>\n",
              "      <button class=\"colab-df-convert\" onclick=\"convertToInteractive('df-6cbda390-0122-4bb8-abfe-f218d7556e89')\"\n",
              "              title=\"Convert this dataframe to an interactive table.\"\n",
              "              style=\"display:none;\">\n",
              "        \n",
              "  <svg xmlns=\"http://www.w3.org/2000/svg\" height=\"24px\"viewBox=\"0 0 24 24\"\n",
              "       width=\"24px\">\n",
              "    <path d=\"M0 0h24v24H0V0z\" fill=\"none\"/>\n",
              "    <path d=\"M18.56 5.44l.94 2.06.94-2.06 2.06-.94-2.06-.94-.94-2.06-.94 2.06-2.06.94zm-11 1L8.5 8.5l.94-2.06 2.06-.94-2.06-.94L8.5 2.5l-.94 2.06-2.06.94zm10 10l.94 2.06.94-2.06 2.06-.94-2.06-.94-.94-2.06-.94 2.06-2.06.94z\"/><path d=\"M17.41 7.96l-1.37-1.37c-.4-.4-.92-.59-1.43-.59-.52 0-1.04.2-1.43.59L10.3 9.45l-7.72 7.72c-.78.78-.78 2.05 0 2.83L4 21.41c.39.39.9.59 1.41.59.51 0 1.02-.2 1.41-.59l7.78-7.78 2.81-2.81c.8-.78.8-2.07 0-2.86zM5.41 20L4 18.59l7.72-7.72 1.47 1.35L5.41 20z\"/>\n",
              "  </svg>\n",
              "      </button>\n",
              "      \n",
              "  <style>\n",
              "    .colab-df-container {\n",
              "      display:flex;\n",
              "      flex-wrap:wrap;\n",
              "      gap: 12px;\n",
              "    }\n",
              "\n",
              "    .colab-df-convert {\n",
              "      background-color: #E8F0FE;\n",
              "      border: none;\n",
              "      border-radius: 50%;\n",
              "      cursor: pointer;\n",
              "      display: none;\n",
              "      fill: #1967D2;\n",
              "      height: 32px;\n",
              "      padding: 0 0 0 0;\n",
              "      width: 32px;\n",
              "    }\n",
              "\n",
              "    .colab-df-convert:hover {\n",
              "      background-color: #E2EBFA;\n",
              "      box-shadow: 0px 1px 2px rgba(60, 64, 67, 0.3), 0px 1px 3px 1px rgba(60, 64, 67, 0.15);\n",
              "      fill: #174EA6;\n",
              "    }\n",
              "\n",
              "    [theme=dark] .colab-df-convert {\n",
              "      background-color: #3B4455;\n",
              "      fill: #D2E3FC;\n",
              "    }\n",
              "\n",
              "    [theme=dark] .colab-df-convert:hover {\n",
              "      background-color: #434B5C;\n",
              "      box-shadow: 0px 1px 3px 1px rgba(0, 0, 0, 0.15);\n",
              "      filter: drop-shadow(0px 1px 2px rgba(0, 0, 0, 0.3));\n",
              "      fill: #FFFFFF;\n",
              "    }\n",
              "  </style>\n",
              "\n",
              "      <script>\n",
              "        const buttonEl =\n",
              "          document.querySelector('#df-6cbda390-0122-4bb8-abfe-f218d7556e89 button.colab-df-convert');\n",
              "        buttonEl.style.display =\n",
              "          google.colab.kernel.accessAllowed ? 'block' : 'none';\n",
              "\n",
              "        async function convertToInteractive(key) {\n",
              "          const element = document.querySelector('#df-6cbda390-0122-4bb8-abfe-f218d7556e89');\n",
              "          const dataTable =\n",
              "            await google.colab.kernel.invokeFunction('convertToInteractive',\n",
              "                                                     [key], {});\n",
              "          if (!dataTable) return;\n",
              "\n",
              "          const docLinkHtml = 'Like what you see? Visit the ' +\n",
              "            '<a target=\"_blank\" href=https://colab.research.google.com/notebooks/data_table.ipynb>data table notebook</a>'\n",
              "            + ' to learn more about interactive tables.';\n",
              "          element.innerHTML = '';\n",
              "          dataTable['output_type'] = 'display_data';\n",
              "          await google.colab.output.renderOutput(dataTable, element);\n",
              "          const docLink = document.createElement('div');\n",
              "          docLink.innerHTML = docLinkHtml;\n",
              "          element.appendChild(docLink);\n",
              "        }\n",
              "      </script>\n",
              "    </div>\n",
              "  </div>\n",
              "  "
            ]
          },
          "metadata": {},
          "execution_count": 519
        }
      ]
    },
    {
      "cell_type": "code",
      "source": [
        "#concat the one-hot encoded columns and drop the original Pos column\n",
        "complete = pd.concat([complete,dummies], axis = 1)\n",
        "complete = complete.drop(columns = ['Pos'], axis = 1)"
      ],
      "metadata": {
        "id": "HKIujCcUpg7s"
      },
      "execution_count": 520,
      "outputs": []
    },
    {
      "cell_type": "code",
      "source": [
        "#check that this worked\n",
        "complete.head(5)"
      ],
      "metadata": {
        "colab": {
          "base_uri": "https://localhost:8080/",
          "height": 386
        },
        "id": "cSDrSrjrppb_",
        "outputId": "1ab6ae9c-db91-4ef5-c3b6-0ae4301be48e"
      },
      "execution_count": 521,
      "outputs": [
        {
          "output_type": "execute_result",
          "data": {
            "text/plain": [
              "             Player  Age   Tm   G  GS    MP   FG   FGA    FG%   3P  ...  \\\n",
              "0  Precious Achiuwa   23  TOR  55  12  20.7  3.6   7.3  0.485  0.5  ...   \n",
              "1      Steven Adams   29  MEM  42  42  27.0  3.7   6.3  0.597  0.0  ...   \n",
              "2       Bam Adebayo   25  MIA  75  75  34.6  8.0  14.9  0.540  0.0  ...   \n",
              "3      Ochai Agbaji   22  UTA  59  22  20.5  2.8   6.5  0.427  1.4  ...   \n",
              "4      Santi Aldama   22  MEM  77  20  21.8  3.2   6.8  0.470  1.2  ...   \n",
              "\n",
              "   PTs_per_36  PF_per_dplay    FG_TOV     two_way  Class  Pos_C  Pos_PF  \\\n",
              "0   16.000000      1.727273  3.727273   38.690909      0      1       0   \n",
              "1   11.466667      1.150000  1.947368   87.500000      1      1       0   \n",
              "2   21.225434      1.400000  3.200000  101.840000      2      1       0   \n",
              "3   13.873171      2.833333  6.000000    6.440678      0      0       0   \n",
              "4   14.862385      1.583333  5.500000   43.324675      0      0       1   \n",
              "\n",
              "   Pos_PG  Pos_SF  Pos_SG  \n",
              "0       0       0       0  \n",
              "1       0       0       0  \n",
              "2       0       0       0  \n",
              "3       0       0       1  \n",
              "4       0       0       0  \n",
              "\n",
              "[5 rows x 68 columns]"
            ],
            "text/html": [
              "\n",
              "  <div id=\"df-7f1bfd59-2e20-4ec2-922f-707877fde304\">\n",
              "    <div class=\"colab-df-container\">\n",
              "      <div>\n",
              "<style scoped>\n",
              "    .dataframe tbody tr th:only-of-type {\n",
              "        vertical-align: middle;\n",
              "    }\n",
              "\n",
              "    .dataframe tbody tr th {\n",
              "        vertical-align: top;\n",
              "    }\n",
              "\n",
              "    .dataframe thead th {\n",
              "        text-align: right;\n",
              "    }\n",
              "</style>\n",
              "<table border=\"1\" class=\"dataframe\">\n",
              "  <thead>\n",
              "    <tr style=\"text-align: right;\">\n",
              "      <th></th>\n",
              "      <th>Player</th>\n",
              "      <th>Age</th>\n",
              "      <th>Tm</th>\n",
              "      <th>G</th>\n",
              "      <th>GS</th>\n",
              "      <th>MP</th>\n",
              "      <th>FG</th>\n",
              "      <th>FGA</th>\n",
              "      <th>FG%</th>\n",
              "      <th>3P</th>\n",
              "      <th>...</th>\n",
              "      <th>PTs_per_36</th>\n",
              "      <th>PF_per_dplay</th>\n",
              "      <th>FG_TOV</th>\n",
              "      <th>two_way</th>\n",
              "      <th>Class</th>\n",
              "      <th>Pos_C</th>\n",
              "      <th>Pos_PF</th>\n",
              "      <th>Pos_PG</th>\n",
              "      <th>Pos_SF</th>\n",
              "      <th>Pos_SG</th>\n",
              "    </tr>\n",
              "  </thead>\n",
              "  <tbody>\n",
              "    <tr>\n",
              "      <th>0</th>\n",
              "      <td>Precious Achiuwa</td>\n",
              "      <td>23</td>\n",
              "      <td>TOR</td>\n",
              "      <td>55</td>\n",
              "      <td>12</td>\n",
              "      <td>20.7</td>\n",
              "      <td>3.6</td>\n",
              "      <td>7.3</td>\n",
              "      <td>0.485</td>\n",
              "      <td>0.5</td>\n",
              "      <td>...</td>\n",
              "      <td>16.000000</td>\n",
              "      <td>1.727273</td>\n",
              "      <td>3.727273</td>\n",
              "      <td>38.690909</td>\n",
              "      <td>0</td>\n",
              "      <td>1</td>\n",
              "      <td>0</td>\n",
              "      <td>0</td>\n",
              "      <td>0</td>\n",
              "      <td>0</td>\n",
              "    </tr>\n",
              "    <tr>\n",
              "      <th>1</th>\n",
              "      <td>Steven Adams</td>\n",
              "      <td>29</td>\n",
              "      <td>MEM</td>\n",
              "      <td>42</td>\n",
              "      <td>42</td>\n",
              "      <td>27.0</td>\n",
              "      <td>3.7</td>\n",
              "      <td>6.3</td>\n",
              "      <td>0.597</td>\n",
              "      <td>0.0</td>\n",
              "      <td>...</td>\n",
              "      <td>11.466667</td>\n",
              "      <td>1.150000</td>\n",
              "      <td>1.947368</td>\n",
              "      <td>87.500000</td>\n",
              "      <td>1</td>\n",
              "      <td>1</td>\n",
              "      <td>0</td>\n",
              "      <td>0</td>\n",
              "      <td>0</td>\n",
              "      <td>0</td>\n",
              "    </tr>\n",
              "    <tr>\n",
              "      <th>2</th>\n",
              "      <td>Bam Adebayo</td>\n",
              "      <td>25</td>\n",
              "      <td>MIA</td>\n",
              "      <td>75</td>\n",
              "      <td>75</td>\n",
              "      <td>34.6</td>\n",
              "      <td>8.0</td>\n",
              "      <td>14.9</td>\n",
              "      <td>0.540</td>\n",
              "      <td>0.0</td>\n",
              "      <td>...</td>\n",
              "      <td>21.225434</td>\n",
              "      <td>1.400000</td>\n",
              "      <td>3.200000</td>\n",
              "      <td>101.840000</td>\n",
              "      <td>2</td>\n",
              "      <td>1</td>\n",
              "      <td>0</td>\n",
              "      <td>0</td>\n",
              "      <td>0</td>\n",
              "      <td>0</td>\n",
              "    </tr>\n",
              "    <tr>\n",
              "      <th>3</th>\n",
              "      <td>Ochai Agbaji</td>\n",
              "      <td>22</td>\n",
              "      <td>UTA</td>\n",
              "      <td>59</td>\n",
              "      <td>22</td>\n",
              "      <td>20.5</td>\n",
              "      <td>2.8</td>\n",
              "      <td>6.5</td>\n",
              "      <td>0.427</td>\n",
              "      <td>1.4</td>\n",
              "      <td>...</td>\n",
              "      <td>13.873171</td>\n",
              "      <td>2.833333</td>\n",
              "      <td>6.000000</td>\n",
              "      <td>6.440678</td>\n",
              "      <td>0</td>\n",
              "      <td>0</td>\n",
              "      <td>0</td>\n",
              "      <td>0</td>\n",
              "      <td>0</td>\n",
              "      <td>1</td>\n",
              "    </tr>\n",
              "    <tr>\n",
              "      <th>4</th>\n",
              "      <td>Santi Aldama</td>\n",
              "      <td>22</td>\n",
              "      <td>MEM</td>\n",
              "      <td>77</td>\n",
              "      <td>20</td>\n",
              "      <td>21.8</td>\n",
              "      <td>3.2</td>\n",
              "      <td>6.8</td>\n",
              "      <td>0.470</td>\n",
              "      <td>1.2</td>\n",
              "      <td>...</td>\n",
              "      <td>14.862385</td>\n",
              "      <td>1.583333</td>\n",
              "      <td>5.500000</td>\n",
              "      <td>43.324675</td>\n",
              "      <td>0</td>\n",
              "      <td>0</td>\n",
              "      <td>1</td>\n",
              "      <td>0</td>\n",
              "      <td>0</td>\n",
              "      <td>0</td>\n",
              "    </tr>\n",
              "  </tbody>\n",
              "</table>\n",
              "<p>5 rows × 68 columns</p>\n",
              "</div>\n",
              "      <button class=\"colab-df-convert\" onclick=\"convertToInteractive('df-7f1bfd59-2e20-4ec2-922f-707877fde304')\"\n",
              "              title=\"Convert this dataframe to an interactive table.\"\n",
              "              style=\"display:none;\">\n",
              "        \n",
              "  <svg xmlns=\"http://www.w3.org/2000/svg\" height=\"24px\"viewBox=\"0 0 24 24\"\n",
              "       width=\"24px\">\n",
              "    <path d=\"M0 0h24v24H0V0z\" fill=\"none\"/>\n",
              "    <path d=\"M18.56 5.44l.94 2.06.94-2.06 2.06-.94-2.06-.94-.94-2.06-.94 2.06-2.06.94zm-11 1L8.5 8.5l.94-2.06 2.06-.94-2.06-.94L8.5 2.5l-.94 2.06-2.06.94zm10 10l.94 2.06.94-2.06 2.06-.94-2.06-.94-.94-2.06-.94 2.06-2.06.94z\"/><path d=\"M17.41 7.96l-1.37-1.37c-.4-.4-.92-.59-1.43-.59-.52 0-1.04.2-1.43.59L10.3 9.45l-7.72 7.72c-.78.78-.78 2.05 0 2.83L4 21.41c.39.39.9.59 1.41.59.51 0 1.02-.2 1.41-.59l7.78-7.78 2.81-2.81c.8-.78.8-2.07 0-2.86zM5.41 20L4 18.59l7.72-7.72 1.47 1.35L5.41 20z\"/>\n",
              "  </svg>\n",
              "      </button>\n",
              "      \n",
              "  <style>\n",
              "    .colab-df-container {\n",
              "      display:flex;\n",
              "      flex-wrap:wrap;\n",
              "      gap: 12px;\n",
              "    }\n",
              "\n",
              "    .colab-df-convert {\n",
              "      background-color: #E8F0FE;\n",
              "      border: none;\n",
              "      border-radius: 50%;\n",
              "      cursor: pointer;\n",
              "      display: none;\n",
              "      fill: #1967D2;\n",
              "      height: 32px;\n",
              "      padding: 0 0 0 0;\n",
              "      width: 32px;\n",
              "    }\n",
              "\n",
              "    .colab-df-convert:hover {\n",
              "      background-color: #E2EBFA;\n",
              "      box-shadow: 0px 1px 2px rgba(60, 64, 67, 0.3), 0px 1px 3px 1px rgba(60, 64, 67, 0.15);\n",
              "      fill: #174EA6;\n",
              "    }\n",
              "\n",
              "    [theme=dark] .colab-df-convert {\n",
              "      background-color: #3B4455;\n",
              "      fill: #D2E3FC;\n",
              "    }\n",
              "\n",
              "    [theme=dark] .colab-df-convert:hover {\n",
              "      background-color: #434B5C;\n",
              "      box-shadow: 0px 1px 3px 1px rgba(0, 0, 0, 0.15);\n",
              "      filter: drop-shadow(0px 1px 2px rgba(0, 0, 0, 0.3));\n",
              "      fill: #FFFFFF;\n",
              "    }\n",
              "  </style>\n",
              "\n",
              "      <script>\n",
              "        const buttonEl =\n",
              "          document.querySelector('#df-7f1bfd59-2e20-4ec2-922f-707877fde304 button.colab-df-convert');\n",
              "        buttonEl.style.display =\n",
              "          google.colab.kernel.accessAllowed ? 'block' : 'none';\n",
              "\n",
              "        async function convertToInteractive(key) {\n",
              "          const element = document.querySelector('#df-7f1bfd59-2e20-4ec2-922f-707877fde304');\n",
              "          const dataTable =\n",
              "            await google.colab.kernel.invokeFunction('convertToInteractive',\n",
              "                                                     [key], {});\n",
              "          if (!dataTable) return;\n",
              "\n",
              "          const docLinkHtml = 'Like what you see? Visit the ' +\n",
              "            '<a target=\"_blank\" href=https://colab.research.google.com/notebooks/data_table.ipynb>data table notebook</a>'\n",
              "            + ' to learn more about interactive tables.';\n",
              "          element.innerHTML = '';\n",
              "          dataTable['output_type'] = 'display_data';\n",
              "          await google.colab.output.renderOutput(dataTable, element);\n",
              "          const docLink = document.createElement('div');\n",
              "          docLink.innerHTML = docLinkHtml;\n",
              "          element.appendChild(docLink);\n",
              "        }\n",
              "      </script>\n",
              "    </div>\n",
              "  </div>\n",
              "  "
            ]
          },
          "metadata": {},
          "execution_count": 521
        }
      ]
    },
    {
      "cell_type": "code",
      "source": [
        "#split into input features and target variable class\n",
        "X = complete.drop(columns = ['Salary', 'Class'], axis = 1)\n",
        "y = complete['Class']"
      ],
      "metadata": {
        "id": "jt_2Mwlsg9nf"
      },
      "execution_count": 522,
      "outputs": []
    },
    {
      "cell_type": "code",
      "source": [
        "X_train, X_test, y_train, y_test = train_test_split(X, y, random_state = 5, test_size=0.2, shuffle = True)"
      ],
      "metadata": {
        "id": "hCdTwQJwgteA"
      },
      "execution_count": 523,
      "outputs": []
    },
    {
      "cell_type": "code",
      "source": [
        "#X_train.loc[X_train['Class'] == 1]['Player']"
      ],
      "metadata": {
        "id": "YTSVvISUUxQ0"
      },
      "execution_count": 524,
      "outputs": []
    },
    {
      "cell_type": "code",
      "source": [
        "#drop the names column before proceeding\n",
        "names_train = list(X_train['Player'])\n",
        "X_train.drop(columns = ['Player', 'Tm'], axis = 1, inplace = True)\n",
        "names_test = list(X_test['Player'])\n",
        "X_test.drop(columns = ['Player', 'Tm'], axis = 1, inplace = True)"
      ],
      "metadata": {
        "id": "rKCEWHMuiCkP"
      },
      "execution_count": 525,
      "outputs": []
    },
    {
      "cell_type": "code",
      "source": [
        "print('Train:')\n",
        "print('train_features dimensions: ', X_train.shape)\n",
        "print('train_target dimensions: ', y_train.shape, '\\n')\n",
        "\n",
        "\n",
        "print('Test:')\n",
        "print('test_features dimensions: ', X_test.shape)\n",
        "print('test_target dimensions: ', y_test.shape)"
      ],
      "metadata": {
        "colab": {
          "base_uri": "https://localhost:8080/"
        },
        "id": "8zUD_NjhM8j1",
        "outputId": "0b3eaac5-ca8d-4094-f226-0c9826795628"
      },
      "execution_count": 526,
      "outputs": [
        {
          "output_type": "stream",
          "name": "stdout",
          "text": [
            "Train:\n",
            "train_features dimensions:  (357, 64)\n",
            "train_target dimensions:  (357,) \n",
            "\n",
            "Test:\n",
            "test_features dimensions:  (90, 64)\n",
            "test_target dimensions:  (90,)\n"
          ]
        }
      ]
    },
    {
      "cell_type": "code",
      "source": [
        "import numpy as np\n",
        "#the labels need to be in the format\n",
        "#of int32 to be used by TF\n",
        "\n",
        "y_train = y_train.astype(np.int32)\n",
        "y_test = y_test.astype(np.int32)"
      ],
      "metadata": {
        "id": "LaRlrAEwssYf"
      },
      "execution_count": 527,
      "outputs": []
    },
    {
      "cell_type": "markdown",
      "source": [
        "# Neural Network 1\n",
        "*   64 Input features\n",
        "*   30 Neurons, ReLu Activation\n",
        "*   60 Neurons, ReLu Activation\n",
        "*   60 Neurons, ReLu Activation\n",
        "*   60 Neurons, ReLu Activation\n",
        "*   30 Neurons, ReLu Activation\n",
        "*   3 Neurons, Softmax Activation \n",
        "\n",
        "\n",
        "\n",
        "*   15 Epochs, Adam Optimization\n",
        "\n",
        "\n",
        "\n",
        "\n",
        "\n",
        "\n",
        "\n",
        "\n"
      ],
      "metadata": {
        "id": "omGmFQ0lvfF9"
      }
    },
    {
      "cell_type": "code",
      "source": [
        "#build the neural network\n",
        "\n",
        "import tensorflow as tf\n",
        "from tensorflow import keras\n",
        "tf.random.set_seed(5)\n",
        "\n",
        "nn = tf.keras.models.Sequential()\n",
        "nn.add(tf.keras.Input(shape=(64,)))\n",
        "nn.add(tf.keras.layers.Dense(30, activation='relu'))\n",
        "nn.add(tf.keras.layers.Dense(60, activation='relu'))\n",
        "nn.add(tf.keras.layers.Dense(60, activation='relu'))\n",
        "nn.add(tf.keras.layers.Dense(60, activation='relu'))\n",
        "nn.add(tf.keras.layers.Dense(30, activation='relu'))\n",
        "nn.add(tf.keras.layers.Dense(3, activation='softmax'))\n",
        "\n",
        "#use Sparse Categorical Crossentropy loss function since we\n",
        "#are building a multiclass classifier\n",
        "\n",
        "nn.compile(\n",
        "   loss=tf.keras.losses.SparseCategoricalCrossentropy(),\n",
        "   optimizer=tf.keras.optimizers.Adam(),\n",
        "   metrics=\"accuracy\")\n",
        "\n",
        "nn_one = nn.fit(X_train, y_train, epochs= 15,validation_data=(X_test,y_test))"
      ],
      "metadata": {
        "colab": {
          "base_uri": "https://localhost:8080/"
        },
        "id": "w0XEriT8l0YT",
        "outputId": "0d6628d1-ed6e-4489-f88d-4c26cb82c98c"
      },
      "execution_count": 528,
      "outputs": [
        {
          "output_type": "stream",
          "name": "stdout",
          "text": [
            "Epoch 1/15\n",
            "12/12 [==============================] - 1s 27ms/step - loss: 1.2341 - accuracy: 0.5770 - val_loss: 0.7688 - val_accuracy: 0.7111\n",
            "Epoch 2/15\n",
            "12/12 [==============================] - 0s 6ms/step - loss: 0.6711 - accuracy: 0.7311 - val_loss: 0.5973 - val_accuracy: 0.7556\n",
            "Epoch 3/15\n",
            "12/12 [==============================] - 0s 6ms/step - loss: 0.6126 - accuracy: 0.7311 - val_loss: 0.5617 - val_accuracy: 0.7778\n",
            "Epoch 4/15\n",
            "12/12 [==============================] - 0s 7ms/step - loss: 0.5616 - accuracy: 0.7535 - val_loss: 0.5648 - val_accuracy: 0.7667\n",
            "Epoch 5/15\n",
            "12/12 [==============================] - 0s 7ms/step - loss: 0.5277 - accuracy: 0.7731 - val_loss: 0.5538 - val_accuracy: 0.8111\n",
            "Epoch 6/15\n",
            "12/12 [==============================] - 0s 7ms/step - loss: 0.5248 - accuracy: 0.7955 - val_loss: 0.5444 - val_accuracy: 0.8222\n",
            "Epoch 7/15\n",
            "12/12 [==============================] - 0s 7ms/step - loss: 0.4849 - accuracy: 0.8067 - val_loss: 0.5381 - val_accuracy: 0.8333\n",
            "Epoch 8/15\n",
            "12/12 [==============================] - 0s 6ms/step - loss: 0.4744 - accuracy: 0.7955 - val_loss: 0.5332 - val_accuracy: 0.8333\n",
            "Epoch 9/15\n",
            "12/12 [==============================] - 0s 9ms/step - loss: 0.4557 - accuracy: 0.8263 - val_loss: 0.6233 - val_accuracy: 0.8111\n",
            "Epoch 10/15\n",
            "12/12 [==============================] - 0s 9ms/step - loss: 0.4427 - accuracy: 0.8235 - val_loss: 0.5690 - val_accuracy: 0.8444\n",
            "Epoch 11/15\n",
            "12/12 [==============================] - 0s 7ms/step - loss: 0.3960 - accuracy: 0.8459 - val_loss: 0.5645 - val_accuracy: 0.8222\n",
            "Epoch 12/15\n",
            "12/12 [==============================] - 0s 8ms/step - loss: 0.4136 - accuracy: 0.8319 - val_loss: 0.6074 - val_accuracy: 0.8111\n",
            "Epoch 13/15\n",
            "12/12 [==============================] - 0s 7ms/step - loss: 0.4020 - accuracy: 0.8207 - val_loss: 0.5730 - val_accuracy: 0.8444\n",
            "Epoch 14/15\n",
            "12/12 [==============================] - 0s 7ms/step - loss: 0.3852 - accuracy: 0.8515 - val_loss: 0.6557 - val_accuracy: 0.8333\n",
            "Epoch 15/15\n",
            "12/12 [==============================] - 0s 7ms/step - loss: 0.3887 - accuracy: 0.8375 - val_loss: 0.5857 - val_accuracy: 0.8333\n"
          ]
        }
      ]
    },
    {
      "cell_type": "markdown",
      "source": [
        "Plotting "
      ],
      "metadata": {
        "id": "in9vuTqrwHzR"
      }
    },
    {
      "cell_type": "code",
      "source": [
        "from matplotlib import pyplot as plt\n",
        "\n",
        "plt.plot(nn_one.history['accuracy'], color = 'blue')\n",
        "plt.plot(nn_one.history['val_accuracy'], color = 'purple')\n",
        "plt.title('Neural Network Accuracy')\n",
        "plt.ylabel('accuracy')\n",
        "plt.xlabel('epoch')\n",
        "plt.legend(['Train Acc.', 'Test Acc.'], loc='upper left')\n",
        "plt.show()"
      ],
      "metadata": {
        "colab": {
          "base_uri": "https://localhost:8080/",
          "height": 472
        },
        "id": "PTW3o05NuD8N",
        "outputId": "c138e6d6-812f-4b04-cfcc-09f2fcd736bd"
      },
      "execution_count": 529,
      "outputs": [
        {
          "output_type": "display_data",
          "data": {
            "text/plain": [
              "<Figure size 640x480 with 1 Axes>"
            ],
            "image/png": "[encoded data removed]"
          },
          "metadata": {}
        }
      ]
    },
    {
      "cell_type": "code",
      "source": [
        "from sklearn.metrics import confusion_matrix\n",
        "\n",
        "# Assuming you have already trained your neural network and obtained predictions\n",
        "predictions = nn.predict(X_test)\n",
        "y_predicted = np.argmax(predictions, axis=1)  # Convert probabilities to class labels\n",
        "\n",
        "# Obtain the confusion matrix\n",
        "confusion = confusion_matrix(y_test, y_predicted)\n",
        "\n",
        "print(confusion)"
      ],
      "metadata": {
        "colab": {
          "base_uri": "https://localhost:8080/"
        },
        "id": "sq159BYPuxtX",
        "outputId": "3f7f4a8f-9490-4007-db16-7bb311135c90"
      },
      "execution_count": 531,
      "outputs": [
        {
          "output_type": "stream",
          "name": "stdout",
          "text": [
            "3/3 [==============================] - 0s 3ms/step\n",
            "[[59  4  0]\n",
            " [ 7  8  2]\n",
            " [ 2  0  8]]\n"
          ]
        }
      ]
    },
    {
      "cell_type": "code",
      "source": [
        "# Specify the file path and name to save the model\n",
        "#to colab and download on my pc\n",
        "\n",
        "nn.save('model.h5')"
      ],
      "metadata": {
        "id": "kCVW9h9TybG2"
      },
      "execution_count": 539,
      "outputs": []
    }
  ]
}