{
  "nbformat": 4,
  "nbformat_minor": 0,
  "metadata": {
    "colab": {
      "provenance": [],
      "authorship_tag": "ABX9TyNrAL2tH53W508tHPEAflkw",
      "include_colab_link": true
    },
    "kernelspec": {
      "name": "python3",
      "display_name": "Python 3"
    },
    "language_info": {
      "name": "python"
    }
  },
  "cells": [
    {
      "cell_type": "markdown",
      "metadata": {
        "id": "view-in-github",
        "colab_type": "text"
      },
      "source": [
        "<a href=\"https://colab.research.google.com/github/mnocerino23/NBA-Player-Classifier/blob/main/NeuralNetwork_multiclass.ipynb\" target=\"_parent\"><img src=\"https://colab.research.google.com/assets/colab-badge.svg\" alt=\"Open In Colab\"/></a>"
      ]
    },
    {
      "cell_type": "markdown",
      "source": [
        "#Building a multi-class classifier with Neural Networks"
      ],
      "metadata": {
        "id": "S18Gy3_SAVoM"
      }
    },
    {
      "cell_type": "code",
      "execution_count": 73,
      "metadata": {
        "colab": {
          "base_uri": "https://localhost:8080/"
        },
        "id": "UQTJFDfYGIOo",
        "outputId": "e2d2fbd2-30b7-4cc7-e599-15f909a48758"
      },
      "outputs": [
        {
          "output_type": "stream",
          "name": "stdout",
          "text": [
            "Drive already mounted at /content/drive; to attempt to forcibly remount, call drive.mount(\"/content/drive\", force_remount=True).\n"
          ]
        }
      ],
      "source": [
        "import pandas as pd\n",
        "import sklearn\n",
        "from google.colab import drive\n",
        "drive.mount('/content/drive')"
      ]
    },
    {
      "cell_type": "code",
      "source": [
        "complete = pd.read_csv('/content/drive/MyDrive/Data_Science_Projects/NBA/complete22-23.csv')"
      ],
      "metadata": {
        "id": "0niM9ni-GjB8"
      },
      "execution_count": 74,
      "outputs": []
    },
    {
      "cell_type": "code",
      "source": [
        "complete.head(4)"
      ],
      "metadata": {
        "colab": {
          "base_uri": "https://localhost:8080/",
          "height": 337
        },
        "id": "nFY9snYBdrsZ",
        "outputId": "68736716-15e1-44e3-9ccd-fc30657c7022"
      },
      "execution_count": 75,
      "outputs": [
        {
          "output_type": "execute_result",
          "data": {
            "text/plain": [
              "             Player Pos  Age   Tm   G  GS    MP   FG   FGA    FG%  ...  \\\n",
              "0  Precious Achiuwa   C   23  TOR  55  12  20.7  3.6   7.3  0.485  ...   \n",
              "1      Steven Adams   C   29  MEM  42  42  27.0  3.7   6.3  0.597  ...   \n",
              "2       Bam Adebayo   C   25  MIA  75  75  34.6  8.0  14.9  0.540  ...   \n",
              "3      Ochai Agbaji  SG   22  UTA  59  22  20.5  2.8   6.5  0.427  ...   \n",
              "\n",
              "    AST_TOV  OWS_div_USG  TS_times_USG   bigmanD  foul_rate  three_rate  \\\n",
              "0  0.818182     0.041237       10.7476  0.251208   0.091787   21.505376   \n",
              "1  1.210526     0.089041        8.2344  0.314815   0.085185    0.000000   \n",
              "2  1.280000     0.142857       14.9184  0.251445   0.080925    1.324503   \n",
              "3  1.571429     0.056962        8.8638  0.092683   0.082927   37.500000   \n",
              "\n",
              "   PTs_per_36  PF_per_dplay    FG_TOV     two_way  \n",
              "0   16.000000      1.727273  3.727273   38.690909  \n",
              "1   11.466667      1.150000  1.947368   87.500000  \n",
              "2   21.225434      1.400000  3.200000  101.840000  \n",
              "3   13.873171      2.833333  6.000000    6.440678  \n",
              "\n",
              "[4 rows x 63 columns]"
            ],
            "text/html": [
              "\n",
              "  <div id=\"df-75d5ce1b-b822-4895-bda9-ab7c514d1e2a\">\n",
              "    <div class=\"colab-df-container\">\n",
              "      <div>\n",
              "<style scoped>\n",
              "    .dataframe tbody tr th:only-of-type {\n",
              "        vertical-align: middle;\n",
              "    }\n",
              "\n",
              "    .dataframe tbody tr th {\n",
              "        vertical-align: top;\n",
              "    }\n",
              "\n",
              "    .dataframe thead th {\n",
              "        text-align: right;\n",
              "    }\n",
              "</style>\n",
              "<table border=\"1\" class=\"dataframe\">\n",
              "  <thead>\n",
              "    <tr style=\"text-align: right;\">\n",
              "      <th></th>\n",
              "      <th>Player</th>\n",
              "      <th>Pos</th>\n",
              "      <th>Age</th>\n",
              "      <th>Tm</th>\n",
              "      <th>G</th>\n",
              "      <th>GS</th>\n",
              "      <th>MP</th>\n",
              "      <th>FG</th>\n",
              "      <th>FGA</th>\n",
              "      <th>FG%</th>\n",
              "      <th>...</th>\n",
              "      <th>AST_TOV</th>\n",
              "      <th>OWS_div_USG</th>\n",
              "      <th>TS_times_USG</th>\n",
              "      <th>bigmanD</th>\n",
              "      <th>foul_rate</th>\n",
              "      <th>three_rate</th>\n",
              "      <th>PTs_per_36</th>\n",
              "      <th>PF_per_dplay</th>\n",
              "      <th>FG_TOV</th>\n",
              "      <th>two_way</th>\n",
              "    </tr>\n",
              "  </thead>\n",
              "  <tbody>\n",
              "    <tr>\n",
              "      <th>0</th>\n",
              "      <td>Precious Achiuwa</td>\n",
              "      <td>C</td>\n",
              "      <td>23</td>\n",
              "      <td>TOR</td>\n",
              "      <td>55</td>\n",
              "      <td>12</td>\n",
              "      <td>20.7</td>\n",
              "      <td>3.6</td>\n",
              "      <td>7.3</td>\n",
              "      <td>0.485</td>\n",
              "      <td>...</td>\n",
              "      <td>0.818182</td>\n",
              "      <td>0.041237</td>\n",
              "      <td>10.7476</td>\n",
              "      <td>0.251208</td>\n",
              "      <td>0.091787</td>\n",
              "      <td>21.505376</td>\n",
              "      <td>16.000000</td>\n",
              "      <td>1.727273</td>\n",
              "      <td>3.727273</td>\n",
              "      <td>38.690909</td>\n",
              "    </tr>\n",
              "    <tr>\n",
              "      <th>1</th>\n",
              "      <td>Steven Adams</td>\n",
              "      <td>C</td>\n",
              "      <td>29</td>\n",
              "      <td>MEM</td>\n",
              "      <td>42</td>\n",
              "      <td>42</td>\n",
              "      <td>27.0</td>\n",
              "      <td>3.7</td>\n",
              "      <td>6.3</td>\n",
              "      <td>0.597</td>\n",
              "      <td>...</td>\n",
              "      <td>1.210526</td>\n",
              "      <td>0.089041</td>\n",
              "      <td>8.2344</td>\n",
              "      <td>0.314815</td>\n",
              "      <td>0.085185</td>\n",
              "      <td>0.000000</td>\n",
              "      <td>11.466667</td>\n",
              "      <td>1.150000</td>\n",
              "      <td>1.947368</td>\n",
              "      <td>87.500000</td>\n",
              "    </tr>\n",
              "    <tr>\n",
              "      <th>2</th>\n",
              "      <td>Bam Adebayo</td>\n",
              "      <td>C</td>\n",
              "      <td>25</td>\n",
              "      <td>MIA</td>\n",
              "      <td>75</td>\n",
              "      <td>75</td>\n",
              "      <td>34.6</td>\n",
              "      <td>8.0</td>\n",
              "      <td>14.9</td>\n",
              "      <td>0.540</td>\n",
              "      <td>...</td>\n",
              "      <td>1.280000</td>\n",
              "      <td>0.142857</td>\n",
              "      <td>14.9184</td>\n",
              "      <td>0.251445</td>\n",
              "      <td>0.080925</td>\n",
              "      <td>1.324503</td>\n",
              "      <td>21.225434</td>\n",
              "      <td>1.400000</td>\n",
              "      <td>3.200000</td>\n",
              "      <td>101.840000</td>\n",
              "    </tr>\n",
              "    <tr>\n",
              "      <th>3</th>\n",
              "      <td>Ochai Agbaji</td>\n",
              "      <td>SG</td>\n",
              "      <td>22</td>\n",
              "      <td>UTA</td>\n",
              "      <td>59</td>\n",
              "      <td>22</td>\n",
              "      <td>20.5</td>\n",
              "      <td>2.8</td>\n",
              "      <td>6.5</td>\n",
              "      <td>0.427</td>\n",
              "      <td>...</td>\n",
              "      <td>1.571429</td>\n",
              "      <td>0.056962</td>\n",
              "      <td>8.8638</td>\n",
              "      <td>0.092683</td>\n",
              "      <td>0.082927</td>\n",
              "      <td>37.500000</td>\n",
              "      <td>13.873171</td>\n",
              "      <td>2.833333</td>\n",
              "      <td>6.000000</td>\n",
              "      <td>6.440678</td>\n",
              "    </tr>\n",
              "  </tbody>\n",
              "</table>\n",
              "<p>4 rows × 63 columns</p>\n",
              "</div>\n",
              "      <button class=\"colab-df-convert\" onclick=\"convertToInteractive('df-75d5ce1b-b822-4895-bda9-ab7c514d1e2a')\"\n",
              "              title=\"Convert this dataframe to an interactive table.\"\n",
              "              style=\"display:none;\">\n",
              "        \n",
              "  <svg xmlns=\"http://www.w3.org/2000/svg\" height=\"24px\"viewBox=\"0 0 24 24\"\n",
              "       width=\"24px\">\n",
              "    <path d=\"M0 0h24v24H0V0z\" fill=\"none\"/>\n",
              "    <path d=\"M18.56 5.44l.94 2.06.94-2.06 2.06-.94-2.06-.94-.94-2.06-.94 2.06-2.06.94zm-11 1L8.5 8.5l.94-2.06 2.06-.94-2.06-.94L8.5 2.5l-.94 2.06-2.06.94zm10 10l.94 2.06.94-2.06 2.06-.94-2.06-.94-.94-2.06-.94 2.06-2.06.94z\"/><path d=\"M17.41 7.96l-1.37-1.37c-.4-.4-.92-.59-1.43-.59-.52 0-1.04.2-1.43.59L10.3 9.45l-7.72 7.72c-.78.78-.78 2.05 0 2.83L4 21.41c.39.39.9.59 1.41.59.51 0 1.02-.2 1.41-.59l7.78-7.78 2.81-2.81c.8-.78.8-2.07 0-2.86zM5.41 20L4 18.59l7.72-7.72 1.47 1.35L5.41 20z\"/>\n",
              "  </svg>\n",
              "      </button>\n",
              "      \n",
              "  <style>\n",
              "    .colab-df-container {\n",
              "      display:flex;\n",
              "      flex-wrap:wrap;\n",
              "      gap: 12px;\n",
              "    }\n",
              "\n",
              "    .colab-df-convert {\n",
              "      background-color: #E8F0FE;\n",
              "      border: none;\n",
              "      border-radius: 50%;\n",
              "      cursor: pointer;\n",
              "      display: none;\n",
              "      fill: #1967D2;\n",
              "      height: 32px;\n",
              "      padding: 0 0 0 0;\n",
              "      width: 32px;\n",
              "    }\n",
              "\n",
              "    .colab-df-convert:hover {\n",
              "      background-color: #E2EBFA;\n",
              "      box-shadow: 0px 1px 2px rgba(60, 64, 67, 0.3), 0px 1px 3px 1px rgba(60, 64, 67, 0.15);\n",
              "      fill: #174EA6;\n",
              "    }\n",
              "\n",
              "    [theme=dark] .colab-df-convert {\n",
              "      background-color: #3B4455;\n",
              "      fill: #D2E3FC;\n",
              "    }\n",
              "\n",
              "    [theme=dark] .colab-df-convert:hover {\n",
              "      background-color: #434B5C;\n",
              "      box-shadow: 0px 1px 3px 1px rgba(0, 0, 0, 0.15);\n",
              "      filter: drop-shadow(0px 1px 2px rgba(0, 0, 0, 0.3));\n",
              "      fill: #FFFFFF;\n",
              "    }\n",
              "  </style>\n",
              "\n",
              "      <script>\n",
              "        const buttonEl =\n",
              "          document.querySelector('#df-75d5ce1b-b822-4895-bda9-ab7c514d1e2a button.colab-df-convert');\n",
              "        buttonEl.style.display =\n",
              "          google.colab.kernel.accessAllowed ? 'block' : 'none';\n",
              "\n",
              "        async function convertToInteractive(key) {\n",
              "          const element = document.querySelector('#df-75d5ce1b-b822-4895-bda9-ab7c514d1e2a');\n",
              "          const dataTable =\n",
              "            await google.colab.kernel.invokeFunction('convertToInteractive',\n",
              "                                                     [key], {});\n",
              "          if (!dataTable) return;\n",
              "\n",
              "          const docLinkHtml = 'Like what you see? Visit the ' +\n",
              "            '<a target=\"_blank\" href=https://colab.research.google.com/notebooks/data_table.ipynb>data table notebook</a>'\n",
              "            + ' to learn more about interactive tables.';\n",
              "          element.innerHTML = '';\n",
              "          dataTable['output_type'] = 'display_data';\n",
              "          await google.colab.output.renderOutput(dataTable, element);\n",
              "          const docLink = document.createElement('div');\n",
              "          docLink.innerHTML = docLinkHtml;\n",
              "          element.appendChild(docLink);\n",
              "        }\n",
              "      </script>\n",
              "    </div>\n",
              "  </div>\n",
              "  "
            ]
          },
          "metadata": {},
          "execution_count": 75
        }
      ]
    },
    {
      "cell_type": "code",
      "source": [
        "#we want to make sure each player has only one position to limit the amount of categories for Pos.\n",
        "#although we don't need to one hot encode for our tree based model, limiting all \n",
        "#entries to just one position is still important\n",
        "\n",
        "for index, rows in complete.iterrows():\n",
        "  #if the position has length greater than two (meaning it isn't C, PG, SG, SF, or PF), we shorten it to the first position\n",
        "  if len(complete.at[index, 'Pos']) > 2:\n",
        "    complete.at[index, 'Pos'] = complete.at[index, 'Pos'][:2]"
      ],
      "metadata": {
        "id": "Uskq4H8DYJKh"
      },
      "execution_count": 76,
      "outputs": []
    },
    {
      "cell_type": "markdown",
      "source": [
        "# Players with salaries over 25 million will be considered max level players while those under with be considered \"Not max\""
      ],
      "metadata": {
        "id": "jdU3uVLvgMCL"
      }
    },
    {
      "cell_type": "code",
      "source": [
        "#use a lambda function to assign classes\n",
        "complete['Class'] = ''\n",
        "\n",
        "for index, rows in complete.iterrows():\n",
        "  salary = complete.at[index,'Salary']\n",
        "  if salary <= 10:\n",
        "    complete.at[index, 'Class'] = 'Lower-Tier'\n",
        "  elif salary > 10 and salary <=25:\n",
        "    complete.at[index, 'Class'] = 'Mid-Tier'\n",
        "  else:\n",
        "    complete.at[index, 'Class'] = 'Star'"
      ],
      "metadata": {
        "id": "jA6bQD4Xey08"
      },
      "execution_count": 77,
      "outputs": []
    },
    {
      "cell_type": "code",
      "source": [
        "#the count of each class in the dataset before splitting\n",
        "complete['Class'].value_counts()"
      ],
      "metadata": {
        "colab": {
          "base_uri": "https://localhost:8080/"
        },
        "id": "Bo0qnBa2f5Sf",
        "outputId": "5a09e8f5-16a4-4a14-bbef-b7a4e062f795"
      },
      "execution_count": 78,
      "outputs": [
        {
          "output_type": "execute_result",
          "data": {
            "text/plain": [
              "Lower-Tier    312\n",
              "Mid-Tier       86\n",
              "Star           52\n",
              "Name: Class, dtype: int64"
            ]
          },
          "metadata": {},
          "execution_count": 78
        }
      ]
    },
    {
      "cell_type": "markdown",
      "source": [
        "Before splitting into train-test, we need to drop outliers that have been identified such as Kyle Lowry, John Wall, Gordon Hayward, and Ben Simmons. These are players who have all severly fallen off after receiving max contracts and should not appear in the training set."
      ],
      "metadata": {
        "id": "x98iXcyWUtF8"
      }
    },
    {
      "cell_type": "code",
      "source": [
        "#need to remove john wall, Gordon Hayward, Ben Simmons from the training set"
      ],
      "metadata": {
        "id": "Lck7JFTrWouq"
      },
      "execution_count": 79,
      "outputs": []
    },
    {
      "cell_type": "code",
      "source": [
        "need_to_remove = ['John Wall', 'Gordon Hayward', 'Ben Simmons']\n",
        "for player in need_to_remove:\n",
        "  complete = complete.drop(complete[complete['Player'] == player].index)"
      ],
      "metadata": {
        "id": "a0R1omXAVTiA"
      },
      "execution_count": 80,
      "outputs": []
    },
    {
      "cell_type": "code",
      "source": [
        "print(list(complete['Player']))"
      ],
      "metadata": {
        "colab": {
          "base_uri": "https://localhost:8080/"
        },
        "id": "2acfODX4Vwtm",
        "outputId": "42b5376d-cb9e-414f-dbb5-820cbc2d2415"
      },
      "execution_count": 81,
      "outputs": [
        {
          "output_type": "stream",
          "name": "stdout",
          "text": [
            "['Precious Achiuwa', 'Steven Adams', 'Bam Adebayo', 'Ochai Agbaji', 'Santi Aldama', 'Nickeil Alexander-Walker', 'Grayson Allen', 'Jarrett Allen', 'Jose Alvarado', 'Kyle Anderson', 'Giannis Antetokounmpo', 'Thanasis Antetokounmpo', 'Cole Anthony', 'OG Anunoby', 'Ryan Arcidiacono', 'Deni Avdija', 'Deandre Ayton', 'Udoka Azubuike', 'Marvin Bagley III', 'Patrick Baldwin Jr.', 'LaMelo Ball', 'Mo Bamba', 'Paolo Banchero', 'Desmond Bane', 'Dalano Banton', 'Dominick Barlow', 'Harrison Barnes', 'Scottie Barnes', 'RJ Barrett', 'Will Barton', 'Charles Bassey', 'Keita Bates-Diop', 'Nicolas Batum', 'Darius Bazley', 'Bradley Beal', 'Malik Beasley', 'MarJon Beauchamp', 'Dāvis Bertāns', 'Patrick Beverley', 'Saddiq Bey', 'Khem Birch', 'Goga Bitadze', 'Bismack Biyombo', 'Bogdan Bogdanović', 'Bojan Bogdanović', 'Bol Bol', 'Devin Booker', 'Brandon Boston Jr.', 'Chris Boucher', 'James Bouknight', 'Malaki Branham', 'Christian Braun', 'Mikal Bridges', 'Oshae Brissett', 'Malcolm Brogdon', 'Dillon Brooks', 'Bruce Brown', 'Greg Brown III', 'Jaylen Brown', 'Moses Brown', 'Troy Brown Jr.', 'Jalen Brunson', 'Thomas Bryant', 'Reggie Bullock', 'Alec Burks', 'Jimmy Butler', 'John Butler', 'Jamal Cain', 'Kentavious Caldwell-Pope', 'Vlatko Čančar', 'Clint Capela', 'Jevon Carter', 'Wendell Carter Jr.', 'Alex Caruso', 'Julian Champagnie', 'Kennedy Chandler', 'Max Christie', 'Josh Christopher', 'Brandon Clarke', 'Jordan Clarkson', 'Nic Claxton', 'Amir Coffey', 'John Collins', 'Zach Collins', 'Mike Conley', 'Pat Connaughton', 'Robert Covington', 'Torrey Craig', 'Jae Crowder', 'Seth Curry', 'Stephen Curry', 'Dyson Daniels', 'Anthony Davis', 'Johnny Davis', 'Terence Davis', 'Dewayne Dedmon', 'Matthew Dellavedova', 'DeMar DeRozan', 'Moussa Diabaté', 'Mamadi Diakite', 'Hamidou Diallo', 'Gorgui Dieng', 'Ousmane Dieng', 'Spencer Dinwiddie', 'Donte DiVincenzo', 'Luka Dončić', 'Luguentz Dort', 'Ayo Dosunmu', 'Jeff Dowtin', 'PJ Dozier', 'Goran Dragić', 'Andre Drummond', 'Chris Duarte', 'David Duke Jr.', 'Kris Dunn', 'Kevin Durant', 'Jalen Duren', 'Tari Eason', 'Anthony Edwards', 'Kessler Edwards', 'Keon Ellis', 'Joel Embiid', 'Drew Eubanks', 'Bruno Fernando', 'Dorian Finney-Smith', 'Malachi Flynn', 'Simone Fontecchio', 'Bryn Forbes', 'Trent Forrest', 'Evan Fournier', \"De'Aaron Fox\", 'Markelle Fultz', 'Wenyen Gabriel', 'Daniel Gafford', 'Darius Garland', 'Usman Garuba', 'Luka Garza', 'Rudy Gay', 'Paul George', 'Taj Gibson', 'Josh Giddey', 'Shai Gilgeous-Alexander', 'Anthony Gill', 'Rudy Gobert', 'Jordan Goodwin', 'Aaron Gordon', 'Eric Gordon', \"Devonte' Graham\", 'Jerami Grant', 'A.J. Green', 'Draymond Green', 'Jalen Green', 'JaMychal Green', 'Javonte Green', 'Jeff Green', 'Josh Green', 'AJ Griffin', 'Blake Griffin', 'Quentin Grimes', 'Rui Hachimura', 'Tyrese Haliburton', 'R.J. Hampton', 'Tim Hardaway Jr.', 'James Harden', 'Jaden Hardy', 'Montrezl Harrell', 'Gary Harris', 'Joe Harris', 'Kevon Harris', 'Tobias Harris', 'Josh Hart', 'Isaiah Hartenstein', 'Sam Hauser', 'Jaxson Hayes', 'Killian Hayes', 'Juancho Hernangómez', 'Willy Hernangómez', 'Tyler Herro', 'Buddy Hield', 'Haywood Highsmith', 'George Hill', 'Aaron Holiday', 'Jrue Holiday', 'Justin Holiday', 'Richaun Holmes', 'Al Horford', 'Talen Horton-Tucker', 'Danuel House Jr.', 'Caleb Houstan', 'Kevin Huerter', \"De'Andre Hunter\", 'Bones Hyland', 'Serge Ibaka', 'Joe Ingles', 'Brandon Ingram', 'Kyrie Irving', 'Jaden Ivey', 'Isaiah Jackson', 'Jaren Jackson Jr.', 'Justin Jackson', 'Reggie Jackson', 'LeBron James', 'Ty Jerome', 'Isaiah Joe', 'Cameron Johnson', 'Jalen Johnson', 'James Johnson', 'Keldon Johnson', 'Keon Johnson', 'Stanley Johnson', 'Nikola Jokić', 'Damian Jones', 'Derrick Jones Jr.', 'Herbert Jones', 'Kai Jones', 'Tre Jones', 'Tyus Jones', 'DeAndre Jordan', 'Cory Joseph', 'Johnny Juzang', 'Frank Kaminsky', 'Luke Kennard', 'Walker Kessler', 'Corey Kispert', 'Maxi Kleber', 'Nathan Knight', 'Kevin Knox', 'Christian Koloko', 'John Konchar', 'Furkan Korkmaz', 'Luke Kornet', 'Vit Krejci', 'Jonathan Kuminga', 'Kyle Kuzma', 'Anthony Lamb', 'Jock Landale', 'Romeo Langford', 'Jake LaRavia', 'Zach LaVine', 'Damion Lee', 'Saben Lee', 'Alex Len', 'Kawhi Leonard', 'Caris LeVert', 'Kira Lewis Jr.', 'Damian Lillard', 'Nassir Little', 'Isaiah Livers', 'Kenneth Lofton Jr.', 'Kevon Looney', 'Brook Lopez', 'Robin Lopez', 'Kevin Love', 'Kyle Lowry', 'Trey Lyles', 'Théo Maledon', 'Sandro Mamukelashvili', 'Terance Mann', 'Tre Mann', 'Boban Marjanović', 'Lauri Markkanen', 'Naji Marshall', 'Caleb Martin', 'Kenyon Martin Jr.', 'Tyrese Martin', 'Garrison Mathews', 'Bennedict Mathurin', 'Wesley Matthews', 'Tyrese Maxey', 'Miles McBride', 'CJ McCollum', 'T.J. McConnell', 'Jaden McDaniels', 'Jalen McDaniels', 'Doug McDermott', 'JaVale McGee', 'Bryce McGowens', 'Rodney McGruder', 'Jordan McLaughlin', \"De'Anthony Melton\", 'Chimezie Metu', 'Khris Middleton', 'Patty Mills', 'Shake Milton', 'Davion Mitchell', 'Donovan Mitchell', 'Evan Mobley', 'Malik Monk', 'Moses Moody', 'Wendell Moore Jr.', 'Ja Morant', 'Marcus Morris', 'Markieff Morris', 'Monte Morris', 'Trey Murphy III', 'Dejounte Murray', 'Jamal Murray', 'Keegan Murray', 'Mike Muscala', 'Svi Mykhailiuk', 'Larry Nance Jr.', 'Andrew Nembhard', 'Aaron Nesmith', 'Raul Neto', 'Georges Niang', 'Daishen Nix', 'Zeke Nnaji', 'Nerlens Noel', 'Jaylen Nowell', 'Frank Ntilikina', 'Kendrick Nunn', 'Jusuf Nurkić', 'Jordan Nwora', \"Royce O'Neale\", 'Chuma Okeke', 'Josh Okogie', 'Onyeka Okongwu', 'Isaac Okoro', 'KZ Okpala', 'Victor Oladipo', 'Kelly Olynyk', 'Eugene Omoruyi', 'Cedi Osman', 'Kelly Oubre Jr.', 'Chris Paul', 'Cameron Payne', 'Gary Payton II', 'Theo Pinson', 'Mason Plumlee', 'Jakob Poeltl', 'Aleksej Pokusevski', 'Jordan Poole', 'Kevin Porter Jr.', 'Michael Porter Jr.', 'Bobby Portis', 'Kristaps Porziņģis', 'Dwight Powell', 'Norman Powell', 'Taurean Prince', 'Payton Pritchard', 'Immanuel Quickley', 'Julius Randle', 'Austin Reaves', 'Cam Reddish', 'Davon Reed', 'Paul Reed', 'Naz Reid', 'Nick Richards', 'Josh Richardson', 'Austin Rivers', 'Duncan Robinson', 'Mitchell Robinson', 'Orlando Robinson', 'Jeremiah Robinson-Earl', 'Isaiah Roby', 'David Roddy', 'Derrick Rose', 'Terrence Ross', 'Terry Rozier', 'Ricky Rubio', \"D'Angelo Russell\", 'Matt Ryan', 'Domantas Sabonis', 'Dario Šarić', 'Admiral Schofield', 'Dennis Schröder', 'Alperen Şengün', 'Collin Sexton', 'Landry Shamet', \"Day'Ron Sharpe\", 'Shaedon Sharpe', 'Pascal Siakam', 'Anfernee Simons', 'Jericho Sims', 'Marcus Smart', 'Dennis Smith Jr.', 'Ish Smith', 'Jabari Smith Jr.', 'Jalen Smith', 'Jeremy Sochan', 'Jaden Springer', 'Lamar Stevens', 'Isaiah Stewart', 'Max Strus', 'Jalen Suggs', 'Edmond Sumner', \"Jae'Sean Tate\", 'Jayson Tatum', 'Terry Taylor', 'Garrett Temple', 'Dalen Terry', 'Cam Thomas', 'Klay Thompson', 'JT Thor', 'Matisse Thybulle', 'Xavier Tillman Sr.', 'Obi Toppin', 'Juan Toscano-Anderson', 'Karl-Anthony Towns', 'Gary Trent Jr.', 'P.J. Tucker', 'Myles Turner', 'Jonas Valančiūnas', 'Jarred Vanderbilt', 'Fred VanVleet', 'Devin Vassell', 'Gabe Vincent', 'Noah Vonleh', 'Nikola Vučević', 'Dean Wade', 'Franz Wagner', 'Moritz Wagner', 'Ish Wainright', 'Jabari Walker', 'Lonnie Walker IV', 'T.J. Warren', 'Duane Washington Jr.', 'P.J. Washington', 'TyTy Washington Jr.', 'Yuta Watanabe', 'Lindy Waters III', 'Trendon Watford', 'Peyton Watson', 'Blake Wesley', 'Russell Westbrook', 'Coby White', 'Derrick White', 'Jack White', 'Aaron Wiggins', 'Andrew Wiggins', 'Grant Williams', 'Jalen Williams', 'Jaylin Williams', 'Kenrich Williams', 'Mark Williams', 'Patrick Williams', 'Robert Williams', 'Ziaire Williams', 'Zion Williamson', 'Justise Winslow', 'James Wiseman', 'Christian Wood', 'Delon Wright', 'McKinley Wright IV', 'Thaddeus Young', 'Trae Young', 'Ivica Zubac']\n"
          ]
        }
      ]
    },
    {
      "cell_type": "code",
      "source": [
        "from sklearn.model_selection import train_test_split, cross_val_score"
      ],
      "metadata": {
        "id": "JPVKvV4fgh5e"
      },
      "execution_count": 82,
      "outputs": []
    },
    {
      "cell_type": "code",
      "source": [
        "#split into input features and target variable class\n",
        "X = complete.drop(columns = ['Salary', 'Class'], axis = 1)\n",
        "y = complete['Class']"
      ],
      "metadata": {
        "id": "jt_2Mwlsg9nf"
      },
      "execution_count": 83,
      "outputs": []
    },
    {
      "cell_type": "code",
      "source": [
        "X_train, X_test, y_train, y_test = train_test_split(X, y, random_state = 5, test_size=0.2, shuffle = True)"
      ],
      "metadata": {
        "id": "hCdTwQJwgteA"
      },
      "execution_count": 84,
      "outputs": []
    },
    {
      "cell_type": "code",
      "source": [
        "#X_train.loc[X_train['Class'] == 1]['Player']"
      ],
      "metadata": {
        "id": "YTSVvISUUxQ0"
      },
      "execution_count": 85,
      "outputs": []
    },
    {
      "cell_type": "code",
      "source": [
        "#drop the names column before proceeding\n",
        "names_train = list(X_train['Player'])\n",
        "X_train.drop(columns = ['Player', 'Pos', 'Tm'], axis = 1, inplace = True)\n",
        "names_test = list(X_test['Player'])\n",
        "X_test.drop(columns = ['Player', 'Pos', 'Tm'], axis = 1, inplace = True)"
      ],
      "metadata": {
        "id": "rKCEWHMuiCkP"
      },
      "execution_count": 86,
      "outputs": []
    },
    {
      "cell_type": "code",
      "source": [
        "print('Train:')\n",
        "print('train_features dimensions: ', X_train.shape)\n",
        "print('train_target dimensions: ', y_train.shape, '\\n')\n",
        "\n",
        "\n",
        "print('Test:')\n",
        "print('test_features dimensions: ', X_test.shape)\n",
        "print('test_target dimensions: ', y_test.shape)"
      ],
      "metadata": {
        "colab": {
          "base_uri": "https://localhost:8080/"
        },
        "id": "8zUD_NjhM8j1",
        "outputId": "16126663-8aef-4213-84fe-4a8bd4d7a3b2"
      },
      "execution_count": 87,
      "outputs": [
        {
          "output_type": "stream",
          "name": "stdout",
          "text": [
            "Train:\n",
            "train_features dimensions:  (357, 59)\n",
            "train_target dimensions:  (357,) \n",
            "\n",
            "Test:\n",
            "test_features dimensions:  (90, 59)\n",
            "test_target dimensions:  (90,)\n"
          ]
        }
      ]
    },
    {
      "cell_type": "code",
      "source": [
        "#use keras within tensorflow since I have used this in the past\n",
        "import tensorflow as tf\n",
        "from tensorflow import keras\n",
        "tf.random.set_seed(5)\n",
        "\n",
        "nn = tf.keras.models.Sequential()\n",
        "nn.add(tf.keras.Input(shape=(59,)))\n",
        "nn.add(tf.keras.layers.Dense(15, activation='relu'))\n",
        "nn.add(tf.keras.layers.Dense(30, activation='relu'))\n",
        "nn.add(tf.keras.layers.Dense(30, activation='relu'))\n",
        "nn.add(tf.keras.layers.Dense(15, activation='relu'))\n",
        "nn.add(tf.keras.layers.Dense(3, activation='softmax'))\n",
        "\n",
        "nn.compile(\n",
        "   loss=tf.keras.losses.CategoricalCrossentropy(),\n",
        "   optimizer=tf.keras.optimizers.Adam(),\n",
        "   metrics=\"accuracy\")\n",
        "\n",
        "history = nn.fit(X_train, y_train, validation_data=(X_test,y_test))"
      ],
      "metadata": {
        "colab": {
          "base_uri": "https://localhost:8080/",
          "height": 745
        },
        "id": "w0XEriT8l0YT",
        "outputId": "f7fc2709-b02a-474c-ca60-8a269d59d898"
      },
      "execution_count": 88,
      "outputs": [
        {
          "output_type": "error",
          "ename": "ValueError",
          "evalue": "ignored",
          "traceback": [
            "\u001b[0;31m---------------------------------------------------------------------------\u001b[0m",
            "\u001b[0;31mValueError\u001b[0m                                Traceback (most recent call last)",
            "\u001b[0;32m<ipython-input-88-19219880cd84>\u001b[0m in \u001b[0;36m<cell line: 19>\u001b[0;34m()\u001b[0m\n\u001b[1;32m     17\u001b[0m    metrics=\"accuracy\")\n\u001b[1;32m     18\u001b[0m \u001b[0;34m\u001b[0m\u001b[0m\n\u001b[0;32m---> 19\u001b[0;31m \u001b[0mhistory\u001b[0m \u001b[0;34m=\u001b[0m \u001b[0mnn\u001b[0m\u001b[0;34m.\u001b[0m\u001b[0mfit\u001b[0m\u001b[0;34m(\u001b[0m\u001b[0mX_train\u001b[0m\u001b[0;34m,\u001b[0m \u001b[0my_train\u001b[0m\u001b[0;34m,\u001b[0m \u001b[0mvalidation_data\u001b[0m\u001b[0;34m=\u001b[0m\u001b[0;34m(\u001b[0m\u001b[0mX_test\u001b[0m\u001b[0;34m,\u001b[0m\u001b[0my_test\u001b[0m\u001b[0;34m)\u001b[0m\u001b[0;34m)\u001b[0m\u001b[0;34m\u001b[0m\u001b[0;34m\u001b[0m\u001b[0m\n\u001b[0m",
            "\u001b[0;32m/usr/local/lib/python3.10/dist-packages/keras/utils/traceback_utils.py\u001b[0m in \u001b[0;36merror_handler\u001b[0;34m(*args, **kwargs)\u001b[0m\n\u001b[1;32m     68\u001b[0m             \u001b[0;31m# To get the full stack trace, call:\u001b[0m\u001b[0;34m\u001b[0m\u001b[0;34m\u001b[0m\u001b[0m\n\u001b[1;32m     69\u001b[0m             \u001b[0;31m# `tf.debugging.disable_traceback_filtering()`\u001b[0m\u001b[0;34m\u001b[0m\u001b[0;34m\u001b[0m\u001b[0m\n\u001b[0;32m---> 70\u001b[0;31m             \u001b[0;32mraise\u001b[0m \u001b[0me\u001b[0m\u001b[0;34m.\u001b[0m\u001b[0mwith_traceback\u001b[0m\u001b[0;34m(\u001b[0m\u001b[0mfiltered_tb\u001b[0m\u001b[0;34m)\u001b[0m \u001b[0;32mfrom\u001b[0m \u001b[0;32mNone\u001b[0m\u001b[0;34m\u001b[0m\u001b[0;34m\u001b[0m\u001b[0m\n\u001b[0m\u001b[1;32m     71\u001b[0m         \u001b[0;32mfinally\u001b[0m\u001b[0;34m:\u001b[0m\u001b[0;34m\u001b[0m\u001b[0;34m\u001b[0m\u001b[0m\n\u001b[1;32m     72\u001b[0m             \u001b[0;32mdel\u001b[0m \u001b[0mfiltered_tb\u001b[0m\u001b[0;34m\u001b[0m\u001b[0;34m\u001b[0m\u001b[0m\n",
            "\u001b[0;32m/usr/local/lib/python3.10/dist-packages/keras/engine/training.py\u001b[0m in \u001b[0;36mtf__train_function\u001b[0;34m(iterator)\u001b[0m\n\u001b[1;32m     13\u001b[0m                 \u001b[0;32mtry\u001b[0m\u001b[0;34m:\u001b[0m\u001b[0;34m\u001b[0m\u001b[0;34m\u001b[0m\u001b[0m\n\u001b[1;32m     14\u001b[0m                     \u001b[0mdo_return\u001b[0m \u001b[0;34m=\u001b[0m \u001b[0;32mTrue\u001b[0m\u001b[0;34m\u001b[0m\u001b[0;34m\u001b[0m\u001b[0m\n\u001b[0;32m---> 15\u001b[0;31m                     \u001b[0mretval_\u001b[0m \u001b[0;34m=\u001b[0m \u001b[0mag__\u001b[0m\u001b[0;34m.\u001b[0m\u001b[0mconverted_call\u001b[0m\u001b[0;34m(\u001b[0m\u001b[0mag__\u001b[0m\u001b[0;34m.\u001b[0m\u001b[0mld\u001b[0m\u001b[0;34m(\u001b[0m\u001b[0mstep_function\u001b[0m\u001b[0;34m)\u001b[0m\u001b[0;34m,\u001b[0m \u001b[0;34m(\u001b[0m\u001b[0mag__\u001b[0m\u001b[0;34m.\u001b[0m\u001b[0mld\u001b[0m\u001b[0;34m(\u001b[0m\u001b[0mself\u001b[0m\u001b[0;34m)\u001b[0m\u001b[0;34m,\u001b[0m \u001b[0mag__\u001b[0m\u001b[0;34m.\u001b[0m\u001b[0mld\u001b[0m\u001b[0;34m(\u001b[0m\u001b[0miterator\u001b[0m\u001b[0;34m)\u001b[0m\u001b[0;34m)\u001b[0m\u001b[0;34m,\u001b[0m \u001b[0;32mNone\u001b[0m\u001b[0;34m,\u001b[0m \u001b[0mfscope\u001b[0m\u001b[0;34m)\u001b[0m\u001b[0;34m\u001b[0m\u001b[0;34m\u001b[0m\u001b[0m\n\u001b[0m\u001b[1;32m     16\u001b[0m                 \u001b[0;32mexcept\u001b[0m\u001b[0;34m:\u001b[0m\u001b[0;34m\u001b[0m\u001b[0;34m\u001b[0m\u001b[0m\n\u001b[1;32m     17\u001b[0m                     \u001b[0mdo_return\u001b[0m \u001b[0;34m=\u001b[0m \u001b[0;32mFalse\u001b[0m\u001b[0;34m\u001b[0m\u001b[0;34m\u001b[0m\u001b[0m\n",
            "\u001b[0;31mValueError\u001b[0m: in user code:\n\n    File \"/usr/local/lib/python3.10/dist-packages/keras/engine/training.py\", line 1284, in train_function  *\n        return step_function(self, iterator)\n    File \"/usr/local/lib/python3.10/dist-packages/keras/engine/training.py\", line 1268, in step_function  **\n        outputs = model.distribute_strategy.run(run_step, args=(data,))\n    File \"/usr/local/lib/python3.10/dist-packages/keras/engine/training.py\", line 1249, in run_step  **\n        outputs = model.train_step(data)\n    File \"/usr/local/lib/python3.10/dist-packages/keras/engine/training.py\", line 1051, in train_step\n        loss = self.compute_loss(x, y, y_pred, sample_weight)\n    File \"/usr/local/lib/python3.10/dist-packages/keras/engine/training.py\", line 1109, in compute_loss\n        return self.compiled_loss(\n    File \"/usr/local/lib/python3.10/dist-packages/keras/engine/compile_utils.py\", line 265, in __call__\n        loss_value = loss_obj(y_t, y_p, sample_weight=sw)\n    File \"/usr/local/lib/python3.10/dist-packages/keras/losses.py\", line 142, in __call__\n        losses = call_fn(y_true, y_pred)\n    File \"/usr/local/lib/python3.10/dist-packages/keras/losses.py\", line 268, in call  **\n        return ag_fn(y_true, y_pred, **self._fn_kwargs)\n    File \"/usr/local/lib/python3.10/dist-packages/keras/losses.py\", line 1984, in categorical_crossentropy\n        return backend.categorical_crossentropy(\n    File \"/usr/local/lib/python3.10/dist-packages/keras/backend.py\", line 5559, in categorical_crossentropy\n        target.shape.assert_is_compatible_with(output.shape)\n\n    ValueError: Shapes (None, 1) and (None, 3) are incompatible\n"
          ]
        }
      ]
    }
  ]
}