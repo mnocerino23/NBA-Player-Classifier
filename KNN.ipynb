{
  "nbformat": 4,
  "nbformat_minor": 0,
  "metadata": {
    "colab": {
      "provenance": [],
      "authorship_tag": "ABX9TyPdvSTxgfW1ZeRpyLzHCOQX",
      "include_colab_link": true
    },
    "kernelspec": {
      "name": "python3",
      "display_name": "Python 3"
    },
    "language_info": {
      "name": "python"
    }
  },
  "cells": [
    {
      "cell_type": "markdown",
      "metadata": {
        "id": "view-in-github",
        "colab_type": "text"
      },
      "source": [
        "<a href=\"https://colab.research.google.com/github/mnocerino23/NBA-Player-Classifier/blob/main/KNN.ipynb\" target=\"_parent\"><img src=\"https://colab.research.google.com/assets/colab-badge.svg\" alt=\"Open In Colab\"/></a>"
      ]
    },
    {
      "cell_type": "markdown",
      "source": [
        "#In this notebook we experiment with K-Nearest Neighbors to tune multi-class classification models for NBA Salary prediction"
      ],
      "metadata": {
        "id": "S18Gy3_SAVoM"
      }
    },
    {
      "cell_type": "code",
      "execution_count": 88,
      "metadata": {
        "colab": {
          "base_uri": "https://localhost:8080/"
        },
        "id": "UQTJFDfYGIOo",
        "outputId": "8334bf39-ac53-4d54-a0e2-3e52503af10c"
      },
      "outputs": [
        {
          "output_type": "stream",
          "name": "stdout",
          "text": [
            "Drive already mounted at /content/drive; to attempt to forcibly remount, call drive.mount(\"/content/drive\", force_remount=True).\n"
          ]
        }
      ],
      "source": [
        "import pandas as pd\n",
        "import sklearn\n",
        "from google.colab import drive\n",
        "drive.mount('/content/drive')"
      ]
    },
    {
      "cell_type": "code",
      "source": [
        "# Read in the training and testing data that we preprocessed and split in the previous Jupyter Notebook\n",
        "nba_train = pd.read_csv('/content/drive/MyDrive/Data_Science_Projects/NBA/nba_train.csv')\n",
        "nba_test = pd.read_csv('/content/drive/MyDrive/Data_Science_Projects/NBA/nba_test.csv')"
      ],
      "metadata": {
        "id": "0niM9ni-GjB8"
      },
      "execution_count": 89,
      "outputs": []
    },
    {
      "cell_type": "code",
      "source": [
        "nba_train.shape"
      ],
      "metadata": {
        "colab": {
          "base_uri": "https://localhost:8080/"
        },
        "id": "3Htr8jieHHMn",
        "outputId": "38f3d86e-25ea-4291-8f6e-aaa8e9d4ff57"
      },
      "execution_count": 90,
      "outputs": [
        {
          "output_type": "execute_result",
          "data": {
            "text/plain": [
              "(314, 52)"
            ]
          },
          "metadata": {},
          "execution_count": 90
        }
      ]
    },
    {
      "cell_type": "code",
      "source": [
        "nba_test.shape"
      ],
      "metadata": {
        "colab": {
          "base_uri": "https://localhost:8080/"
        },
        "id": "KdPTs3JYHJGq",
        "outputId": "03c85789-5111-479e-8a45-c851ad1fbd75"
      },
      "execution_count": 91,
      "outputs": [
        {
          "output_type": "execute_result",
          "data": {
            "text/plain": [
              "(79, 52)"
            ]
          },
          "metadata": {},
          "execution_count": 91
        }
      ]
    },
    {
      "cell_type": "markdown",
      "source": [
        "# Break Players into 4 classes based on their salary\n",
        "With some experimentation this was the best 4 class division I was able to find\n",
        "\n",
        "1.   0-6 Million: Role Player\n",
        "2.   6-12 Million: Average\n",
        "3.   12-20 Million: Star\n",
        "4.   20+ Million: Max\n",
        "\n"
      ],
      "metadata": {
        "id": "WkVRe6J9eqvC"
      }
    },
    {
      "cell_type": "code",
      "source": [
        "nba_train['class'] = ''\n",
        "for index, row in nba_train.iterrows():\n",
        "  if nba_train.at[index,'Salary'] <= 6:\n",
        "    nba_train.at[index,'class'] = 'Role Player'\n",
        "  elif nba_train.at[index,'Salary'] > 6 and nba_train.at[index,'Salary'] <= 12:\n",
        "    nba_train.at[index,'class'] = 'Average'\n",
        "  elif nba_train.at[index, 'Salary'] > 12 and nba_train.at[index,'Salary'] <= 20:\n",
        "    nba_train.at[index,'class'] = 'Star'\n",
        "  elif nba_train.at[index,'Salary']> 20:\n",
        "    nba_train.at[index,'class'] = 'Max'"
      ],
      "metadata": {
        "id": "ik5yABXDHOT0"
      },
      "execution_count": 92,
      "outputs": []
    },
    {
      "cell_type": "code",
      "source": [
        "print(nba_train['class'].value_counts())"
      ],
      "metadata": {
        "colab": {
          "base_uri": "https://localhost:8080/"
        },
        "id": "f2Yi6ZUcPHdT",
        "outputId": "f0dca094-572b-4c6d-a2ab-e51a7124c6a1"
      },
      "execution_count": 93,
      "outputs": [
        {
          "output_type": "stream",
          "name": "stdout",
          "text": [
            "Role Player    170\n",
            "Average         55\n",
            "Star            45\n",
            "Max             44\n",
            "Name: class, dtype: int64\n"
          ]
        }
      ]
    },
    {
      "cell_type": "code",
      "source": [
        "nba_test['class'] = ''\n",
        "for index, row in nba_test.iterrows():\n",
        "  if nba_test.at[index,'Salary'] <= 6:\n",
        "    nba_test.at[index,'class'] = 'Role Player'\n",
        "  elif nba_test.at[index,'Salary'] > 6 and nba_test.at[index,'Salary'] <= 12:\n",
        "    nba_test.at[index,'class'] = 'Average'\n",
        "  elif nba_test.at[index, 'Salary'] > 12 and nba_test.at[index,'Salary'] <= 20:\n",
        "    nba_test.at[index,'class'] = 'Star'\n",
        "  elif nba_test.at[index,'Salary'] > 20:\n",
        "    nba_test.at[index,'class'] = 'Max'"
      ],
      "metadata": {
        "id": "NBFm1IBfMsSm"
      },
      "execution_count": 94,
      "outputs": []
    },
    {
      "cell_type": "code",
      "source": [
        "print(nba_test['class'].value_counts())"
      ],
      "metadata": {
        "colab": {
          "base_uri": "https://localhost:8080/"
        },
        "id": "sEIozj_0PH37",
        "outputId": "82a98724-50ab-4e2a-d857-45a72d06a320"
      },
      "execution_count": 95,
      "outputs": [
        {
          "output_type": "stream",
          "name": "stdout",
          "text": [
            "Role Player    38\n",
            "Max            16\n",
            "Average        15\n",
            "Star           10\n",
            "Name: class, dtype: int64\n"
          ]
        }
      ]
    },
    {
      "cell_type": "code",
      "source": [
        "nba_train = nba_train.drop(['Salary'], axis = 1)\n",
        "nba_test = nba_test.drop(['Salary'], axis = 1)"
      ],
      "metadata": {
        "id": "CVDA2r4IIpFn"
      },
      "execution_count": 96,
      "outputs": []
    },
    {
      "cell_type": "code",
      "source": [
        "#seperate the other features from the target feature class (which is a class rank based on the salary of the player)\n",
        "nba_train_features = nba_train.drop(['class'], axis = 1)\n",
        "nba_train_target = nba_train['class']\n",
        "\n",
        "nba_test_features = nba_test.drop(['class'], axis = 1)\n",
        "nba_test_target = nba_test['class']"
      ],
      "metadata": {
        "id": "CvMrBIZvLX3b"
      },
      "execution_count": 97,
      "outputs": []
    },
    {
      "cell_type": "code",
      "source": [
        "print('Train:')\n",
        "print('train_features dimensions: ', nba_train_features.shape)\n",
        "print('train_target dimensions: ', nba_train_target.shape, '\\n')\n",
        "\n",
        "\n",
        "print('Test:')\n",
        "print('test_features dimensions: ', nba_test_features.shape)\n",
        "print('test_target dimensions: ', nba_test_target.shape)"
      ],
      "metadata": {
        "colab": {
          "base_uri": "https://localhost:8080/"
        },
        "id": "8zUD_NjhM8j1",
        "outputId": "63c57087-fc2b-4057-a64d-62cb4c4a5065"
      },
      "execution_count": 98,
      "outputs": [
        {
          "output_type": "stream",
          "name": "stdout",
          "text": [
            "Train:\n",
            "train_features dimensions:  (314, 51)\n",
            "train_target dimensions:  (314,) \n",
            "\n",
            "Test:\n",
            "test_features dimensions:  (79, 51)\n",
            "test_target dimensions:  (79,)\n"
          ]
        }
      ]
    },
    {
      "cell_type": "code",
      "source": [
        "print(len(nba_train_features.columns))\n",
        "print(nba_train_features.columns)"
      ],
      "metadata": {
        "colab": {
          "base_uri": "https://localhost:8080/"
        },
        "id": "tUIFbIEhzXTq",
        "outputId": "967cc253-2bf1-45ce-a1f5-e21f4d8d7bb5"
      },
      "execution_count": 99,
      "outputs": [
        {
          "output_type": "stream",
          "name": "stdout",
          "text": [
            "51\n",
            "Index(['Age', 'G', 'GS', 'MP', 'FG', 'FGA', 'FG%', '3P', '3PA', '3P%', '2P',\n",
            "       '2PA', '2P%', 'eFG%', 'FT', 'FTA', 'FT%', 'ORB', 'DRB', 'TRB', 'AST',\n",
            "       'STL', 'BLK', 'TOV', 'PF', 'PTS', 'PER', 'TS%', '3PAr', 'FTr', 'ORB%',\n",
            "       'DRB%', 'TRB%', 'AST%', 'STL%', 'BLK%', 'TOV%', 'USG%', 'OWS', 'DWS',\n",
            "       'WS', 'WS/48', 'OBPM', 'DBPM', 'BPM', 'VORP', 'pos_C', 'pos_PF',\n",
            "       'pos_PG', 'pos_SF', 'pos_SG'],\n",
            "      dtype='object')\n"
          ]
        }
      ]
    },
    {
      "cell_type": "markdown",
      "source": [
        "# Feature Selection\n",
        "*   Determine the most relevant of the 51 features in the dataset for predicting player salary using SelectKBest in Scikit-Learn\n"
      ],
      "metadata": {
        "id": "9T4TSH4k5LEv"
      }
    },
    {
      "cell_type": "code",
      "source": [
        "from sklearn.feature_selection import SelectKBest, f_classif"
      ],
      "metadata": {
        "id": "6CsUdGdW7pve"
      },
      "execution_count": 100,
      "outputs": []
    },
    {
      "cell_type": "code",
      "source": [
        "top_features_ordered = []"
      ],
      "metadata": {
        "id": "dJyKX0TL7256"
      },
      "execution_count": 101,
      "outputs": []
    },
    {
      "cell_type": "markdown",
      "source": [
        "From some experimentation, we find that KNN works best with 27 of the most important features selected"
      ],
      "metadata": {
        "id": "4Lh0YjNTJb-n"
      }
    },
    {
      "cell_type": "code",
      "source": [
        "best_features = SelectKBest(f_classif, k=27)\n",
        "k_best_data = best_features.fit_transform(nba_train_features, nba_train_target)\n",
        "mask = best_features.get_support()\n",
        "new_features = nba_train_features.columns[mask]\n",
        "for item in new_features:\n",
        "  if item not in top_features_ordered:\n",
        "    top_features_ordered.append(item)"
      ],
      "metadata": {
        "id": "pk4MlKpN7cI5"
      },
      "execution_count": 102,
      "outputs": []
    },
    {
      "cell_type": "code",
      "source": [
        "count = 1\n",
        "for item in top_features_ordered:\n",
        "  print(count, '. ', item)\n",
        "  count += 1"
      ],
      "metadata": {
        "id": "Qh9QJa047mlh",
        "outputId": "a62ae6e8-16b7-4634-d635-f8bc12e49c2a",
        "colab": {
          "base_uri": "https://localhost:8080/"
        }
      },
      "execution_count": 103,
      "outputs": [
        {
          "output_type": "stream",
          "name": "stdout",
          "text": [
            "1 .  Age\n",
            "2 .  GS\n",
            "3 .  MP\n",
            "4 .  FG\n",
            "5 .  FGA\n",
            "6 .  3P\n",
            "7 .  3PA\n",
            "8 .  2P\n",
            "9 .  2PA\n",
            "10 .  FT\n",
            "11 .  FTA\n",
            "12 .  DRB\n",
            "13 .  TRB\n",
            "14 .  AST\n",
            "15 .  STL\n",
            "16 .  TOV\n",
            "17 .  PF\n",
            "18 .  PTS\n",
            "19 .  PER\n",
            "20 .  AST%\n",
            "21 .  USG%\n",
            "22 .  OWS\n",
            "23 .  DWS\n",
            "24 .  WS\n",
            "25 .  OBPM\n",
            "26 .  BPM\n",
            "27 .  VORP\n"
          ]
        }
      ]
    },
    {
      "cell_type": "markdown",
      "source": [
        "# K-Nearest-Neighbours Classifier"
      ],
      "metadata": {
        "id": "Gh405Lgp0ejN"
      }
    },
    {
      "cell_type": "code",
      "source": [
        "from sklearn.metrics import accuracy_score, confusion_matrix, precision_score, recall_score, f1_score, classification_report, ConfusionMatrixDisplay\n",
        "import matplotlib.pyplot as plt"
      ],
      "metadata": {
        "id": "zZtx2omZFStq"
      },
      "execution_count": 104,
      "outputs": []
    },
    {
      "cell_type": "code",
      "source": [
        "from sklearn.neighbors import KNeighborsClassifier\n",
        "from sklearn.model_selection import cross_val_score\n",
        "\n",
        "knn = KNeighborsClassifier(n_neighbors=18, metric = 'manhattan').fit(nba_train_features[top_features_ordered],nba_train_target)"
      ],
      "metadata": {
        "id": "KeRsDc8UyM81"
      },
      "execution_count": 105,
      "outputs": []
    },
    {
      "cell_type": "code",
      "source": [
        "disp = ConfusionMatrixDisplay.from_estimator(\n",
        "        knn,\n",
        "        nba_test_features[top_features_ordered],\n",
        "        nba_test_target,\n",
        "        cmap=plt.cm.Reds,\n",
        "    )\n",
        "\n",
        "print(disp.confusion_matrix)"
      ],
      "metadata": {
        "colab": {
          "base_uri": "https://localhost:8080/",
          "height": 348
        },
        "id": "D7tR6pnTE67I",
        "outputId": "928d8343-8024-41bb-d7a6-0af638ccba24"
      },
      "execution_count": 106,
      "outputs": [
        {
          "output_type": "stream",
          "name": "stdout",
          "text": [
            "[[ 2  2  7  4]\n",
            " [ 0 14  0  2]\n",
            " [ 2  0 34  2]\n",
            " [ 2  1  3  4]]\n"
          ]
        },
        {
          "output_type": "display_data",
          "data": {
            "text/plain": [
              "<Figure size 432x288 with 2 Axes>"
            ],
            "image/png": "[encoded data removed]"
          },
          "metadata": {
            "needs_background": "light"
          }
        }
      ]
    },
    {
      "cell_type": "code",
      "source": [
        "y_pred = knn.predict(nba_test_features[top_features_ordered])\n",
        "print(accuracy_score(y_pred, nba_test_target))"
      ],
      "metadata": {
        "colab": {
          "base_uri": "https://localhost:8080/"
        },
        "id": "cXoBDDj-GVDY",
        "outputId": "409de1ad-9247-43f0-8942-9ed959b67cb3"
      },
      "execution_count": 107,
      "outputs": [
        {
          "output_type": "stream",
          "name": "stdout",
          "text": [
            "0.6835443037974683\n"
          ]
        }
      ]
    },
    {
      "cell_type": "markdown",
      "source": [
        "# Now, tune the model by finding the best hyperparameters for KNN classifier with GridSearch CV\n",
        "\n"
      ],
      "metadata": {
        "id": "-b3OSSJ0KX6m"
      }
    },
    {
      "cell_type": "code",
      "source": [
        "from sklearn.model_selection import GridSearchCV"
      ],
      "metadata": {
        "id": "KdHkXlfgK0sW"
      },
      "execution_count": 108,
      "outputs": []
    },
    {
      "cell_type": "code",
      "source": [
        "best_knn = GridSearchCV(KNeighborsClassifier(), {\n",
        "    'n_neighbors' : [1,2,3,4,5,6,7,8,9,10,11,12,13,14,15,16,17,18,19,20,21,22,23,24,25,26,27,28,29,30,31,32,33],\n",
        "    'metric': ['manhattan','minkowski','euclidean'],\n",
        "}, cv = 5, scoring = 'accuracy', return_train_score = False)\n",
        "best_knn.fit(nba_train_features[top_features_ordered], nba_train_target)\n",
        "pd.DataFrame(best_knn.cv_results_)[['param_n_neighbors', 'param_metric', 'params', 'mean_test_score','rank_test_score']].sort_values(by = ['rank_test_score'])[0:5]"
      ],
      "metadata": {
        "colab": {
          "base_uri": "https://localhost:8080/",
          "height": 206
        },
        "id": "50v3MLMKLSPR",
        "outputId": "0f6fb377-de1b-4dd2-c7f8-61ca8c1996e5"
      },
      "execution_count": 109,
      "outputs": [
        {
          "output_type": "execute_result",
          "data": {
            "text/plain": [
              "   param_n_neighbors param_metric                                      params  \\\n",
              "9                 10    manhattan  {'metric': 'manhattan', 'n_neighbors': 10}   \n",
              "6                  7    manhattan   {'metric': 'manhattan', 'n_neighbors': 7}   \n",
              "8                  9    manhattan   {'metric': 'manhattan', 'n_neighbors': 9}   \n",
              "11                12    manhattan  {'metric': 'manhattan', 'n_neighbors': 12}   \n",
              "75                10    euclidean  {'metric': 'euclidean', 'n_neighbors': 10}   \n",
              "\n",
              "    mean_test_score  rank_test_score  \n",
              "9          0.716436                1  \n",
              "6          0.703789                2  \n",
              "8          0.703738                3  \n",
              "11         0.700461                4  \n",
              "75         0.700461                5  "
            ],
            "text/html": [
              "\n",
              "  <div id=\"df-266ae36b-ae34-4ba6-b3b2-b056cd53f30b\">\n",
              "    <div class=\"colab-df-container\">\n",
              "      <div>\n",
              "<style scoped>\n",
              "    .dataframe tbody tr th:only-of-type {\n",
              "        vertical-align: middle;\n",
              "    }\n",
              "\n",
              "    .dataframe tbody tr th {\n",
              "        vertical-align: top;\n",
              "    }\n",
              "\n",
              "    .dataframe thead th {\n",
              "        text-align: right;\n",
              "    }\n",
              "</style>\n",
              "<table border=\"1\" class=\"dataframe\">\n",
              "  <thead>\n",
              "    <tr style=\"text-align: right;\">\n",
              "      <th></th>\n",
              "      <th>param_n_neighbors</th>\n",
              "      <th>param_metric</th>\n",
              "      <th>params</th>\n",
              "      <th>mean_test_score</th>\n",
              "      <th>rank_test_score</th>\n",
              "    </tr>\n",
              "  </thead>\n",
              "  <tbody>\n",
              "    <tr>\n",
              "      <th>9</th>\n",
              "      <td>10</td>\n",
              "      <td>manhattan</td>\n",
              "      <td>{'metric': 'manhattan', 'n_neighbors': 10}</td>\n",
              "      <td>0.716436</td>\n",
              "      <td>1</td>\n",
              "    </tr>\n",
              "    <tr>\n",
              "      <th>6</th>\n",
              "      <td>7</td>\n",
              "      <td>manhattan</td>\n",
              "      <td>{'metric': 'manhattan', 'n_neighbors': 7}</td>\n",
              "      <td>0.703789</td>\n",
              "      <td>2</td>\n",
              "    </tr>\n",
              "    <tr>\n",
              "      <th>8</th>\n",
              "      <td>9</td>\n",
              "      <td>manhattan</td>\n",
              "      <td>{'metric': 'manhattan', 'n_neighbors': 9}</td>\n",
              "      <td>0.703738</td>\n",
              "      <td>3</td>\n",
              "    </tr>\n",
              "    <tr>\n",
              "      <th>11</th>\n",
              "      <td>12</td>\n",
              "      <td>manhattan</td>\n",
              "      <td>{'metric': 'manhattan', 'n_neighbors': 12}</td>\n",
              "      <td>0.700461</td>\n",
              "      <td>4</td>\n",
              "    </tr>\n",
              "    <tr>\n",
              "      <th>75</th>\n",
              "      <td>10</td>\n",
              "      <td>euclidean</td>\n",
              "      <td>{'metric': 'euclidean', 'n_neighbors': 10}</td>\n",
              "      <td>0.700461</td>\n",
              "      <td>5</td>\n",
              "    </tr>\n",
              "  </tbody>\n",
              "</table>\n",
              "</div>\n",
              "      <button class=\"colab-df-convert\" onclick=\"convertToInteractive('df-266ae36b-ae34-4ba6-b3b2-b056cd53f30b')\"\n",
              "              title=\"Convert this dataframe to an interactive table.\"\n",
              "              style=\"display:none;\">\n",
              "        \n",
              "  <svg xmlns=\"http://www.w3.org/2000/svg\" height=\"24px\"viewBox=\"0 0 24 24\"\n",
              "       width=\"24px\">\n",
              "    <path d=\"M0 0h24v24H0V0z\" fill=\"none\"/>\n",
              "    <path d=\"M18.56 5.44l.94 2.06.94-2.06 2.06-.94-2.06-.94-.94-2.06-.94 2.06-2.06.94zm-11 1L8.5 8.5l.94-2.06 2.06-.94-2.06-.94L8.5 2.5l-.94 2.06-2.06.94zm10 10l.94 2.06.94-2.06 2.06-.94-2.06-.94-.94-2.06-.94 2.06-2.06.94z\"/><path d=\"M17.41 7.96l-1.37-1.37c-.4-.4-.92-.59-1.43-.59-.52 0-1.04.2-1.43.59L10.3 9.45l-7.72 7.72c-.78.78-.78 2.05 0 2.83L4 21.41c.39.39.9.59 1.41.59.51 0 1.02-.2 1.41-.59l7.78-7.78 2.81-2.81c.8-.78.8-2.07 0-2.86zM5.41 20L4 18.59l7.72-7.72 1.47 1.35L5.41 20z\"/>\n",
              "  </svg>\n",
              "      </button>\n",
              "      \n",
              "  <style>\n",
              "    .colab-df-container {\n",
              "      display:flex;\n",
              "      flex-wrap:wrap;\n",
              "      gap: 12px;\n",
              "    }\n",
              "\n",
              "    .colab-df-convert {\n",
              "      background-color: #E8F0FE;\n",
              "      border: none;\n",
              "      border-radius: 50%;\n",
              "      cursor: pointer;\n",
              "      display: none;\n",
              "      fill: #1967D2;\n",
              "      height: 32px;\n",
              "      padding: 0 0 0 0;\n",
              "      width: 32px;\n",
              "    }\n",
              "\n",
              "    .colab-df-convert:hover {\n",
              "      background-color: #E2EBFA;\n",
              "      box-shadow: 0px 1px 2px rgba(60, 64, 67, 0.3), 0px 1px 3px 1px rgba(60, 64, 67, 0.15);\n",
              "      fill: #174EA6;\n",
              "    }\n",
              "\n",
              "    [theme=dark] .colab-df-convert {\n",
              "      background-color: #3B4455;\n",
              "      fill: #D2E3FC;\n",
              "    }\n",
              "\n",
              "    [theme=dark] .colab-df-convert:hover {\n",
              "      background-color: #434B5C;\n",
              "      box-shadow: 0px 1px 3px 1px rgba(0, 0, 0, 0.15);\n",
              "      filter: drop-shadow(0px 1px 2px rgba(0, 0, 0, 0.3));\n",
              "      fill: #FFFFFF;\n",
              "    }\n",
              "  </style>\n",
              "\n",
              "      <script>\n",
              "        const buttonEl =\n",
              "          document.querySelector('#df-266ae36b-ae34-4ba6-b3b2-b056cd53f30b button.colab-df-convert');\n",
              "        buttonEl.style.display =\n",
              "          google.colab.kernel.accessAllowed ? 'block' : 'none';\n",
              "\n",
              "        async function convertToInteractive(key) {\n",
              "          const element = document.querySelector('#df-266ae36b-ae34-4ba6-b3b2-b056cd53f30b');\n",
              "          const dataTable =\n",
              "            await google.colab.kernel.invokeFunction('convertToInteractive',\n",
              "                                                     [key], {});\n",
              "          if (!dataTable) return;\n",
              "\n",
              "          const docLinkHtml = 'Like what you see? Visit the ' +\n",
              "            '<a target=\"_blank\" href=https://colab.research.google.com/notebooks/data_table.ipynb>data table notebook</a>'\n",
              "            + ' to learn more about interactive tables.';\n",
              "          element.innerHTML = '';\n",
              "          dataTable['output_type'] = 'display_data';\n",
              "          await google.colab.output.renderOutput(dataTable, element);\n",
              "          const docLink = document.createElement('div');\n",
              "          docLink.innerHTML = docLinkHtml;\n",
              "          element.appendChild(docLink);\n",
              "        }\n",
              "      </script>\n",
              "    </div>\n",
              "  </div>\n",
              "  "
            ]
          },
          "metadata": {},
          "execution_count": 109
        }
      ]
    }
  ]
}